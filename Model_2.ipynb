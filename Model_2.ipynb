{
 "cells": [
  {
   "cell_type": "code",
   "execution_count": 1,
   "metadata": {
    "colab": {
     "base_uri": "https://localhost:8080/",
     "height": 122
    },
    "colab_type": "code",
    "id": "LXZOiY3Pr08-",
    "outputId": "2ca945ec-d4cb-45c3-c4d2-15247a73b40a"
   },
   "outputs": [
    {
     "name": "stdout",
     "output_type": "stream",
     "text": [
      "Go to this URL in a browser: https://accounts.google.com/o/oauth2/auth?client_id=947318989803-6bn6qk8qdgf4n4g3pfee6491hc0brc4i.apps.googleusercontent.com&redirect_uri=urn%3Aietf%3Awg%3Aoauth%3A2.0%3Aoob&scope=email%20https%3A%2F%2Fwww.googleapis.com%2Fauth%2Fdocs.test%20https%3A%2F%2Fwww.googleapis.com%2Fauth%2Fdrive%20https%3A%2F%2Fwww.googleapis.com%2Fauth%2Fdrive.photos.readonly%20https%3A%2F%2Fwww.googleapis.com%2Fauth%2Fpeopleapi.readonly&response_type=code\n",
      "\n",
      "Enter your authorization code:\n",
      "··········\n",
      "Mounted at /content/drive\n"
     ]
    }
   ],
   "source": [
    "from google.colab import drive\n",
    "drive.mount('/content/drive')"
   ]
  },
  {
   "cell_type": "code",
   "execution_count": 0,
   "metadata": {
    "colab": {},
    "colab_type": "code",
    "id": "zaI3REURqPmS"
   },
   "outputs": [],
   "source": [
    "#!pip install tensorflow==1.13.1\n",
    "import tensorflow as tf"
   ]
  },
  {
   "cell_type": "code",
   "execution_count": 3,
   "metadata": {
    "colab": {
     "base_uri": "https://localhost:8080/",
     "height": 34
    },
    "colab_type": "code",
    "id": "ehkO_N2_NE8j",
    "outputId": "55f9ab62-790c-4e07-f001-d9d832ef9fe7"
   },
   "outputs": [
    {
     "name": "stdout",
     "output_type": "stream",
     "text": [
      "1.14.0\n"
     ]
    }
   ],
   "source": [
    "print(tf.__version__)"
   ]
  },
  {
   "cell_type": "markdown",
   "metadata": {
    "colab_type": "text",
    "id": "MaJUx2lT21fz"
   },
   "source": [
    "# DonorsChoose"
   ]
  },
  {
   "cell_type": "markdown",
   "metadata": {
    "colab_type": "text",
    "id": "1HbyhBwB21f0"
   },
   "source": [
    "<p>\n",
    "DonorsChoose.org receives hundreds of thousands of project proposals each year for classroom projects in need of funding. Right now, a large number of volunteers is needed to manually screen each submission before it's approved to be posted on the DonorsChoose.org website.\n",
    "</p>\n",
    "<p>\n",
    "    Next year, DonorsChoose.org expects to receive close to 500,000 project proposals. As a result, there are three main problems they need to solve:\n",
    "<ul>\n",
    "<li>\n",
    "    How to scale current manual processes and resources to screen 500,000 projects so that they can be posted as quickly and as efficiently as possible</li>\n",
    "    <li>How to increase the consistency of project vetting across different volunteers to improve the experience for teachers</li>\n",
    "    <li>How to focus volunteer time on the applications that need the most assistance</li>\n",
    "    </ul>\n",
    "</p>    \n",
    "<p>\n",
    "The goal of the competition is to predict whether or not a DonorsChoose.org project proposal submitted by a teacher will be approved, using the text of project descriptions as well as additional metadata about the project, teacher, and school. DonorsChoose.org can then use this information to identify projects most likely to need further review before approval.\n",
    "</p>"
   ]
  },
  {
   "cell_type": "markdown",
   "metadata": {
    "colab_type": "text",
    "id": "qsahS_ef21f0"
   },
   "source": [
    "## About the DonorsChoose Data Set\n",
    "\n",
    "The `train.csv` data set provided by DonorsChoose contains the following features:\n",
    "\n",
    "Feature | Description \n",
    "----------|---------------\n",
    "**`project_id`** | A unique identifier for the proposed project. **Example:** `p036502`   \n",
    "**`project_title`**    | Title of the project. **Examples:**<br><ul><li><code>Art Will Make You Happy!</code></li><li><code>First Grade Fun</code></li></ul> \n",
    "**`project_grade_category`** | Grade level of students for which the project is targeted. One of the following enumerated values: <br/><ul><li><code>Grades PreK-2</code></li><li><code>Grades 3-5</code></li><li><code>Grades 6-8</code></li><li><code>Grades 9-12</code></li></ul>  \n",
    " **`project_subject_categories`** | One or more (comma-separated) subject categories for the project from the following enumerated list of values:  <br/><ul><li><code>Applied Learning</code></li><li><code>Care &amp; Hunger</code></li><li><code>Health &amp; Sports</code></li><li><code>History &amp; Civics</code></li><li><code>Literacy &amp; Language</code></li><li><code>Math &amp; Science</code></li><li><code>Music &amp; The Arts</code></li><li><code>Special Needs</code></li><li><code>Warmth</code></li></ul><br/> **Examples:** <br/><ul><li><code>Music &amp; The Arts</code></li><li><code>Literacy &amp; Language, Math &amp; Science</code></li>  \n",
    "  **`school_state`** | State where school is located ([Two-letter U.S. postal code](https://en.wikipedia.org/wiki/List_of_U.S._state_abbreviations#Postal_codes)). **Example:** `WY`\n",
    "**`project_subject_subcategories`** | One or more (comma-separated) subject subcategories for the project. **Examples:** <br/><ul><li><code>Literacy</code></li><li><code>Literature &amp; Writing, Social Sciences</code></li></ul> \n",
    "**`project_resource_summary`** | An explanation of the resources needed for the project. **Example:** <br/><ul><li><code>My students need hands on literacy materials to manage sensory needs!</code</li></ul> \n",
    "**`project_essay_1`**    | First application essay<sup>*</sup>  \n",
    "**`project_essay_2`**    | Second application essay<sup>*</sup> \n",
    "**`project_essay_3`**    | Third application essay<sup>*</sup> \n",
    "**`project_essay_4`**    | Fourth application essay<sup>*</sup> \n",
    "**`project_submitted_datetime`** | Datetime when project application was submitted. **Example:** `2016-04-28 12:43:56.245`   \n",
    "**`teacher_id`** | A unique identifier for the teacher of the proposed project. **Example:** `bdf8baa8fedef6bfeec7ae4ff1c15c56`  \n",
    "**`teacher_prefix`** | Teacher's title. One of the following enumerated values: <br/><ul><li><code>nan</code></li><li><code>Dr.</code></li><li><code>Mr.</code></li><li><code>Mrs.</code></li><li><code>Ms.</code></li><li><code>Teacher.</code></li></ul>  \n",
    "**`teacher_number_of_previously_posted_projects`** | Number of project applications previously submitted by the same teacher. **Example:** `2` \n",
    "\n",
    "<sup>*</sup> See the section <b>Notes on the Essay Data</b> for more details about these features.\n",
    "\n",
    "Additionally, the `resources.csv` data set provides more data about the resources required for each project. Each line in this file represents a resource required by a project:\n",
    "\n",
    "Feature | Description \n",
    "----------|---------------\n",
    "**`id`** | A `project_id` value from the `train.csv` file.  **Example:** `p036502`   \n",
    "**`description`** | Desciption of the resource. **Example:** `Tenor Saxophone Reeds, Box of 25`   \n",
    "**`quantity`** | Quantity of the resource required. **Example:** `3`   \n",
    "**`price`** | Price of the resource required. **Example:** `9.95`   \n",
    "\n",
    "**Note:** Many projects require multiple resources. The `id` value corresponds to a `project_id` in train.csv, so you use it as a key to retrieve all resources needed for a project:\n",
    "\n",
    "The data set contains the following label (the value you will attempt to predict):\n",
    "\n",
    "Label | Description\n",
    "----------|---------------\n",
    "`project_is_approved` | A binary flag indicating whether DonorsChoose approved the project. A value of `0` indicates the project was not approved, and a value of `1` indicates the project was approved."
   ]
  },
  {
   "cell_type": "markdown",
   "metadata": {
    "colab_type": "text",
    "id": "N9Fw9MDQ21f1"
   },
   "source": [
    "### Notes on the Essay Data\n",
    "\n",
    "<ul>\n",
    "Prior to May 17, 2016, the prompts for the essays were as follows:\n",
    "<li>__project_essay_1:__ \"Introduce us to your classroom\"</li>\n",
    "<li>__project_essay_2:__ \"Tell us more about your students\"</li>\n",
    "<li>__project_essay_3:__ \"Describe how your students will use the materials you're requesting\"</li>\n",
    "<li>__project_essay_3:__ \"Close by sharing why your project will make a difference\"</li>\n",
    "</ul>\n",
    "\n",
    "\n",
    "<ul>\n",
    "Starting on May 17, 2016, the number of essays was reduced from 4 to 2, and the prompts for the first 2 essays were changed to the following:<br>\n",
    "<li>__project_essay_1:__ \"Describe your students: What makes your students special? Specific details about their background, your neighborhood, and your school are all helpful.\"</li>\n",
    "<li>__project_essay_2:__ \"About your project: How will these materials make a difference in your students' learning and improve their school lives?\"</li>\n",
    "<br>For all projects with project_submitted_datetime of 2016-05-17 and later, the values of project_essay_3 and project_essay_4 will be NaN.\n",
    "</ul>\n"
   ]
  },
  {
   "cell_type": "code",
   "execution_count": 0,
   "metadata": {
    "colab": {},
    "colab_type": "code",
    "id": "77RqRP8i21f2"
   },
   "outputs": [],
   "source": [
    "%matplotlib inline\n",
    "import warnings\n",
    "warnings.filterwarnings(\"ignore\")\n",
    "\n",
    "import pandas as pd\n",
    "import numpy as np\n",
    "from sklearn.feature_extraction.text import TfidfVectorizer\n",
    "from sklearn.feature_extraction.text import CountVectorizer\n",
    "\n",
    "\n",
    "import re\n",
    "# Tutorial about Python regular expressions: https://pymotw.com/2/re/\n",
    "\n",
    "from nltk.corpus import stopwords\n",
    "import pickle\n",
    "\n",
    "from tqdm import tqdm\n",
    "import os"
   ]
  },
  {
   "cell_type": "markdown",
   "metadata": {
    "colab_type": "text",
    "id": "ciCiVQT621f4"
   },
   "source": [
    "## 1. Reading Data"
   ]
  },
  {
   "cell_type": "code",
   "execution_count": 0,
   "metadata": {
    "colab": {},
    "colab_type": "code",
    "id": "4wwUYBch21f5"
   },
   "outputs": [],
   "source": [
    "project_data = pd.read_csv(r'train_data.csv')\n",
    "resource_data = pd.read_csv(r'resources.csv')"
   ]
  },
  {
   "cell_type": "code",
   "execution_count": 10,
   "metadata": {
    "colab": {
     "base_uri": "https://localhost:8080/",
     "height": 153
    },
    "colab_type": "code",
    "id": "MI8xXlkt21f7",
    "outputId": "f2573eb2-a90c-4c7f-aee7-2879464b0dbe"
   },
   "outputs": [
    {
     "name": "stdout",
     "output_type": "stream",
     "text": [
      "Number of data points in train data (109248, 17)\n",
      "--------------------------------------------------\n",
      "The attributes of data : ['Unnamed: 0' 'id' 'teacher_id' 'teacher_prefix' 'school_state'\n",
      " 'project_submitted_datetime' 'project_grade_category'\n",
      " 'project_subject_categories' 'project_subject_subcategories'\n",
      " 'project_title' 'project_essay_1' 'project_essay_2' 'project_essay_3'\n",
      " 'project_essay_4' 'project_resource_summary'\n",
      " 'teacher_number_of_previously_posted_projects' 'project_is_approved']\n"
     ]
    }
   ],
   "source": [
    "print(\"Number of data points in train data\", project_data.shape)\n",
    "print('-'*50)\n",
    "print(\"The attributes of data :\", project_data.columns.values)"
   ]
  },
  {
   "cell_type": "code",
   "execution_count": 11,
   "metadata": {
    "colab": {
     "base_uri": "https://localhost:8080/",
     "height": 145
    },
    "colab_type": "code",
    "id": "Palu7CqD21f-",
    "outputId": "e165f1d1-edba-4db4-d38a-4487ffaac9bf"
   },
   "outputs": [
    {
     "name": "stdout",
     "output_type": "stream",
     "text": [
      "Number of data points in train data (1541272, 4)\n",
      "['id' 'description' 'quantity' 'price']\n"
     ]
    },
    {
     "data": {
      "text/html": [
       "<div>\n",
       "<style scoped>\n",
       "    .dataframe tbody tr th:only-of-type {\n",
       "        vertical-align: middle;\n",
       "    }\n",
       "\n",
       "    .dataframe tbody tr th {\n",
       "        vertical-align: top;\n",
       "    }\n",
       "\n",
       "    .dataframe thead th {\n",
       "        text-align: right;\n",
       "    }\n",
       "</style>\n",
       "<table border=\"1\" class=\"dataframe\">\n",
       "  <thead>\n",
       "    <tr style=\"text-align: right;\">\n",
       "      <th></th>\n",
       "      <th>id</th>\n",
       "      <th>description</th>\n",
       "      <th>quantity</th>\n",
       "      <th>price</th>\n",
       "    </tr>\n",
       "  </thead>\n",
       "  <tbody>\n",
       "    <tr>\n",
       "      <th>0</th>\n",
       "      <td>p233245</td>\n",
       "      <td>LC652 - Lakeshore Double-Space Mobile Drying Rack</td>\n",
       "      <td>1</td>\n",
       "      <td>149.00</td>\n",
       "    </tr>\n",
       "    <tr>\n",
       "      <th>1</th>\n",
       "      <td>p069063</td>\n",
       "      <td>Bouncy Bands for Desks (Blue support pipes)</td>\n",
       "      <td>3</td>\n",
       "      <td>14.95</td>\n",
       "    </tr>\n",
       "  </tbody>\n",
       "</table>\n",
       "</div>"
      ],
      "text/plain": [
       "        id                                        description  quantity   price\n",
       "0  p233245  LC652 - Lakeshore Double-Space Mobile Drying Rack         1  149.00\n",
       "1  p069063        Bouncy Bands for Desks (Blue support pipes)         3   14.95"
      ]
     },
     "execution_count": 11,
     "metadata": {
      "tags": []
     },
     "output_type": "execute_result"
    }
   ],
   "source": [
    "print(\"Number of data points in train data\", resource_data.shape)\n",
    "print(resource_data.columns.values)\n",
    "resource_data.head(2)"
   ]
  },
  {
   "cell_type": "markdown",
   "metadata": {
    "colab_type": "text",
    "id": "6Y2aX1l421gA"
   },
   "source": [
    "# 2. Preprocessing Categorical Features: project_grade_category"
   ]
  },
  {
   "cell_type": "code",
   "execution_count": 12,
   "metadata": {
    "colab": {
     "base_uri": "https://localhost:8080/",
     "height": 102
    },
    "colab_type": "code",
    "id": "ZXi5yCPE21gB",
    "outputId": "2092a8e7-6450-48f2-b196-506a486c1eb9"
   },
   "outputs": [
    {
     "data": {
      "text/plain": [
       "Grades PreK-2    44225\n",
       "Grades 3-5       37137\n",
       "Grades 6-8       16923\n",
       "Grades 9-12      10963\n",
       "Name: project_grade_category, dtype: int64"
      ]
     },
     "execution_count": 12,
     "metadata": {
      "tags": []
     },
     "output_type": "execute_result"
    }
   ],
   "source": [
    "project_data['project_grade_category'].value_counts()"
   ]
  },
  {
   "cell_type": "markdown",
   "metadata": {
    "colab_type": "text",
    "id": "8ynrGK2y21gD"
   },
   "source": [
    "we need to remove the spaces, replace the '-' with '_' and convert all the letters to small"
   ]
  },
  {
   "cell_type": "code",
   "execution_count": 13,
   "metadata": {
    "colab": {
     "base_uri": "https://localhost:8080/",
     "height": 102
    },
    "colab_type": "code",
    "id": "AY0vc1WD21gD",
    "outputId": "bda299fe-62bc-4dba-e1b8-7bc21f92213a"
   },
   "outputs": [
    {
     "data": {
      "text/plain": [
       "grades_prek_2    44225\n",
       "grades_3_5       37137\n",
       "grades_6_8       16923\n",
       "grades_9_12      10963\n",
       "Name: project_grade_category, dtype: int64"
      ]
     },
     "execution_count": 13,
     "metadata": {
      "tags": []
     },
     "output_type": "execute_result"
    }
   ],
   "source": [
    "# https://stackoverflow.com/questions/36383821/pandas-dataframe-apply-function-to-column-strings-based-on-other-column-value\n",
    "project_data['project_grade_category'] = project_data['project_grade_category'].str.replace(' ','_')\n",
    "project_data['project_grade_category'] = project_data['project_grade_category'].str.replace('-','_')\n",
    "project_data['project_grade_category'] = project_data['project_grade_category'].str.lower()\n",
    "project_data['project_grade_category'].value_counts()"
   ]
  },
  {
   "cell_type": "markdown",
   "metadata": {
    "colab_type": "text",
    "id": "wTxgAfZF21gF"
   },
   "source": [
    "# 3. Preprocessing Categorical Features: project_subject_categories"
   ]
  },
  {
   "cell_type": "code",
   "execution_count": 14,
   "metadata": {
    "colab": {
     "base_uri": "https://localhost:8080/",
     "height": 901
    },
    "colab_type": "code",
    "id": "opsdWlFY21gG",
    "outputId": "b956bc61-d0ad-4a13-9281-9e4f9ba4df78",
    "scrolled": true
   },
   "outputs": [
    {
     "data": {
      "text/plain": [
       "Literacy & Language                           23655\n",
       "Math & Science                                17072\n",
       "Literacy & Language, Math & Science           14636\n",
       "Health & Sports                               10177\n",
       "Music & The Arts                               5180\n",
       "Special Needs                                  4226\n",
       "Literacy & Language, Special Needs             3961\n",
       "Applied Learning                               3771\n",
       "Math & Science, Literacy & Language            2289\n",
       "Applied Learning, Literacy & Language          2191\n",
       "History & Civics                               1851\n",
       "Math & Science, Special Needs                  1840\n",
       "Literacy & Language, Music & The Arts          1757\n",
       "Math & Science, Music & The Arts               1642\n",
       "Applied Learning, Special Needs                1467\n",
       "History & Civics, Literacy & Language          1421\n",
       "Health & Sports, Special Needs                 1391\n",
       "Warmth, Care & Hunger                          1309\n",
       "Math & Science, Applied Learning               1220\n",
       "Applied Learning, Math & Science               1052\n",
       "Literacy & Language, History & Civics           809\n",
       "Health & Sports, Literacy & Language            803\n",
       "Applied Learning, Music & The Arts              758\n",
       "Math & Science, History & Civics                652\n",
       "Literacy & Language, Applied Learning           636\n",
       "Applied Learning, Health & Sports               608\n",
       "Math & Science, Health & Sports                 414\n",
       "History & Civics, Math & Science                322\n",
       "History & Civics, Music & The Arts              312\n",
       "Special Needs, Music & The Arts                 302\n",
       "Health & Sports, Math & Science                 271\n",
       "History & Civics, Special Needs                 252\n",
       "Health & Sports, Applied Learning               192\n",
       "Applied Learning, History & Civics              178\n",
       "Health & Sports, Music & The Arts               155\n",
       "Music & The Arts, Special Needs                 138\n",
       "Literacy & Language, Health & Sports             72\n",
       "Health & Sports, History & Civics                43\n",
       "History & Civics, Applied Learning               42\n",
       "Special Needs, Health & Sports                   42\n",
       "Health & Sports, Warmth, Care & Hunger           23\n",
       "Special Needs, Warmth, Care & Hunger             23\n",
       "Music & The Arts, Health & Sports                19\n",
       "Music & The Arts, History & Civics               18\n",
       "History & Civics, Health & Sports                13\n",
       "Math & Science, Warmth, Care & Hunger            11\n",
       "Music & The Arts, Applied Learning               10\n",
       "Applied Learning, Warmth, Care & Hunger          10\n",
       "Literacy & Language, Warmth, Care & Hunger        9\n",
       "Music & The Arts, Warmth, Care & Hunger           2\n",
       "History & Civics, Warmth, Care & Hunger           1\n",
       "Name: project_subject_categories, dtype: int64"
      ]
     },
     "execution_count": 14,
     "metadata": {
      "tags": []
     },
     "output_type": "execute_result"
    }
   ],
   "source": [
    "project_data['project_subject_categories'].value_counts()"
   ]
  },
  {
   "cell_type": "markdown",
   "metadata": {
    "colab_type": "text",
    "id": "W7HO0BiG21gI"
   },
   "source": [
    ">remove spaces, 'the' <br>\n",
    "replace '&' with '\\_', and ',' with '_'"
   ]
  },
  {
   "cell_type": "code",
   "execution_count": 15,
   "metadata": {
    "colab": {
     "base_uri": "https://localhost:8080/",
     "height": 901
    },
    "colab_type": "code",
    "id": "e-NwO5qc21gJ",
    "outputId": "b4685f28-cf7f-48ca-b361-b3e527a5b625",
    "scrolled": true
   },
   "outputs": [
    {
     "data": {
      "text/plain": [
       "literacy_language                       23655\n",
       "math_science                            17072\n",
       "literacy_language_math_science          14636\n",
       "health_sports                           10177\n",
       "music_arts                               5180\n",
       "specialneeds                             4226\n",
       "literacy_language_specialneeds           3961\n",
       "appliedlearning                          3771\n",
       "math_science_literacy_language           2289\n",
       "appliedlearning_literacy_language        2191\n",
       "history_civics                           1851\n",
       "math_science_specialneeds                1840\n",
       "literacy_language_music_arts             1757\n",
       "math_science_music_arts                  1642\n",
       "appliedlearning_specialneeds             1467\n",
       "history_civics_literacy_language         1421\n",
       "health_sports_specialneeds               1391\n",
       "warmth_care_hunger                       1309\n",
       "math_science_appliedlearning             1220\n",
       "appliedlearning_math_science             1052\n",
       "literacy_language_history_civics          809\n",
       "health_sports_literacy_language           803\n",
       "appliedlearning_music_arts                758\n",
       "math_science_history_civics               652\n",
       "literacy_language_appliedlearning         636\n",
       "appliedlearning_health_sports             608\n",
       "math_science_health_sports                414\n",
       "history_civics_math_science               322\n",
       "history_civics_music_arts                 312\n",
       "specialneeds_music_arts                   302\n",
       "health_sports_math_science                271\n",
       "history_civics_specialneeds               252\n",
       "health_sports_appliedlearning             192\n",
       "appliedlearning_history_civics            178\n",
       "health_sports_music_arts                  155\n",
       "music_arts_specialneeds                   138\n",
       "literacy_language_health_sports            72\n",
       "health_sports_history_civics               43\n",
       "specialneeds_health_sports                 42\n",
       "history_civics_appliedlearning             42\n",
       "health_sports_warmth_care_hunger           23\n",
       "specialneeds_warmth_care_hunger            23\n",
       "music_arts_health_sports                   19\n",
       "music_arts_history_civics                  18\n",
       "history_civics_health_sports               13\n",
       "math_science_warmth_care_hunger            11\n",
       "music_arts_appliedlearning                 10\n",
       "appliedlearning_warmth_care_hunger         10\n",
       "literacy_language_warmth_care_hunger        9\n",
       "music_arts_warmth_care_hunger               2\n",
       "history_civics_warmth_care_hunger           1\n",
       "Name: project_subject_categories, dtype: int64"
      ]
     },
     "execution_count": 15,
     "metadata": {
      "tags": []
     },
     "output_type": "execute_result"
    }
   ],
   "source": [
    "project_data['project_subject_categories'] = project_data['project_subject_categories'].str.replace(' The ','')\n",
    "project_data['project_subject_categories'] = project_data['project_subject_categories'].str.replace(' ','')\n",
    "project_data['project_subject_categories'] = project_data['project_subject_categories'].str.replace('&','_')\n",
    "project_data['project_subject_categories'] = project_data['project_subject_categories'].str.replace(',','_')\n",
    "project_data['project_subject_categories'] = project_data['project_subject_categories'].str.lower()\n",
    "project_data['project_subject_categories'].value_counts()"
   ]
  },
  {
   "cell_type": "markdown",
   "metadata": {
    "colab_type": "text",
    "id": "Mz-dKU5Y21gL"
   },
   "source": [
    "# 4. Preprocessing Categorical Features: teacher_prefix"
   ]
  },
  {
   "cell_type": "code",
   "execution_count": 16,
   "metadata": {
    "colab": {
     "base_uri": "https://localhost:8080/",
     "height": 119
    },
    "colab_type": "code",
    "id": "SB2OOR1G21gL",
    "outputId": "cf9c5f1b-912c-4dbf-c6de-0140154c5f63"
   },
   "outputs": [
    {
     "data": {
      "text/plain": [
       "Mrs.       57269\n",
       "Ms.        38955\n",
       "Mr.        10648\n",
       "Teacher     2360\n",
       "Dr.           13\n",
       "Name: teacher_prefix, dtype: int64"
      ]
     },
     "execution_count": 16,
     "metadata": {
      "tags": []
     },
     "output_type": "execute_result"
    }
   ],
   "source": [
    "project_data['teacher_prefix'].value_counts()"
   ]
  },
  {
   "cell_type": "code",
   "execution_count": 17,
   "metadata": {
    "colab": {
     "base_uri": "https://localhost:8080/",
     "height": 51
    },
    "colab_type": "code",
    "id": "2acACx4A21gN",
    "outputId": "c8c8ccbe-1d39-4257-cb91-b17b5e64bec7"
   },
   "outputs": [
    {
     "name": "stdout",
     "output_type": "stream",
     "text": [
      "True\n",
      "number of nan values 3\n"
     ]
    }
   ],
   "source": [
    "# check if we have any nan values are there\n",
    "print(project_data['teacher_prefix'].isnull().values.any())\n",
    "print(\"number of nan values\",project_data['teacher_prefix'].isnull().values.sum())"
   ]
  },
  {
   "cell_type": "markdown",
   "metadata": {
    "colab_type": "text",
    "id": "FXCc_EvS21gQ"
   },
   "source": [
    ">numebr of missing values are very less in number, we can replace it with Mrs. as most of the projects are submitted by Mrs."
   ]
  },
  {
   "cell_type": "code",
   "execution_count": 0,
   "metadata": {
    "colab": {},
    "colab_type": "code",
    "id": "p5jMV1fe21gQ"
   },
   "outputs": [],
   "source": [
    "project_data['teacher_prefix']=project_data['teacher_prefix'].fillna('Mrs.')"
   ]
  },
  {
   "cell_type": "code",
   "execution_count": 19,
   "metadata": {
    "colab": {
     "base_uri": "https://localhost:8080/",
     "height": 119
    },
    "colab_type": "code",
    "id": "Fv91l-3E21gT",
    "outputId": "8eae50f0-1d6f-4ead-9955-5c727cbf05a0"
   },
   "outputs": [
    {
     "data": {
      "text/plain": [
       "Mrs.       57272\n",
       "Ms.        38955\n",
       "Mr.        10648\n",
       "Teacher     2360\n",
       "Dr.           13\n",
       "Name: teacher_prefix, dtype: int64"
      ]
     },
     "execution_count": 19,
     "metadata": {
      "tags": []
     },
     "output_type": "execute_result"
    }
   ],
   "source": [
    "project_data['teacher_prefix'].value_counts()"
   ]
  },
  {
   "cell_type": "markdown",
   "metadata": {
    "colab_type": "text",
    "id": "yD4IMBJh21gV"
   },
   "source": [
    ">Remove '.' <br>\n",
    ">convert all the chars to small"
   ]
  },
  {
   "cell_type": "code",
   "execution_count": 20,
   "metadata": {
    "colab": {
     "base_uri": "https://localhost:8080/",
     "height": 119
    },
    "colab_type": "code",
    "id": "zd1_-x5V21gW",
    "outputId": "3c896685-ccca-412b-a8be-987f8c6470ab"
   },
   "outputs": [
    {
     "data": {
      "text/plain": [
       "mrs        57272\n",
       "ms         38955\n",
       "mr         10648\n",
       "teacher     2360\n",
       "dr            13\n",
       "Name: teacher_prefix, dtype: int64"
      ]
     },
     "execution_count": 20,
     "metadata": {
      "tags": []
     },
     "output_type": "execute_result"
    }
   ],
   "source": [
    "project_data['teacher_prefix'] = project_data['teacher_prefix'].str.replace('.','')\n",
    "project_data['teacher_prefix'] = project_data['teacher_prefix'].str.lower()\n",
    "project_data['teacher_prefix'].value_counts()"
   ]
  },
  {
   "cell_type": "markdown",
   "metadata": {
    "colab_type": "text",
    "id": "MvC3NkC521gY"
   },
   "source": [
    "# 5. Preprocessing Categorical Features: project_subject_subcategories"
   ]
  },
  {
   "cell_type": "code",
   "execution_count": 21,
   "metadata": {
    "colab": {
     "base_uri": "https://localhost:8080/",
     "height": 1000
    },
    "colab_type": "code",
    "id": "1y1De58n21gZ",
    "outputId": "8f770857-e3d4-45f5-d018-590fa2d2d191",
    "scrolled": true
   },
   "outputs": [
    {
     "data": {
      "text/plain": [
       "Literacy                                        9486\n",
       "Literacy, Mathematics                           8325\n",
       "Literature & Writing, Mathematics               5923\n",
       "Literacy, Literature & Writing                  5571\n",
       "Mathematics                                     5379\n",
       "Literature & Writing                            4501\n",
       "Special Needs                                   4226\n",
       "Health & Wellness                               3583\n",
       "Applied Sciences, Mathematics                   3399\n",
       "Applied Sciences                                2492\n",
       "Literacy, Special Needs                         2440\n",
       "Gym & Fitness, Health & Wellness                2264\n",
       "ESL, Literacy                                   2234\n",
       "Visual Arts                                     2217\n",
       "Music                                           1472\n",
       "Warmth, Care & Hunger                           1309\n",
       "Literature & Writing, Special Needs             1306\n",
       "Gym & Fitness                                   1195\n",
       "Health & Wellness, Special Needs                1189\n",
       "Mathematics, Special Needs                      1187\n",
       "Environmental Science                           1079\n",
       "Team Sports                                     1061\n",
       "Applied Sciences, Environmental Science          984\n",
       "Environmental Science, Health & Life Science     964\n",
       "Music, Performing Arts                           948\n",
       "Early Development                                905\n",
       "Environmental Science, Mathematics               838\n",
       "Other                                            831\n",
       "Health & Life Science                            827\n",
       "Health & Wellness, Nutrition Education           797\n",
       "                                                ... \n",
       "Extracurricular, Foreign Languages                 2\n",
       "Civics & Government, Extracurricular               2\n",
       "Civics & Government, Health & Wellness             2\n",
       "Financial Literacy, Health & Wellness              2\n",
       "Early Development, Economics                       2\n",
       "Social Sciences, Team Sports                       2\n",
       "Gym & Fitness, Warmth, Care & Hunger               1\n",
       "Economics, Other                                   1\n",
       "Literature & Writing, Nutrition Education          1\n",
       "Gym & Fitness, Parent Involvement                  1\n",
       "Community Service, Gym & Fitness                   1\n",
       "Civics & Government, Parent Involvement            1\n",
       "Civics & Government, Foreign Languages             1\n",
       "Financial Literacy, Foreign Languages              1\n",
       "Extracurricular, Financial Literacy                1\n",
       "History & Geography, Warmth, Care & Hunger         1\n",
       "Gym & Fitness, Social Sciences                     1\n",
       "ESL, Economics                                     1\n",
       "Civics & Government, Nutrition Education           1\n",
       "College & Career Prep, Warmth, Care & Hunger       1\n",
       "Community Service, Financial Literacy              1\n",
       "Parent Involvement, Warmth, Care & Hunger          1\n",
       "Economics, Music                                   1\n",
       "Community Service, Music                           1\n",
       "Other, Warmth, Care & Hunger                       1\n",
       "Economics, Nutrition Education                     1\n",
       "ESL, Team Sports                                   1\n",
       "Financial Literacy, Performing Arts                1\n",
       "Economics, Foreign Languages                       1\n",
       "Parent Involvement, Team Sports                    1\n",
       "Name: project_subject_subcategories, Length: 401, dtype: int64"
      ]
     },
     "execution_count": 21,
     "metadata": {
      "tags": []
     },
     "output_type": "execute_result"
    }
   ],
   "source": [
    "project_data['project_subject_subcategories'].value_counts()"
   ]
  },
  {
   "cell_type": "markdown",
   "metadata": {
    "colab_type": "text",
    "id": "5jVEK1MI21gb"
   },
   "source": [
    "> same process we did in project_subject_categories"
   ]
  },
  {
   "cell_type": "code",
   "execution_count": 22,
   "metadata": {
    "colab": {
     "base_uri": "https://localhost:8080/",
     "height": 1000
    },
    "colab_type": "code",
    "id": "vCs3haFR21gc",
    "outputId": "c7c6729c-337f-4115-ddf1-7efbe97fa960",
    "scrolled": true
   },
   "outputs": [
    {
     "data": {
      "text/plain": [
       "literacy                                   9486\n",
       "literacy_mathematics                       8325\n",
       "literature_writing_mathematics             5923\n",
       "literacy_literature_writing                5571\n",
       "mathematics                                5379\n",
       "literature_writing                         4501\n",
       "specialneeds                               4226\n",
       "health_wellness                            3583\n",
       "appliedsciences_mathematics                3399\n",
       "appliedsciences                            2492\n",
       "literacy_specialneeds                      2440\n",
       "gym_fitness_health_wellness                2264\n",
       "esl_literacy                               2234\n",
       "visualarts                                 2217\n",
       "music                                      1472\n",
       "warmth_care_hunger                         1309\n",
       "literature_writing_specialneeds            1306\n",
       "gym_fitness                                1195\n",
       "health_wellness_specialneeds               1189\n",
       "mathematics_specialneeds                   1187\n",
       "environmentalscience                       1079\n",
       "teamsports                                 1061\n",
       "appliedsciences_environmentalscience        984\n",
       "environmentalscience_health_lifescience     964\n",
       "music_performingarts                        948\n",
       "earlydevelopment                            905\n",
       "environmentalscience_mathematics            838\n",
       "other                                       831\n",
       "health_lifescience                          827\n",
       "health_wellness_nutritioneducation          797\n",
       "                                           ... \n",
       "extracurricular_foreignlanguages              2\n",
       "civics_government_extracurricular             2\n",
       "college_careerprep_teamsports                 2\n",
       "socialsciences_teamsports                     2\n",
       "financialliteracy_parentinvolvement           2\n",
       "financialliteracy_health_wellness             2\n",
       "college_careerprep_warmth_care_hunger         1\n",
       "economics_other                               1\n",
       "financialliteracy_performingarts              1\n",
       "civics_government_nutritioneducation          1\n",
       "communityservice_music                        1\n",
       "economics_foreignlanguages                    1\n",
       "civics_government_parentinvolvement           1\n",
       "communityservice_gym_fitness                  1\n",
       "gym_fitness_socialsciences                    1\n",
       "parentinvolvement_teamsports                  1\n",
       "esl_teamsports                                1\n",
       "gym_fitness_warmth_care_hunger                1\n",
       "history_geography_warmth_care_hunger          1\n",
       "extracurricular_financialliteracy             1\n",
       "gym_fitness_parentinvolvement                 1\n",
       "communityservice_financialliteracy            1\n",
       "economics_music                               1\n",
       "other_warmth_care_hunger                      1\n",
       "economics_nutritioneducation                  1\n",
       "civics_government_foreignlanguages            1\n",
       "financialliteracy_foreignlanguages            1\n",
       "literature_writing_nutritioneducation         1\n",
       "esl_economics                                 1\n",
       "parentinvolvement_warmth_care_hunger          1\n",
       "Name: project_subject_subcategories, Length: 401, dtype: int64"
      ]
     },
     "execution_count": 22,
     "metadata": {
      "tags": []
     },
     "output_type": "execute_result"
    }
   ],
   "source": [
    "project_data['project_subject_subcategories'] = project_data['project_subject_subcategories'].str.replace(' The ','')\n",
    "project_data['project_subject_subcategories'] = project_data['project_subject_subcategories'].str.replace(' ','')\n",
    "project_data['project_subject_subcategories'] = project_data['project_subject_subcategories'].str.replace('&','_')\n",
    "project_data['project_subject_subcategories'] = project_data['project_subject_subcategories'].str.replace(',','_')\n",
    "project_data['project_subject_subcategories'] = project_data['project_subject_subcategories'].str.lower()\n",
    "project_data['project_subject_subcategories'].value_counts()"
   ]
  },
  {
   "cell_type": "markdown",
   "metadata": {
    "colab_type": "text",
    "id": "JDuzsKG221ge"
   },
   "source": [
    "# 6. Preprocessing Categorical Features: school_state"
   ]
  },
  {
   "cell_type": "code",
   "execution_count": 23,
   "metadata": {
    "colab": {
     "base_uri": "https://localhost:8080/",
     "height": 901
    },
    "colab_type": "code",
    "id": "hYGykWHO21gf",
    "outputId": "65f36bbc-e8ab-420e-f683-30855d2cbf23",
    "scrolled": true
   },
   "outputs": [
    {
     "data": {
      "text/plain": [
       "CA    15388\n",
       "TX     7396\n",
       "NY     7318\n",
       "FL     6185\n",
       "NC     5091\n",
       "IL     4350\n",
       "GA     3963\n",
       "SC     3936\n",
       "MI     3161\n",
       "PA     3109\n",
       "IN     2620\n",
       "MO     2576\n",
       "OH     2467\n",
       "LA     2394\n",
       "MA     2389\n",
       "WA     2334\n",
       "OK     2276\n",
       "NJ     2237\n",
       "AZ     2147\n",
       "VA     2045\n",
       "WI     1827\n",
       "AL     1762\n",
       "UT     1731\n",
       "TN     1688\n",
       "CT     1663\n",
       "MD     1514\n",
       "NV     1367\n",
       "MS     1323\n",
       "KY     1304\n",
       "OR     1242\n",
       "MN     1208\n",
       "CO     1111\n",
       "AR     1049\n",
       "ID      693\n",
       "IA      666\n",
       "KS      634\n",
       "NM      557\n",
       "DC      516\n",
       "HI      507\n",
       "ME      505\n",
       "WV      503\n",
       "NH      348\n",
       "AK      345\n",
       "DE      343\n",
       "NE      309\n",
       "SD      300\n",
       "RI      285\n",
       "MT      245\n",
       "ND      143\n",
       "WY       98\n",
       "VT       80\n",
       "Name: school_state, dtype: int64"
      ]
     },
     "execution_count": 23,
     "metadata": {
      "tags": []
     },
     "output_type": "execute_result"
    }
   ],
   "source": [
    "project_data['school_state'].value_counts()"
   ]
  },
  {
   "cell_type": "markdown",
   "metadata": {
    "colab_type": "text",
    "id": "dtoqJiVA21gj"
   },
   "source": [
    ">convert all of them into small letters"
   ]
  },
  {
   "cell_type": "code",
   "execution_count": 24,
   "metadata": {
    "colab": {
     "base_uri": "https://localhost:8080/",
     "height": 901
    },
    "colab_type": "code",
    "id": "veEQhiTQ21gl",
    "outputId": "56f9ab30-d814-4350-8f45-73a8582b0ecb",
    "scrolled": true
   },
   "outputs": [
    {
     "data": {
      "text/plain": [
       "ca    15388\n",
       "tx     7396\n",
       "ny     7318\n",
       "fl     6185\n",
       "nc     5091\n",
       "il     4350\n",
       "ga     3963\n",
       "sc     3936\n",
       "mi     3161\n",
       "pa     3109\n",
       "in     2620\n",
       "mo     2576\n",
       "oh     2467\n",
       "la     2394\n",
       "ma     2389\n",
       "wa     2334\n",
       "ok     2276\n",
       "nj     2237\n",
       "az     2147\n",
       "va     2045\n",
       "wi     1827\n",
       "al     1762\n",
       "ut     1731\n",
       "tn     1688\n",
       "ct     1663\n",
       "md     1514\n",
       "nv     1367\n",
       "ms     1323\n",
       "ky     1304\n",
       "or     1242\n",
       "mn     1208\n",
       "co     1111\n",
       "ar     1049\n",
       "id      693\n",
       "ia      666\n",
       "ks      634\n",
       "nm      557\n",
       "dc      516\n",
       "hi      507\n",
       "me      505\n",
       "wv      503\n",
       "nh      348\n",
       "ak      345\n",
       "de      343\n",
       "ne      309\n",
       "sd      300\n",
       "ri      285\n",
       "mt      245\n",
       "nd      143\n",
       "wy       98\n",
       "vt       80\n",
       "Name: school_state, dtype: int64"
      ]
     },
     "execution_count": 24,
     "metadata": {
      "tags": []
     },
     "output_type": "execute_result"
    }
   ],
   "source": [
    "project_data['school_state'] = project_data['school_state'].str.lower()\n",
    "project_data['school_state'].value_counts()"
   ]
  },
  {
   "cell_type": "code",
   "execution_count": 25,
   "metadata": {
    "colab": {
     "base_uri": "https://localhost:8080/",
     "height": 136
    },
    "colab_type": "code",
    "id": "XGTt9O6H21go",
    "outputId": "a6833bd0-563f-4508-bdd0-d14182cda593"
   },
   "outputs": [
    {
     "data": {
      "text/plain": [
       "array(['Unnamed: 0', 'id', 'teacher_id', 'teacher_prefix', 'school_state',\n",
       "       'project_submitted_datetime', 'project_grade_category',\n",
       "       'project_subject_categories', 'project_subject_subcategories',\n",
       "       'project_title', 'project_essay_1', 'project_essay_2',\n",
       "       'project_essay_3', 'project_essay_4', 'project_resource_summary',\n",
       "       'teacher_number_of_previously_posted_projects',\n",
       "       'project_is_approved'], dtype=object)"
      ]
     },
     "execution_count": 25,
     "metadata": {
      "tags": []
     },
     "output_type": "execute_result"
    }
   ],
   "source": [
    "project_data.columns.values"
   ]
  },
  {
   "cell_type": "markdown",
   "metadata": {
    "colab_type": "text",
    "id": "Rt2gSxdg21gq"
   },
   "source": [
    "# 7. Preprocessing Categorical Features: project_title"
   ]
  },
  {
   "cell_type": "code",
   "execution_count": 0,
   "metadata": {
    "colab": {},
    "colab_type": "code",
    "id": "PX5-Hz2R21gq"
   },
   "outputs": [],
   "source": [
    "# https://stackoverflow.com/a/47091490/4084039\n",
    "import re\n",
    "\n",
    "def decontracted(phrase):\n",
    "    # specific\n",
    "    phrase = re.sub(r\"won't\", \"will not\", phrase)\n",
    "    phrase = re.sub(r\"can\\'t\", \"can not\", phrase)\n",
    "\n",
    "    # general\n",
    "    phrase = re.sub(r\"n\\'t\", \" not\", phrase)\n",
    "    phrase = re.sub(r\"\\'re\", \" are\", phrase)\n",
    "    phrase = re.sub(r\"\\'s\", \" is\", phrase)\n",
    "    phrase = re.sub(r\"\\'d\", \" would\", phrase)\n",
    "    phrase = re.sub(r\"\\'ll\", \" will\", phrase)\n",
    "    phrase = re.sub(r\"\\'t\", \" not\", phrase)\n",
    "    phrase = re.sub(r\"\\'ve\", \" have\", phrase)\n",
    "    phrase = re.sub(r\"\\'m\", \" am\", phrase)\n",
    "    return phrase"
   ]
  },
  {
   "cell_type": "code",
   "execution_count": 0,
   "metadata": {
    "colab": {},
    "colab_type": "code",
    "id": "xiD-MTge21gu"
   },
   "outputs": [],
   "source": [
    "# https://gist.github.com/sebleier/554280\n",
    "# we are removing the words from the stop words list: 'no', 'nor', 'not'\n",
    "stopwords= ['i', 'me', 'my', 'myself', 'we', 'our', 'ours', 'ourselves', 'you', \"you're\", \"you've\",\\\n",
    "            \"you'll\", \"you'd\", 'your', 'yours', 'yourself', 'yourselves', 'he', 'him', 'his', 'himself', \\\n",
    "            'she', \"she's\", 'her', 'hers', 'herself', 'it', \"it's\", 'its', 'itself', 'they', 'them', 'their',\\\n",
    "            'theirs', 'themselves', 'what', 'which', 'who', 'whom', 'this', 'that', \"that'll\", 'these', 'those', \\\n",
    "            'am', 'is', 'are', 'was', 'were', 'be', 'been', 'being', 'have', 'has', 'had', 'having', 'do', 'does', \\\n",
    "            'did', 'doing', 'a', 'an', 'the', 'and', 'but', 'if', 'or', 'because', 'as', 'until', 'while', 'of', \\\n",
    "            'at', 'by', 'for', 'with', 'about', 'against', 'between', 'into', 'through', 'during', 'before', 'after',\\\n",
    "            'above', 'below', 'to', 'from', 'up', 'down', 'in', 'out', 'on', 'off', 'over', 'under', 'again', 'further',\\\n",
    "            'then', 'once', 'here', 'there', 'when', 'where', 'why', 'how', 'all', 'any', 'both', 'each', 'few', 'more',\\\n",
    "            'most', 'other', 'some', 'such', 'only', 'own', 'same', 'so', 'than', 'too', 'very', \\\n",
    "            's', 't', 'can', 'will', 'just', 'don', \"don't\", 'should', \"should've\", 'now', 'd', 'll', 'm', 'o', 're', \\\n",
    "            've', 'y', 'ain', 'aren', \"aren't\", 'couldn', \"couldn't\", 'didn', \"didn't\", 'doesn', \"doesn't\", 'hadn',\\\n",
    "            \"hadn't\", 'hasn', \"hasn't\", 'haven', \"haven't\", 'isn', \"isn't\", 'ma', 'mightn', \"mightn't\", 'mustn',\\\n",
    "            \"mustn't\", 'needn', \"needn't\", 'shan', \"shan't\", 'shouldn', \"shouldn't\", 'wasn', \"wasn't\", 'weren', \"weren't\", \\\n",
    "            'won', \"won't\", 'wouldn', \"wouldn't\"]"
   ]
  },
  {
   "cell_type": "code",
   "execution_count": 28,
   "metadata": {
    "colab": {
     "base_uri": "https://localhost:8080/",
     "height": 119
    },
    "colab_type": "code",
    "id": "JalGqQ9W21gw",
    "outputId": "9186b7a1-afb0-4d00-cb50-638f4430e934"
   },
   "outputs": [
    {
     "data": {
      "text/plain": [
       "0     Educational Support for English Learners at Home\n",
       "1                Wanted: Projector for Hungry Learners\n",
       "2    Soccer Equipment for AWESOME Middle School Stu...\n",
       "3                               Techie Kindergarteners\n",
       "4                               Interactive Math Tools\n",
       "Name: project_title, dtype: object"
      ]
     },
     "execution_count": 28,
     "metadata": {
      "tags": []
     },
     "output_type": "execute_result"
    }
   ],
   "source": [
    "project_data['project_title'].head(5)"
   ]
  },
  {
   "cell_type": "code",
   "execution_count": 29,
   "metadata": {
    "colab": {
     "base_uri": "https://localhost:8080/",
     "height": 85
    },
    "colab_type": "code",
    "id": "cHPdLVO921gy",
    "outputId": "f0b0e2a1-89fe-46ca-cc69-616cdd3ff334"
   },
   "outputs": [
    {
     "name": "stdout",
     "output_type": "stream",
     "text": [
      "printing some random reviews\n",
      "9 Just For the Love of Reading--\\r\\nPure Pleasure\n",
      "34 \\\"Have A Ball!!!\\\"\n",
      "147 Who needs a Chromebook?\\r\\nWE DO!!\n"
     ]
    }
   ],
   "source": [
    "print(\"printing some random reviews\")\n",
    "print(9, project_data['project_title'].values[9])\n",
    "print(34, project_data['project_title'].values[34])\n",
    "print(147, project_data['project_title'].values[147])"
   ]
  },
  {
   "cell_type": "code",
   "execution_count": 0,
   "metadata": {
    "colab": {},
    "colab_type": "code",
    "id": "uoObjVaG21g0"
   },
   "outputs": [],
   "source": [
    "# Combining all the above stundents \n",
    "from tqdm import tqdm\n",
    "def preprocess_text(text_data):\n",
    "    preprocessed_text = []\n",
    "    # tqdm is for printing the status bar\n",
    "    for sentance in tqdm(text_data):\n",
    "        sent = decontracted(sentance)\n",
    "        sent = sent.replace('\\\\r', ' ')\n",
    "        sent = sent.replace('\\\\n', ' ')\n",
    "        sent = sent.replace('\\\\\"', ' ')\n",
    "        sent = re.sub('[^A-Za-z0-9]+', ' ', sent)\n",
    "        # https://gist.github.com/sebleier/554280\n",
    "        sent = ' '.join(e for e in sent.split() if e.lower() not in stopwords)\n",
    "        preprocessed_text.append(sent.lower().strip())\n",
    "    return preprocessed_text"
   ]
  },
  {
   "cell_type": "code",
   "execution_count": 31,
   "metadata": {
    "colab": {
     "base_uri": "https://localhost:8080/",
     "height": 34
    },
    "colab_type": "code",
    "id": "BY15z0IF21g2",
    "outputId": "f8856c3c-435c-4bf3-b6ec-af6bf6a6ce7e"
   },
   "outputs": [
    {
     "name": "stderr",
     "output_type": "stream",
     "text": [
      "100%|██████████| 109248/109248 [00:02<00:00, 39547.44it/s]\n"
     ]
    }
   ],
   "source": [
    "preprocessed_titles = preprocess_text(project_data['project_title'].values)"
   ]
  },
  {
   "cell_type": "code",
   "execution_count": 0,
   "metadata": {
    "colab": {},
    "colab_type": "code",
    "id": "qQ0eT9lI7e0G"
   },
   "outputs": [],
   "source": []
  },
  {
   "cell_type": "code",
   "execution_count": 32,
   "metadata": {
    "colab": {
     "base_uri": "https://localhost:8080/",
     "height": 85
    },
    "colab_type": "code",
    "id": "eInXi_D321g3",
    "outputId": "4b40691a-5a67-4e55-c916-a364f930c95b"
   },
   "outputs": [
    {
     "name": "stdout",
     "output_type": "stream",
     "text": [
      "printing some random reviews\n",
      "9 love reading pure pleasure\n",
      "34 ball\n",
      "147 needs chromebook\n"
     ]
    }
   ],
   "source": [
    "print(\"printing some random reviews\")\n",
    "print(9, preprocessed_titles[9])\n",
    "print(34, preprocessed_titles[34])\n",
    "print(147, preprocessed_titles[147])"
   ]
  },
  {
   "cell_type": "markdown",
   "metadata": {
    "colab_type": "text",
    "id": "f51ivfDI21g5"
   },
   "source": [
    "# 8. Preprocessing Categorical Features: essay"
   ]
  },
  {
   "cell_type": "code",
   "execution_count": 0,
   "metadata": {
    "colab": {},
    "colab_type": "code",
    "id": "ISk8aINj21g6"
   },
   "outputs": [],
   "source": [
    "# merge two column text dataframe: \n",
    "project_data[\"essay\"] = project_data[\"project_essay_1\"].map(str) +\\\n",
    "                        project_data[\"project_essay_2\"].map(str) + \\\n",
    "                        project_data[\"project_essay_3\"].map(str) + \\\n",
    "                        project_data[\"project_essay_4\"].map(str)"
   ]
  },
  {
   "cell_type": "code",
   "execution_count": 0,
   "metadata": {
    "colab": {},
    "colab_type": "code",
    "id": "sLvMiV2X7IsD"
   },
   "outputs": [],
   "source": [
    "project_data=project_data.drop([\"project_essay_1\",\"project_essay_2\",\"project_essay_3\",\"project_essay_4\"],axis=1)"
   ]
  },
  {
   "cell_type": "code",
   "execution_count": 0,
   "metadata": {
    "colab": {},
    "colab_type": "code",
    "id": "rSE0eJIo7hOC"
   },
   "outputs": [],
   "source": [
    "# We clean the essay text data\n",
    "# For this task, we have defined some helper functions\n",
    "# The same function and code snippet will be used to clean project title\n",
    "# https://stackoverflow.com/a/47091490/4084039\n",
    "\n",
    "def decontracted(phrase):\n",
    "    # specific\n",
    "    phrase = re.sub(r\"won't\", \"will not\", phrase)\n",
    "    phrase = re.sub(r\"can\\'t\", \"can not\", phrase)\n",
    "\n",
    "    # general\n",
    "    phrase = re.sub(r\"n\\'t\", \" not\", phrase)\n",
    "    phrase = re.sub(r\"\\'re\", \" are\", phrase)\n",
    "    phrase = re.sub(r\"\\'s\", \" is\", phrase)\n",
    "    phrase = re.sub(r\"\\'d\", \" would\", phrase)\n",
    "    phrase = re.sub(r\"\\'ll\", \" will\", phrase)\n",
    "    phrase = re.sub(r\"\\'t\", \" not\", phrase)\n",
    "    phrase = re.sub(r\"\\'ve\", \" have\", phrase)\n",
    "    phrase = re.sub(r\"\\'m\", \" am\", phrase)\n",
    "    return phrase\n",
    "\n",
    "# https://gist.github.com/sebleier/554280\n",
    "\n",
    "stopwords= ['i', 'me', 'my', 'myself', 'we', 'our', 'ours', 'ourselves', 'you', \"you're\", \"you've\",\\\n",
    "            \"you'll\", \"you'd\", 'your', 'yours', 'yourself', 'yourselves', 'he', 'him', 'his', 'himself', \\\n",
    "            'she', \"she's\", 'her', 'hers', 'herself', 'it', \"it's\", 'its', 'itself', 'they', 'them', 'their',\\\n",
    "            'theirs', 'themselves', 'what', 'which', 'who', 'whom', 'this', 'that', \"that'll\", 'these', 'those', \\\n",
    "            'am', 'is', 'are', 'was', 'were', 'be', 'been', 'being', 'have', 'has', 'had', 'having', 'do', 'does', \\\n",
    "            'did', 'doing', 'a', 'an', 'the', 'and', 'but', 'if', 'or', 'because', 'as', 'until', 'while', 'of', \\\n",
    "            'at', 'by', 'for', 'with', 'about', 'against', 'between', 'into', 'through', 'during', 'before', 'after',\\\n",
    "            'above', 'below', 'to', 'from', 'up', 'down', 'in', 'out', 'on', 'off', 'over', 'under', 'again', 'further',\\\n",
    "            'then', 'once', 'here', 'there', 'when', 'where', 'why', 'how', 'all', 'any', 'both', 'each', 'few', 'more',\\\n",
    "            'most', 'other', 'some', 'such', 'only', 'own', 'same', 'so', 'than', 'too', 'very', \\\n",
    "            's', 't', 'can', 'will', 'just', 'don', \"don't\", 'should', \"should've\", 'now', 'd', 'll', 'm', 'o', 're', \\\n",
    "            've', 'y', 'ain', 'aren', \"aren't\", 'couldn', \"couldn't\", 'didn', \"didn't\", 'doesn', \"doesn't\", 'hadn',\\\n",
    "            \"hadn't\", 'hasn', \"hasn't\", 'haven', \"haven't\", 'isn', \"isn't\", 'ma', 'mightn', \"mightn't\", 'mustn',\\\n",
    "            \"mustn't\", 'needn', \"needn't\", 'shan', \"shan't\", 'shouldn', \"shouldn't\", 'wasn', \"wasn't\", 'weren', \"weren't\", \\\n",
    "            'won', \"won't\", 'wouldn', \"wouldn't\"]"
   ]
  },
  {
   "cell_type": "code",
   "execution_count": 36,
   "metadata": {
    "colab": {
     "base_uri": "https://localhost:8080/",
     "height": 139
    },
    "colab_type": "code",
    "id": "o-B6F61921g8",
    "outputId": "97923ca4-0bf0-46df-9b19-91e0539451ac",
    "scrolled": true
   },
   "outputs": [
    {
     "name": "stdout",
     "output_type": "stream",
     "text": [
      "printing some random essay\n",
      "9 Over 95% of my students are on free or reduced lunch.  I have a few who are homeless, but despite that, they come to school with an eagerness to learn.  My students are inquisitive eager learners who  embrace the challenge of not having great books and other resources  every day.  Many of them are not afforded the opportunity to engage with these big colorful pages of a book on a regular basis at home and they don't travel to the public library.  \\r\\nIt is my duty as a teacher to do all I can to provide each student an opportunity to succeed in every aspect of life. \\r\\nReading is Fundamental! My students will read these books over and over again while boosting their comprehension skills. These books will be used for read alouds, partner reading and for Independent reading. \\r\\nThey will engage in reading to build their \\\"Love for Reading\\\" by reading for pure enjoyment. They will be introduced to some new authors as well as some old favorites. I want my students to be ready for the 21st Century and know the pleasure of holding a good hard back book in hand. There's nothing like a good book to read!  \\r\\nMy students will soar in Reading, and more because of your consideration and generous funding contribution. This will help build stamina and prepare for 3rd grade. Thank you so much for reading our proposal!nannan\n",
      "--------------------------------------------------\n",
      "34 My students mainly come from extremely low-income families, and the majority of them come from homes where both parents work full time. Most of my students are at school from 7:30 am to 6:00 pm (2:30 to 6:00 pm in the after-school program), and they all receive free and reduced meals for breakfast and lunch. \\r\\n\\r\\n\\r\\nI want my students to feel  as comfortable in my classroom as they do at home. Many of my students take on multiple roles both at home as well as in school. They are sometimes the caretakers of younger siblings, cooks, babysitters, academics, friends, and most of all, they are developing who they are going to become as adults.  I consider it an essential part of my job to model helping others gain knowledge in a positive manner. As a result, I have a community of students who love helping each other in and outside of the classroom. They consistently look for opportunities to support each other's learning in a kind and helpful way.I am excited to be experimenting with alternative seating in my classroom this school year. Studies have shown that giving students the option of where they sit in a classroom increases focus as well as motivation.  \\r\\n\\r\\nBy allowing students choice in the classroom, they are able to explore and create in a welcoming environment. Alternative classroom seating has been experimented with more frequently in recent years. I believe (along with many others), that every child learns differently. This does not only apply to how multiplication is memorized, or a paper is written, but applies to the space in which they are asked to work. I have had students in the past ask \\\"Can I work in the library? Can I work on the carpet?\\\" My answer was always, \\\"As long as you're learning, you can work wherever you want!\\\" \\r\\n\\r\\nWith the yoga balls and the lap-desks, I will be able to increase the options for seating in my classroom and expand its imaginable space.nannan\n",
      "--------------------------------------------------\n",
      "147 My students are eager to learn and make their mark on the world.\\r\\n\\r\\nThey come from a Title 1 school and need extra love.\\r\\n\\r\\nMy fourth grade students are in a high poverty area and still come to school every day to get their education. I am trying to make it fun and educational for them so they can get the most out of their schooling. I created a caring environment for the students to bloom! They deserve the best.\\r\\nThank you!\\r\\nI am requesting 1 Chromebook to access online interventions, differentiate instruction, and get extra practice. The Chromebook will be used to supplement ELA and math instruction. Students will play ELA and math games that are engaging and fun, as well as participate in assignments online. This in turn will help my students improve their skills. Having a Chromebook in the classroom would not only allow students to use the programs at their own pace, but would ensure more students are getting adequate time to use the programs. The online programs have been especially beneficial to my students with special needs. They are able to work at their level as well as be challenged with some different materials. This is making these students more confident in their abilities.\\r\\n\\r\\nThe Chromebook would allow my students to have daily access to computers and increase their computing skills.\\r\\nThis will change their lives for the better as they become more successful in school. Having access to technology in the classroom would help bridge the achievement gap.nannan\n"
     ]
    }
   ],
   "source": [
    "print(\"printing some random essay\")\n",
    "print(9, project_data['essay'].values[9])\n",
    "print('-'*50)\n",
    "print(34, project_data['essay'].values[34])\n",
    "print('-'*50)\n",
    "print(147, project_data['essay'].values[147])"
   ]
  },
  {
   "cell_type": "code",
   "execution_count": 37,
   "metadata": {
    "colab": {
     "base_uri": "https://localhost:8080/",
     "height": 34
    },
    "colab_type": "code",
    "id": "iJsXxmiL21g-",
    "outputId": "f4516543-6845-4c01-ed4c-f94617e1e111"
   },
   "outputs": [
    {
     "name": "stderr",
     "output_type": "stream",
     "text": [
      "100%|██████████| 109248/109248 [01:04<00:00, 1704.73it/s]\n"
     ]
    }
   ],
   "source": [
    "preprocessed_essays = preprocess_text(project_data['essay'])"
   ]
  },
  {
   "cell_type": "code",
   "execution_count": 0,
   "metadata": {
    "colab": {},
    "colab_type": "code",
    "id": "MKyvzcDqAhJj"
   },
   "outputs": [],
   "source": [
    "project_data['clean_text']=preprocessed_essays"
   ]
  },
  {
   "cell_type": "code",
   "execution_count": 39,
   "metadata": {
    "colab": {
     "base_uri": "https://localhost:8080/",
     "height": 54
    },
    "colab_type": "code",
    "id": "87t5OwhO_8in",
    "outputId": "6043e24d-e5ce-4ce7-9180-da5565453b1e"
   },
   "outputs": [
    {
     "data": {
      "text/plain": [
       "'students english learners working english second third languages melting pot refugees immigrants native born americans bringing gift language school 24 languages represented english learner program students every level mastery also 40 countries represented families within school student brings wealth knowledge experiences us open eyes new cultures beliefs respect limits language limits world ludwig wittgenstein english learner strong support system home begs resources many times parents learning read speak english along side children sometimes creates barriers parents able help child learn phonetics letter recognition reading skills providing dvd players students able continue mastery english language even no one home able assist families students within level 1 proficiency status offered part program educational videos specially chosen english learner teacher sent home regularly watch videos help child develop early reading skills parents not access dvd player opportunity check dvd player use year plan use videos educational dvd years come el students nannan'"
      ]
     },
     "execution_count": 39,
     "metadata": {
      "tags": []
     },
     "output_type": "execute_result"
    }
   ],
   "source": [
    "preprocessed_essays[0]"
   ]
  },
  {
   "cell_type": "code",
   "execution_count": 40,
   "metadata": {
    "colab": {
     "base_uri": "https://localhost:8080/",
     "height": 119
    },
    "colab_type": "code",
    "id": "o_lcBLG-21g_",
    "outputId": "a0652aee-5227-411b-c54d-4681e889a3a3"
   },
   "outputs": [
    {
     "data": {
      "text/plain": [
       "array(['Unnamed: 0', 'id', 'teacher_id', 'teacher_prefix', 'school_state',\n",
       "       'project_submitted_datetime', 'project_grade_category',\n",
       "       'project_subject_categories', 'project_subject_subcategories',\n",
       "       'project_title', 'project_resource_summary',\n",
       "       'teacher_number_of_previously_posted_projects',\n",
       "       'project_is_approved', 'essay', 'clean_text'], dtype=object)"
      ]
     },
     "execution_count": 40,
     "metadata": {
      "tags": []
     },
     "output_type": "execute_result"
    }
   ],
   "source": [
    "project_data.columns.values"
   ]
  },
  {
   "cell_type": "code",
   "execution_count": 41,
   "metadata": {
    "colab": {
     "base_uri": "https://localhost:8080/",
     "height": 139
    },
    "colab_type": "code",
    "id": "WUV8g31d21hB",
    "outputId": "18c2d355-aa18-4fee-8153-15c704bb9a55",
    "scrolled": true
   },
   "outputs": [
    {
     "name": "stdout",
     "output_type": "stream",
     "text": [
      "printing some random essay\n",
      "9 95 students free reduced lunch homeless despite come school eagerness learn students inquisitive eager learners embrace challenge not great books resources every day many not afforded opportunity engage big colorful pages book regular basis home not travel public library duty teacher provide student opportunity succeed every aspect life reading fundamental students read books boosting comprehension skills books used read alouds partner reading independent reading engage reading build love reading reading pure enjoyment introduced new authors well old favorites want students ready 21st century know pleasure holding good hard back book hand nothing like good book read students soar reading consideration generous funding contribution help build stamina prepare 3rd grade thank much reading proposal nannan\n",
      "--------------------------------------------------\n",
      "34 students mainly come extremely low income families majority come homes parents work full time students school 7 30 6 00 pm 2 30 6 00 pm school program receive free reduced meals breakfast lunch want students feel comfortable classroom home many students take multiple roles home well school sometimes caretakers younger siblings cooks babysitters academics friends developing going become adults consider essential part job model helping others gain knowledge positive manner result community students love helping outside classroom consistently look opportunities support learning kind helpful way excited experimenting alternative seating classroom school year studies shown giving students option sit classroom increases focus well motivation allowing students choice classroom able explore create welcoming environment alternative classroom seating experimented frequently recent years believe along many others every child learns differently not apply multiplication memorized paper written applies space asked work students past ask work library work carpet answer always long learning work wherever want yoga balls lap desks able increase options seating classroom expand imaginable space nannan\n",
      "--------------------------------------------------\n",
      "147 students eager learn make mark world come title 1 school need extra love fourth grade students high poverty area still come school every day get education trying make fun educational get schooling created caring environment students bloom deserve best thank requesting 1 chromebook access online interventions differentiate instruction get extra practice chromebook used supplement ela math instruction students play ela math games engaging fun well participate assignments online turn help students improve skills chromebook classroom would not allow students use programs pace would ensure students getting adequate time use programs online programs especially beneficial students special needs able work level well challenged different materials making students confident abilities chromebook would allow students daily access computers increase computing skills change lives better become successful school access technology classroom would help bridge achievement gap nannan\n"
     ]
    }
   ],
   "source": [
    "print(\"printing some random essay\")\n",
    "print(9, preprocessed_essays[9])\n",
    "print('-'*50)\n",
    "print(34, preprocessed_essays[34])\n",
    "print('-'*50)\n",
    "print(147, preprocessed_essays[147])"
   ]
  },
  {
   "cell_type": "markdown",
   "metadata": {
    "colab_type": "text",
    "id": "sOavptNg21hC"
   },
   "source": [
    "# 8. Preprocessing Numerical Values: price"
   ]
  },
  {
   "cell_type": "code",
   "execution_count": 42,
   "metadata": {
    "colab": {
     "base_uri": "https://localhost:8080/",
     "height": 111
    },
    "colab_type": "code",
    "id": "xAAPvyUl21hC",
    "outputId": "b574eb39-15fb-4520-ea9b-1956dbbddae4"
   },
   "outputs": [
    {
     "data": {
      "text/html": [
       "<div>\n",
       "<style scoped>\n",
       "    .dataframe tbody tr th:only-of-type {\n",
       "        vertical-align: middle;\n",
       "    }\n",
       "\n",
       "    .dataframe tbody tr th {\n",
       "        vertical-align: top;\n",
       "    }\n",
       "\n",
       "    .dataframe thead th {\n",
       "        text-align: right;\n",
       "    }\n",
       "</style>\n",
       "<table border=\"1\" class=\"dataframe\">\n",
       "  <thead>\n",
       "    <tr style=\"text-align: right;\">\n",
       "      <th></th>\n",
       "      <th>id</th>\n",
       "      <th>price</th>\n",
       "      <th>quantity</th>\n",
       "    </tr>\n",
       "  </thead>\n",
       "  <tbody>\n",
       "    <tr>\n",
       "      <th>0</th>\n",
       "      <td>p000001</td>\n",
       "      <td>459.56</td>\n",
       "      <td>7</td>\n",
       "    </tr>\n",
       "    <tr>\n",
       "      <th>1</th>\n",
       "      <td>p000002</td>\n",
       "      <td>515.89</td>\n",
       "      <td>21</td>\n",
       "    </tr>\n",
       "  </tbody>\n",
       "</table>\n",
       "</div>"
      ],
      "text/plain": [
       "        id   price  quantity\n",
       "0  p000001  459.56         7\n",
       "1  p000002  515.89        21"
      ]
     },
     "execution_count": 42,
     "metadata": {
      "tags": []
     },
     "output_type": "execute_result"
    }
   ],
   "source": [
    "# https://stackoverflow.com/questions/22407798/how-to-reset-a-dataframes-indexes-for-all-groups-in-one-step\n",
    "price_data = resource_data.groupby('id').agg({'price':'sum', 'quantity':'sum'}).reset_index()\n",
    "price_data.head(2)"
   ]
  },
  {
   "cell_type": "code",
   "execution_count": 43,
   "metadata": {
    "colab": {
     "base_uri": "https://localhost:8080/",
     "height": 119
    },
    "colab_type": "code",
    "id": "F4eIOVaZ21hF",
    "outputId": "21e9b00a-fd66-4bfb-f93d-9a5cd914381f"
   },
   "outputs": [
    {
     "data": {
      "text/plain": [
       "array(['Unnamed: 0', 'id', 'teacher_id', 'teacher_prefix', 'school_state',\n",
       "       'project_submitted_datetime', 'project_grade_category',\n",
       "       'project_subject_categories', 'project_subject_subcategories',\n",
       "       'project_title', 'project_resource_summary',\n",
       "       'teacher_number_of_previously_posted_projects',\n",
       "       'project_is_approved', 'essay', 'clean_text'], dtype=object)"
      ]
     },
     "execution_count": 43,
     "metadata": {
      "tags": []
     },
     "output_type": "execute_result"
    }
   ],
   "source": [
    "project_data.columns.values"
   ]
  },
  {
   "cell_type": "code",
   "execution_count": 0,
   "metadata": {
    "colab": {},
    "colab_type": "code",
    "id": "0DZSeX-221hH"
   },
   "outputs": [],
   "source": [
    "# join two dataframes in python: \n",
    "project_data = pd.merge(project_data, price_data, on='id', how='left')"
   ]
  },
  {
   "cell_type": "code",
   "execution_count": 45,
   "metadata": {
    "colab": {
     "base_uri": "https://localhost:8080/",
     "height": 136
    },
    "colab_type": "code",
    "id": "qMI42IOo21hJ",
    "outputId": "8df5227b-524d-4c1c-bbc1-16470383ebd3"
   },
   "outputs": [
    {
     "data": {
      "text/plain": [
       "array(['Unnamed: 0', 'id', 'teacher_id', 'teacher_prefix', 'school_state',\n",
       "       'project_submitted_datetime', 'project_grade_category',\n",
       "       'project_subject_categories', 'project_subject_subcategories',\n",
       "       'project_title', 'project_resource_summary',\n",
       "       'teacher_number_of_previously_posted_projects',\n",
       "       'project_is_approved', 'essay', 'clean_text', 'price', 'quantity'],\n",
       "      dtype=object)"
      ]
     },
     "execution_count": 45,
     "metadata": {
      "tags": []
     },
     "output_type": "execute_result"
    }
   ],
   "source": [
    "project_data.columns.values"
   ]
  },
  {
   "cell_type": "code",
   "execution_count": 46,
   "metadata": {
    "colab": {
     "base_uri": "https://localhost:8080/",
     "height": 119
    },
    "colab_type": "code",
    "id": "ubShD-7d21hM",
    "outputId": "a63091c9-ead1-4eaa-f60a-4f6581711e1d"
   },
   "outputs": [
    {
     "data": {
      "text/plain": [
       "0    154.60\n",
       "1    299.00\n",
       "2    516.85\n",
       "3    232.90\n",
       "4     67.98\n",
       "Name: price, dtype: float64"
      ]
     },
     "execution_count": 46,
     "metadata": {
      "tags": []
     },
     "output_type": "execute_result"
    }
   ],
   "source": [
    "project_data['price'].head()"
   ]
  },
  {
   "cell_type": "markdown",
   "metadata": {
    "colab_type": "text",
    "id": "mcayRiuU21hO"
   },
   "source": [
    "## 8.1 applying StandardScaler"
   ]
  },
  {
   "cell_type": "code",
   "execution_count": 0,
   "metadata": {
    "colab": {},
    "colab_type": "code",
    "id": "JbfC2TCB21hP"
   },
   "outputs": [],
   "source": [
    "from sklearn.preprocessing import StandardScaler\n",
    "scaler = StandardScaler()\n",
    "scaler.fit(project_data['price'].values.reshape(-1, 1))\n",
    "project_data['std_price']=scaler.transform(project_data['price'].values.reshape(-1, 1) )"
   ]
  },
  {
   "cell_type": "code",
   "execution_count": 48,
   "metadata": {
    "colab": {
     "base_uri": "https://localhost:8080/",
     "height": 119
    },
    "colab_type": "code",
    "id": "woRFoIP921hR",
    "outputId": "493938e8-8cf9-46dd-e4b2-28589468cf8a",
    "scrolled": true
   },
   "outputs": [
    {
     "data": {
      "text/plain": [
       "0   -0.390533\n",
       "1    0.002396\n",
       "2    0.595191\n",
       "3   -0.177469\n",
       "4   -0.626236\n",
       "Name: std_price, dtype: float64"
      ]
     },
     "execution_count": 48,
     "metadata": {
      "tags": []
     },
     "output_type": "execute_result"
    }
   ],
   "source": [
    "project_data['std_price'].head()"
   ]
  },
  {
   "cell_type": "markdown",
   "metadata": {
    "colab_type": "text",
    "id": "Xfw2eF-l21hV"
   },
   "source": [
    "## 8.2 applying MinMaxScaler"
   ]
  },
  {
   "cell_type": "code",
   "execution_count": 0,
   "metadata": {
    "colab": {},
    "colab_type": "code",
    "id": "GHNRLP6S21hV"
   },
   "outputs": [],
   "source": [
    "from sklearn.preprocessing import MinMaxScaler\n",
    "\n",
    "scaler = MinMaxScaler()\n",
    "scaler.fit(project_data['price'].values.reshape(-1, 1))\n",
    "project_data['nrm_price']=scaler.transform(project_data['price'].values.reshape(-1, 1))"
   ]
  },
  {
   "cell_type": "code",
   "execution_count": 50,
   "metadata": {
    "colab": {
     "base_uri": "https://localhost:8080/",
     "height": 119
    },
    "colab_type": "code",
    "id": "IKSl8wsp21hX",
    "outputId": "7c4a242c-5bd4-4b8e-a480-22ca4cfe5f76"
   },
   "outputs": [
    {
     "data": {
      "text/plain": [
       "0    0.015397\n",
       "1    0.029839\n",
       "2    0.051628\n",
       "3    0.023228\n",
       "4    0.006733\n",
       "Name: nrm_price, dtype: float64"
      ]
     },
     "execution_count": 50,
     "metadata": {
      "tags": []
     },
     "output_type": "execute_result"
    }
   ],
   "source": [
    "project_data['nrm_price'].head()"
   ]
  },
  {
   "cell_type": "code",
   "execution_count": 0,
   "metadata": {
    "colab": {},
    "colab_type": "code",
    "id": "e7vONrtJ21hY"
   },
   "outputs": [],
   "source": [
    "#Reference:https://stackoverflow.com/questions/19859282/check-if-a-string-contains-a-number\n",
    "def hasNumbers(inputString):\n",
    "    return any(char.isdigit() for char in inputString)"
   ]
  },
  {
   "cell_type": "code",
   "execution_count": 0,
   "metadata": {
    "colab": {},
    "colab_type": "code",
    "id": "5bvqf2wO21hZ"
   },
   "outputs": [],
   "source": [
    "project_data['presence_numbers']=project_data['project_resource_summary'].apply(hasNumbers)"
   ]
  },
  {
   "cell_type": "code",
   "execution_count": 53,
   "metadata": {
    "colab": {
     "base_uri": "https://localhost:8080/",
     "height": 34
    },
    "colab_type": "code",
    "id": "QetHvX1b21hc",
    "outputId": "4edad343-28d0-40ba-83f1-15a3f28c4330"
   },
   "outputs": [
    {
     "data": {
      "text/plain": [
       "(109248, 20)"
      ]
     },
     "execution_count": 53,
     "metadata": {
      "tags": []
     },
     "output_type": "execute_result"
    }
   ],
   "source": [
    "project_data.shape"
   ]
  },
  {
   "cell_type": "markdown",
   "metadata": {
    "colab_type": "text",
    "id": "iPZsZXx221he"
   },
   "source": [
    "<h1>Let's build LSTM models</h1>"
   ]
  },
  {
   "cell_type": "code",
   "execution_count": 0,
   "metadata": {
    "colab": {},
    "colab_type": "code",
    "id": "TQHz-UK721he"
   },
   "outputs": [],
   "source": [
    "from sklearn.model_selection import train_test_split"
   ]
  },
  {
   "cell_type": "code",
   "execution_count": 55,
   "metadata": {
    "colab": {
     "base_uri": "https://localhost:8080/",
     "height": 153
    },
    "colab_type": "code",
    "id": "kKxXHntn21hg",
    "outputId": "1f6e9689-3202-4802-d596-64293e8267bf"
   },
   "outputs": [
    {
     "data": {
      "text/plain": [
       "Index(['Unnamed: 0', 'id', 'teacher_id', 'teacher_prefix', 'school_state',\n",
       "       'project_submitted_datetime', 'project_grade_category',\n",
       "       'project_subject_categories', 'project_subject_subcategories',\n",
       "       'project_title', 'project_resource_summary',\n",
       "       'teacher_number_of_previously_posted_projects', 'project_is_approved',\n",
       "       'essay', 'clean_text', 'price', 'quantity', 'std_price', 'nrm_price',\n",
       "       'presence_numbers'],\n",
       "      dtype='object')"
      ]
     },
     "execution_count": 55,
     "metadata": {
      "tags": []
     },
     "output_type": "execute_result"
    }
   ],
   "source": [
    "project_data.columns"
   ]
  },
  {
   "cell_type": "code",
   "execution_count": 56,
   "metadata": {
    "colab": {
     "base_uri": "https://localhost:8080/",
     "height": 119
    },
    "colab_type": "code",
    "id": "aIt3BNbx21hh",
    "outputId": "f1ed0b91-d4d7-4449-8625-7fcb29a3c551"
   },
   "outputs": [
    {
     "data": {
      "text/plain": [
       "0    p253737\n",
       "1    p258326\n",
       "2    p182444\n",
       "3    p246581\n",
       "4    p104768\n",
       "Name: id, dtype: object"
      ]
     },
     "execution_count": 56,
     "metadata": {
      "tags": []
     },
     "output_type": "execute_result"
    }
   ],
   "source": [
    "project_data['id'].head(5)"
   ]
  },
  {
   "cell_type": "code",
   "execution_count": 0,
   "metadata": {
    "colab": {},
    "colab_type": "code",
    "id": "Q6JnJhEN21hi"
   },
   "outputs": [],
   "source": []
  },
  {
   "cell_type": "code",
   "execution_count": 57,
   "metadata": {
    "colab": {
     "base_uri": "https://localhost:8080/",
     "height": 34
    },
    "colab_type": "code",
    "id": "njaV_lQVXgk_",
    "outputId": "0f9c342b-91b3-47b6-bb9c-927a281958c4"
   },
   "outputs": [
    {
     "name": "stderr",
     "output_type": "stream",
     "text": [
      "100%|██████████| 109248/109248 [00:01<00:00, 74038.66it/s]\n"
     ]
    }
   ],
   "source": [
    "numerical=[]\n",
    "for i in tqdm(project_data['project_resource_summary']):\n",
    "  sent=decontracted(i)\n",
    "  sent=' '.join(a for a in sent.split() if a.isdigit())\n",
    "  k=len(sent)\n",
    "  numerical.append(k)\n",
    "  \n",
    "project_data[\"numerical\"]=numerical"
   ]
  },
  {
   "cell_type": "code",
   "execution_count": 0,
   "metadata": {
    "colab": {},
    "colab_type": "code",
    "id": "WO27pMpj21hl"
   },
   "outputs": [],
   "source": [
    "project_data_x=project_data[['teacher_id', 'teacher_prefix', 'school_state',\n",
    "       'project_submitted_datetime', 'project_grade_category',\n",
    "       'project_subject_categories', 'project_subject_subcategories',\n",
    "       'project_title','clean_text', 'project_resource_summary',\n",
    "       'teacher_number_of_previously_posted_projects', \n",
    "       'essay', 'price', 'quantity', 'std_price', 'nrm_price','numerical',\n",
    "       'presence_numbers']]"
   ]
  },
  {
   "cell_type": "code",
   "execution_count": 0,
   "metadata": {
    "colab": {},
    "colab_type": "code",
    "id": "qTB0njGu21hm"
   },
   "outputs": [],
   "source": [
    "project_data_y=project_data['project_is_approved']"
   ]
  },
  {
   "cell_type": "code",
   "execution_count": 0,
   "metadata": {
    "colab": {},
    "colab_type": "code",
    "id": "gEHZOSGv21hn"
   },
   "outputs": [],
   "source": [
    "X_train, X_test, y_train, y_test = train_test_split(project_data_x,project_data_y , test_size=0.30, random_state=42)"
   ]
  },
  {
   "cell_type": "code",
   "execution_count": 0,
   "metadata": {
    "colab": {},
    "colab_type": "code",
    "id": "kLJJUzXU21hq"
   },
   "outputs": [],
   "source": [
    "X_tr, X_cv, y_tr, y_cv = train_test_split(X_train,y_train , test_size=0.33, random_state=42)"
   ]
  },
  {
   "cell_type": "code",
   "execution_count": 62,
   "metadata": {
    "colab": {
     "base_uri": "https://localhost:8080/",
     "height": 34
    },
    "colab_type": "code",
    "id": "qYLLT2ck21ht",
    "outputId": "4b414703-1c07-4a77-cac9-5157bc936abd"
   },
   "outputs": [
    {
     "data": {
      "text/plain": [
       "(109248, 18)"
      ]
     },
     "execution_count": 62,
     "metadata": {
      "tags": []
     },
     "output_type": "execute_result"
    }
   ],
   "source": [
    "project_data_x.shape"
   ]
  },
  {
   "cell_type": "markdown",
   "metadata": {
    "colab_type": "text",
    "id": "sNSQ08QH21hu"
   },
   "source": [
    "<h1>Model 2</h1>"
   ]
  },
  {
   "cell_type": "code",
   "execution_count": 0,
   "metadata": {
    "colab": {},
    "colab_type": "code",
    "id": "tNDst55a21hu"
   },
   "outputs": [],
   "source": [
    "#from keras.models import Sequential\n",
    "#model = Sequential()"
   ]
  },
  {
   "cell_type": "code",
   "execution_count": 0,
   "metadata": {
    "colab": {},
    "colab_type": "code",
    "id": "-ZtL-tte21hw"
   },
   "outputs": [],
   "source": [
    "#Loading in the glove vectors\n",
    "pickle_in = open(\"glove_vectors\",\"rb\")\n",
    "glove_words = pickle.load(pickle_in)"
   ]
  },
  {
   "cell_type": "code",
   "execution_count": 0,
   "metadata": {
    "colab": {},
    "colab_type": "code",
    "id": "xqq2yz9w21hy"
   },
   "outputs": [],
   "source": [
    "MAX_SEQUENCE_LENGTH = 800\n",
    "MAX_VOCAB_SIZE = 1000000\n",
    "EMBEDDING_DIM = 300"
   ]
  },
  {
   "cell_type": "code",
   "execution_count": 0,
   "metadata": {
    "colab": {},
    "colab_type": "code",
    "id": "fGaLdZki6weS"
   },
   "outputs": [],
   "source": [
    "from keras.layers import Input, Embedding, LSTM, Dropout, BatchNormalization, Dense, concatenate, Flatten, Conv1D, MaxPool1D, LeakyReLU, ELU, SpatialDropout1D, MaxPooling1D, GlobalAveragePooling1D, GlobalMaxPooling1D\n",
    "from keras.preprocessing.text import Tokenizer, one_hot\n",
    "from keras.preprocessing.sequence import pad_sequences\n",
    "from keras.models import Model, load_model\n",
    "from keras import regularizers\n",
    "from keras.optimizers import *\n",
    "from keras.callbacks import ModelCheckpoint, EarlyStopping, TensorBoard, ReduceLROnPlateau"
   ]
  },
  {
   "cell_type": "code",
   "execution_count": 71,
   "metadata": {
    "colab": {
     "base_uri": "https://localhost:8080/",
     "height": 119
    },
    "colab_type": "code",
    "id": "m_IEb--395kE",
    "outputId": "21ceb053-2e7c-4433-8db1-5bc3823faa55"
   },
   "outputs": [
    {
     "data": {
      "text/plain": [
       "53407    teaching fantastic profession enjoy immensely ...\n",
       "43623    kids hardworking diligent bright eyed curious ...\n",
       "78035    remember like school remember supplies require...\n",
       "33209    teacher low income high poverty school distric...\n",
       "68081    kindergarten classroom key word always pushing...\n",
       "Name: clean_text, dtype: object"
      ]
     },
     "execution_count": 71,
     "metadata": {
      "tags": []
     },
     "output_type": "execute_result"
    }
   ],
   "source": [
    "X_train[\"clean_text\"].head(5)"
   ]
  },
  {
   "cell_type": "code",
   "execution_count": 0,
   "metadata": {
    "colab": {},
    "colab_type": "code",
    "id": "AWav5rNL21hz"
   },
   "outputs": [],
   "source": [
    "# convert the sentences (strings) into integers\n",
    "tokenizer = Tokenizer(num_words=MAX_VOCAB_SIZE)\n",
    "tokenizer.fit_on_texts(X_tr['clean_text'])\n",
    "sequences_tr = tokenizer.texts_to_sequences(X_tr[\"clean_text\"])\n",
    "sequences_cv = tokenizer.texts_to_sequences(X_cv[\"clean_text\"])\n",
    "sequences_test = tokenizer.texts_to_sequences(X_test[\"clean_text\"])"
   ]
  },
  {
   "cell_type": "code",
   "execution_count": 73,
   "metadata": {
    "colab": {
     "base_uri": "https://localhost:8080/",
     "height": 34
    },
    "colab_type": "code",
    "id": "Hd7oPelG21h1",
    "outputId": "cf82c97b-054e-4f76-b629-3251b37b0642"
   },
   "outputs": [
    {
     "name": "stdout",
     "output_type": "stream",
     "text": [
      "Found 48788 unique tokens\n"
     ]
    }
   ],
   "source": [
    "word2idx=tokenizer.word_index\n",
    "print(\"Found\",len(word2idx),\"unique tokens\")"
   ]
  },
  {
   "cell_type": "code",
   "execution_count": 74,
   "metadata": {
    "colab": {
     "base_uri": "https://localhost:8080/",
     "height": 34
    },
    "colab_type": "code",
    "id": "DZ4cN6LXpNXQ",
    "outputId": "eeca351c-6331-484e-b0a4-632f66022e60"
   },
   "outputs": [
    {
     "data": {
      "text/plain": [
       "160"
      ]
     },
     "execution_count": 74,
     "metadata": {
      "tags": []
     },
     "output_type": "execute_result"
    }
   ],
   "source": [
    "len(sequences_tr[1])"
   ]
  },
  {
   "cell_type": "code",
   "execution_count": 75,
   "metadata": {
    "colab": {
     "base_uri": "https://localhost:8080/",
     "height": 34
    },
    "colab_type": "code",
    "id": "CGuPQR-Z21h0",
    "outputId": "193fbb89-d575-4dbf-bf68-4a80f79f9dd6"
   },
   "outputs": [
    {
     "data": {
      "text/plain": [
       "132"
      ]
     },
     "execution_count": 75,
     "metadata": {
      "tags": []
     },
     "output_type": "execute_result"
    }
   ],
   "source": [
    "len(sequences_tr[700])"
   ]
  },
  {
   "cell_type": "markdown",
   "metadata": {
    "colab_type": "text",
    "id": "npSw9dJ_Ccvm"
   },
   "source": [
    "<h3>Let's pad the sequences to make the length of each vector the same</h3>"
   ]
  },
  {
   "cell_type": "code",
   "execution_count": 0,
   "metadata": {
    "colab": {},
    "colab_type": "code",
    "id": "xgWlhI7raaW-"
   },
   "outputs": [],
   "source": []
  },
  {
   "cell_type": "code",
   "execution_count": 0,
   "metadata": {
    "colab": {},
    "colab_type": "code",
    "id": "fKq1SrrH21h3"
   },
   "outputs": [],
   "source": [
    "tr_en=pad_sequences(sequences_tr,maxlen=MAX_SEQUENCE_LENGTH,padding='post', truncating='post')\n",
    "cv_en=pad_sequences(sequences_cv,maxlen=MAX_SEQUENCE_LENGTH,padding='post', truncating='post')"
   ]
  },
  {
   "cell_type": "code",
   "execution_count": 77,
   "metadata": {
    "colab": {
     "base_uri": "https://localhost:8080/",
     "height": 34
    },
    "colab_type": "code",
    "id": "WmtV1AaWC6xu",
    "outputId": "915a82f6-6d3d-482f-9f8a-8173c57c274d"
   },
   "outputs": [
    {
     "data": {
      "text/plain": [
       "(76473, 800)"
      ]
     },
     "execution_count": 77,
     "metadata": {
      "tags": []
     },
     "output_type": "execute_result"
    }
   ],
   "source": [
    "train_en.shape"
   ]
  },
  {
   "cell_type": "code",
   "execution_count": 0,
   "metadata": {
    "colab": {},
    "colab_type": "code",
    "id": "L7OY3DZhDDym"
   },
   "outputs": [],
   "source": [
    "test_en=pad_sequences(sequences_test,maxlen=MAX_SEQUENCE_LENGTH,padding='post', truncating='post')"
   ]
  },
  {
   "cell_type": "code",
   "execution_count": 79,
   "metadata": {
    "colab": {
     "base_uri": "https://localhost:8080/",
     "height": 34
    },
    "colab_type": "code",
    "id": "h6YpOVkfDN0v",
    "outputId": "ddde0330-d55f-4a11-d852-215d9a6e814e"
   },
   "outputs": [
    {
     "data": {
      "text/plain": [
       "(32775, 800)"
      ]
     },
     "execution_count": 79,
     "metadata": {
      "tags": []
     },
     "output_type": "execute_result"
    }
   ],
   "source": [
    "test_en.shape"
   ]
  },
  {
   "cell_type": "code",
   "execution_count": 0,
   "metadata": {
    "colab": {},
    "colab_type": "code",
    "id": "RdY54MFdDPrO"
   },
   "outputs": [],
   "source": [
    "words_n=min(MAX_VOCAB_SIZE, len(word2idx) + 1)\n",
    "matrix_en=np.zeros((words_n,300))"
   ]
  },
  {
   "cell_type": "code",
   "execution_count": 0,
   "metadata": {
    "colab": {},
    "colab_type": "code",
    "id": "ikR2E8XeD5Wm"
   },
   "outputs": [],
   "source": [
    "for w,i in word2idx.items():\n",
    "  if i< MAX_VOCAB_SIZE:\n",
    "    vector_e=glove_words.get(w)\n",
    "    if vector_e is not None:\n",
    "          matrix_en[i]=vector_e"
   ]
  },
  {
   "cell_type": "code",
   "execution_count": 82,
   "metadata": {
    "colab": {
     "base_uri": "https://localhost:8080/",
     "height": 34
    },
    "colab_type": "code",
    "id": "q0wRo-ooF7Q1",
    "outputId": "5503af02-7c70-41ed-f5e7-fbbbb716c6d1"
   },
   "outputs": [
    {
     "name": "stdout",
     "output_type": "stream",
     "text": [
      "48789\n"
     ]
    }
   ],
   "source": [
    "print(words_n)"
   ]
  },
  {
   "cell_type": "code",
   "execution_count": 83,
   "metadata": {
    "colab": {
     "base_uri": "https://localhost:8080/",
     "height": 34
    },
    "colab_type": "code",
    "id": "afLM6DrwH6xd",
    "outputId": "f25a94ca-7748-41f9-c121-fcec80fca110"
   },
   "outputs": [
    {
     "name": "stdout",
     "output_type": "stream",
     "text": [
      "(48789, 300)\n"
     ]
    }
   ],
   "source": [
    "print(matrix_en.shape)"
   ]
  },
  {
   "cell_type": "code",
   "execution_count": 84,
   "metadata": {
    "colab": {
     "base_uri": "https://localhost:8080/",
     "height": 258
    },
    "colab_type": "code",
    "id": "p7ynaCYxIHeV",
    "outputId": "254376ad-c21f-457c-d5c5-e6a8086a424a"
   },
   "outputs": [
    {
     "name": "stdout",
     "output_type": "stream",
     "text": [
      "WARNING:tensorflow:From /usr/local/lib/python3.6/dist-packages/keras/backend/tensorflow_backend.py:66: The name tf.get_default_graph is deprecated. Please use tf.compat.v1.get_default_graph instead.\n",
      "\n",
      "WARNING:tensorflow:From /usr/local/lib/python3.6/dist-packages/keras/backend/tensorflow_backend.py:541: The name tf.placeholder is deprecated. Please use tf.compat.v1.placeholder instead.\n",
      "\n",
      "WARNING:tensorflow:From /usr/local/lib/python3.6/dist-packages/keras/backend/tensorflow_backend.py:4432: The name tf.random_uniform is deprecated. Please use tf.random.uniform instead.\n",
      "\n",
      "WARNING:tensorflow:From /usr/local/lib/python3.6/dist-packages/keras/backend/tensorflow_backend.py:190: The name tf.get_default_session is deprecated. Please use tf.compat.v1.get_default_session instead.\n",
      "\n",
      "WARNING:tensorflow:From /usr/local/lib/python3.6/dist-packages/keras/backend/tensorflow_backend.py:197: The name tf.ConfigProto is deprecated. Please use tf.compat.v1.ConfigProto instead.\n",
      "\n",
      "WARNING:tensorflow:From /usr/local/lib/python3.6/dist-packages/keras/backend/tensorflow_backend.py:3733: calling dropout (from tensorflow.python.ops.nn_ops) with keep_prob is deprecated and will be removed in a future version.\n",
      "Instructions for updating:\n",
      "Please use `rate` instead of `keep_prob`. Rate should be set to `rate = 1 - keep_prob`.\n"
     ]
    }
   ],
   "source": [
    "embed_layer=Embedding(words_n,300,weights=[matrix_en],input_length=MAX_SEQUENCE_LENGTH,trainable=False)\n",
    "input_text=Input(shape=(MAX_SEQUENCE_LENGTH,),name=\"clean_text\")\n",
    "x=embed_layer(input_text)\n",
    "x=LSTM(128,recurrent_dropout=0.5,kernel_regularizer=regularizers.l2(0.001),return_sequences=True)(x)\n",
    "flatten_1=Flatten()(x)"
   ]
  },
  {
   "cell_type": "code",
   "execution_count": 85,
   "metadata": {
    "colab": {
     "base_uri": "https://localhost:8080/",
     "height": 51
    },
    "colab_type": "code",
    "id": "Z6ZfDxyiLah5",
    "outputId": "78ddeaff-1fc0-4de9-9232-cd23302e0c7a"
   },
   "outputs": [
    {
     "name": "stdout",
     "output_type": "stream",
     "text": [
      "5\n",
      "3\n"
     ]
    }
   ],
   "source": [
    "unique_1=X_train[\"teacher_prefix\"].nunique()\n",
    "print(unique_1)\n",
    "embed_1=int(min(np.ceil((unique_1)/2),50))\n",
    "print(embed_1)"
   ]
  },
  {
   "cell_type": "code",
   "execution_count": 0,
   "metadata": {
    "colab": {},
    "colab_type": "code",
    "id": "e6xj487JJ8c9"
   },
   "outputs": [],
   "source": [
    "teacher_prefix=Input(shape=(1,),name='teacher_prefix')\n",
    "embed_teacher=Embedding(unique_1,embed_1,name=\"embed_teacher\",trainable=True)(teacher_prefix)\n",
    "flatten_2=Flatten()(embed_teacher)"
   ]
  },
  {
   "cell_type": "code",
   "execution_count": 87,
   "metadata": {
    "colab": {
     "base_uri": "https://localhost:8080/",
     "height": 51
    },
    "colab_type": "code",
    "id": "OY1b7NWXNQdS",
    "outputId": "cbc3b55f-f4c9-4ea5-9e73-a4eed5f41d3a"
   },
   "outputs": [
    {
     "name": "stdout",
     "output_type": "stream",
     "text": [
      "51\n",
      "26\n"
     ]
    }
   ],
   "source": [
    "unique_2=X_train[\"school_state\"].nunique()\n",
    "print(unique_2)\n",
    "embed_2=int(min(np.ceil((unique_2)/2),50))\n",
    "print(embed_2)"
   ]
  },
  {
   "cell_type": "code",
   "execution_count": 0,
   "metadata": {
    "colab": {},
    "colab_type": "code",
    "id": "u8PHNvNUNoH8"
   },
   "outputs": [],
   "source": [
    "school_state=Input(shape=(1,),name='school_state')\n",
    "embed_state=Embedding(unique_2,embed_2,name=\"embed_state\",trainable=True)(school_state)\n",
    "flatten_3=Flatten()(embed_state)"
   ]
  },
  {
   "cell_type": "code",
   "execution_count": 89,
   "metadata": {
    "colab": {
     "base_uri": "https://localhost:8080/",
     "height": 51
    },
    "colab_type": "code",
    "id": "mjjfPV6HOFAk",
    "outputId": "4c9b6b75-ed48-4fa6-af84-052a912231dd"
   },
   "outputs": [
    {
     "name": "stdout",
     "output_type": "stream",
     "text": [
      "4\n",
      "2\n"
     ]
    }
   ],
   "source": [
    "unique_3=X_train[\"project_grade_category\"].nunique()\n",
    "print(unique_3)\n",
    "embed_3=int(min(np.ceil((unique_3)/2),50))\n",
    "print(embed_3)"
   ]
  },
  {
   "cell_type": "code",
   "execution_count": 0,
   "metadata": {
    "colab": {},
    "colab_type": "code",
    "id": "21TpJ_N8OST8"
   },
   "outputs": [],
   "source": [
    "project_grad=Input(shape=(1,),name='project_grad')\n",
    "embed_project_grad=Embedding(unique_3,embed_3,name=\"embed_project_grad\",trainable=True)(project_grad)\n",
    "flatten_4=Flatten()(embed_project_grad)"
   ]
  },
  {
   "cell_type": "code",
   "execution_count": 91,
   "metadata": {
    "colab": {
     "base_uri": "https://localhost:8080/",
     "height": 51
    },
    "colab_type": "code",
    "id": "e8jbHCmdPTw1",
    "outputId": "c2a2662c-531b-41b2-cb08-49330bf679c4"
   },
   "outputs": [
    {
     "name": "stdout",
     "output_type": "stream",
     "text": [
      "51\n",
      "26\n"
     ]
    }
   ],
   "source": [
    "unique_4=X_train[\"project_subject_categories\"].nunique()\n",
    "print(unique_4)\n",
    "embed_4=int(min(np.ceil((unique_4)/2),50))\n",
    "print(embed_4)"
   ]
  },
  {
   "cell_type": "code",
   "execution_count": 0,
   "metadata": {
    "colab": {},
    "colab_type": "code",
    "id": "lposR47uPmNz"
   },
   "outputs": [],
   "source": [
    "subject_category=Input(shape=(1,),name='subject_category')\n",
    "embed_subject_category=Embedding(unique_4,embed_4,name=\"embed_subject_cat\",trainable=True)(subject_category)\n",
    "flatten_5=Flatten()(embed_subject_category)"
   ]
  },
  {
   "cell_type": "code",
   "execution_count": 93,
   "metadata": {
    "colab": {
     "base_uri": "https://localhost:8080/",
     "height": 51
    },
    "colab_type": "code",
    "id": "Ar09Bc0BQHRj",
    "outputId": "16598791-2a06-430c-bc24-95710767e02f"
   },
   "outputs": [
    {
     "name": "stdout",
     "output_type": "stream",
     "text": [
      "390\n",
      "50\n"
     ]
    }
   ],
   "source": [
    "unique_5=X_train[\"project_subject_subcategories\"].nunique()\n",
    "print(unique_5)\n",
    "embed_5=int(min(np.ceil((unique_5)/2),50))\n",
    "print(embed_5)"
   ]
  },
  {
   "cell_type": "code",
   "execution_count": 0,
   "metadata": {
    "colab": {},
    "colab_type": "code",
    "id": "RCDumxujQV67"
   },
   "outputs": [],
   "source": [
    "subject_subcategory=Input(shape=(1,),name='subject_subcategory')\n",
    "embed_subject_subcategory=Embedding((unique_5+1),embed_5,name=\"embed_subject_subcat\",trainable=True)(subject_subcategory)\n",
    "flatten_6=Flatten()(embed_subject_subcategory)"
   ]
  },
  {
   "cell_type": "markdown",
   "metadata": {
    "colab_type": "text",
    "id": "vBC05rMBRXkw"
   },
   "source": [
    "Let's do label encoding of features"
   ]
  },
  {
   "cell_type": "code",
   "execution_count": 0,
   "metadata": {
    "colab": {},
    "colab_type": "code",
    "id": "x-_C-Ua5Rbrp"
   },
   "outputs": [],
   "source": [
    "from sklearn.preprocessing import LabelEncoder\n",
    "le=LabelEncoder()\n",
    "encoded_teacher_tr=le.fit_transform(X_tr[\"teacher_prefix\"])\n",
    "encoded_teacher_cv=le.fit_transform(X_cv[\"teacher_prefix\"])\n",
    "encoded_teacher_test=le.transform(X_test[\"teacher_prefix\"])"
   ]
  },
  {
   "cell_type": "code",
   "execution_count": 0,
   "metadata": {
    "colab": {},
    "colab_type": "code",
    "id": "tojXeWNRRp1s"
   },
   "outputs": [],
   "source": [
    "le=LabelEncoder()\n",
    "encoded_school_tr=le.fit_transform(X_tr[\"school_state\"])\n",
    "encoded_school_cv=le.fit_transform(X_cv[\"school_state\"])\n",
    "encoded_school_test=le.transform(X_test[\"school_state\"])"
   ]
  },
  {
   "cell_type": "code",
   "execution_count": 0,
   "metadata": {
    "colab": {},
    "colab_type": "code",
    "id": "gCNYLxCnSk1r"
   },
   "outputs": [],
   "source": [
    "le=LabelEncoder()\n",
    "encoded_grade_tr=le.fit_transform(X_tr[\"project_grade_category\"])\n",
    "encoded_grade_cv=le.fit_transform(X_cv[\"project_grade_category\"])\n",
    "encoded_grade_test=le.transform(X_test[\"project_grade_category\"])"
   ]
  },
  {
   "cell_type": "markdown",
   "metadata": {
    "colab_type": "text",
    "id": "yr9QJ97ATzoQ"
   },
   "source": [
    "t looks like some categories in test data are not in train data"
   ]
  },
  {
   "cell_type": "code",
   "execution_count": 0,
   "metadata": {
    "colab": {},
    "colab_type": "code",
    "id": "HD9pQuzIThET"
   },
   "outputs": [],
   "source": [
    "le=LabelEncoder()\n",
    "le.fit(X_tr[\"project_subject_categories\"])\n",
    "X_test[\"project_subject_categories\"]=X_test[\"project_subject_categories\"].map(lambda s: '<unknown>' if s not in le.classes_ else s)\n",
    "le.classes_=np.append(le.classes_,'<unknown>')\n",
    "encoded_category_tr=le.transform(X_tr[\"project_subject_categories\"])\n",
    "encoded_category_cv=le.transform(X_cv[\"project_subject_categories\"])\n",
    "encoded_category_test=le.transform(X_test[\"project_subject_categories\"])"
   ]
  },
  {
   "cell_type": "code",
   "execution_count": 0,
   "metadata": {
    "colab": {},
    "colab_type": "code",
    "id": "CFJ6avDCVBUL"
   },
   "outputs": [],
   "source": [
    "le=LabelEncoder()\n",
    "le.fit(X_train[\"project_subject_subcategories\"])\n",
    "X_test[\"project_subject_subcategories\"]=X_test[\"project_subject_subcategories\"].map(lambda s: '<unknown>' if s not in le.classes_ else s)\n",
    "le.classes_=np.append(le.classes_,'<unknown>')\n",
    "encoded_subcategory_tr=le.transform(X_train[\"project_subject_subcategories\"])\n",
    "encoded_subcategory_cv=le.transform(X_cv[\"project_subject_subcategories\"])\n",
    "encoded_subcategory_test=le.transform(X_test[\"project_subject_subcategories\"])"
   ]
  },
  {
   "cell_type": "code",
   "execution_count": 0,
   "metadata": {
    "colab": {},
    "colab_type": "code",
    "id": "rFRpakC3VNRa"
   },
   "outputs": [],
   "source": [
    "tr_data_1=X_tr['numerical'].values.reshape(-1, 1)\n",
    "tr_data_2=X_tr['price'].values.reshape(-1, 1)\n",
    "tr_data_3=X_tr['quantity'].values.reshape(-1, 1)\n",
    "tr_data_4=X_tr['teacher_number_of_previously_posted_projects'].values.reshape(-1, 1)\n",
    "\n",
    "cv_data_1=X_cv['numerical'].values.reshape(-1, 1)\n",
    "cv_data_2=X_cv['price'].values.reshape(-1, 1)\n",
    "cv_data_3=X_cv['quantity'].values.reshape(-1, 1)\n",
    "cv_data_4=X_cv['teacher_number_of_previously_posted_projects'].values.reshape(-1, 1)\n",
    "\n",
    "test_data_1=X_test['numerical'].values.reshape(-1, 1)\n",
    "test_data_2=X_test['price'].values.reshape(-1, 1)\n",
    "test_data_3=X_test['quantity'].values.reshape(-1, 1)\n",
    "test_data_4=X_test['teacher_number_of_previously_posted_projects'].values.reshape(-1, 1)\n",
    "\n",
    "\n",
    "concatenate_tr=np.concatenate((tr_data_1,tr_data_2,tr_data_3,tr_data_4),axis=1)\n",
    "concatenate_cv=np.concatenate((cv_data_1,cv_data_2,cv_data_3,cv_data_4),axis=1)\n",
    "concatenate_test=np.concatenate((test_data_1,test_data_2,test_data_3,test_data_4),axis=1)"
   ]
  },
  {
   "cell_type": "code",
   "execution_count": 0,
   "metadata": {
    "colab": {},
    "colab_type": "code",
    "id": "LApfYIEdYaLJ"
   },
   "outputs": [],
   "source": [
    "from sklearn.preprocessing import StandardScaler\n",
    "normalize=StandardScaler()\n",
    "normalize_tr=normalize.fit_transform(concatenate_tr)\n",
    "normalize_cv=normalize.transform(concatenate_cv)\n",
    "normalize_test=normalize.transform(concatenate_test)"
   ]
  },
  {
   "cell_type": "code",
   "execution_count": 0,
   "metadata": {
    "colab": {},
    "colab_type": "code",
    "id": "tqrAkJheaZkp"
   },
   "outputs": [],
   "source": [
    "numerical_features=Input(shape=(4,),name=\"numerical_features\")\n",
    "dense_layer= Dense(100,activation=\"relu\",kernel_initializer=\"he_normal\",kernel_regularizer=regularizers.l2(0.001))(numerical_features)"
   ]
  },
  {
   "cell_type": "code",
   "execution_count": 0,
   "metadata": {
    "colab": {},
    "colab_type": "code",
    "id": "3fGPKfRXbBKx"
   },
   "outputs": [],
   "source": [
    "conctenation=concatenate([flatten_1,flatten_2,flatten_3,flatten_4,flatten_5,flatten_6,dense_layer])\n",
    "x = Dense(128,activation=\"relu\", kernel_initializer=\"he_normal\",kernel_regularizer=regularizers.l2(0.001))(conctenation)\n",
    "# x=LeakyReLU(alpha=0.3)(x)\n",
    "x=Dropout(0.5)(x)\n",
    "x = Dense(256,activation=\"relu\",kernel_initializer=\"he_normal\",kernel_regularizer=regularizers.l2(0.001))(x)\n",
    "# x=LeakyReLU(alpha=0.3)(x)\n",
    "x=Dropout(0.5)(x)\n",
    "x = Dense(64,activation=\"relu\", kernel_initializer=\"he_normal\",kernel_regularizer=regularizers.l2(0.001))(x)\n",
    "#x = BatchNormalization()(x)\n",
    "# x=LeakyReLU(alpha=0.3)(x)\n",
    "output = Dense(2, activation='softmax', name='output')(x)\n",
    "first_model=Model(inputs=[input_text,teacher_prefix,school_state,project_grad,subject_category,subject_subcategory,numerical_features],outputs=[output])"
   ]
  },
  {
   "cell_type": "code",
   "execution_count": 104,
   "metadata": {
    "colab": {
     "base_uri": "https://localhost:8080/",
     "height": 682
    },
    "colab_type": "code",
    "id": "8LmjmotWcwXB",
    "outputId": "b1a5026c-c3ac-469b-f2f3-937cc7a811cb"
   },
   "outputs": [
    {
     "data": {
      "image/png": "[encoded data removed]",
      "text/plain": [
       "<IPython.core.display.Image object>"
      ]
     },
     "execution_count": 104,
     "metadata": {
      "image/png": {
       "height": 645,
       "width": 1659
      },
      "tags": []
     },
     "output_type": "execute_result"
    }
   ],
   "source": [
    "# Reference: https://github.com/mmortazavi/EntityEmbedding-Working_Example/blob/master/EntityEmbedding.ipynb\n",
    "from keras.utils import plot_model\n",
    "import pydot_ng as pydot\n",
    "plot_model(first_model, show_shapes=True, show_layer_names=True, to_file='model_1.png')\n",
    "from IPython.display import Image\n",
    "Image(retina=True, filename='model_1.png')"
   ]
  },
  {
   "cell_type": "code",
   "execution_count": 0,
   "metadata": {
    "colab": {},
    "colab_type": "code",
    "id": "uRbakApx9FGe"
   },
   "outputs": [],
   "source": []
  },
  {
   "cell_type": "code",
   "execution_count": 0,
   "metadata": {
    "colab": {
     "base_uri": "https://localhost:8080/",
     "height": 34
    },
    "colab_type": "code",
    "id": "OA_B4g40y916",
    "outputId": "0014f7a1-907c-4eae-821b-1dc988ece966"
   },
   "outputs": [
    {
     "data": {
      "text/plain": [
       "(76473,)"
      ]
     },
     "execution_count": 96,
     "metadata": {
      "tags": []
     },
     "output_type": "execute_result"
    }
   ],
   "source": [
    "encoded_teacher_train.shape"
   ]
  },
  {
   "cell_type": "code",
   "execution_count": 0,
   "metadata": {
    "colab": {
     "base_uri": "https://localhost:8080/",
     "height": 34
    },
    "colab_type": "code",
    "id": "F0afikMizNxc",
    "outputId": "63c98f15-b5e9-46a1-f176-d0d1959839f8"
   },
   "outputs": [
    {
     "data": {
      "text/plain": [
       "array([3, 3, 3, 3, 3, 3, 2, 2, 3, 2])"
      ]
     },
     "execution_count": 97,
     "metadata": {
      "tags": []
     },
     "output_type": "execute_result"
    }
   ],
   "source": [
    "encoded_teacher_train[:10]"
   ]
  },
  {
   "cell_type": "code",
   "execution_count": 0,
   "metadata": {
    "colab": {
     "base_uri": "https://localhost:8080/",
     "height": 34
    },
    "colab_type": "code",
    "id": "2WVobSuGz1Yx",
    "outputId": "9bf1c54c-de14-4b24-a5c3-28eaf92b510d"
   },
   "outputs": [
    {
     "data": {
      "text/plain": [
       "(76473,)"
      ]
     },
     "execution_count": 98,
     "metadata": {
      "tags": []
     },
     "output_type": "execute_result"
    }
   ],
   "source": [
    "encoded_school_train.shape"
   ]
  },
  {
   "cell_type": "code",
   "execution_count": 0,
   "metadata": {
    "colab": {
     "base_uri": "https://localhost:8080/",
     "height": 136
    },
    "colab_type": "code",
    "id": "xhOjd4a3z-2A",
    "outputId": "472e3bc8-6b0f-4866-b097-415ecce06fa4"
   },
   "outputs": [
    {
     "name": "stdout",
     "output_type": "stream",
     "text": [
      "(76473, 800)\n",
      "(76473,)\n",
      "(76473,)\n",
      "(76473,)\n",
      "(76473,)\n",
      "(76473,)\n",
      "(76473, 4)\n"
     ]
    }
   ],
   "source": [
    "for i in [tr_en,encoded_teacher_tr,encoded_school_tr,encoded_grade_tr,encoded_category_tr,encoded_subcategory_tr,concatenate_tr]:\n",
    "  \n",
    "  print(i.shape)"
   ]
  },
  {
   "cell_type": "code",
   "execution_count": 0,
   "metadata": {
    "colab": {
     "base_uri": "https://localhost:8080/",
     "height": 34
    },
    "colab_type": "code",
    "id": "EHhdxGgbqWw2",
    "outputId": "c939b0f5-5330-462d-c6de-20117ac0a56f"
   },
   "outputs": [
    {
     "data": {
      "text/plain": [
       "27"
      ]
     },
     "execution_count": 100,
     "metadata": {
      "tags": []
     },
     "output_type": "execute_result"
    }
   ],
   "source": [
    "encoded_school_tr[1]"
   ]
  },
  {
   "cell_type": "code",
   "execution_count": 0,
   "metadata": {
    "colab": {
     "base_uri": "https://localhost:8080/",
     "height": 34
    },
    "colab_type": "code",
    "id": "4mBkt7uRrjMV",
    "outputId": "cdab7d17-17a2-47e4-fc63-1cd7719b7d93"
   },
   "outputs": [
    {
     "name": "stdout",
     "output_type": "stream",
     "text": [
      "[-0.25655194 -0.37065125 -0.50017116 -0.36645109 27.        ]\n"
     ]
    }
   ],
   "source": [
    "print(np.column_stack((normalize_train,encoded_school_train))[1])"
   ]
  },
  {
   "cell_type": "code",
   "execution_count": 0,
   "metadata": {
    "colab": {},
    "colab_type": "code",
    "id": "r6le_0qNtXjr"
   },
   "outputs": [],
   "source": [
    "tr_data=[tr_en,encoded_teacher_tr,encoded_school_tr,encoded_grade_tr,encoded_category_tr,encoded_subcategory_tr,normalize_tr]\n",
    "cv_data=[cv_en,encoded_teacher_cv,encoded_school_cv,encoded_grade_cv,encoded_category_cv,encoded_subcategory_cv,normalize_cv]\n",
    "test_data=[test_en,encoded_teacher_test,encoded_school_test,encoded_grade_test,encoded_category_test,encoded_subcategory_test,normalize_test]"
   ]
  },
  {
   "cell_type": "code",
   "execution_count": 0,
   "metadata": {
    "colab": {
     "base_uri": "https://localhost:8080/",
     "height": 34
    },
    "colab_type": "code",
    "id": "ZRkL0PGjympp",
    "outputId": "21770c31-35f7-4c26-9d6b-989ea2b84110"
   },
   "outputs": [
    {
     "data": {
      "text/plain": [
       "76473"
      ]
     },
     "execution_count": 103,
     "metadata": {
      "tags": []
     },
     "output_type": "execute_result"
    }
   ],
   "source": [
    "len(tr_data[0])"
   ]
  },
  {
   "cell_type": "code",
   "execution_count": 0,
   "metadata": {
    "colab": {},
    "colab_type": "code",
    "id": "fHQNN85swAHu"
   },
   "outputs": [],
   "source": [
    "from keras.utils import np_utils\n",
    "y_en_tr=np_utils.to_categorical(y_tr,2)\n",
    "y_en_cv=np_utils.to_categorical(y_cv,2)\n",
    "y_en_test=np_utils.to_categorical(y_test,2)"
   ]
  },
  {
   "cell_type": "code",
   "execution_count": 0,
   "metadata": {
    "colab": {
     "base_uri": "https://localhost:8080/",
     "height": 34
    },
    "colab_type": "code",
    "id": "WmNfOUMdx-0d",
    "outputId": "f3c3ca4b-dde6-446f-ea4d-814cf10befdd"
   },
   "outputs": [
    {
     "data": {
      "text/plain": [
       "array([0., 1.], dtype=float32)"
      ]
     },
     "execution_count": 105,
     "metadata": {
      "tags": []
     },
     "output_type": "execute_result"
    }
   ],
   "source": [
    "np.unique(y_en_test[:][0])"
   ]
  },
  {
   "cell_type": "code",
   "execution_count": 0,
   "metadata": {
    "colab": {},
    "colab_type": "code",
    "id": "W7iTXCVGwZYc"
   },
   "outputs": [],
   "source": [
    "checkpoint_1 = ModelCheckpoint(\"model_1.h5\",\n",
    "                             monitor=\"val_loss\",\n",
    "                             mode=\"min\",\n",
    "                             save_best_only = True,\n",
    "                             verbose=1)\n",
    "\n",
    "earlystop_1 = EarlyStopping(monitor = 'val_loss', \n",
    "                            mode=\"min\",\n",
    "                            min_delta = 0, \n",
    "                            patience = 2,\n",
    "                            verbose = 1,\n",
    "                            restore_best_weights = True)\n",
    "\n",
    "reduce_lr_1 = ReduceLROnPlateau(monitor = 'val_loss', factor = 0.2, patience = 1, verbose = 1, min_delta = 0.0001)\n",
    "\n",
    "tensorboard_1 = TensorBoard(log_dir='graph_1', histogram_freq=0, batch_size=512, write_graph=True, write_grads=False, write_images=False, embeddings_freq=0, embeddings_layer_names=None, embeddings_metadata=None, embeddings_data=None, update_freq='epoch')\n",
    "\n",
    "callbacks_1 = [checkpoint_1,earlystop_1,tensorboard_1,reduce_lr_1]"
   ]
  },
  {
   "cell_type": "code",
   "execution_count": 0,
   "metadata": {
    "colab": {},
    "colab_type": "code",
    "id": "e8PnGVFowrRx"
   },
   "outputs": [],
   "source": [
    "adam = Adam(lr=0.001, beta_1=0.9, beta_2=0.999, epsilon=None, decay=0.0, amsgrad=False)"
   ]
  },
  {
   "cell_type": "code",
   "execution_count": 0,
   "metadata": {
    "colab": {},
    "colab_type": "code",
    "id": "LUBlqj9wxNIv"
   },
   "outputs": [],
   "source": [
    "from sklearn.metrics import roc_auc_score\n",
    "\n",
    "def auc1(y_true, y_pred):\n",
    "    if len(np.unique(y_true[:,1])) == 1:\n",
    "        return 0.5\n",
    "    else:\n",
    "        return roc_auc_score(y_true, y_pred)\n",
    "\n",
    "def auroc(y_true, y_pred):\n",
    "    return tf.py_func(auc1, (y_true, y_pred), tf.double)"
   ]
  },
  {
   "cell_type": "code",
   "execution_count": 0,
   "metadata": {
    "colab": {
     "base_uri": "https://localhost:8080/",
     "height": 170
    },
    "colab_type": "code",
    "id": "exNQRe9kw_63",
    "outputId": "69b9a1bb-62f1-46f9-8017-573979f41f14"
   },
   "outputs": [
    {
     "name": "stdout",
     "output_type": "stream",
     "text": [
      "WARNING:tensorflow:From <ipython-input-108-a7e6cba44e56>:10: py_func (from tensorflow.python.ops.script_ops) is deprecated and will be removed in a future version.\n",
      "Instructions for updating:\n",
      "tf.py_func is deprecated in TF V2. Instead, use\n",
      "    tf.py_function, which takes a python function which manipulates tf eager\n",
      "    tensors instead of numpy arrays. It's easy to convert a tf eager tensor to\n",
      "    an ndarray (just call tensor.numpy()) but having access to eager tensors\n",
      "    means `tf.py_function`s can use accelerators such as GPUs as well as\n",
      "    being differentiable using a gradient tape.\n",
      "    \n"
     ]
    }
   ],
   "source": [
    "first_model.compile(optimizer=adam, loss='categorical_crossentropy', metrics=[auroc])"
   ]
  },
  {
   "cell_type": "code",
   "execution_count": 0,
   "metadata": {
    "colab": {
     "base_uri": "https://localhost:8080/",
     "height": 34
    },
    "colab_type": "code",
    "id": "nJaCnO0u9g9i",
    "outputId": "e4f4037d-b2f7-4144-a90f-1252199d8476"
   },
   "outputs": [
    {
     "data": {
      "text/plain": [
       "numpy.ndarray"
      ]
     },
     "execution_count": 110,
     "metadata": {
      "tags": []
     },
     "output_type": "execute_result"
    }
   ],
   "source": [
    "type(y_en_tr[1])"
   ]
  },
  {
   "cell_type": "code",
   "execution_count": 0,
   "metadata": {
    "colab": {
     "base_uri": "https://localhost:8080/",
     "height": 34
    },
    "colab_type": "code",
    "id": "x0_5GGfAsfg3",
    "outputId": "4a9f7c91-9e4e-407b-94f2-c743003b875b"
   },
   "outputs": [
    {
     "data": {
      "text/plain": [
       "numpy.ndarray"
      ]
     },
     "execution_count": 111,
     "metadata": {
      "tags": []
     },
     "output_type": "execute_result"
    }
   ],
   "source": [
    "type(y_en_tr)"
   ]
  },
  {
   "cell_type": "code",
   "execution_count": 0,
   "metadata": {
    "colab": {
     "base_uri": "https://localhost:8080/",
     "height": 181
    },
    "colab_type": "code",
    "id": "dCaVKlaPxCl_",
    "outputId": "24df5f38-b25a-493c-c1af-fc7cd25a0598"
   },
   "outputs": [
    {
     "name": "stdout",
     "output_type": "stream",
     "text": [
      "WARNING:tensorflow:From C:\\Users\\CVML\\Anaconda3\\lib\\site-packages\\tensorflow\\python\\ops\\math_ops.py:3066: to_int32 (from tensorflow.python.ops.math_ops) is deprecated and will be removed in a future version.\n",
      "Instructions for updating:\n",
      "Use tf.cast instead.\n",
      "Train on 76473 samples, validate on 32775 samples\n",
      "Epoch 1/20\n",
      "76473/76473 [==============================] - ETA: 30:24 - loss: 2.4354 - auroc: 0.53 - ETA: 29:29 - loss: 2.3749 - auroc: 0.54 - ETA: 33:29 - loss: 2.3566 - auroc: 0.52 - ETA: 34:48 - loss: 2.3303 - auroc: 0.52 - ETA: 35:47 - loss: 2.3146 - auroc: 0.51 - ETA: 36:26 - loss: 2.2928 - auroc: 0.51 - ETA: 36:56 - loss: 2.2752 - auroc: 0.50 - ETA: 37:23 - loss: 2.2611 - auroc: 0.49 - ETA: 37:47 - loss: 2.2449 - auroc: 0.49 - ETA: 38:19 - loss: 2.2254 - auroc: 0.49 - ETA: 38:49 - loss: 2.2110 - auroc: 0.49 - ETA: 39:31 - loss: 2.1958 - auroc: 0.49 - ETA: 39:59 - loss: 2.1835 - auroc: 0.49 - ETA: 40:33 - loss: 2.1715 - auroc: 0.49 - ETA: 40:58 - loss: 2.1601 - auroc: 0.49 - ETA: 41:26 - loss: 2.1492 - auroc: 0.49 - ETA: 41:56 - loss: 2.1366 - auroc: 0.50 - ETA: 42:26 - loss: 2.1265 - auroc: 0.49 - ETA: 42:50 - loss: 2.1159 - auroc: 0.49 - ETA: 43:14 - loss: 2.1054 - auroc: 0.49 - ETA: 43:31 - loss: 2.0945 - auroc: 0.50 - ETA: 43:45 - loss: 2.0843 - auroc: 0.49 - ETA: 43:58 - loss: 2.0751 - auroc: 0.49 - ETA: 44:12 - loss: 2.0644 - auroc: 0.50 - ETA: 44:27 - loss: 2.0534 - auroc: 0.50 - ETA: 44:44 - loss: 2.0448 - auroc: 0.50 - ETA: 44:53 - loss: 2.0359 - auroc: 0.50 - ETA: 45:06 - loss: 2.0259 - auroc: 0.50 - ETA: 45:16 - loss: 2.0159 - auroc: 0.50 - ETA: 45:26 - loss: 2.0072 - auroc: 0.50 - ETA: 45:33 - loss: 1.9980 - auroc: 0.50 - ETA: 45:37 - loss: 1.9893 - auroc: 0.50 - ETA: 45:36 - loss: 1.9806 - auroc: 0.50 - ETA: 45:33 - loss: 1.9712 - auroc: 0.50 - ETA: 45:30 - loss: 1.9629 - auroc: 0.50 - ETA: 45:26 - loss: 1.9543 - auroc: 0.50 - ETA: 45:22 - loss: 1.9457 - auroc: 0.50 - ETA: 45:19 - loss: 1.9373 - auroc: 0.50 - ETA: 45:13 - loss: 1.9295 - auroc: 0.50 - ETA: 45:06 - loss: 1.9216 - auroc: 0.50 - ETA: 45:00 - loss: 1.9133 - auroc: 0.50 - ETA: 44:53 - loss: 1.9054 - auroc: 0.50 - ETA: 44:46 - loss: 1.8970 - auroc: 0.50 - ETA: 44:37 - loss: 1.8886 - auroc: 0.50 - ETA: 44:28 - loss: 1.8812 - auroc: 0.50 - ETA: 44:18 - loss: 1.8735 - auroc: 0.50 - ETA: 44:08 - loss: 1.8660 - auroc: 0.50 - ETA: 43:57 - loss: 1.8581 - auroc: 0.50 - ETA: 43:47 - loss: 1.8507 - auroc: 0.50 - ETA: 43:35 - loss: 1.8428 - auroc: 0.51 - ETA: 43:22 - loss: 1.8357 - auroc: 0.51 - ETA: 43:10 - loss: 1.8282 - auroc: 0.51 - ETA: 42:58 - loss: 1.8213 - auroc: 0.51 - ETA: 42:43 - loss: 1.8139 - auroc: 0.51 - ETA: 42:29 - loss: 1.8069 - auroc: 0.51 - ETA: 42:15 - loss: 1.8002 - auroc: 0.51 - ETA: 42:00 - loss: 1.7929 - auroc: 0.51 - ETA: 41:47 - loss: 1.7861 - auroc: 0.51 - ETA: 41:32 - loss: 1.7789 - auroc: 0.51 - ETA: 41:17 - loss: 1.7721 - auroc: 0.51 - ETA: 41:02 - loss: 1.7654 - auroc: 0.51 - ETA: 40:45 - loss: 1.7584 - auroc: 0.51 - ETA: 40:27 - loss: 1.7518 - auroc: 0.51 - ETA: 40:10 - loss: 1.7450 - auroc: 0.51 - ETA: 39:53 - loss: 1.7383 - auroc: 0.51 - ETA: 39:35 - loss: 1.7318 - auroc: 0.51 - ETA: 39:16 - loss: 1.7251 - auroc: 0.51 - ETA: 38:58 - loss: 1.7190 - auroc: 0.51 - ETA: 38:38 - loss: 1.7130 - auroc: 0.51 - ETA: 38:18 - loss: 1.7068 - auroc: 0.51 - ETA: 37:58 - loss: 1.7006 - auroc: 0.51 - ETA: 37:37 - loss: 1.6943 - auroc: 0.51 - ETA: 37:16 - loss: 1.6885 - auroc: 0.51 - ETA: 36:55 - loss: 1.6827 - auroc: 0.51 - ETA: 36:33 - loss: 1.6767 - auroc: 0.51 - ETA: 36:12 - loss: 1.6711 - auroc: 0.51 - ETA: 35:50 - loss: 1.6656 - auroc: 0.51 - ETA: 35:29 - loss: 1.6602 - auroc: 0.51 - ETA: 35:08 - loss: 1.6545 - auroc: 0.51 - ETA: 34:46 - loss: 1.6487 - auroc: 0.51 - ETA: 34:24 - loss: 1.6434 - auroc: 0.51 - ETA: 34:02 - loss: 1.6376 - auroc: 0.51 - ETA: 33:40 - loss: 1.6321 - auroc: 0.51 - ETA: 33:16 - loss: 1.6271 - auroc: 0.51 - ETA: 32:53 - loss: 1.6217 - auroc: 0.51 - ETA: 32:28 - loss: 1.6162 - auroc: 0.51 - ETA: 32:04 - loss: 1.6111 - auroc: 0.51 - ETA: 31:39 - loss: 1.6060 - auroc: 0.51 - ETA: 31:14 - loss: 1.6010 - auroc: 0.51 - ETA: 30:49 - loss: 1.5959 - auroc: 0.51 - ETA: 30:23 - loss: 1.5908 - auroc: 0.51 - ETA: 29:57 - loss: 1.5858 - auroc: 0.51 - ETA: 29:31 - loss: 1.5810 - auroc: 0.51 - ETA: 29:04 - loss: 1.5760 - auroc: 0.51 - ETA: 28:38 - loss: 1.5713 - auroc: 0.51 - ETA: 28:11 - loss: 1.5666 - auroc: 0.51 - ETA: 27:44 - loss: 1.5618 - auroc: 0.51 - ETA: 27:17 - loss: 1.5572 - auroc: 0.51 - ETA: 26:49 - loss: 1.5524 - auroc: 0.51 - ETA: 26:22 - loss: 1.5478 - auroc: 0.51 - ETA: 25:53 - loss: 1.5435 - auroc: 0.51 - ETA: 25:25 - loss: 1.5391 - auroc: 0.51 - ETA: 24:57 - loss: 1.5347 - auroc: 0.52 - ETA: 24:29 - loss: 1.5301 - auroc: 0.52 - ETA: 24:00 - loss: 1.5259 - auroc: 0.52 - ETA: 23:32 - loss: 1.5215 - auroc: 0.52 - ETA: 23:03 - loss: 1.5173 - auroc: 0.52 - ETA: 22:34 - loss: 1.5131 - auroc: 0.52 - ETA: 22:04 - loss: 1.5090 - auroc: 0.52 - ETA: 21:34 - loss: 1.5049 - auroc: 0.52 - ETA: 21:05 - loss: 1.5005 - auroc: 0.52 - ETA: 20:35 - loss: 1.4963 - auroc: 0.52 - ETA: 20:04 - loss: 1.4918 - auroc: 0.52 - ETA: 19:34 - loss: 1.4879 - auroc: 0.52 - ETA: 19:03 - loss: 1.4841 - auroc: 0.52 - ETA: 18:33 - loss: 1.4802 - auroc: 0.52 - ETA: 18:02 - loss: 1.4763 - auroc: 0.52 - ETA: 17:31 - loss: 1.4725 - auroc: 0.52 - ETA: 16:59 - loss: 1.4685 - auroc: 0.52 - ETA: 16:27 - loss: 1.4649 - auroc: 0.52 - ETA: 15:56 - loss: 1.4612 - auroc: 0.52 - ETA: 15:24 - loss: 1.4576 - auroc: 0.52 - ETA: 14:52 - loss: 1.4538 - auroc: 0.52 - ETA: 14:20 - loss: 1.4500 - auroc: 0.52 - ETA: 13:48 - loss: 1.4459 - auroc: 0.52 - ETA: 13:15 - loss: 1.4425 - auroc: 0.52 - ETA: 12:42 - loss: 1.4387 - auroc: 0.52 - ETA: 12:10 - loss: 1.4355 - auroc: 0.52 - ETA: 11:37 - loss: 1.4317 - auroc: 0.52 - ETA: 11:04 - loss: 1.4284 - auroc: 0.52 - ETA: 10:31 - loss: 1.4247 - auroc: 0.52 - ETA: 9:58 - loss: 1.4212 - auroc: 0.5258 - ETA: 9:24 - loss: 1.4179 - auroc: 0.525 - ETA: 8:51 - loss: 1.4147 - auroc: 0.526 - ETA: 8:17 - loss: 1.4112 - auroc: 0.526 - ETA: 7:43 - loss: 1.4083 - auroc: 0.526 - ETA: 7:09 - loss: 1.4050 - auroc: 0.527 - ETA: 6:35 - loss: 1.4019 - auroc: 0.527 - ETA: 6:01 - loss: 1.3988 - auroc: 0.527 - ETA: 5:27 - loss: 1.3958 - auroc: 0.527 - ETA: 4:52 - loss: 1.3927 - auroc: 0.527 - ETA: 4:18 - loss: 1.3896 - auroc: 0.528 - ETA: 3:43 - loss: 1.3865 - auroc: 0.528 - ETA: 3:08 - loss: 1.3837 - auroc: 0.528 - ETA: 2:33 - loss: 1.3806 - auroc: 0.528 - ETA: 1:58 - loss: 1.3774 - auroc: 0.528 - ETA: 1:23 - loss: 1.3744 - auroc: 0.528 - ETA: 48s - loss: 1.3711 - auroc: 0.529 - ETA: 12s - loss: 1.3681 - auroc: 0.52 - 5904s 77ms/step - loss: 1.3672 - auroc: 0.5295 - val_loss: 0.9354 - val_auroc: 0.6519\n",
      "\n",
      "Epoch 00001: val_loss improved from inf to 0.93544, saving model to model_1.h5\n",
      "Epoch 2/20\n",
      "76473/76473 [==============================] - ETA: 1:51:05 - loss: 0.9094 - auroc: 0.60 - ETA: 1:49:25 - loss: 0.9248 - auroc: 0.58 - ETA: 1:48:08 - loss: 0.9155 - auroc: 0.60 - ETA: 1:47:40 - loss: 0.9174 - auroc: 0.60 - ETA: 1:46:44 - loss: 0.9139 - auroc: 0.60 - ETA: 1:46:21 - loss: 0.9184 - auroc: 0.60 - ETA: 1:46:22 - loss: 0.9182 - auroc: 0.60 - ETA: 1:45:39 - loss: 0.9145 - auroc: 0.60 - ETA: 1:45:25 - loss: 0.9108 - auroc: 0.60 - ETA: 1:44:47 - loss: 0.9059 - auroc: 0.60 - ETA: 1:44:14 - loss: 0.9019 - auroc: 0.61 - ETA: 1:43:42 - loss: 0.8975 - auroc: 0.61 - ETA: 1:42:57 - loss: 0.8999 - auroc: 0.60 - ETA: 1:42:21 - loss: 0.8974 - auroc: 0.60 - ETA: 1:41:37 - loss: 0.8952 - auroc: 0.61 - ETA: 1:40:58 - loss: 0.8945 - auroc: 0.61 - ETA: 1:40:18 - loss: 0.8920 - auroc: 0.61 - ETA: 1:39:38 - loss: 0.8901 - auroc: 0.61 - ETA: 1:38:51 - loss: 0.8878 - auroc: 0.61 - ETA: 1:38:16 - loss: 0.8884 - auroc: 0.61 - ETA: 1:37:36 - loss: 0.8868 - auroc: 0.61 - ETA: 1:37:02 - loss: 0.8871 - auroc: 0.61 - ETA: 1:36:27 - loss: 0.8862 - auroc: 0.61 - ETA: 1:35:49 - loss: 0.8858 - auroc: 0.61 - ETA: 1:35:04 - loss: 0.8842 - auroc: 0.61 - ETA: 1:34:24 - loss: 0.8823 - auroc: 0.62 - ETA: 1:33:51 - loss: 0.8811 - auroc: 0.62 - ETA: 1:33:14 - loss: 0.8799 - auroc: 0.62 - ETA: 1:32:37 - loss: 0.8789 - auroc: 0.62 - ETA: 1:31:57 - loss: 0.8778 - auroc: 0.62 - ETA: 1:31:17 - loss: 0.8758 - auroc: 0.62 - ETA: 1:30:36 - loss: 0.8745 - auroc: 0.62 - ETA: 1:29:53 - loss: 0.8738 - auroc: 0.62 - ETA: 1:29:09 - loss: 0.8724 - auroc: 0.62 - ETA: 1:28:26 - loss: 0.8725 - auroc: 0.62 - ETA: 1:27:47 - loss: 0.8708 - auroc: 0.62 - ETA: 1:27:01 - loss: 0.8717 - auroc: 0.62 - ETA: 1:26:18 - loss: 0.8704 - auroc: 0.63 - ETA: 1:25:35 - loss: 0.8697 - auroc: 0.63 - ETA: 1:24:57 - loss: 0.8676 - auroc: 0.63 - ETA: 1:24:17 - loss: 0.8666 - auroc: 0.63 - ETA: 1:23:40 - loss: 0.8655 - auroc: 0.63 - ETA: 1:23:00 - loss: 0.8637 - auroc: 0.63 - ETA: 1:22:19 - loss: 0.8619 - auroc: 0.63 - ETA: 1:21:38 - loss: 0.8607 - auroc: 0.63 - ETA: 1:20:58 - loss: 0.8595 - auroc: 0.64 - ETA: 1:20:14 - loss: 0.8584 - auroc: 0.64 - ETA: 1:19:33 - loss: 0.8569 - auroc: 0.64 - ETA: 1:18:53 - loss: 0.8566 - auroc: 0.64 - ETA: 1:18:13 - loss: 0.8558 - auroc: 0.64 - ETA: 1:17:31 - loss: 0.8548 - auroc: 0.64 - ETA: 1:16:49 - loss: 0.8538 - auroc: 0.64 - ETA: 1:16:07 - loss: 0.8522 - auroc: 0.64 - ETA: 1:15:26 - loss: 0.8521 - auroc: 0.64 - ETA: 1:14:43 - loss: 0.8509 - auroc: 0.64 - ETA: 1:14:00 - loss: 0.8512 - auroc: 0.64 - ETA: 1:13:18 - loss: 0.8511 - auroc: 0.64 - ETA: 1:12:36 - loss: 0.8500 - auroc: 0.64 - ETA: 1:11:54 - loss: 0.8492 - auroc: 0.64 - ETA: 1:11:10 - loss: 0.8481 - auroc: 0.64 - ETA: 1:10:29 - loss: 0.8465 - auroc: 0.64 - ETA: 1:09:46 - loss: 0.8450 - auroc: 0.64 - ETA: 1:09:02 - loss: 0.8444 - auroc: 0.65 - ETA: 1:08:19 - loss: 0.8435 - auroc: 0.65 - ETA: 1:07:38 - loss: 0.8423 - auroc: 0.65 - ETA: 1:06:54 - loss: 0.8413 - auroc: 0.65 - ETA: 1:06:11 - loss: 0.8411 - auroc: 0.64 - ETA: 1:05:28 - loss: 0.8392 - auroc: 0.65 - ETA: 1:04:44 - loss: 0.8381 - auroc: 0.65 - ETA: 1:04:00 - loss: 0.8381 - auroc: 0.65 - ETA: 1:03:14 - loss: 0.8371 - auroc: 0.65 - ETA: 1:02:31 - loss: 0.8365 - auroc: 0.65 - ETA: 1:01:45 - loss: 0.8357 - auroc: 0.65 - ETA: 1:01:02 - loss: 0.8354 - auroc: 0.65 - ETA: 1:00:16 - loss: 0.8346 - auroc: 0.65 - ETA: 59:32 - loss: 0.8336 - auroc: 0.6520 - ETA: 58:47 - loss: 0.8326 - auroc: 0.65 - ETA: 58:03 - loss: 0.8313 - auroc: 0.65 - ETA: 57:17 - loss: 0.8306 - auroc: 0.65 - ETA: 56:31 - loss: 0.8295 - auroc: 0.65 - ETA: 55:45 - loss: 0.8283 - auroc: 0.65 - ETA: 54:59 - loss: 0.8275 - auroc: 0.65 - ETA: 54:13 - loss: 0.8274 - auroc: 0.65 - ETA: 53:28 - loss: 0.8264 - auroc: 0.65 - ETA: 52:42 - loss: 0.8259 - auroc: 0.65 - ETA: 51:55 - loss: 0.8255 - auroc: 0.65 - ETA: 51:10 - loss: 0.8250 - auroc: 0.65 - ETA: 50:24 - loss: 0.8245 - auroc: 0.65 - ETA: 49:37 - loss: 0.8237 - auroc: 0.65 - ETA: 48:51 - loss: 0.8225 - auroc: 0.65 - ETA: 48:04 - loss: 0.8213 - auroc: 0.65 - ETA: 47:18 - loss: 0.8204 - auroc: 0.65 - ETA: 46:32 - loss: 0.8198 - auroc: 0.65 - ETA: 45:44 - loss: 0.8194 - auroc: 0.65 - ETA: 44:57 - loss: 0.8184 - auroc: 0.65 - ETA: 44:09 - loss: 0.8178 - auroc: 0.65 - ETA: 43:22 - loss: 0.8171 - auroc: 0.65 - ETA: 42:35 - loss: 0.8161 - auroc: 0.65 - ETA: 41:47 - loss: 0.8154 - auroc: 0.65 - ETA: 41:00 - loss: 0.8141 - auroc: 0.65 - ETA: 40:12 - loss: 0.8132 - auroc: 0.65 - ETA: 39:24 - loss: 0.8128 - auroc: 0.65 - ETA: 38:37 - loss: 0.8125 - auroc: 0.65 - ETA: 37:48 - loss: 0.8113 - auroc: 0.65 - ETA: 37:00 - loss: 0.8106 - auroc: 0.65 - ETA: 36:11 - loss: 0.8099 - auroc: 0.66 - ETA: 35:23 - loss: 0.8096 - auroc: 0.66 - ETA: 34:34 - loss: 0.8090 - auroc: 0.66 - ETA: 33:46 - loss: 0.8085 - auroc: 0.66 - ETA: 32:57 - loss: 0.8075 - auroc: 0.66 - ETA: 32:09 - loss: 0.8068 - auroc: 0.66 - ETA: 31:21 - loss: 0.8056 - auroc: 0.66 - ETA: 30:32 - loss: 0.8046 - auroc: 0.66 - ETA: 29:43 - loss: 0.8041 - auroc: 0.66 - ETA: 28:54 - loss: 0.8033 - auroc: 0.66 - ETA: 28:05 - loss: 0.8028 - auroc: 0.66 - ETA: 27:16 - loss: 0.8021 - auroc: 0.66 - ETA: 26:27 - loss: 0.8012 - auroc: 0.66 - ETA: 25:37 - loss: 0.8003 - auroc: 0.66 - ETA: 24:48 - loss: 0.7996 - auroc: 0.66 - ETA: 23:59 - loss: 0.7987 - auroc: 0.66 - ETA: 23:09 - loss: 0.7978 - auroc: 0.66 - ETA: 22:20 - loss: 0.7976 - auroc: 0.66 - ETA: 21:30 - loss: 0.7968 - auroc: 0.66 - ETA: 20:40 - loss: 0.7960 - auroc: 0.66 - ETA: 19:50 - loss: 0.7954 - auroc: 0.66 - ETA: 19:00 - loss: 0.7946 - auroc: 0.66 - ETA: 18:10 - loss: 0.7938 - auroc: 0.66 - ETA: 17:20 - loss: 0.7931 - auroc: 0.66 - ETA: 16:30 - loss: 0.7926 - auroc: 0.66 - ETA: 15:40 - loss: 0.7915 - auroc: 0.66 - ETA: 14:49 - loss: 0.7909 - auroc: 0.66 - ETA: 13:58 - loss: 0.7904 - auroc: 0.66 - ETA: 13:08 - loss: 0.7897 - auroc: 0.66 - ETA: 12:17 - loss: 0.7891 - auroc: 0.66 - ETA: 11:26 - loss: 0.7886 - auroc: 0.66 - ETA: 10:35 - loss: 0.7879 - auroc: 0.66 - ETA: 9:44 - loss: 0.7873 - auroc: 0.6694 - ETA: 8:53 - loss: 0.7865 - auroc: 0.669 - ETA: 8:02 - loss: 0.7858 - auroc: 0.670 - ETA: 7:11 - loss: 0.7851 - auroc: 0.670 - ETA: 6:20 - loss: 0.7843 - auroc: 0.670 - ETA: 5:28 - loss: 0.7836 - auroc: 0.670 - ETA: 4:37 - loss: 0.7828 - auroc: 0.670 - ETA: 3:45 - loss: 0.7823 - auroc: 0.670 - ETA: 2:54 - loss: 0.7817 - auroc: 0.671 - ETA: 2:02 - loss: 0.7812 - auroc: 0.671 - ETA: 1:10 - loss: 0.7806 - auroc: 0.671 - ETA: 18s - loss: 0.7802 - auroc: 0.671 - 8405s 110ms/step - loss: 0.7798 - auroc: 0.6718 - val_loss: 0.7052 - val_auroc: 0.7270\n",
      "\n",
      "Epoch 00002: val_loss improved from 0.93544 to 0.70524, saving model to model_1.h5\n",
      "Epoch 3/20\n"
     ]
    },
    {
     "name": "stdout",
     "output_type": "stream",
     "text": [
      "76473/76473 [==============================] - ETA: 2:22:21 - loss: 0.6546 - auroc: 0.75 - ETA: 2:23:05 - loss: 0.6706 - auroc: 0.73 - ETA: 2:23:14 - loss: 0.6936 - auroc: 0.71 - ETA: 2:22:01 - loss: 0.6871 - auroc: 0.71 - ETA: 2:22:06 - loss: 0.6831 - auroc: 0.71 - ETA: 2:21:11 - loss: 0.6814 - auroc: 0.70 - ETA: 2:20:04 - loss: 0.6820 - auroc: 0.71 - ETA: 2:19:41 - loss: 0.6827 - auroc: 0.71 - ETA: 2:18:46 - loss: 0.6769 - auroc: 0.71 - ETA: 2:18:21 - loss: 0.6768 - auroc: 0.71 - ETA: 2:17:41 - loss: 0.6763 - auroc: 0.71 - ETA: 2:16:56 - loss: 0.6718 - auroc: 0.71 - ETA: 2:16:06 - loss: 0.6714 - auroc: 0.71 - ETA: 2:15:02 - loss: 0.6719 - auroc: 0.71 - ETA: 2:14:04 - loss: 0.6695 - auroc: 0.72 - ETA: 2:13:17 - loss: 0.6705 - auroc: 0.71 - ETA: 2:12:29 - loss: 0.6727 - auroc: 0.71 - ETA: 2:11:26 - loss: 0.6723 - auroc: 0.71 - ETA: 2:10:24 - loss: 0.6723 - auroc: 0.71 - ETA: 2:09:20 - loss: 0.6714 - auroc: 0.71 - ETA: 2:08:18 - loss: 0.6719 - auroc: 0.71 - ETA: 2:07:19 - loss: 0.6740 - auroc: 0.71 - ETA: 2:06:26 - loss: 0.6748 - auroc: 0.71 - ETA: 2:05:28 - loss: 0.6734 - auroc: 0.71 - ETA: 2:04:31 - loss: 0.6747 - auroc: 0.71 - ETA: 2:03:36 - loss: 0.6731 - auroc: 0.71 - ETA: 2:02:42 - loss: 0.6732 - auroc: 0.71 - ETA: 2:01:40 - loss: 0.6726 - auroc: 0.71 - ETA: 2:00:43 - loss: 0.6729 - auroc: 0.71 - ETA: 1:59:43 - loss: 0.6718 - auroc: 0.71 - ETA: 1:58:43 - loss: 0.6711 - auroc: 0.71 - ETA: 1:57:45 - loss: 0.6707 - auroc: 0.71 - ETA: 1:56:44 - loss: 0.6710 - auroc: 0.71 - ETA: 1:55:49 - loss: 0.6698 - auroc: 0.71 - ETA: 1:54:54 - loss: 0.6688 - auroc: 0.71 - ETA: 1:53:55 - loss: 0.6675 - auroc: 0.71 - ETA: 1:53:00 - loss: 0.6661 - auroc: 0.71 - ETA: 1:52:05 - loss: 0.6648 - auroc: 0.71 - ETA: 1:51:07 - loss: 0.6639 - auroc: 0.71 - ETA: 1:50:13 - loss: 0.6643 - auroc: 0.71 - ETA: 1:49:18 - loss: 0.6637 - auroc: 0.71 - ETA: 1:48:22 - loss: 0.6628 - auroc: 0.71 - ETA: 1:47:25 - loss: 0.6613 - auroc: 0.71 - ETA: 1:46:28 - loss: 0.6612 - auroc: 0.71 - ETA: 1:45:32 - loss: 0.6602 - auroc: 0.71 - ETA: 1:44:35 - loss: 0.6595 - auroc: 0.71 - ETA: 1:43:38 - loss: 0.6598 - auroc: 0.71 - ETA: 1:42:40 - loss: 0.6592 - auroc: 0.71 - ETA: 1:41:43 - loss: 0.6586 - auroc: 0.71 - ETA: 1:40:47 - loss: 0.6580 - auroc: 0.71 - ETA: 1:39:49 - loss: 0.6568 - auroc: 0.72 - ETA: 1:38:54 - loss: 0.6550 - auroc: 0.72 - ETA: 1:37:56 - loss: 0.6544 - auroc: 0.72 - ETA: 1:36:59 - loss: 0.6536 - auroc: 0.72 - ETA: 1:36:03 - loss: 0.6527 - auroc: 0.71 - ETA: 1:35:06 - loss: 0.6520 - auroc: 0.71 - ETA: 1:34:09 - loss: 0.6521 - auroc: 0.71 - ETA: 1:33:11 - loss: 0.6521 - auroc: 0.72 - ETA: 1:32:15 - loss: 0.6518 - auroc: 0.72 - ETA: 1:31:17 - loss: 0.6514 - auroc: 0.72 - ETA: 1:30:21 - loss: 0.6513 - auroc: 0.72 - ETA: 1:29:25 - loss: 0.6501 - auroc: 0.72 - ETA: 1:28:29 - loss: 0.6499 - auroc: 0.72 - ETA: 1:27:33 - loss: 0.6495 - auroc: 0.71 - ETA: 1:26:35 - loss: 0.6495 - auroc: 0.71 - ETA: 1:25:39 - loss: 0.6491 - auroc: 0.72 - ETA: 1:24:44 - loss: 0.6484 - auroc: 0.72 - ETA: 1:23:48 - loss: 0.6485 - auroc: 0.72 - ETA: 1:22:51 - loss: 0.6488 - auroc: 0.71 - ETA: 1:21:54 - loss: 0.6489 - auroc: 0.72 - ETA: 1:20:58 - loss: 0.6484 - auroc: 0.72 - ETA: 1:19:59 - loss: 0.6485 - auroc: 0.71 - ETA: 1:19:01 - loss: 0.6482 - auroc: 0.71 - ETA: 1:18:03 - loss: 0.6478 - auroc: 0.72 - ETA: 1:17:05 - loss: 0.6475 - auroc: 0.72 - ETA: 1:16:07 - loss: 0.6468 - auroc: 0.71 - ETA: 1:15:08 - loss: 0.6458 - auroc: 0.72 - ETA: 1:14:09 - loss: 0.6452 - auroc: 0.72 - ETA: 1:13:10 - loss: 0.6445 - auroc: 0.72 - ETA: 1:12:10 - loss: 0.6444 - auroc: 0.72 - ETA: 1:11:10 - loss: 0.6441 - auroc: 0.72 - ETA: 1:10:09 - loss: 0.6436 - auroc: 0.72 - ETA: 1:09:09 - loss: 0.6430 - auroc: 0.72 - ETA: 1:08:10 - loss: 0.6422 - auroc: 0.72 - ETA: 1:07:09 - loss: 0.6418 - auroc: 0.72 - ETA: 1:06:10 - loss: 0.6411 - auroc: 0.72 - ETA: 1:05:09 - loss: 0.6410 - auroc: 0.72 - ETA: 1:04:08 - loss: 0.6405 - auroc: 0.72 - ETA: 1:03:07 - loss: 0.6402 - auroc: 0.72 - ETA: 1:02:06 - loss: 0.6395 - auroc: 0.72 - ETA: 1:01:05 - loss: 0.6392 - auroc: 0.71 - ETA: 1:00:04 - loss: 0.6390 - auroc: 0.72 - ETA: 59:04 - loss: 0.6384 - auroc: 0.7202 - ETA: 58:04 - loss: 0.6380 - auroc: 0.71 - ETA: 57:03 - loss: 0.6377 - auroc: 0.71 - ETA: 56:02 - loss: 0.6366 - auroc: 0.72 - ETA: 55:02 - loss: 0.6362 - auroc: 0.72 - ETA: 54:02 - loss: 0.6352 - auroc: 0.72 - ETA: 53:02 - loss: 0.6349 - auroc: 0.72 - ETA: 52:01 - loss: 0.6344 - auroc: 0.72 - ETA: 51:01 - loss: 0.6341 - auroc: 0.71 - ETA: 50:01 - loss: 0.6335 - auroc: 0.71 - ETA: 49:00 - loss: 0.6334 - auroc: 0.71 - ETA: 47:59 - loss: 0.6329 - auroc: 0.71 - ETA: 46:58 - loss: 0.6327 - auroc: 0.71 - ETA: 45:56 - loss: 0.6323 - auroc: 0.71 - ETA: 44:54 - loss: 0.6318 - auroc: 0.71 - ETA: 43:52 - loss: 0.6314 - auroc: 0.71 - ETA: 42:50 - loss: 0.6312 - auroc: 0.71 - ETA: 41:48 - loss: 0.6308 - auroc: 0.71 - ETA: 40:46 - loss: 0.6301 - auroc: 0.71 - ETA: 39:44 - loss: 0.6299 - auroc: 0.71 - ETA: 38:41 - loss: 0.6298 - auroc: 0.71 - ETA: 37:39 - loss: 0.6295 - auroc: 0.72 - ETA: 36:36 - loss: 0.6291 - auroc: 0.72 - ETA: 35:34 - loss: 0.6287 - auroc: 0.72 - ETA: 34:31 - loss: 0.6283 - auroc: 0.72 - ETA: 33:28 - loss: 0.6282 - auroc: 0.72 - ETA: 32:26 - loss: 0.6278 - auroc: 0.72 - ETA: 31:24 - loss: 0.6272 - auroc: 0.72 - ETA: 30:21 - loss: 0.6270 - auroc: 0.72 - ETA: 29:18 - loss: 0.6266 - auroc: 0.72 - ETA: 28:15 - loss: 0.6261 - auroc: 0.72 - ETA: 27:12 - loss: 0.6257 - auroc: 0.72 - ETA: 26:09 - loss: 0.6255 - auroc: 0.72 - ETA: 25:05 - loss: 0.6252 - auroc: 0.72 - ETA: 24:02 - loss: 0.6250 - auroc: 0.72 - ETA: 22:58 - loss: 0.6248 - auroc: 0.72 - ETA: 21:54 - loss: 0.6243 - auroc: 0.72 - ETA: 20:51 - loss: 0.6239 - auroc: 0.72 - ETA: 19:47 - loss: 0.6237 - auroc: 0.72 - ETA: 18:43 - loss: 0.6234 - auroc: 0.72 - ETA: 17:39 - loss: 0.6234 - auroc: 0.72 - ETA: 16:35 - loss: 0.6227 - auroc: 0.72 - ETA: 15:30 - loss: 0.6223 - auroc: 0.72 - ETA: 14:26 - loss: 0.6217 - auroc: 0.72 - ETA: 13:22 - loss: 0.6218 - auroc: 0.72 - ETA: 12:17 - loss: 0.6215 - auroc: 0.72 - ETA: 11:13 - loss: 0.6213 - auroc: 0.72 - ETA: 10:08 - loss: 0.6208 - auroc: 0.72 - ETA: 9:04 - loss: 0.6202 - auroc: 0.7225 - ETA: 7:59 - loss: 0.6199 - auroc: 0.722 - ETA: 6:54 - loss: 0.6198 - auroc: 0.722 - ETA: 5:49 - loss: 0.6195 - auroc: 0.722 - ETA: 4:44 - loss: 0.6194 - auroc: 0.722 - ETA: 3:39 - loss: 0.6193 - auroc: 0.722 - ETA: 2:34 - loss: 0.6191 - auroc: 0.722 - ETA: 1:29 - loss: 0.6191 - auroc: 0.721 - ETA: 23s - loss: 0.6187 - auroc: 0.721 - 10504s 137ms/step - loss: 0.6185 - auroc: 0.7217 - val_loss: 0.5908 - val_auroc: 0.7491\n",
      "\n",
      "Epoch 00003: val_loss improved from 0.70524 to 0.59076, saving model to model_1.h5\n",
      "Epoch 4/20\n",
      "76473/76473 [==============================] - ETA: 2:57:38 - loss: 0.5781 - auroc: 0.70 - ETA: 2:53:19 - loss: 0.5844 - auroc: 0.71 - ETA: 2:51:39 - loss: 0.5789 - auroc: 0.71 - ETA: 2:50:01 - loss: 0.5637 - auroc: 0.72 - ETA: 2:49:06 - loss: 0.5682 - auroc: 0.72 - ETA: 2:48:07 - loss: 0.5692 - auroc: 0.72 - ETA: 2:47:05 - loss: 0.5636 - auroc: 0.73 - ETA: 2:46:04 - loss: 0.5728 - auroc: 0.72 - ETA: 2:44:58 - loss: 0.5706 - auroc: 0.72 - ETA: 2:43:58 - loss: 0.5719 - auroc: 0.72 - ETA: 2:43:10 - loss: 0.5715 - auroc: 0.72 - ETA: 2:42:32 - loss: 0.5718 - auroc: 0.72 - ETA: 2:41:35 - loss: 0.5698 - auroc: 0.73 - ETA: 2:40:38 - loss: 0.5684 - auroc: 0.73 - ETA: 2:39:32 - loss: 0.5677 - auroc: 0.73 - ETA: 2:38:28 - loss: 0.5680 - auroc: 0.72 - ETA: 2:37:22 - loss: 0.5673 - auroc: 0.72 - ETA: 2:36:01 - loss: 0.5663 - auroc: 0.72 - ETA: 2:34:54 - loss: 0.5670 - auroc: 0.72 - ETA: 2:33:46 - loss: 0.5673 - auroc: 0.72 - ETA: 2:32:29 - loss: 0.5664 - auroc: 0.72 - ETA: 2:31:23 - loss: 0.5672 - auroc: 0.72 - ETA: 2:30:16 - loss: 0.5680 - auroc: 0.72 - ETA: 2:29:08 - loss: 0.5649 - auroc: 0.72 - ETA: 2:27:59 - loss: 0.5640 - auroc: 0.72 - ETA: 2:26:45 - loss: 0.5639 - auroc: 0.72 - ETA: 2:25:32 - loss: 0.5627 - auroc: 0.72 - ETA: 2:24:25 - loss: 0.5627 - auroc: 0.73 - ETA: 2:23:15 - loss: 0.5620 - auroc: 0.73 - ETA: 2:22:12 - loss: 0.5614 - auroc: 0.73 - ETA: 2:21:09 - loss: 0.5616 - auroc: 0.72 - ETA: 2:20:10 - loss: 0.5620 - auroc: 0.72 - ETA: 2:19:13 - loss: 0.5626 - auroc: 0.72 - ETA: 2:18:05 - loss: 0.5629 - auroc: 0.72 - ETA: 2:16:59 - loss: 0.5620 - auroc: 0.72 - ETA: 2:15:55 - loss: 0.5609 - auroc: 0.72 - ETA: 2:14:48 - loss: 0.5609 - auroc: 0.72 - ETA: 2:13:38 - loss: 0.5599 - auroc: 0.72 - ETA: 2:12:28 - loss: 0.5591 - auroc: 0.73 - ETA: 2:11:15 - loss: 0.5583 - auroc: 0.73 - ETA: 2:10:06 - loss: 0.5575 - auroc: 0.73 - ETA: 2:08:54 - loss: 0.5566 - auroc: 0.73 - ETA: 2:07:43 - loss: 0.5564 - auroc: 0.73 - ETA: 2:06:34 - loss: 0.5569 - auroc: 0.73 - ETA: 2:05:24 - loss: 0.5560 - auroc: 0.73 - ETA: 2:04:16 - loss: 0.5549 - auroc: 0.73 - ETA: 2:03:02 - loss: 0.5546 - auroc: 0.73 - ETA: 2:01:55 - loss: 0.5543 - auroc: 0.73 - ETA: 2:00:48 - loss: 0.5531 - auroc: 0.73 - ETA: 1:59:43 - loss: 0.5527 - auroc: 0.73 - ETA: 1:58:40 - loss: 0.5520 - auroc: 0.73 - ETA: 1:57:32 - loss: 0.5524 - auroc: 0.73 - ETA: 1:56:24 - loss: 0.5515 - auroc: 0.73 - ETA: 1:55:16 - loss: 0.5518 - auroc: 0.73 - ETA: 1:54:07 - loss: 0.5517 - auroc: 0.73 - ETA: 1:52:58 - loss: 0.5513 - auroc: 0.73 - ETA: 1:51:47 - loss: 0.5509 - auroc: 0.73 - ETA: 1:50:37 - loss: 0.5506 - auroc: 0.73 - ETA: 1:49:28 - loss: 0.5505 - auroc: 0.73 - ETA: 1:48:17 - loss: 0.5512 - auroc: 0.73 - ETA: 1:47:07 - loss: 0.5512 - auroc: 0.73 - ETA: 1:45:57 - loss: 0.5513 - auroc: 0.73 - ETA: 1:44:49 - loss: 0.5510 - auroc: 0.73 - ETA: 1:43:43 - loss: 0.5507 - auroc: 0.73 - ETA: 1:42:37 - loss: 0.5501 - auroc: 0.73 - ETA: 1:41:29 - loss: 0.5501 - auroc: 0.73 - ETA: 1:40:21 - loss: 0.5503 - auroc: 0.73 - ETA: 1:39:12 - loss: 0.5505 - auroc: 0.73 - ETA: 1:38:03 - loss: 0.5507 - auroc: 0.73 - ETA: 1:36:51 - loss: 0.5508 - auroc: 0.73 - ETA: 1:35:41 - loss: 0.5505 - auroc: 0.73 - ETA: 1:34:30 - loss: 0.5507 - auroc: 0.73 - ETA: 1:33:20 - loss: 0.5509 - auroc: 0.73 - ETA: 1:32:09 - loss: 0.5504 - auroc: 0.73 - ETA: 1:30:59 - loss: 0.5508 - auroc: 0.73 - ETA: 1:29:49 - loss: 0.5506 - auroc: 0.73 - ETA: 1:28:41 - loss: 0.5505 - auroc: 0.73 - ETA: 1:27:34 - loss: 0.5498 - auroc: 0.73 - ETA: 1:26:25 - loss: 0.5497 - auroc: 0.73 - ETA: 1:25:15 - loss: 0.5496 - auroc: 0.73 - ETA: 1:24:05 - loss: 0.5497 - auroc: 0.73 - ETA: 1:22:54 - loss: 0.5495 - auroc: 0.73 - ETA: 1:21:43 - loss: 0.5492 - auroc: 0.73 - ETA: 1:20:33 - loss: 0.5490 - auroc: 0.73 - ETA: 1:19:20 - loss: 0.5486 - auroc: 0.73 - ETA: 1:18:09 - loss: 0.5487 - auroc: 0.73 - ETA: 1:16:58 - loss: 0.5478 - auroc: 0.73 - ETA: 1:15:46 - loss: 0.5472 - auroc: 0.73 - ETA: 1:14:35 - loss: 0.5467 - auroc: 0.73 - ETA: 1:13:25 - loss: 0.5466 - auroc: 0.73 - ETA: 1:12:16 - loss: 0.5466 - auroc: 0.73 - ETA: 1:11:05 - loss: 0.5463 - auroc: 0.73 - ETA: 1:09:54 - loss: 0.5461 - auroc: 0.73 - ETA: 1:08:43 - loss: 0.5459 - auroc: 0.73 - ETA: 1:07:31 - loss: 0.5457 - auroc: 0.73 - ETA: 1:06:19 - loss: 0.5459 - auroc: 0.73 - ETA: 1:05:07 - loss: 0.5464 - auroc: 0.73 - ETA: 1:03:55 - loss: 0.5464 - auroc: 0.73 - ETA: 1:02:42 - loss: 0.5459 - auroc: 0.73 - ETA: 1:01:29 - loss: 0.5456 - auroc: 0.73 - ETA: 1:00:16 - loss: 0.5455 - auroc: 0.73 - ETA: 59:04 - loss: 0.5452 - auroc: 0.7367 - ETA: 57:52 - loss: 0.5446 - auroc: 0.73 - ETA: 56:41 - loss: 0.5444 - auroc: 0.73 - ETA: 55:28 - loss: 0.5444 - auroc: 0.73 - ETA: 54:15 - loss: 0.5445 - auroc: 0.73 - ETA: 53:01 - loss: 0.5443 - auroc: 0.73 - ETA: 51:48 - loss: 0.5442 - auroc: 0.73 - ETA: 50:34 - loss: 0.5437 - auroc: 0.73 - ETA: 49:21 - loss: 0.5430 - auroc: 0.73 - ETA: 48:07 - loss: 0.5429 - auroc: 0.73 - ETA: 46:53 - loss: 0.5432 - auroc: 0.73 - ETA: 45:39 - loss: 0.5429 - auroc: 0.73 - ETA: 44:25 - loss: 0.5429 - auroc: 0.73 - ETA: 43:12 - loss: 0.5430 - auroc: 0.73 - ETA: 41:59 - loss: 0.5424 - auroc: 0.73 - ETA: 40:45 - loss: 0.5422 - auroc: 0.73 - ETA: 39:31 - loss: 0.5420 - auroc: 0.73 - ETA: 38:17 - loss: 0.5417 - auroc: 0.73 - ETA: 37:02 - loss: 0.5419 - auroc: 0.73 - ETA: 35:47 - loss: 0.5412 - auroc: 0.73 - ETA: 34:33 - loss: 0.5408 - auroc: 0.73 - ETA: 33:18 - loss: 0.5406 - auroc: 0.73 - ETA: 32:03 - loss: 0.5404 - auroc: 0.74 - ETA: 30:48 - loss: 0.5402 - auroc: 0.74 - ETA: 29:33 - loss: 0.5401 - auroc: 0.74 - ETA: 28:17 - loss: 0.5402 - auroc: 0.74 - ETA: 27:02 - loss: 0.5395 - auroc: 0.74 - ETA: 25:47 - loss: 0.5392 - auroc: 0.74 - ETA: 24:32 - loss: 0.5392 - auroc: 0.74 - ETA: 23:17 - loss: 0.5391 - auroc: 0.74 - ETA: 22:01 - loss: 0.5387 - auroc: 0.74 - ETA: 20:46 - loss: 0.5382 - auroc: 0.74 - ETA: 19:31 - loss: 0.5380 - auroc: 0.74 - ETA: 18:16 - loss: 0.5380 - auroc: 0.74 - ETA: 17:00 - loss: 0.5378 - auroc: 0.74 - ETA: 15:45 - loss: 0.5374 - auroc: 0.74 - ETA: 14:29 - loss: 0.5372 - auroc: 0.74 - ETA: 13:13 - loss: 0.5368 - auroc: 0.74 - ETA: 11:57 - loss: 0.5365 - auroc: 0.74 - ETA: 10:41 - loss: 0.5363 - auroc: 0.74 - ETA: 9:24 - loss: 0.5359 - auroc: 0.7406 - ETA: 8:08 - loss: 0.5355 - auroc: 0.740 - ETA: 6:51 - loss: 0.5353 - auroc: 0.740 - ETA: 5:35 - loss: 0.5349 - auroc: 0.740 - ETA: 4:18 - loss: 0.5347 - auroc: 0.740 - ETA: 3:01 - loss: 0.5345 - auroc: 0.740 - ETA: 1:44 - loss: 0.5341 - auroc: 0.739 - ETA: 27s - loss: 0.5336 - auroc: 0.740 - 12274s 160ms/step - loss: 0.5337 - auroc: 0.7401 - val_loss: 0.5194 - val_auroc: 0.7546\n",
      "\n",
      "Epoch 00004: val_loss improved from 0.59076 to 0.51942, saving model to model_1.h5\n",
      "Epoch 5/20\n"
     ]
    },
    {
     "name": "stdout",
     "output_type": "stream",
     "text": [
      "76473/76473 [==============================] - ETA: 3:18:06 - loss: 0.4770 - auroc: 0.76 - ETA: 3:19:14 - loss: 0.4874 - auroc: 0.77 - ETA: 3:18:16 - loss: 0.5024 - auroc: 0.76 - ETA: 3:16:29 - loss: 0.5116 - auroc: 0.75 - ETA: 3:15:18 - loss: 0.5076 - auroc: 0.75 - ETA: 3:13:19 - loss: 0.5117 - auroc: 0.74 - ETA: 3:11:54 - loss: 0.5160 - auroc: 0.75 - ETA: 3:10:31 - loss: 0.5095 - auroc: 0.75 - ETA: 3:08:51 - loss: 0.5130 - auroc: 0.75 - ETA: 3:07:41 - loss: 0.5101 - auroc: 0.75 - ETA: 3:06:38 - loss: 0.5081 - auroc: 0.75 - ETA: 3:05:23 - loss: 0.5081 - auroc: 0.75 - ETA: 3:04:05 - loss: 0.5066 - auroc: 0.74 - ETA: 3:02:52 - loss: 0.5044 - auroc: 0.75 - ETA: 3:02:03 - loss: 0.5047 - auroc: 0.75 - ETA: 3:00:58 - loss: 0.5026 - auroc: 0.75 - ETA: 2:59:52 - loss: 0.5000 - auroc: 0.75 - ETA: 2:58:49 - loss: 0.4977 - auroc: 0.75 - ETA: 2:57:30 - loss: 0.4979 - auroc: 0.75 - ETA: 2:56:07 - loss: 0.4964 - auroc: 0.75 - ETA: 2:54:47 - loss: 0.4977 - auroc: 0.75 - ETA: 2:53:24 - loss: 0.4951 - auroc: 0.75 - ETA: 2:51:51 - loss: 0.4957 - auroc: 0.75 - ETA: 2:50:26 - loss: 0.4942 - auroc: 0.75 - ETA: 2:48:56 - loss: 0.4945 - auroc: 0.75 - ETA: 2:47:34 - loss: 0.4942 - auroc: 0.75 - ETA: 2:46:01 - loss: 0.4948 - auroc: 0.75 - ETA: 2:44:40 - loss: 0.4936 - auroc: 0.75 - ETA: 2:43:16 - loss: 0.4931 - auroc: 0.75 - ETA: 2:41:53 - loss: 0.4927 - auroc: 0.75 - ETA: 2:40:30 - loss: 0.4912 - auroc: 0.75 - ETA: 2:39:13 - loss: 0.4919 - auroc: 0.75 - ETA: 2:37:53 - loss: 0.4927 - auroc: 0.75 - ETA: 2:36:33 - loss: 0.4916 - auroc: 0.75 - ETA: 2:35:22 - loss: 0.4925 - auroc: 0.75 - ETA: 2:34:08 - loss: 0.4915 - auroc: 0.75 - ETA: 2:32:53 - loss: 0.4912 - auroc: 0.75 - ETA: 2:31:37 - loss: 0.4917 - auroc: 0.75 - ETA: 2:30:20 - loss: 0.4922 - auroc: 0.75 - ETA: 2:29:01 - loss: 0.4936 - auroc: 0.75 - ETA: 2:27:39 - loss: 0.4949 - auroc: 0.74 - ETA: 2:26:14 - loss: 0.4944 - auroc: 0.74 - ETA: 2:24:50 - loss: 0.4944 - auroc: 0.74 - ETA: 2:23:24 - loss: 0.4942 - auroc: 0.74 - ETA: 2:22:00 - loss: 0.4934 - auroc: 0.74 - ETA: 2:20:37 - loss: 0.4931 - auroc: 0.74 - ETA: 2:19:13 - loss: 0.4934 - auroc: 0.74 - ETA: 2:17:51 - loss: 0.4933 - auroc: 0.74 - ETA: 2:16:27 - loss: 0.4940 - auroc: 0.74 - ETA: 2:15:06 - loss: 0.4938 - auroc: 0.74 - ETA: 2:13:41 - loss: 0.4943 - auroc: 0.74 - ETA: 2:12:19 - loss: 0.4942 - auroc: 0.74 - ETA: 2:10:59 - loss: 0.4940 - auroc: 0.74 - ETA: 2:09:34 - loss: 0.4934 - auroc: 0.74 - ETA: 2:08:15 - loss: 0.4935 - auroc: 0.74 - ETA: 2:06:54 - loss: 0.4935 - auroc: 0.74 - ETA: 2:05:35 - loss: 0.4930 - auroc: 0.74 - ETA: 2:04:18 - loss: 0.4930 - auroc: 0.74 - ETA: 2:03:01 - loss: 0.4932 - auroc: 0.74 - ETA: 2:01:42 - loss: 0.4929 - auroc: 0.74 - ETA: 2:00:23 - loss: 0.4924 - auroc: 0.74 - ETA: 1:59:02 - loss: 0.4922 - auroc: 0.74 - ETA: 1:57:40 - loss: 0.4920 - auroc: 0.74 - ETA: 1:56:19 - loss: 0.4918 - auroc: 0.74 - ETA: 1:54:56 - loss: 0.4916 - auroc: 0.74 - ETA: 1:53:34 - loss: 0.4916 - auroc: 0.74 - ETA: 1:52:13 - loss: 0.4914 - auroc: 0.74 - ETA: 1:50:50 - loss: 0.4909 - auroc: 0.74 - ETA: 1:49:27 - loss: 0.4912 - auroc: 0.74 - ETA: 1:48:05 - loss: 0.4909 - auroc: 0.74 - ETA: 1:46:41 - loss: 0.4910 - auroc: 0.74 - ETA: 1:45:20 - loss: 0.4909 - auroc: 0.74 - ETA: 1:43:57 - loss: 0.4905 - auroc: 0.74 - ETA: 1:42:35 - loss: 0.4911 - auroc: 0.74 - ETA: 1:41:13 - loss: 0.4913 - auroc: 0.74 - ETA: 1:39:51 - loss: 0.4909 - auroc: 0.74 - ETA: 1:38:30 - loss: 0.4902 - auroc: 0.74 - ETA: 1:37:08 - loss: 0.4903 - auroc: 0.74 - ETA: 1:35:48 - loss: 0.4900 - auroc: 0.74 - ETA: 1:34:26 - loss: 0.4900 - auroc: 0.74 - ETA: 1:33:06 - loss: 0.4899 - auroc: 0.74 - ETA: 1:31:46 - loss: 0.4906 - auroc: 0.74 - ETA: 1:30:26 - loss: 0.4911 - auroc: 0.74 - ETA: 1:29:07 - loss: 0.4910 - auroc: 0.74 - ETA: 1:27:47 - loss: 0.4906 - auroc: 0.74 - ETA: 1:26:26 - loss: 0.4906 - auroc: 0.74 - ETA: 1:25:04 - loss: 0.4904 - auroc: 0.74 - ETA: 1:23:43 - loss: 0.4903 - auroc: 0.74 - ETA: 1:22:21 - loss: 0.4902 - auroc: 0.74 - ETA: 1:20:58 - loss: 0.4897 - auroc: 0.74 - ETA: 1:19:35 - loss: 0.4902 - auroc: 0.74 - ETA: 1:18:13 - loss: 0.4900 - auroc: 0.74 - ETA: 1:16:51 - loss: 0.4903 - auroc: 0.74 - ETA: 1:15:30 - loss: 0.4905 - auroc: 0.74 - ETA: 1:14:08 - loss: 0.4900 - auroc: 0.74 - ETA: 1:12:45 - loss: 0.4900 - auroc: 0.74 - ETA: 1:11:23 - loss: 0.4894 - auroc: 0.74 - ETA: 1:10:01 - loss: 0.4890 - auroc: 0.74 - ETA: 1:08:39 - loss: 0.4888 - auroc: 0.74 - ETA: 1:07:17 - loss: 0.4886 - auroc: 0.74 - ETA: 1:05:55 - loss: 0.4884 - auroc: 0.74 - ETA: 1:04:34 - loss: 0.4886 - auroc: 0.74 - ETA: 1:03:12 - loss: 0.4882 - auroc: 0.74 - ETA: 1:01:51 - loss: 0.4881 - auroc: 0.74 - ETA: 1:00:29 - loss: 0.4879 - auroc: 0.74 - ETA: 59:09 - loss: 0.4875 - auroc: 0.7486 - ETA: 57:48 - loss: 0.4878 - auroc: 0.74 - ETA: 56:27 - loss: 0.4877 - auroc: 0.74 - ETA: 55:06 - loss: 0.4875 - auroc: 0.74 - ETA: 53:44 - loss: 0.4876 - auroc: 0.74 - ETA: 52:22 - loss: 0.4875 - auroc: 0.74 - ETA: 51:00 - loss: 0.4872 - auroc: 0.74 - ETA: 49:38 - loss: 0.4870 - auroc: 0.74 - ETA: 48:17 - loss: 0.4872 - auroc: 0.74 - ETA: 46:54 - loss: 0.4871 - auroc: 0.74 - ETA: 45:32 - loss: 0.4870 - auroc: 0.74 - ETA: 44:10 - loss: 0.4866 - auroc: 0.74 - ETA: 42:48 - loss: 0.4872 - auroc: 0.74 - ETA: 41:26 - loss: 0.4870 - auroc: 0.74 - ETA: 40:04 - loss: 0.4866 - auroc: 0.74 - ETA: 38:42 - loss: 0.4868 - auroc: 0.74 - ETA: 37:20 - loss: 0.4863 - auroc: 0.74 - ETA: 35:58 - loss: 0.4861 - auroc: 0.74 - ETA: 34:36 - loss: 0.4859 - auroc: 0.74 - ETA: 33:14 - loss: 0.4859 - auroc: 0.74 - ETA: 31:52 - loss: 0.4858 - auroc: 0.74 - ETA: 30:31 - loss: 0.4854 - auroc: 0.74 - ETA: 29:10 - loss: 0.4855 - auroc: 0.74 - ETA: 27:48 - loss: 0.4854 - auroc: 0.74 - ETA: 26:27 - loss: 0.4852 - auroc: 0.74 - ETA: 25:06 - loss: 0.4847 - auroc: 0.74 - ETA: 23:44 - loss: 0.4848 - auroc: 0.74 - ETA: 22:23 - loss: 0.4846 - auroc: 0.74 - ETA: 21:01 - loss: 0.4847 - auroc: 0.74 - ETA: 19:39 - loss: 0.4847 - auroc: 0.74 - ETA: 18:17 - loss: 0.4848 - auroc: 0.74 - ETA: 16:55 - loss: 0.4845 - auroc: 0.74 - ETA: 15:33 - loss: 0.4844 - auroc: 0.74 - ETA: 14:11 - loss: 0.4842 - auroc: 0.74 - ETA: 12:49 - loss: 0.4837 - auroc: 0.74 - ETA: 11:26 - loss: 0.4836 - auroc: 0.74 - ETA: 10:04 - loss: 0.4832 - auroc: 0.74 - ETA: 8:42 - loss: 0.4830 - auroc: 0.7494 - ETA: 7:20 - loss: 0.4829 - auroc: 0.749 - ETA: 5:58 - loss: 0.4828 - auroc: 0.749 - ETA: 4:36 - loss: 0.4824 - auroc: 0.749 - ETA: 3:13 - loss: 0.4825 - auroc: 0.749 - ETA: 1:51 - loss: 0.4827 - auroc: 0.749 - ETA: 29s - loss: 0.4826 - auroc: 0.749 - 13051s 171ms/step - loss: 0.4826 - auroc: 0.7491 - val_loss: 0.4817 - val_auroc: 0.7574\n",
      "\n",
      "Epoch 00005: val_loss improved from 0.51942 to 0.48169, saving model to model_1.h5\n",
      "Epoch 6/20\n",
      "76473/76473 [==============================] - ETA: 3:28:40 - loss: 0.5060 - auroc: 0.71 - ETA: 3:24:37 - loss: 0.5011 - auroc: 0.74 - ETA: 3:23:21 - loss: 0.5064 - auroc: 0.73 - ETA: 3:22:41 - loss: 0.4898 - auroc: 0.75 - ETA: 3:21:59 - loss: 0.4864 - auroc: 0.76 - ETA: 3:20:56 - loss: 0.4861 - auroc: 0.76 - ETA: 3:19:21 - loss: 0.4869 - auroc: 0.75 - ETA: 3:17:56 - loss: 0.4828 - auroc: 0.75 - ETA: 3:16:13 - loss: 0.4851 - auroc: 0.74 - ETA: 3:14:35 - loss: 0.4808 - auroc: 0.74 - ETA: 3:12:56 - loss: 0.4807 - auroc: 0.75 - ETA: 3:11:11 - loss: 0.4798 - auroc: 0.75 - ETA: 3:09:33 - loss: 0.4788 - auroc: 0.75 - ETA: 3:07:42 - loss: 0.4808 - auroc: 0.74 - ETA: 3:05:54 - loss: 0.4793 - auroc: 0.75 - ETA: 3:04:23 - loss: 0.4795 - auroc: 0.74 - ETA: 3:02:47 - loss: 0.4775 - auroc: 0.74 - ETA: 3:01:08 - loss: 0.4797 - auroc: 0.74 - ETA: 2:59:37 - loss: 0.4798 - auroc: 0.74 - ETA: 2:58:04 - loss: 0.4814 - auroc: 0.74 - ETA: 2:56:32 - loss: 0.4794 - auroc: 0.74 - ETA: 2:55:06 - loss: 0.4783 - auroc: 0.74 - ETA: 2:53:34 - loss: 0.4765 - auroc: 0.74 - ETA: 2:52:12 - loss: 0.4757 - auroc: 0.75 - ETA: 2:50:44 - loss: 0.4748 - auroc: 0.75 - ETA: 2:49:18 - loss: 0.4749 - auroc: 0.75 - ETA: 2:47:55 - loss: 0.4737 - auroc: 0.75 - ETA: 2:46:34 - loss: 0.4706 - auroc: 0.75 - ETA: 2:45:17 - loss: 0.4698 - auroc: 0.75 - ETA: 2:43:58 - loss: 0.4672 - auroc: 0.75 - ETA: 2:42:33 - loss: 0.4676 - auroc: 0.75 - ETA: 2:41:22 - loss: 0.4675 - auroc: 0.75 - ETA: 2:40:03 - loss: 0.4673 - auroc: 0.75 - ETA: 2:38:45 - loss: 0.4667 - auroc: 0.75 - ETA: 2:37:22 - loss: 0.4665 - auroc: 0.75 - ETA: 2:36:01 - loss: 0.4662 - auroc: 0.75 - ETA: 2:34:37 - loss: 0.4661 - auroc: 0.75 - ETA: 2:33:15 - loss: 0.4656 - auroc: 0.75 - ETA: 2:31:51 - loss: 0.4681 - auroc: 0.75 - ETA: 2:30:28 - loss: 0.4677 - auroc: 0.75 - ETA: 2:29:02 - loss: 0.4681 - auroc: 0.75 - ETA: 2:27:33 - loss: 0.4682 - auroc: 0.75 - ETA: 2:26:09 - loss: 0.4678 - auroc: 0.75 - ETA: 2:24:44 - loss: 0.4662 - auroc: 0.75 - ETA: 2:23:20 - loss: 0.4665 - auroc: 0.75 - ETA: 2:21:55 - loss: 0.4666 - auroc: 0.75 - ETA: 2:20:30 - loss: 0.4661 - auroc: 0.75 - ETA: 2:19:04 - loss: 0.4650 - auroc: 0.75 - ETA: 2:17:39 - loss: 0.4643 - auroc: 0.75 - ETA: 2:16:15 - loss: 0.4646 - auroc: 0.75 - ETA: 2:14:50 - loss: 0.4644 - auroc: 0.75 - ETA: 2:13:26 - loss: 0.4644 - auroc: 0.75 - ETA: 2:12:02 - loss: 0.4637 - auroc: 0.75 - ETA: 2:10:38 - loss: 0.4636 - auroc: 0.75 - ETA: 2:09:16 - loss: 0.4633 - auroc: 0.75 - ETA: 2:07:54 - loss: 0.4635 - auroc: 0.75 - ETA: 2:06:32 - loss: 0.4638 - auroc: 0.75 - ETA: 2:05:12 - loss: 0.4638 - auroc: 0.75 - ETA: 2:03:52 - loss: 0.4633 - auroc: 0.75 - ETA: 2:02:32 - loss: 0.4628 - auroc: 0.75 - ETA: 2:01:15 - loss: 0.4628 - auroc: 0.75 - ETA: 1:59:55 - loss: 0.4637 - auroc: 0.75 - ETA: 1:58:36 - loss: 0.4632 - auroc: 0.75 - ETA: 1:57:14 - loss: 0.4631 - auroc: 0.75 - ETA: 1:55:52 - loss: 0.4634 - auroc: 0.75 - ETA: 1:54:30 - loss: 0.4637 - auroc: 0.75 - ETA: 1:53:08 - loss: 0.4639 - auroc: 0.75 - ETA: 1:51:44 - loss: 0.4644 - auroc: 0.75 - ETA: 1:50:21 - loss: 0.4646 - auroc: 0.75 - ETA: 1:48:58 - loss: 0.4642 - auroc: 0.75 - ETA: 1:47:33 - loss: 0.4647 - auroc: 0.75 - ETA: 1:46:08 - loss: 0.4644 - auroc: 0.75 - ETA: 1:44:45 - loss: 0.4643 - auroc: 0.75 - ETA: 1:43:21 - loss: 0.4641 - auroc: 0.75 - ETA: 1:41:58 - loss: 0.4638 - auroc: 0.75 - ETA: 1:40:34 - loss: 0.4643 - auroc: 0.75 - ETA: 1:39:13 - loss: 0.4641 - auroc: 0.75 - ETA: 1:37:50 - loss: 0.4634 - auroc: 0.75 - ETA: 1:36:26 - loss: 0.4627 - auroc: 0.75 - ETA: 1:35:03 - loss: 0.4622 - auroc: 0.75 - ETA: 1:33:40 - loss: 0.4624 - auroc: 0.75 - ETA: 1:32:17 - loss: 0.4624 - auroc: 0.75 - ETA: 1:30:55 - loss: 0.4619 - auroc: 0.75 - ETA: 1:29:33 - loss: 0.4620 - auroc: 0.75 - ETA: 1:28:10 - loss: 0.4620 - auroc: 0.75 - ETA: 1:26:48 - loss: 0.4617 - auroc: 0.75 - ETA: 1:25:26 - loss: 0.4620 - auroc: 0.75 - ETA: 1:24:06 - loss: 0.4620 - auroc: 0.75 - ETA: 1:22:45 - loss: 0.4623 - auroc: 0.75 - ETA: 1:21:25 - loss: 0.4619 - auroc: 0.75 - ETA: 1:20:04 - loss: 0.4617 - auroc: 0.75 - ETA: 1:18:42 - loss: 0.4617 - auroc: 0.75 - ETA: 1:17:20 - loss: 0.4615 - auroc: 0.75 - ETA: 1:15:58 - loss: 0.4617 - auroc: 0.75 - ETA: 1:14:36 - loss: 0.4617 - auroc: 0.75 - ETA: 1:13:14 - loss: 0.4612 - auroc: 0.75 - ETA: 1:11:51 - loss: 0.4611 - auroc: 0.75 - ETA: 1:10:28 - loss: 0.4608 - auroc: 0.75 - ETA: 1:09:06 - loss: 0.4604 - auroc: 0.75 - ETA: 1:07:43 - loss: 0.4600 - auroc: 0.75 - ETA: 1:06:20 - loss: 0.4596 - auroc: 0.75 - ETA: 1:04:58 - loss: 0.4593 - auroc: 0.75 - ETA: 1:03:35 - loss: 0.4590 - auroc: 0.75 - ETA: 1:02:12 - loss: 0.4591 - auroc: 0.75 - ETA: 1:00:49 - loss: 0.4589 - auroc: 0.75 - ETA: 59:26 - loss: 0.4585 - auroc: 0.7542 - ETA: 58:04 - loss: 0.4584 - auroc: 0.75 - ETA: 56:41 - loss: 0.4584 - auroc: 0.75 - ETA: 55:19 - loss: 0.4585 - auroc: 0.75 - ETA: 53:56 - loss: 0.4581 - auroc: 0.75 - ETA: 52:34 - loss: 0.4578 - auroc: 0.75 - ETA: 51:12 - loss: 0.4574 - auroc: 0.75 - ETA: 49:50 - loss: 0.4570 - auroc: 0.75 - ETA: 48:28 - loss: 0.4569 - auroc: 0.75 - ETA: 47:07 - loss: 0.4567 - auroc: 0.75 - ETA: 45:45 - loss: 0.4567 - auroc: 0.75 - ETA: 44:24 - loss: 0.4566 - auroc: 0.75 - ETA: 43:02 - loss: 0.4563 - auroc: 0.75 - ETA: 41:40 - loss: 0.4563 - auroc: 0.75 - ETA: 40:18 - loss: 0.4559 - auroc: 0.75 - ETA: 38:57 - loss: 0.4556 - auroc: 0.75 - ETA: 37:35 - loss: 0.4554 - auroc: 0.75 - ETA: 36:14 - loss: 0.4556 - auroc: 0.75 - ETA: 34:52 - loss: 0.4554 - auroc: 0.75 - ETA: 33:30 - loss: 0.4554 - auroc: 0.75 - ETA: 32:08 - loss: 0.4551 - auroc: 0.75 - ETA: 30:46 - loss: 0.4551 - auroc: 0.75 - ETA: 29:24 - loss: 0.4550 - auroc: 0.75 - ETA: 28:01 - loss: 0.4550 - auroc: 0.75 - ETA: 26:38 - loss: 0.4548 - auroc: 0.75 - ETA: 25:15 - loss: 0.4549 - auroc: 0.75 - ETA: 23:53 - loss: 0.4546 - auroc: 0.75 - ETA: 22:30 - loss: 0.4547 - auroc: 0.75 - ETA: 21:07 - loss: 0.4542 - auroc: 0.75 - ETA: 19:45 - loss: 0.4541 - auroc: 0.75 - ETA: 18:22 - loss: 0.4539 - auroc: 0.75 - ETA: 16:59 - loss: 0.4539 - auroc: 0.75 - ETA: 15:37 - loss: 0.4537 - auroc: 0.75 - ETA: 14:14 - loss: 0.4535 - auroc: 0.75 - ETA: 12:52 - loss: 0.4535 - auroc: 0.75 - ETA: 11:29 - loss: 0.4533 - auroc: 0.75 - ETA: 10:06 - loss: 0.4537 - auroc: 0.75 - ETA: 8:44 - loss: 0.4536 - auroc: 0.7526 - ETA: 7:21 - loss: 0.4535 - auroc: 0.752 - ETA: 5:59 - loss: 0.4535 - auroc: 0.751 - ETA: 4:37 - loss: 0.4535 - auroc: 0.752 - ETA: 3:14 - loss: 0.4538 - auroc: 0.752 - ETA: 1:52 - loss: 0.4534 - auroc: 0.752 - ETA: 29s - loss: 0.4536 - auroc: 0.751 - 13090s 171ms/step - loss: 0.4536 - auroc: 0.7515 - val_loss: 0.4471 - val_auroc: 0.7552\n",
      "\n",
      "Epoch 00006: val_loss improved from 0.48169 to 0.44712, saving model to model_1.h5\n",
      "Epoch 7/20\n"
     ]
    },
    {
     "name": "stdout",
     "output_type": "stream",
     "text": [
      "76473/76473 [==============================] - ETA: 3:23:44 - loss: 0.4214 - auroc: 0.74 - ETA: 3:20:42 - loss: 0.4464 - auroc: 0.75 - ETA: 3:18:36 - loss: 0.4345 - auroc: 0.74 - ETA: 3:17:13 - loss: 0.4479 - auroc: 0.74 - ETA: 3:16:02 - loss: 0.4488 - auroc: 0.75 - ETA: 3:15:02 - loss: 0.4465 - auroc: 0.75 - ETA: 3:13:44 - loss: 0.4478 - auroc: 0.75 - ETA: 3:12:59 - loss: 0.4468 - auroc: 0.74 - ETA: 3:11:58 - loss: 0.4497 - auroc: 0.74 - ETA: 3:11:11 - loss: 0.4472 - auroc: 0.75 - ETA: 3:10:28 - loss: 0.4470 - auroc: 0.74 - ETA: 3:09:34 - loss: 0.4488 - auroc: 0.74 - ETA: 3:08:27 - loss: 0.4473 - auroc: 0.74 - ETA: 3:07:16 - loss: 0.4455 - auroc: 0.74 - ETA: 3:05:56 - loss: 0.4435 - auroc: 0.74 - ETA: 3:04:29 - loss: 0.4446 - auroc: 0.74 - ETA: 3:02:45 - loss: 0.4431 - auroc: 0.75 - ETA: 3:01:20 - loss: 0.4422 - auroc: 0.75 - ETA: 2:59:48 - loss: 0.4422 - auroc: 0.74 - ETA: 2:58:17 - loss: 0.4416 - auroc: 0.75 - ETA: 2:56:47 - loss: 0.4418 - auroc: 0.74 - ETA: 2:55:23 - loss: 0.4416 - auroc: 0.75 - ETA: 2:53:52 - loss: 0.4400 - auroc: 0.75 - ETA: 2:52:23 - loss: 0.4398 - auroc: 0.75 - ETA: 2:50:53 - loss: 0.4405 - auroc: 0.75 - ETA: 2:49:24 - loss: 0.4385 - auroc: 0.75 - ETA: 2:47:54 - loss: 0.4387 - auroc: 0.75 - ETA: 2:46:26 - loss: 0.4385 - auroc: 0.75 - ETA: 2:45:03 - loss: 0.4388 - auroc: 0.75 - ETA: 2:43:37 - loss: 0.4406 - auroc: 0.75 - ETA: 2:42:12 - loss: 0.4410 - auroc: 0.75 - ETA: 2:40:49 - loss: 0.4422 - auroc: 0.75 - ETA: 2:39:25 - loss: 0.4420 - auroc: 0.75 - ETA: 2:38:04 - loss: 0.4411 - auroc: 0.75 - ETA: 2:36:42 - loss: 0.4414 - auroc: 0.75 - ETA: 2:35:20 - loss: 0.4413 - auroc: 0.75 - ETA: 2:33:57 - loss: 0.4421 - auroc: 0.75 - ETA: 2:32:36 - loss: 0.4414 - auroc: 0.75 - ETA: 2:31:15 - loss: 0.4411 - auroc: 0.75 - ETA: 2:29:56 - loss: 0.4407 - auroc: 0.75 - ETA: 2:28:38 - loss: 0.4412 - auroc: 0.75 - ETA: 2:27:21 - loss: 0.4416 - auroc: 0.75 - ETA: 2:26:06 - loss: 0.4412 - auroc: 0.75 - ETA: 2:24:51 - loss: 0.4410 - auroc: 0.75 - ETA: 2:23:30 - loss: 0.4406 - auroc: 0.75 - ETA: 2:22:10 - loss: 0.4407 - auroc: 0.75 - ETA: 2:20:51 - loss: 0.4415 - auroc: 0.75 - ETA: 2:19:29 - loss: 0.4410 - auroc: 0.75 - ETA: 2:18:08 - loss: 0.4411 - auroc: 0.75 - ETA: 2:16:46 - loss: 0.4413 - auroc: 0.75 - ETA: 2:15:22 - loss: 0.4415 - auroc: 0.75 - ETA: 2:13:57 - loss: 0.4416 - auroc: 0.75 - ETA: 2:12:32 - loss: 0.4410 - auroc: 0.75 - ETA: 2:11:05 - loss: 0.4406 - auroc: 0.75 - ETA: 2:09:42 - loss: 0.4411 - auroc: 0.75 - ETA: 2:08:15 - loss: 0.4408 - auroc: 0.75 - ETA: 2:06:52 - loss: 0.4402 - auroc: 0.75 - ETA: 2:05:28 - loss: 0.4402 - auroc: 0.75 - ETA: 2:04:04 - loss: 0.4400 - auroc: 0.75 - ETA: 2:02:39 - loss: 0.4399 - auroc: 0.75 - ETA: 2:01:15 - loss: 0.4396 - auroc: 0.75 - ETA: 1:59:52 - loss: 0.4397 - auroc: 0.75 - ETA: 1:58:29 - loss: 0.4402 - auroc: 0.75 - ETA: 1:57:05 - loss: 0.4399 - auroc: 0.75 - ETA: 1:55:41 - loss: 0.4396 - auroc: 0.75 - ETA: 1:54:17 - loss: 0.4389 - auroc: 0.75 - ETA: 1:52:54 - loss: 0.4392 - auroc: 0.75 - ETA: 1:51:31 - loss: 0.4398 - auroc: 0.75 - ETA: 1:50:08 - loss: 0.4397 - auroc: 0.75 - ETA: 1:48:44 - loss: 0.4391 - auroc: 0.75 - ETA: 1:47:21 - loss: 0.4391 - auroc: 0.75 - ETA: 1:45:58 - loss: 0.4396 - auroc: 0.75 - ETA: 1:44:34 - loss: 0.4386 - auroc: 0.75 - ETA: 1:43:11 - loss: 0.4382 - auroc: 0.75 - ETA: 1:41:49 - loss: 0.4385 - auroc: 0.75 - ETA: 1:40:26 - loss: 0.4379 - auroc: 0.75 - ETA: 1:39:05 - loss: 0.4379 - auroc: 0.75 - ETA: 1:37:43 - loss: 0.4382 - auroc: 0.75 - ETA: 1:36:21 - loss: 0.4377 - auroc: 0.75 - ETA: 1:34:58 - loss: 0.4372 - auroc: 0.75 - ETA: 1:33:37 - loss: 0.4367 - auroc: 0.75 - ETA: 1:32:16 - loss: 0.4362 - auroc: 0.75 - ETA: 1:30:55 - loss: 0.4364 - auroc: 0.75 - ETA: 1:29:36 - loss: 0.4361 - auroc: 0.75 - ETA: 1:28:15 - loss: 0.4354 - auroc: 0.75 - ETA: 1:26:55 - loss: 0.4355 - auroc: 0.75 - ETA: 1:25:34 - loss: 0.4359 - auroc: 0.75 - ETA: 1:24:13 - loss: 0.4357 - auroc: 0.75 - ETA: 1:22:51 - loss: 0.4359 - auroc: 0.75 - ETA: 1:21:29 - loss: 0.4355 - auroc: 0.75 - ETA: 1:20:07 - loss: 0.4354 - auroc: 0.75 - ETA: 1:18:45 - loss: 0.4358 - auroc: 0.75 - ETA: 1:17:22 - loss: 0.4356 - auroc: 0.75 - ETA: 1:15:59 - loss: 0.4353 - auroc: 0.75 - ETA: 1:14:36 - loss: 0.4352 - auroc: 0.75 - ETA: 1:13:13 - loss: 0.4354 - auroc: 0.75 - ETA: 1:11:50 - loss: 0.4353 - auroc: 0.75 - ETA: 1:10:27 - loss: 0.4357 - auroc: 0.75 - ETA: 1:09:04 - loss: 0.4360 - auroc: 0.75 - ETA: 1:07:41 - loss: 0.4359 - auroc: 0.75 - ETA: 1:06:18 - loss: 0.4361 - auroc: 0.75 - ETA: 1:04:55 - loss: 0.4357 - auroc: 0.75 - ETA: 1:03:32 - loss: 0.4356 - auroc: 0.75 - ETA: 1:02:10 - loss: 0.4357 - auroc: 0.75 - ETA: 1:00:47 - loss: 0.4353 - auroc: 0.75 - ETA: 59:24 - loss: 0.4353 - auroc: 0.7538 - ETA: 58:01 - loss: 0.4354 - auroc: 0.75 - ETA: 56:38 - loss: 0.4348 - auroc: 0.75 - ETA: 55:16 - loss: 0.4348 - auroc: 0.75 - ETA: 53:53 - loss: 0.4349 - auroc: 0.75 - ETA: 52:31 - loss: 0.4345 - auroc: 0.75 - ETA: 51:09 - loss: 0.4344 - auroc: 0.75 - ETA: 49:46 - loss: 0.4343 - auroc: 0.75 - ETA: 48:24 - loss: 0.4343 - auroc: 0.75 - ETA: 47:02 - loss: 0.4342 - auroc: 0.75 - ETA: 45:41 - loss: 0.4342 - auroc: 0.75 - ETA: 44:20 - loss: 0.4339 - auroc: 0.75 - ETA: 42:59 - loss: 0.4342 - auroc: 0.75 - ETA: 41:38 - loss: 0.4343 - auroc: 0.75 - ETA: 40:16 - loss: 0.4345 - auroc: 0.75 - ETA: 38:55 - loss: 0.4343 - auroc: 0.75 - ETA: 37:33 - loss: 0.4344 - auroc: 0.75 - ETA: 36:11 - loss: 0.4344 - auroc: 0.75 - ETA: 34:49 - loss: 0.4342 - auroc: 0.75 - ETA: 33:27 - loss: 0.4339 - auroc: 0.75 - ETA: 32:04 - loss: 0.4338 - auroc: 0.75 - ETA: 30:42 - loss: 0.4337 - auroc: 0.75 - ETA: 29:20 - loss: 0.4338 - auroc: 0.75 - ETA: 27:58 - loss: 0.4339 - auroc: 0.75 - ETA: 26:36 - loss: 0.4344 - auroc: 0.75 - ETA: 25:14 - loss: 0.4349 - auroc: 0.75 - ETA: 23:51 - loss: 0.4343 - auroc: 0.75 - ETA: 22:29 - loss: 0.4341 - auroc: 0.75 - ETA: 21:07 - loss: 0.4336 - auroc: 0.75 - ETA: 19:44 - loss: 0.4336 - auroc: 0.75 - ETA: 18:22 - loss: 0.4335 - auroc: 0.75 - ETA: 16:59 - loss: 0.4332 - auroc: 0.75 - ETA: 15:37 - loss: 0.4329 - auroc: 0.75 - ETA: 14:14 - loss: 0.4329 - auroc: 0.75 - ETA: 12:52 - loss: 0.4328 - auroc: 0.75 - ETA: 11:29 - loss: 0.4326 - auroc: 0.75 - ETA: 10:07 - loss: 0.4325 - auroc: 0.75 - ETA: 8:44 - loss: 0.4328 - auroc: 0.7531 - ETA: 7:22 - loss: 0.4324 - auroc: 0.753 - ETA: 5:59 - loss: 0.4321 - auroc: 0.753 - ETA: 4:37 - loss: 0.4321 - auroc: 0.753 - ETA: 3:14 - loss: 0.4319 - auroc: 0.753 - ETA: 1:52 - loss: 0.4319 - auroc: 0.753 - ETA: 29s - loss: 0.4317 - auroc: 0.753 - 13095s 171ms/step - loss: 0.4318 - auroc: 0.7532 - val_loss: 0.4457 - val_auroc: 0.7568\n",
      "\n",
      "Epoch 00007: val_loss improved from 0.44712 to 0.44570, saving model to model_1.h5\n",
      "Epoch 8/20\n",
      "76473/76473 [==============================] - ETA: 3:27:11 - loss: 0.4198 - auroc: 0.79 - ETA: 3:23:23 - loss: 0.4120 - auroc: 0.79 - ETA: 3:20:35 - loss: 0.4130 - auroc: 0.78 - ETA: 3:18:58 - loss: 0.4194 - auroc: 0.77 - ETA: 3:17:17 - loss: 0.4252 - auroc: 0.77 - ETA: 3:15:38 - loss: 0.4264 - auroc: 0.76 - ETA: 3:14:12 - loss: 0.4237 - auroc: 0.76 - ETA: 3:12:40 - loss: 0.4184 - auroc: 0.76 - ETA: 3:11:22 - loss: 0.4163 - auroc: 0.76 - ETA: 3:10:03 - loss: 0.4179 - auroc: 0.76 - ETA: 3:08:57 - loss: 0.4161 - auroc: 0.76 - ETA: 3:07:48 - loss: 0.4171 - auroc: 0.76 - ETA: 3:06:52 - loss: 0.4192 - auroc: 0.75 - ETA: 3:05:59 - loss: 0.4162 - auroc: 0.75 - ETA: 3:05:04 - loss: 0.4128 - auroc: 0.76 - ETA: 3:04:02 - loss: 0.4151 - auroc: 0.76 - ETA: 3:02:49 - loss: 0.4160 - auroc: 0.76 - ETA: 3:01:37 - loss: 0.4163 - auroc: 0.76 - ETA: 3:00:16 - loss: 0.4171 - auroc: 0.76 - ETA: 2:58:46 - loss: 0.4152 - auroc: 0.76 - ETA: 2:57:23 - loss: 0.4164 - auroc: 0.76 - ETA: 2:55:54 - loss: 0.4169 - auroc: 0.76 - ETA: 2:54:26 - loss: 0.4155 - auroc: 0.76 - ETA: 2:52:54 - loss: 0.4147 - auroc: 0.76 - ETA: 2:51:24 - loss: 0.4149 - auroc: 0.76 - ETA: 2:49:54 - loss: 0.4148 - auroc: 0.76 - ETA: 2:48:28 - loss: 0.4150 - auroc: 0.76 - ETA: 2:46:57 - loss: 0.4151 - auroc: 0.76 - ETA: 2:45:29 - loss: 0.4172 - auroc: 0.76 - ETA: 2:44:01 - loss: 0.4168 - auroc: 0.76 - ETA: 2:42:35 - loss: 0.4170 - auroc: 0.75 - ETA: 2:41:07 - loss: 0.4170 - auroc: 0.75 - ETA: 2:39:41 - loss: 0.4168 - auroc: 0.75 - ETA: 2:38:15 - loss: 0.4164 - auroc: 0.75 - ETA: 2:36:49 - loss: 0.4164 - auroc: 0.75 - ETA: 2:35:22 - loss: 0.4167 - auroc: 0.75 - ETA: 2:33:55 - loss: 0.4167 - auroc: 0.75 - ETA: 2:32:29 - loss: 0.4165 - auroc: 0.75 - ETA: 2:31:03 - loss: 0.4166 - auroc: 0.75 - ETA: 2:29:37 - loss: 0.4172 - auroc: 0.75 - ETA: 2:28:12 - loss: 0.4164 - auroc: 0.76 - ETA: 2:26:46 - loss: 0.4179 - auroc: 0.75 - ETA: 2:25:23 - loss: 0.4189 - auroc: 0.75 - ETA: 2:23:59 - loss: 0.4188 - auroc: 0.75 - ETA: 2:22:36 - loss: 0.4186 - auroc: 0.75 - ETA: 2:21:13 - loss: 0.4179 - auroc: 0.75 - ETA: 2:19:51 - loss: 0.4180 - auroc: 0.75 - ETA: 2:18:30 - loss: 0.4179 - auroc: 0.75 - ETA: 2:17:10 - loss: 0.4175 - auroc: 0.75 - ETA: 2:15:50 - loss: 0.4174 - auroc: 0.75 - ETA: 2:14:30 - loss: 0.4170 - auroc: 0.75 - ETA: 2:13:11 - loss: 0.4165 - auroc: 0.75 - ETA: 2:11:54 - loss: 0.4167 - auroc: 0.75 - ETA: 2:10:35 - loss: 0.4170 - auroc: 0.75 - ETA: 2:09:18 - loss: 0.4177 - auroc: 0.75 - ETA: 2:08:01 - loss: 0.4178 - auroc: 0.75 - ETA: 2:06:40 - loss: 0.4173 - auroc: 0.75 - ETA: 2:05:20 - loss: 0.4176 - auroc: 0.75 - ETA: 2:03:59 - loss: 0.4175 - auroc: 0.75 - ETA: 2:02:38 - loss: 0.4172 - auroc: 0.75 - ETA: 2:01:16 - loss: 0.4177 - auroc: 0.75 - ETA: 1:59:52 - loss: 0.4176 - auroc: 0.75 - ETA: 1:58:29 - loss: 0.4182 - auroc: 0.75 - ETA: 1:57:07 - loss: 0.4181 - auroc: 0.75 - ETA: 1:55:42 - loss: 0.4181 - auroc: 0.75 - ETA: 1:54:19 - loss: 0.4176 - auroc: 0.75 - ETA: 1:52:56 - loss: 0.4179 - auroc: 0.75 - ETA: 1:51:33 - loss: 0.4173 - auroc: 0.75 - ETA: 1:50:09 - loss: 0.4169 - auroc: 0.75 - ETA: 1:48:45 - loss: 0.4170 - auroc: 0.75 - ETA: 1:47:21 - loss: 0.4166 - auroc: 0.75 - ETA: 1:45:58 - loss: 0.4172 - auroc: 0.75 - ETA: 1:44:35 - loss: 0.4171 - auroc: 0.75 - ETA: 1:43:11 - loss: 0.4172 - auroc: 0.75 - ETA: 1:41:48 - loss: 0.4168 - auroc: 0.75 - ETA: 1:40:25 - loss: 0.4171 - auroc: 0.75 - ETA: 1:39:01 - loss: 0.4167 - auroc: 0.75 - ETA: 1:37:38 - loss: 0.4169 - auroc: 0.75 - ETA: 1:36:15 - loss: 0.4166 - auroc: 0.75 - ETA: 1:34:53 - loss: 0.4168 - auroc: 0.75 - ETA: 1:33:31 - loss: 0.4174 - auroc: 0.75 - ETA: 1:32:08 - loss: 0.4171 - auroc: 0.75 - ETA: 1:30:46 - loss: 0.4172 - auroc: 0.75 - ETA: 1:29:24 - loss: 0.4171 - auroc: 0.75 - ETA: 1:28:03 - loss: 0.4169 - auroc: 0.75 - ETA: 1:26:41 - loss: 0.4170 - auroc: 0.75 - ETA: 1:25:19 - loss: 0.4173 - auroc: 0.75 - ETA: 1:23:58 - loss: 0.4174 - auroc: 0.75 - ETA: 1:22:37 - loss: 0.4175 - auroc: 0.75 - ETA: 1:21:16 - loss: 0.4180 - auroc: 0.75 - ETA: 1:19:55 - loss: 0.4183 - auroc: 0.75 - ETA: 1:18:36 - loss: 0.4181 - auroc: 0.75 - ETA: 1:17:15 - loss: 0.4186 - auroc: 0.75 - ETA: 1:15:54 - loss: 0.4188 - auroc: 0.75 - ETA: 1:14:32 - loss: 0.4185 - auroc: 0.75 - ETA: 1:13:10 - loss: 0.4188 - auroc: 0.75 - ETA: 1:11:48 - loss: 0.4192 - auroc: 0.75 - ETA: 1:10:26 - loss: 0.4193 - auroc: 0.75 - ETA: 1:09:03 - loss: 0.4194 - auroc: 0.75 - ETA: 1:07:41 - loss: 0.4194 - auroc: 0.75 - ETA: 1:06:18 - loss: 0.4192 - auroc: 0.75 - ETA: 1:04:55 - loss: 0.4188 - auroc: 0.75 - ETA: 1:03:33 - loss: 0.4189 - auroc: 0.75 - ETA: 1:02:10 - loss: 0.4191 - auroc: 0.75 - ETA: 1:00:47 - loss: 0.4193 - auroc: 0.75 - ETA: 59:24 - loss: 0.4196 - auroc: 0.7565 - ETA: 58:02 - loss: 0.4199 - auroc: 0.75 - ETA: 56:40 - loss: 0.4201 - auroc: 0.75 - ETA: 55:17 - loss: 0.4200 - auroc: 0.75 - ETA: 53:55 - loss: 0.4200 - auroc: 0.75 - ETA: 52:34 - loss: 0.4201 - auroc: 0.75 - ETA: 51:13 - loss: 0.4205 - auroc: 0.75 - ETA: 49:52 - loss: 0.4206 - auroc: 0.75 - ETA: 48:31 - loss: 0.4210 - auroc: 0.75 - ETA: 47:10 - loss: 0.4209 - auroc: 0.75 - ETA: 45:48 - loss: 0.4210 - auroc: 0.75 - ETA: 44:27 - loss: 0.4213 - auroc: 0.75 - ETA: 43:05 - loss: 0.4215 - auroc: 0.75 - ETA: 41:42 - loss: 0.4213 - auroc: 0.75 - ETA: 40:20 - loss: 0.4215 - auroc: 0.75 - ETA: 38:57 - loss: 0.4219 - auroc: 0.75 - ETA: 37:35 - loss: 0.4220 - auroc: 0.75 - ETA: 36:12 - loss: 0.4219 - auroc: 0.75 - ETA: 34:49 - loss: 0.4221 - auroc: 0.75 - ETA: 33:27 - loss: 0.4220 - auroc: 0.75 - ETA: 32:04 - loss: 0.4221 - auroc: 0.75 - ETA: 30:42 - loss: 0.4215 - auroc: 0.75 - ETA: 29:20 - loss: 0.4212 - auroc: 0.75 - ETA: 27:58 - loss: 0.4213 - auroc: 0.75 - ETA: 26:35 - loss: 0.4209 - auroc: 0.75 - ETA: 25:13 - loss: 0.4210 - auroc: 0.75 - ETA: 23:51 - loss: 0.4209 - auroc: 0.75 - ETA: 22:29 - loss: 0.4206 - auroc: 0.75 - ETA: 21:07 - loss: 0.4207 - auroc: 0.75 - ETA: 19:44 - loss: 0.4202 - auroc: 0.75 - ETA: 18:22 - loss: 0.4198 - auroc: 0.75 - ETA: 16:59 - loss: 0.4199 - auroc: 0.75 - ETA: 15:37 - loss: 0.4200 - auroc: 0.75 - ETA: 14:14 - loss: 0.4202 - auroc: 0.75 - ETA: 12:52 - loss: 0.4197 - auroc: 0.75 - ETA: 11:29 - loss: 0.4202 - auroc: 0.75 - ETA: 10:07 - loss: 0.4206 - auroc: 0.75 - ETA: 8:44 - loss: 0.4207 - auroc: 0.7547 - ETA: 7:22 - loss: 0.4204 - auroc: 0.754 - ETA: 5:59 - loss: 0.4204 - auroc: 0.754 - ETA: 4:37 - loss: 0.4203 - auroc: 0.754 - ETA: 3:14 - loss: 0.4206 - auroc: 0.754 - ETA: 1:52 - loss: 0.4207 - auroc: 0.754 - ETA: 29s - loss: 0.4206 - auroc: 0.754 - 13099s 171ms/step - loss: 0.4206 - auroc: 0.7546 - val_loss: 0.4215 - val_auroc: 0.7595\n",
      "\n",
      "Epoch 00008: val_loss improved from 0.44570 to 0.42149, saving model to model_1.h5\n",
      "Epoch 9/20\n"
     ]
    },
    {
     "name": "stdout",
     "output_type": "stream",
     "text": [
      "76473/76473 [==============================] - ETA: 3:24:15 - loss: 0.4339 - auroc: 0.73 - ETA: 3:20:57 - loss: 0.4226 - auroc: 0.76 - ETA: 3:18:54 - loss: 0.4179 - auroc: 0.76 - ETA: 3:17:12 - loss: 0.4114 - auroc: 0.76 - ETA: 3:15:42 - loss: 0.4160 - auroc: 0.76 - ETA: 3:14:09 - loss: 0.4172 - auroc: 0.76 - ETA: 3:12:30 - loss: 0.4092 - auroc: 0.77 - ETA: 3:11:13 - loss: 0.4059 - auroc: 0.77 - ETA: 3:10:06 - loss: 0.4064 - auroc: 0.77 - ETA: 3:08:43 - loss: 0.4085 - auroc: 0.77 - ETA: 3:07:32 - loss: 0.4119 - auroc: 0.77 - ETA: 3:06:11 - loss: 0.4130 - auroc: 0.77 - ETA: 3:05:06 - loss: 0.4137 - auroc: 0.77 - ETA: 3:03:59 - loss: 0.4140 - auroc: 0.77 - ETA: 3:02:49 - loss: 0.4118 - auroc: 0.77 - ETA: 3:01:44 - loss: 0.4107 - auroc: 0.76 - ETA: 3:00:44 - loss: 0.4128 - auroc: 0.76 - ETA: 2:59:42 - loss: 0.4158 - auroc: 0.76 - ETA: 2:58:43 - loss: 0.4170 - auroc: 0.76 - ETA: 2:57:36 - loss: 0.4178 - auroc: 0.76 - ETA: 2:56:23 - loss: 0.4153 - auroc: 0.76 - ETA: 2:55:06 - loss: 0.4133 - auroc: 0.76 - ETA: 2:53:50 - loss: 0.4167 - auroc: 0.76 - ETA: 2:52:27 - loss: 0.4157 - auroc: 0.76 - ETA: 2:51:06 - loss: 0.4152 - auroc: 0.76 - ETA: 2:49:43 - loss: 0.4145 - auroc: 0.76 - ETA: 2:48:20 - loss: 0.4138 - auroc: 0.76 - ETA: 2:46:53 - loss: 0.4134 - auroc: 0.76 - ETA: 2:45:24 - loss: 0.4130 - auroc: 0.76 - ETA: 2:44:00 - loss: 0.4124 - auroc: 0.76 - ETA: 2:42:32 - loss: 0.4122 - auroc: 0.76 - ETA: 2:41:06 - loss: 0.4124 - auroc: 0.76 - ETA: 2:39:38 - loss: 0.4126 - auroc: 0.76 - ETA: 2:38:11 - loss: 0.4122 - auroc: 0.76 - ETA: 2:36:45 - loss: 0.4117 - auroc: 0.76 - ETA: 2:35:20 - loss: 0.4125 - auroc: 0.76 - ETA: 2:33:54 - loss: 0.4129 - auroc: 0.76 - ETA: 2:32:32 - loss: 0.4128 - auroc: 0.76 - ETA: 2:31:07 - loss: 0.4123 - auroc: 0.76 - ETA: 2:29:43 - loss: 0.4114 - auroc: 0.76 - ETA: 2:28:18 - loss: 0.4119 - auroc: 0.76 - ETA: 2:26:53 - loss: 0.4119 - auroc: 0.76 - ETA: 2:25:27 - loss: 0.4116 - auroc: 0.76 - ETA: 2:24:03 - loss: 0.4116 - auroc: 0.76 - ETA: 2:22:41 - loss: 0.4121 - auroc: 0.76 - ETA: 2:21:17 - loss: 0.4135 - auroc: 0.76 - ETA: 2:19:54 - loss: 0.4125 - auroc: 0.76 - ETA: 2:18:32 - loss: 0.4118 - auroc: 0.76 - ETA: 2:17:11 - loss: 0.4119 - auroc: 0.76 - ETA: 2:15:51 - loss: 0.4114 - auroc: 0.76 - ETA: 2:14:31 - loss: 0.4117 - auroc: 0.76 - ETA: 2:13:11 - loss: 0.4112 - auroc: 0.76 - ETA: 2:11:52 - loss: 0.4109 - auroc: 0.76 - ETA: 2:10:33 - loss: 0.4104 - auroc: 0.76 - ETA: 2:09:14 - loss: 0.4092 - auroc: 0.76 - ETA: 2:07:56 - loss: 0.4099 - auroc: 0.76 - ETA: 2:06:40 - loss: 0.4095 - auroc: 0.76 - ETA: 2:05:21 - loss: 0.4094 - auroc: 0.76 - ETA: 2:04:01 - loss: 0.4097 - auroc: 0.76 - ETA: 2:02:40 - loss: 0.4094 - auroc: 0.76 - ETA: 2:01:19 - loss: 0.4097 - auroc: 0.76 - ETA: 1:59:57 - loss: 0.4094 - auroc: 0.76 - ETA: 1:58:34 - loss: 0.4092 - auroc: 0.76 - ETA: 1:57:12 - loss: 0.4096 - auroc: 0.76 - ETA: 1:55:48 - loss: 0.4102 - auroc: 0.76 - ETA: 1:54:25 - loss: 0.4098 - auroc: 0.76 - ETA: 1:53:02 - loss: 0.4102 - auroc: 0.76 - ETA: 1:51:38 - loss: 0.4109 - auroc: 0.76 - ETA: 1:50:15 - loss: 0.4108 - auroc: 0.76 - ETA: 1:48:51 - loss: 0.4112 - auroc: 0.76 - ETA: 1:47:28 - loss: 0.4106 - auroc: 0.76 - ETA: 1:46:04 - loss: 0.4098 - auroc: 0.76 - ETA: 1:44:41 - loss: 0.4099 - auroc: 0.76 - ETA: 1:43:18 - loss: 0.4097 - auroc: 0.76 - ETA: 1:41:55 - loss: 0.4096 - auroc: 0.76 - ETA: 1:40:32 - loss: 0.4097 - auroc: 0.76 - ETA: 1:39:09 - loss: 0.4098 - auroc: 0.76 - ETA: 1:37:46 - loss: 0.4104 - auroc: 0.76 - ETA: 1:36:23 - loss: 0.4102 - auroc: 0.76 - ETA: 1:35:00 - loss: 0.4109 - auroc: 0.76 - ETA: 1:33:37 - loss: 0.4105 - auroc: 0.76 - ETA: 1:32:14 - loss: 0.4106 - auroc: 0.76 - ETA: 1:30:52 - loss: 0.4099 - auroc: 0.76 - ETA: 1:29:29 - loss: 0.4103 - auroc: 0.76 - ETA: 1:28:06 - loss: 0.4105 - auroc: 0.76 - ETA: 1:26:44 - loss: 0.4109 - auroc: 0.76 - ETA: 1:25:21 - loss: 0.4108 - auroc: 0.76 - ETA: 1:23:59 - loss: 0.4111 - auroc: 0.76 - ETA: 1:22:38 - loss: 0.4112 - auroc: 0.76 - ETA: 1:21:17 - loss: 0.4112 - auroc: 0.76 - ETA: 1:19:56 - loss: 0.4118 - auroc: 0.76 - ETA: 1:18:36 - loss: 0.4125 - auroc: 0.76 - ETA: 1:17:15 - loss: 0.4125 - auroc: 0.76 - ETA: 1:15:53 - loss: 0.4126 - auroc: 0.76 - ETA: 1:14:32 - loss: 0.4130 - auroc: 0.76 - ETA: 1:13:10 - loss: 0.4129 - auroc: 0.76 - ETA: 1:11:48 - loss: 0.4125 - auroc: 0.76 - ETA: 1:10:26 - loss: 0.4124 - auroc: 0.76 - ETA: 1:09:03 - loss: 0.4124 - auroc: 0.76 - ETA: 1:07:40 - loss: 0.4120 - auroc: 0.76 - ETA: 1:06:18 - loss: 0.4120 - auroc: 0.76 - ETA: 1:04:55 - loss: 0.4121 - auroc: 0.76 - ETA: 1:03:32 - loss: 0.4124 - auroc: 0.76 - ETA: 1:02:10 - loss: 0.4123 - auroc: 0.76 - ETA: 1:00:48 - loss: 0.4126 - auroc: 0.76 - ETA: 59:27 - loss: 0.4128 - auroc: 0.7599 - ETA: 58:06 - loss: 0.4129 - auroc: 0.76 - ETA: 56:46 - loss: 0.4129 - auroc: 0.75 - ETA: 55:24 - loss: 0.4130 - auroc: 0.75 - ETA: 54:04 - loss: 0.4129 - auroc: 0.75 - ETA: 52:43 - loss: 0.4131 - auroc: 0.75 - ETA: 51:21 - loss: 0.4129 - auroc: 0.75 - ETA: 50:00 - loss: 0.4131 - auroc: 0.75 - ETA: 48:37 - loss: 0.4130 - auroc: 0.75 - ETA: 47:14 - loss: 0.4131 - auroc: 0.75 - ETA: 45:51 - loss: 0.4134 - auroc: 0.75 - ETA: 44:28 - loss: 0.4133 - auroc: 0.75 - ETA: 43:06 - loss: 0.4135 - auroc: 0.75 - ETA: 41:43 - loss: 0.4137 - auroc: 0.75 - ETA: 40:20 - loss: 0.4137 - auroc: 0.75 - ETA: 38:57 - loss: 0.4134 - auroc: 0.75 - ETA: 37:34 - loss: 0.4133 - auroc: 0.75 - ETA: 36:11 - loss: 0.4130 - auroc: 0.75 - ETA: 34:49 - loss: 0.4127 - auroc: 0.75 - ETA: 33:26 - loss: 0.4129 - auroc: 0.75 - ETA: 32:04 - loss: 0.4129 - auroc: 0.75 - ETA: 30:41 - loss: 0.4128 - auroc: 0.75 - ETA: 29:19 - loss: 0.4126 - auroc: 0.75 - ETA: 27:56 - loss: 0.4125 - auroc: 0.75 - ETA: 26:34 - loss: 0.4127 - auroc: 0.75 - ETA: 25:11 - loss: 0.4125 - auroc: 0.75 - ETA: 23:49 - loss: 0.4126 - auroc: 0.75 - ETA: 22:27 - loss: 0.4125 - auroc: 0.75 - ETA: 21:05 - loss: 0.4121 - auroc: 0.75 - ETA: 19:42 - loss: 0.4122 - auroc: 0.75 - ETA: 18:20 - loss: 0.4119 - auroc: 0.75 - ETA: 16:58 - loss: 0.4118 - auroc: 0.75 - ETA: 15:36 - loss: 0.4122 - auroc: 0.75 - ETA: 14:14 - loss: 0.4123 - auroc: 0.75 - ETA: 12:51 - loss: 0.4122 - auroc: 0.75 - ETA: 11:29 - loss: 0.4122 - auroc: 0.75 - ETA: 10:06 - loss: 0.4123 - auroc: 0.75 - ETA: 8:44 - loss: 0.4126 - auroc: 0.7577 - ETA: 7:21 - loss: 0.4129 - auroc: 0.757 - ETA: 5:59 - loss: 0.4128 - auroc: 0.757 - ETA: 4:37 - loss: 0.4128 - auroc: 0.757 - ETA: 3:14 - loss: 0.4129 - auroc: 0.757 - ETA: 1:52 - loss: 0.4125 - auroc: 0.757 - ETA: 29s - loss: 0.4123 - auroc: 0.758 - 13092s 171ms/step - loss: 0.4123 - auroc: 0.7580 - val_loss: 0.4111 - val_auroc: 0.7588\n",
      "\n",
      "Epoch 00009: val_loss improved from 0.42149 to 0.41111, saving model to model_1.h5\n",
      "Epoch 10/20\n",
      "76473/76473 [==============================] - ETA: 3:23:08 - loss: 0.4132 - auroc: 0.73 - ETA: 3:21:25 - loss: 0.4056 - auroc: 0.72 - ETA: 3:18:59 - loss: 0.4124 - auroc: 0.73 - ETA: 3:17:40 - loss: 0.4083 - auroc: 0.73 - ETA: 3:16:30 - loss: 0.4057 - auroc: 0.73 - ETA: 3:14:55 - loss: 0.4066 - auroc: 0.72 - ETA: 3:13:22 - loss: 0.4084 - auroc: 0.73 - ETA: 3:12:02 - loss: 0.4039 - auroc: 0.73 - ETA: 3:10:46 - loss: 0.4055 - auroc: 0.73 - ETA: 3:09:23 - loss: 0.4075 - auroc: 0.73 - ETA: 3:08:00 - loss: 0.4071 - auroc: 0.74 - ETA: 3:06:35 - loss: 0.4037 - auroc: 0.74 - ETA: 3:05:09 - loss: 0.4037 - auroc: 0.75 - ETA: 3:03:40 - loss: 0.4008 - auroc: 0.75 - ETA: 3:02:15 - loss: 0.4023 - auroc: 0.75 - ETA: 3:00:52 - loss: 0.4017 - auroc: 0.75 - ETA: 2:59:31 - loss: 0.4015 - auroc: 0.75 - ETA: 2:58:10 - loss: 0.3995 - auroc: 0.76 - ETA: 2:56:45 - loss: 0.3996 - auroc: 0.76 - ETA: 2:55:23 - loss: 0.3982 - auroc: 0.76 - ETA: 2:54:05 - loss: 0.3998 - auroc: 0.76 - ETA: 2:52:47 - loss: 0.3984 - auroc: 0.76 - ETA: 2:51:28 - loss: 0.3979 - auroc: 0.76 - ETA: 2:50:15 - loss: 0.3963 - auroc: 0.76 - ETA: 2:48:56 - loss: 0.3962 - auroc: 0.76 - ETA: 2:47:36 - loss: 0.3983 - auroc: 0.76 - ETA: 2:46:20 - loss: 0.3966 - auroc: 0.76 - ETA: 2:45:08 - loss: 0.3968 - auroc: 0.76 - ETA: 2:43:56 - loss: 0.3977 - auroc: 0.76 - ETA: 2:42:43 - loss: 0.3974 - auroc: 0.76 - ETA: 2:41:32 - loss: 0.3974 - auroc: 0.76 - ETA: 2:40:21 - loss: 0.3984 - auroc: 0.76 - ETA: 2:39:07 - loss: 0.3975 - auroc: 0.76 - ETA: 2:37:53 - loss: 0.3975 - auroc: 0.76 - ETA: 2:36:37 - loss: 0.3968 - auroc: 0.76 - ETA: 2:35:20 - loss: 0.3979 - auroc: 0.76 - ETA: 2:33:57 - loss: 0.3966 - auroc: 0.76 - ETA: 2:32:38 - loss: 0.3969 - auroc: 0.76 - ETA: 2:31:15 - loss: 0.3975 - auroc: 0.76 - ETA: 2:29:53 - loss: 0.3967 - auroc: 0.76 - ETA: 2:28:28 - loss: 0.3978 - auroc: 0.76 - ETA: 2:27:05 - loss: 0.3982 - auroc: 0.76 - ETA: 2:25:41 - loss: 0.3980 - auroc: 0.76 - ETA: 2:24:18 - loss: 0.3983 - auroc: 0.76 - ETA: 2:22:54 - loss: 0.3986 - auroc: 0.76 - ETA: 2:21:32 - loss: 0.3993 - auroc: 0.76 - ETA: 2:20:07 - loss: 0.3994 - auroc: 0.76 - ETA: 2:18:44 - loss: 0.3999 - auroc: 0.76 - ETA: 2:17:21 - loss: 0.3996 - auroc: 0.76 - ETA: 2:15:56 - loss: 0.4011 - auroc: 0.76 - ETA: 2:14:33 - loss: 0.4006 - auroc: 0.76 - ETA: 2:13:09 - loss: 0.4005 - auroc: 0.76 - ETA: 2:11:44 - loss: 0.4012 - auroc: 0.76 - ETA: 2:10:19 - loss: 0.4013 - auroc: 0.76 - ETA: 2:08:57 - loss: 0.4008 - auroc: 0.76 - ETA: 2:07:34 - loss: 0.4008 - auroc: 0.76 - ETA: 2:06:11 - loss: 0.4011 - auroc: 0.76 - ETA: 2:04:49 - loss: 0.4016 - auroc: 0.76 - ETA: 2:03:26 - loss: 0.4020 - auroc: 0.76 - ETA: 2:02:03 - loss: 0.4025 - auroc: 0.76 - ETA: 2:00:40 - loss: 0.4030 - auroc: 0.76 - ETA: 1:59:17 - loss: 0.4031 - auroc: 0.76 - ETA: 1:57:55 - loss: 0.4036 - auroc: 0.76 - ETA: 1:56:32 - loss: 0.4042 - auroc: 0.76 - ETA: 1:55:10 - loss: 0.4048 - auroc: 0.76 - ETA: 1:53:48 - loss: 0.4046 - auroc: 0.75 - ETA: 1:52:25 - loss: 0.4038 - auroc: 0.76 - ETA: 1:51:04 - loss: 0.4039 - auroc: 0.75 - ETA: 1:49:43 - loss: 0.4039 - auroc: 0.75 - ETA: 1:48:22 - loss: 0.4033 - auroc: 0.76 - ETA: 1:47:01 - loss: 0.4034 - auroc: 0.76 - ETA: 1:45:39 - loss: 0.4033 - auroc: 0.76 - ETA: 1:44:18 - loss: 0.4028 - auroc: 0.76 - ETA: 1:42:58 - loss: 0.4038 - auroc: 0.75 - ETA: 1:41:38 - loss: 0.4038 - auroc: 0.75 - ETA: 1:40:17 - loss: 0.4040 - auroc: 0.75 - ETA: 1:38:57 - loss: 0.4037 - auroc: 0.75 - ETA: 1:37:39 - loss: 0.4036 - auroc: 0.75 - ETA: 1:36:19 - loss: 0.4031 - auroc: 0.76 - ETA: 1:34:59 - loss: 0.4039 - auroc: 0.75 - ETA: 1:33:38 - loss: 0.4040 - auroc: 0.75 - ETA: 1:32:17 - loss: 0.4038 - auroc: 0.75 - ETA: 1:30:56 - loss: 0.4038 - auroc: 0.75 - ETA: 1:29:34 - loss: 0.4032 - auroc: 0.75 - ETA: 1:28:12 - loss: 0.4041 - auroc: 0.75 - ETA: 1:26:50 - loss: 0.4046 - auroc: 0.75 - ETA: 1:25:28 - loss: 0.4049 - auroc: 0.75 - ETA: 1:24:05 - loss: 0.4044 - auroc: 0.75 - ETA: 1:22:43 - loss: 0.4041 - auroc: 0.75 - ETA: 1:21:21 - loss: 0.4042 - auroc: 0.75 - ETA: 1:19:58 - loss: 0.4047 - auroc: 0.75 - ETA: 1:18:35 - loss: 0.4052 - auroc: 0.75 - ETA: 1:17:12 - loss: 0.4053 - auroc: 0.75 - ETA: 1:15:50 - loss: 0.4054 - auroc: 0.75 - ETA: 1:14:26 - loss: 0.4056 - auroc: 0.75 - ETA: 1:13:04 - loss: 0.4059 - auroc: 0.75 - ETA: 1:11:41 - loss: 0.4058 - auroc: 0.75 - ETA: 1:10:18 - loss: 0.4061 - auroc: 0.75 - ETA: 1:08:55 - loss: 0.4062 - auroc: 0.75 - ETA: 1:07:32 - loss: 0.4061 - auroc: 0.75 - ETA: 1:06:11 - loss: 0.4058 - auroc: 0.75 - ETA: 1:04:51 - loss: 0.4056 - auroc: 0.75 - ETA: 1:03:30 - loss: 0.4055 - auroc: 0.75 - ETA: 1:02:10 - loss: 0.4054 - auroc: 0.75 - ETA: 1:00:50 - loss: 0.4057 - auroc: 0.75 - ETA: 59:29 - loss: 0.4056 - auroc: 0.7573 - ETA: 58:08 - loss: 0.4054 - auroc: 0.75 - ETA: 56:47 - loss: 0.4048 - auroc: 0.75 - ETA: 55:26 - loss: 0.4054 - auroc: 0.75 - ETA: 54:03 - loss: 0.4052 - auroc: 0.75 - ETA: 52:40 - loss: 0.4052 - auroc: 0.75 - ETA: 51:17 - loss: 0.4050 - auroc: 0.75 - ETA: 49:54 - loss: 0.4045 - auroc: 0.75 - ETA: 48:31 - loss: 0.4051 - auroc: 0.75 - ETA: 47:09 - loss: 0.4048 - auroc: 0.75 - ETA: 45:46 - loss: 0.4048 - auroc: 0.75 - ETA: 44:23 - loss: 0.4052 - auroc: 0.75 - ETA: 43:01 - loss: 0.4055 - auroc: 0.75 - ETA: 41:38 - loss: 0.4053 - auroc: 0.75 - ETA: 40:15 - loss: 0.4047 - auroc: 0.75 - ETA: 38:53 - loss: 0.4046 - auroc: 0.75 - ETA: 37:30 - loss: 0.4047 - auroc: 0.75 - ETA: 36:07 - loss: 0.4045 - auroc: 0.75 - ETA: 34:45 - loss: 0.4046 - auroc: 0.75 - ETA: 33:23 - loss: 0.4048 - auroc: 0.75 - ETA: 32:00 - loss: 0.4048 - auroc: 0.75 - ETA: 30:38 - loss: 0.4048 - auroc: 0.75 - ETA: 29:16 - loss: 0.4047 - auroc: 0.75 - ETA: 27:53 - loss: 0.4051 - auroc: 0.75 - ETA: 26:31 - loss: 0.4053 - auroc: 0.75 - ETA: 25:09 - loss: 0.4053 - auroc: 0.75 - ETA: 23:47 - loss: 0.4054 - auroc: 0.75 - ETA: 22:25 - loss: 0.4054 - auroc: 0.75 - ETA: 21:03 - loss: 0.4054 - auroc: 0.75 - ETA: 19:41 - loss: 0.4052 - auroc: 0.75 - ETA: 18:19 - loss: 0.4048 - auroc: 0.75 - ETA: 16:56 - loss: 0.4049 - auroc: 0.75 - ETA: 15:34 - loss: 0.4047 - auroc: 0.75 - ETA: 14:12 - loss: 0.4044 - auroc: 0.75 - ETA: 12:50 - loss: 0.4041 - auroc: 0.75 - ETA: 11:28 - loss: 0.4042 - auroc: 0.75 - ETA: 10:06 - loss: 0.4041 - auroc: 0.75 - ETA: 8:43 - loss: 0.4043 - auroc: 0.7591 - ETA: 7:21 - loss: 0.4046 - auroc: 0.759 - ETA: 5:59 - loss: 0.4045 - auroc: 0.758 - ETA: 4:36 - loss: 0.4046 - auroc: 0.758 - ETA: 3:14 - loss: 0.4046 - auroc: 0.758 - ETA: 1:52 - loss: 0.4046 - auroc: 0.758 - ETA: 29s - loss: 0.4047 - auroc: 0.758 - 13078s 171ms/step - loss: 0.4045 - auroc: 0.7588 - val_loss: 0.4100 - val_auroc: 0.7551\n",
      "\n",
      "Epoch 00010: val_loss improved from 0.41111 to 0.41001, saving model to model_1.h5\n",
      "Epoch 11/20\n"
     ]
    },
    {
     "name": "stdout",
     "output_type": "stream",
     "text": [
      "76473/76473 [==============================] - ETA: 3:27:54 - loss: 0.3927 - auroc: 0.76 - ETA: 3:23:12 - loss: 0.4084 - auroc: 0.75 - ETA: 3:20:51 - loss: 0.4162 - auroc: 0.75 - ETA: 3:19:08 - loss: 0.3989 - auroc: 0.76 - ETA: 3:17:36 - loss: 0.3973 - auroc: 0.75 - ETA: 3:16:08 - loss: 0.3891 - auroc: 0.76 - ETA: 3:14:42 - loss: 0.3969 - auroc: 0.76 - ETA: 3:13:24 - loss: 0.3925 - auroc: 0.76 - ETA: 3:11:54 - loss: 0.3952 - auroc: 0.76 - ETA: 3:10:16 - loss: 0.3922 - auroc: 0.76 - ETA: 3:08:49 - loss: 0.3903 - auroc: 0.76 - ETA: 3:07:11 - loss: 0.3861 - auroc: 0.77 - ETA: 3:05:41 - loss: 0.3887 - auroc: 0.77 - ETA: 3:04:19 - loss: 0.3923 - auroc: 0.76 - ETA: 3:02:55 - loss: 0.3897 - auroc: 0.76 - ETA: 3:01:25 - loss: 0.3908 - auroc: 0.76 - ETA: 3:00:03 - loss: 0.3912 - auroc: 0.77 - ETA: 2:58:38 - loss: 0.3946 - auroc: 0.76 - ETA: 2:57:06 - loss: 0.3939 - auroc: 0.76 - ETA: 2:55:37 - loss: 0.3938 - auroc: 0.76 - ETA: 2:54:12 - loss: 0.3915 - auroc: 0.77 - ETA: 2:52:45 - loss: 0.3915 - auroc: 0.77 - ETA: 2:51:22 - loss: 0.3922 - auroc: 0.77 - ETA: 2:49:53 - loss: 0.3910 - auroc: 0.77 - ETA: 2:48:30 - loss: 0.3932 - auroc: 0.77 - ETA: 2:47:09 - loss: 0.3961 - auroc: 0.76 - ETA: 2:45:52 - loss: 0.3966 - auroc: 0.76 - ETA: 2:44:27 - loss: 0.3980 - auroc: 0.76 - ETA: 2:43:05 - loss: 0.3976 - auroc: 0.76 - ETA: 2:41:43 - loss: 0.3977 - auroc: 0.76 - ETA: 2:40:20 - loss: 0.3969 - auroc: 0.76 - ETA: 2:39:00 - loss: 0.3971 - auroc: 0.76 - ETA: 2:37:37 - loss: 0.3975 - auroc: 0.76 - ETA: 2:36:15 - loss: 0.3980 - auroc: 0.76 - ETA: 2:34:53 - loss: 0.3995 - auroc: 0.76 - ETA: 2:33:32 - loss: 0.4000 - auroc: 0.76 - ETA: 2:32:09 - loss: 0.4000 - auroc: 0.76 - ETA: 2:30:48 - loss: 0.3997 - auroc: 0.76 - ETA: 2:29:26 - loss: 0.3994 - auroc: 0.76 - ETA: 2:28:08 - loss: 0.4001 - auroc: 0.76 - ETA: 2:26:47 - loss: 0.4013 - auroc: 0.76 - ETA: 2:25:29 - loss: 0.4007 - auroc: 0.76 - ETA: 2:24:13 - loss: 0.4006 - auroc: 0.76 - ETA: 2:22:55 - loss: 0.4016 - auroc: 0.76 - ETA: 2:21:36 - loss: 0.4025 - auroc: 0.76 - ETA: 2:20:20 - loss: 0.4013 - auroc: 0.76 - ETA: 2:19:01 - loss: 0.4002 - auroc: 0.76 - ETA: 2:17:44 - loss: 0.4004 - auroc: 0.76 - ETA: 2:16:28 - loss: 0.3996 - auroc: 0.76 - ETA: 2:15:11 - loss: 0.4001 - auroc: 0.76 - ETA: 2:13:57 - loss: 0.4001 - auroc: 0.76 - ETA: 2:12:41 - loss: 0.3997 - auroc: 0.76 - ETA: 2:11:24 - loss: 0.4000 - auroc: 0.76 - ETA: 2:10:07 - loss: 0.3999 - auroc: 0.76 - ETA: 2:08:47 - loss: 0.3999 - auroc: 0.76 - ETA: 2:07:29 - loss: 0.3990 - auroc: 0.76 - ETA: 2:06:07 - loss: 0.3988 - auroc: 0.76 - ETA: 2:04:44 - loss: 0.3986 - auroc: 0.76 - ETA: 2:03:22 - loss: 0.3991 - auroc: 0.76 - ETA: 2:02:00 - loss: 0.3985 - auroc: 0.76 - ETA: 2:00:37 - loss: 0.3984 - auroc: 0.76 - ETA: 1:59:16 - loss: 0.3986 - auroc: 0.76 - ETA: 1:57:53 - loss: 0.3988 - auroc: 0.76 - ETA: 1:56:31 - loss: 0.3996 - auroc: 0.76 - ETA: 1:55:08 - loss: 0.3995 - auroc: 0.76 - ETA: 1:53:44 - loss: 0.3999 - auroc: 0.76 - ETA: 1:52:22 - loss: 0.4003 - auroc: 0.76 - ETA: 1:50:59 - loss: 0.4007 - auroc: 0.76 - ETA: 1:49:36 - loss: 0.4008 - auroc: 0.76 - ETA: 1:48:13 - loss: 0.4005 - auroc: 0.76 - ETA: 1:46:49 - loss: 0.4008 - auroc: 0.76 - ETA: 1:45:26 - loss: 0.4003 - auroc: 0.76 - ETA: 1:44:04 - loss: 0.4009 - auroc: 0.76 - ETA: 1:42:42 - loss: 0.4003 - auroc: 0.76 - ETA: 1:41:20 - loss: 0.4006 - auroc: 0.76 - ETA: 1:39:57 - loss: 0.4013 - auroc: 0.76 - ETA: 1:38:34 - loss: 0.4010 - auroc: 0.76 - ETA: 1:37:12 - loss: 0.4006 - auroc: 0.76 - ETA: 1:35:49 - loss: 0.4011 - auroc: 0.76 - ETA: 1:34:26 - loss: 0.4014 - auroc: 0.76 - ETA: 1:33:04 - loss: 0.4010 - auroc: 0.76 - ETA: 1:31:42 - loss: 0.4010 - auroc: 0.76 - ETA: 1:30:19 - loss: 0.4008 - auroc: 0.76 - ETA: 1:28:57 - loss: 0.4007 - auroc: 0.76 - ETA: 1:27:35 - loss: 0.4006 - auroc: 0.76 - ETA: 1:26:12 - loss: 0.4004 - auroc: 0.76 - ETA: 1:24:51 - loss: 0.4002 - auroc: 0.76 - ETA: 1:23:29 - loss: 0.4002 - auroc: 0.76 - ETA: 1:22:07 - loss: 0.4004 - auroc: 0.76 - ETA: 1:20:45 - loss: 0.4005 - auroc: 0.76 - ETA: 1:19:23 - loss: 0.4004 - auroc: 0.76 - ETA: 1:18:01 - loss: 0.4001 - auroc: 0.76 - ETA: 1:16:39 - loss: 0.3998 - auroc: 0.76 - ETA: 1:15:17 - loss: 0.3995 - auroc: 0.76 - ETA: 1:13:55 - loss: 0.4000 - auroc: 0.76 - ETA: 1:12:34 - loss: 0.3998 - auroc: 0.76 - ETA: 1:11:12 - loss: 0.3998 - auroc: 0.76 - ETA: 1:09:51 - loss: 0.4001 - auroc: 0.76 - ETA: 1:08:31 - loss: 0.4003 - auroc: 0.76 - ETA: 1:07:11 - loss: 0.4004 - auroc: 0.76 - ETA: 1:05:52 - loss: 0.4002 - auroc: 0.76 - ETA: 1:04:32 - loss: 0.4003 - auroc: 0.76 - ETA: 1:03:12 - loss: 0.4002 - auroc: 0.76 - ETA: 1:01:52 - loss: 0.4006 - auroc: 0.76 - ETA: 1:00:32 - loss: 0.4006 - auroc: 0.76 - ETA: 59:11 - loss: 0.4007 - auroc: 0.7625 - ETA: 57:49 - loss: 0.4007 - auroc: 0.76 - ETA: 56:26 - loss: 0.4008 - auroc: 0.76 - ETA: 55:04 - loss: 0.4005 - auroc: 0.76 - ETA: 53:42 - loss: 0.4010 - auroc: 0.76 - ETA: 52:20 - loss: 0.4007 - auroc: 0.76 - ETA: 50:58 - loss: 0.4008 - auroc: 0.76 - ETA: 49:36 - loss: 0.4005 - auroc: 0.76 - ETA: 48:14 - loss: 0.4007 - auroc: 0.76 - ETA: 46:52 - loss: 0.4006 - auroc: 0.76 - ETA: 45:30 - loss: 0.4006 - auroc: 0.76 - ETA: 44:08 - loss: 0.4007 - auroc: 0.76 - ETA: 42:46 - loss: 0.4010 - auroc: 0.76 - ETA: 41:24 - loss: 0.4011 - auroc: 0.76 - ETA: 40:03 - loss: 0.4012 - auroc: 0.76 - ETA: 38:41 - loss: 0.4009 - auroc: 0.76 - ETA: 37:19 - loss: 0.4006 - auroc: 0.76 - ETA: 35:58 - loss: 0.4008 - auroc: 0.76 - ETA: 34:36 - loss: 0.4008 - auroc: 0.76 - ETA: 33:15 - loss: 0.4014 - auroc: 0.76 - ETA: 31:54 - loss: 0.4014 - auroc: 0.76 - ETA: 30:32 - loss: 0.4011 - auroc: 0.76 - ETA: 29:11 - loss: 0.4011 - auroc: 0.76 - ETA: 27:49 - loss: 0.4013 - auroc: 0.76 - ETA: 26:27 - loss: 0.4013 - auroc: 0.76 - ETA: 25:05 - loss: 0.4013 - auroc: 0.76 - ETA: 23:43 - loss: 0.4016 - auroc: 0.76 - ETA: 22:21 - loss: 0.4013 - auroc: 0.76 - ETA: 20:59 - loss: 0.4017 - auroc: 0.76 - ETA: 19:37 - loss: 0.4020 - auroc: 0.76 - ETA: 18:15 - loss: 0.4020 - auroc: 0.76 - ETA: 16:53 - loss: 0.4019 - auroc: 0.76 - ETA: 15:31 - loss: 0.4020 - auroc: 0.76 - ETA: 14:09 - loss: 0.4020 - auroc: 0.76 - ETA: 12:47 - loss: 0.4018 - auroc: 0.76 - ETA: 11:25 - loss: 0.4017 - auroc: 0.76 - ETA: 10:03 - loss: 0.4018 - auroc: 0.75 - ETA: 8:41 - loss: 0.4023 - auroc: 0.7598 - ETA: 7:19 - loss: 0.4024 - auroc: 0.759 - ETA: 5:57 - loss: 0.4026 - auroc: 0.759 - ETA: 4:35 - loss: 0.4026 - auroc: 0.759 - ETA: 3:13 - loss: 0.4025 - auroc: 0.759 - ETA: 1:51 - loss: 0.4025 - auroc: 0.759 - ETA: 29s - loss: 0.4026 - auroc: 0.759 - 13020s 170ms/step - loss: 0.4025 - auroc: 0.7596 - val_loss: 0.4085 - val_auroc: 0.7579\n",
      "\n",
      "Epoch 00011: val_loss improved from 0.41001 to 0.40851, saving model to model_1.h5\n",
      "Epoch 12/20\n",
      "76473/76473 [==============================] - ETA: 3:26:09 - loss: 0.3726 - auroc: 0.75 - ETA: 3:21:35 - loss: 0.3903 - auroc: 0.74 - ETA: 3:19:44 - loss: 0.3924 - auroc: 0.74 - ETA: 3:17:35 - loss: 0.3917 - auroc: 0.74 - ETA: 3:15:46 - loss: 0.4030 - auroc: 0.74 - ETA: 3:14:05 - loss: 0.3989 - auroc: 0.75 - ETA: 3:12:37 - loss: 0.3964 - auroc: 0.77 - ETA: 3:11:16 - loss: 0.4005 - auroc: 0.76 - ETA: 3:10:04 - loss: 0.4021 - auroc: 0.75 - ETA: 3:08:49 - loss: 0.3974 - auroc: 0.76 - ETA: 3:07:18 - loss: 0.3974 - auroc: 0.76 - ETA: 3:06:02 - loss: 0.3985 - auroc: 0.76 - ETA: 3:04:42 - loss: 0.3967 - auroc: 0.76 - ETA: 3:03:29 - loss: 0.3949 - auroc: 0.76 - ETA: 3:02:18 - loss: 0.3962 - auroc: 0.75 - ETA: 3:01:01 - loss: 0.3936 - auroc: 0.75 - ETA: 2:59:47 - loss: 0.3937 - auroc: 0.75 - ETA: 2:58:33 - loss: 0.3920 - auroc: 0.76 - ETA: 2:57:20 - loss: 0.3932 - auroc: 0.76 - ETA: 2:56:06 - loss: 0.3927 - auroc: 0.76 - ETA: 2:54:51 - loss: 0.3931 - auroc: 0.76 - ETA: 2:53:42 - loss: 0.3952 - auroc: 0.75 - ETA: 2:52:30 - loss: 0.3940 - auroc: 0.76 - ETA: 2:51:27 - loss: 0.3929 - auroc: 0.76 - ETA: 2:50:17 - loss: 0.3930 - auroc: 0.76 - ETA: 2:49:06 - loss: 0.3924 - auroc: 0.76 - ETA: 2:47:51 - loss: 0.3934 - auroc: 0.76 - ETA: 2:46:30 - loss: 0.3931 - auroc: 0.76 - ETA: 2:45:09 - loss: 0.3936 - auroc: 0.75 - ETA: 2:43:45 - loss: 0.3951 - auroc: 0.75 - ETA: 2:42:19 - loss: 0.3967 - auroc: 0.75 - ETA: 2:40:54 - loss: 0.3956 - auroc: 0.75 - ETA: 2:39:33 - loss: 0.3954 - auroc: 0.75 - ETA: 2:38:09 - loss: 0.3945 - auroc: 0.75 - ETA: 2:36:43 - loss: 0.3935 - auroc: 0.75 - ETA: 2:35:19 - loss: 0.3948 - auroc: 0.75 - ETA: 2:33:53 - loss: 0.3959 - auroc: 0.75 - ETA: 2:32:26 - loss: 0.3965 - auroc: 0.75 - ETA: 2:30:59 - loss: 0.3955 - auroc: 0.75 - ETA: 2:29:34 - loss: 0.3946 - auroc: 0.75 - ETA: 2:28:09 - loss: 0.3953 - auroc: 0.75 - ETA: 2:26:44 - loss: 0.3958 - auroc: 0.75 - ETA: 2:25:20 - loss: 0.3962 - auroc: 0.75 - ETA: 2:23:55 - loss: 0.3960 - auroc: 0.75 - ETA: 2:22:30 - loss: 0.3961 - auroc: 0.75 - ETA: 2:21:05 - loss: 0.3958 - auroc: 0.75 - ETA: 2:19:42 - loss: 0.3955 - auroc: 0.75 - ETA: 2:18:17 - loss: 0.3955 - auroc: 0.75 - ETA: 2:16:54 - loss: 0.3954 - auroc: 0.75 - ETA: 2:15:31 - loss: 0.3955 - auroc: 0.75 - ETA: 2:14:09 - loss: 0.3951 - auroc: 0.75 - ETA: 2:12:46 - loss: 0.3948 - auroc: 0.75 - ETA: 2:11:22 - loss: 0.3945 - auroc: 0.75 - ETA: 2:09:59 - loss: 0.3954 - auroc: 0.75 - ETA: 2:08:36 - loss: 0.3958 - auroc: 0.75 - ETA: 2:07:13 - loss: 0.3966 - auroc: 0.75 - ETA: 2:05:50 - loss: 0.3967 - auroc: 0.75 - ETA: 2:04:27 - loss: 0.3972 - auroc: 0.75 - ETA: 2:03:05 - loss: 0.3972 - auroc: 0.75 - ETA: 2:01:44 - loss: 0.3973 - auroc: 0.75 - ETA: 2:00:23 - loss: 0.3973 - auroc: 0.75 - ETA: 1:59:01 - loss: 0.3980 - auroc: 0.75 - ETA: 1:57:40 - loss: 0.3985 - auroc: 0.75 - ETA: 1:56:20 - loss: 0.3983 - auroc: 0.75 - ETA: 1:54:59 - loss: 0.3990 - auroc: 0.75 - ETA: 1:53:38 - loss: 0.3991 - auroc: 0.75 - ETA: 1:52:19 - loss: 0.3996 - auroc: 0.75 - ETA: 1:50:59 - loss: 0.3991 - auroc: 0.75 - ETA: 1:49:40 - loss: 0.3991 - auroc: 0.75 - ETA: 1:48:21 - loss: 0.3992 - auroc: 0.75 - ETA: 1:47:03 - loss: 0.4000 - auroc: 0.75 - ETA: 1:45:43 - loss: 0.3994 - auroc: 0.75 - ETA: 1:44:23 - loss: 0.3991 - auroc: 0.75 - ETA: 1:43:04 - loss: 0.3994 - auroc: 0.75 - ETA: 1:41:43 - loss: 0.3994 - auroc: 0.75 - ETA: 1:40:23 - loss: 0.3998 - auroc: 0.75 - ETA: 1:39:01 - loss: 0.4001 - auroc: 0.75 - ETA: 1:37:40 - loss: 0.4005 - auroc: 0.75 - ETA: 1:36:18 - loss: 0.4005 - auroc: 0.75 - ETA: 1:34:56 - loss: 0.4010 - auroc: 0.75 - ETA: 1:33:33 - loss: 0.4014 - auroc: 0.75 - ETA: 1:32:10 - loss: 0.4014 - auroc: 0.75 - ETA: 1:30:49 - loss: 0.4016 - auroc: 0.75 - ETA: 1:29:26 - loss: 0.4015 - auroc: 0.75 - ETA: 1:28:03 - loss: 0.4017 - auroc: 0.75 - ETA: 1:26:40 - loss: 0.4014 - auroc: 0.75 - ETA: 1:25:18 - loss: 0.4008 - auroc: 0.75 - ETA: 1:23:55 - loss: 0.4006 - auroc: 0.75 - ETA: 1:22:33 - loss: 0.4003 - auroc: 0.75 - ETA: 1:21:10 - loss: 0.4000 - auroc: 0.75 - ETA: 1:19:47 - loss: 0.4005 - auroc: 0.75 - ETA: 1:18:24 - loss: 0.4001 - auroc: 0.75 - ETA: 1:17:01 - loss: 0.3999 - auroc: 0.75 - ETA: 1:15:39 - loss: 0.3995 - auroc: 0.75 - ETA: 1:14:19 - loss: 0.3996 - auroc: 0.75 - ETA: 1:12:59 - loss: 0.3994 - auroc: 0.75 - ETA: 1:11:40 - loss: 0.3994 - auroc: 0.75 - ETA: 1:10:20 - loss: 0.3994 - auroc: 0.75 - ETA: 1:09:00 - loss: 0.3991 - auroc: 0.75 - ETA: 1:07:40 - loss: 0.3993 - auroc: 0.75 - ETA: 1:06:19 - loss: 0.3993 - auroc: 0.75 - ETA: 1:04:59 - loss: 0.3989 - auroc: 0.75 - ETA: 1:03:35 - loss: 0.3987 - auroc: 0.75 - ETA: 1:02:12 - loss: 0.3992 - auroc: 0.75 - ETA: 1:00:49 - loss: 0.3986 - auroc: 0.75 - ETA: 59:26 - loss: 0.3986 - auroc: 0.7593 - ETA: 58:03 - loss: 0.3985 - auroc: 0.75 - ETA: 56:40 - loss: 0.3984 - auroc: 0.75 - ETA: 55:17 - loss: 0.3985 - auroc: 0.75 - ETA: 53:54 - loss: 0.3986 - auroc: 0.75 - ETA: 52:31 - loss: 0.3985 - auroc: 0.75 - ETA: 51:09 - loss: 0.3983 - auroc: 0.75 - ETA: 49:46 - loss: 0.3986 - auroc: 0.75 - ETA: 48:24 - loss: 0.3986 - auroc: 0.75 - ETA: 47:01 - loss: 0.3987 - auroc: 0.75 - ETA: 45:39 - loss: 0.3989 - auroc: 0.75 - ETA: 44:16 - loss: 0.3986 - auroc: 0.75 - ETA: 42:54 - loss: 0.3988 - auroc: 0.75 - ETA: 41:32 - loss: 0.3986 - auroc: 0.75 - ETA: 40:09 - loss: 0.3983 - auroc: 0.75 - ETA: 38:47 - loss: 0.3986 - auroc: 0.75 - ETA: 37:25 - loss: 0.3983 - auroc: 0.75 - ETA: 36:03 - loss: 0.3986 - auroc: 0.75 - ETA: 34:40 - loss: 0.3983 - auroc: 0.75 - ETA: 33:18 - loss: 0.3981 - auroc: 0.75 - ETA: 31:56 - loss: 0.3979 - auroc: 0.75 - ETA: 30:34 - loss: 0.3980 - auroc: 0.75 - ETA: 29:12 - loss: 0.3979 - auroc: 0.75 - ETA: 27:51 - loss: 0.3979 - auroc: 0.75 - ETA: 26:29 - loss: 0.3983 - auroc: 0.75 - ETA: 25:07 - loss: 0.3982 - auroc: 0.75 - ETA: 23:45 - loss: 0.3985 - auroc: 0.75 - ETA: 22:24 - loss: 0.3987 - auroc: 0.75 - ETA: 21:02 - loss: 0.3988 - auroc: 0.75 - ETA: 19:40 - loss: 0.3989 - auroc: 0.75 - ETA: 18:18 - loss: 0.3990 - auroc: 0.75 - ETA: 16:56 - loss: 0.3991 - auroc: 0.75 - ETA: 15:33 - loss: 0.3993 - auroc: 0.75 - ETA: 14:11 - loss: 0.3993 - auroc: 0.75 - ETA: 12:49 - loss: 0.3994 - auroc: 0.75 - ETA: 11:27 - loss: 0.3992 - auroc: 0.75 - ETA: 10:05 - loss: 0.3989 - auroc: 0.75 - ETA: 8:42 - loss: 0.3992 - auroc: 0.7588 - ETA: 7:20 - loss: 0.3992 - auroc: 0.758 - ETA: 5:58 - loss: 0.3993 - auroc: 0.759 - ETA: 4:36 - loss: 0.3991 - auroc: 0.759 - ETA: 3:14 - loss: 0.3990 - auroc: 0.759 - ETA: 1:51 - loss: 0.3990 - auroc: 0.759 - ETA: 29s - loss: 0.3991 - auroc: 0.759 - 13054s 171ms/step - loss: 0.3990 - auroc: 0.7595 - val_loss: 0.4070 - val_auroc: 0.7562\n",
      "\n",
      "Epoch 00012: val_loss improved from 0.40851 to 0.40700, saving model to model_1.h5\n",
      "Epoch 13/20\n"
     ]
    },
    {
     "name": "stdout",
     "output_type": "stream",
     "text": [
      "76473/76473 [==============================] - ETA: 3:22:15 - loss: 0.3744 - auroc: 0.78 - ETA: 3:19:29 - loss: 0.4129 - auroc: 0.75 - ETA: 3:17:40 - loss: 0.4082 - auroc: 0.76 - ETA: 3:16:11 - loss: 0.4077 - auroc: 0.76 - ETA: 3:15:07 - loss: 0.4119 - auroc: 0.76 - ETA: 3:13:52 - loss: 0.4111 - auroc: 0.77 - ETA: 3:12:31 - loss: 0.4082 - auroc: 0.77 - ETA: 3:11:15 - loss: 0.4061 - auroc: 0.77 - ETA: 3:09:55 - loss: 0.4005 - auroc: 0.77 - ETA: 3:08:25 - loss: 0.3981 - auroc: 0.77 - ETA: 3:06:52 - loss: 0.3964 - auroc: 0.78 - ETA: 3:05:31 - loss: 0.3973 - auroc: 0.78 - ETA: 3:04:03 - loss: 0.3982 - auroc: 0.78 - ETA: 3:02:45 - loss: 0.3999 - auroc: 0.78 - ETA: 3:01:19 - loss: 0.3986 - auroc: 0.78 - ETA: 2:59:57 - loss: 0.3988 - auroc: 0.78 - ETA: 2:58:38 - loss: 0.3973 - auroc: 0.77 - ETA: 2:57:21 - loss: 0.3964 - auroc: 0.77 - ETA: 2:55:58 - loss: 0.3975 - auroc: 0.77 - ETA: 2:54:33 - loss: 0.3983 - auroc: 0.77 - ETA: 2:53:11 - loss: 0.3995 - auroc: 0.77 - ETA: 2:51:52 - loss: 0.3974 - auroc: 0.77 - ETA: 2:50:32 - loss: 0.3973 - auroc: 0.77 - ETA: 2:49:17 - loss: 0.3971 - auroc: 0.77 - ETA: 2:47:59 - loss: 0.3957 - auroc: 0.77 - ETA: 2:46:42 - loss: 0.3954 - auroc: 0.77 - ETA: 2:45:25 - loss: 0.3955 - auroc: 0.76 - ETA: 2:44:08 - loss: 0.3950 - auroc: 0.76 - ETA: 2:42:58 - loss: 0.3942 - auroc: 0.76 - ETA: 2:41:42 - loss: 0.3933 - auroc: 0.77 - ETA: 2:40:32 - loss: 0.3927 - auroc: 0.77 - ETA: 2:39:19 - loss: 0.3947 - auroc: 0.76 - ETA: 2:38:07 - loss: 0.3940 - auroc: 0.76 - ETA: 2:36:57 - loss: 0.3938 - auroc: 0.76 - ETA: 2:35:47 - loss: 0.3933 - auroc: 0.76 - ETA: 2:34:36 - loss: 0.3933 - auroc: 0.76 - ETA: 2:33:23 - loss: 0.3934 - auroc: 0.76 - ETA: 2:32:05 - loss: 0.3937 - auroc: 0.76 - ETA: 2:30:50 - loss: 0.3936 - auroc: 0.76 - ETA: 2:29:29 - loss: 0.3928 - auroc: 0.76 - ETA: 2:28:10 - loss: 0.3940 - auroc: 0.76 - ETA: 2:26:46 - loss: 0.3937 - auroc: 0.76 - ETA: 2:25:23 - loss: 0.3942 - auroc: 0.76 - ETA: 2:23:59 - loss: 0.3952 - auroc: 0.76 - ETA: 2:22:38 - loss: 0.3947 - auroc: 0.76 - ETA: 2:21:16 - loss: 0.3954 - auroc: 0.76 - ETA: 2:19:53 - loss: 0.3960 - auroc: 0.76 - ETA: 2:18:31 - loss: 0.3964 - auroc: 0.76 - ETA: 2:17:08 - loss: 0.3961 - auroc: 0.76 - ETA: 2:15:44 - loss: 0.3961 - auroc: 0.76 - ETA: 2:14:21 - loss: 0.3969 - auroc: 0.76 - ETA: 2:12:58 - loss: 0.3970 - auroc: 0.76 - ETA: 2:11:35 - loss: 0.3975 - auroc: 0.76 - ETA: 2:10:12 - loss: 0.3980 - auroc: 0.76 - ETA: 2:08:49 - loss: 0.3978 - auroc: 0.76 - ETA: 2:07:26 - loss: 0.3978 - auroc: 0.76 - ETA: 2:06:04 - loss: 0.3979 - auroc: 0.76 - ETA: 2:04:43 - loss: 0.3975 - auroc: 0.76 - ETA: 2:03:20 - loss: 0.3973 - auroc: 0.76 - ETA: 2:01:57 - loss: 0.3974 - auroc: 0.76 - ETA: 2:00:35 - loss: 0.3974 - auroc: 0.76 - ETA: 1:59:14 - loss: 0.3969 - auroc: 0.76 - ETA: 1:57:53 - loss: 0.3964 - auroc: 0.76 - ETA: 1:56:33 - loss: 0.3957 - auroc: 0.76 - ETA: 1:55:12 - loss: 0.3960 - auroc: 0.76 - ETA: 1:53:54 - loss: 0.3964 - auroc: 0.76 - ETA: 1:52:34 - loss: 0.3962 - auroc: 0.76 - ETA: 1:51:15 - loss: 0.3957 - auroc: 0.76 - ETA: 1:49:56 - loss: 0.3963 - auroc: 0.76 - ETA: 1:48:37 - loss: 0.3960 - auroc: 0.76 - ETA: 1:47:17 - loss: 0.3956 - auroc: 0.76 - ETA: 1:45:56 - loss: 0.3960 - auroc: 0.76 - ETA: 1:44:35 - loss: 0.3965 - auroc: 0.76 - ETA: 1:43:14 - loss: 0.3960 - auroc: 0.76 - ETA: 1:41:52 - loss: 0.3953 - auroc: 0.76 - ETA: 1:40:30 - loss: 0.3947 - auroc: 0.76 - ETA: 1:39:07 - loss: 0.3957 - auroc: 0.76 - ETA: 1:37:45 - loss: 0.3950 - auroc: 0.76 - ETA: 1:36:23 - loss: 0.3949 - auroc: 0.76 - ETA: 1:35:00 - loss: 0.3948 - auroc: 0.76 - ETA: 1:33:37 - loss: 0.3948 - auroc: 0.76 - ETA: 1:32:14 - loss: 0.3946 - auroc: 0.76 - ETA: 1:30:52 - loss: 0.3944 - auroc: 0.76 - ETA: 1:29:29 - loss: 0.3945 - auroc: 0.76 - ETA: 1:28:06 - loss: 0.3951 - auroc: 0.76 - ETA: 1:26:43 - loss: 0.3953 - auroc: 0.76 - ETA: 1:25:20 - loss: 0.3955 - auroc: 0.76 - ETA: 1:23:58 - loss: 0.3956 - auroc: 0.76 - ETA: 1:22:35 - loss: 0.3956 - auroc: 0.76 - ETA: 1:21:13 - loss: 0.3960 - auroc: 0.76 - ETA: 1:19:54 - loss: 0.3960 - auroc: 0.76 - ETA: 1:18:34 - loss: 0.3960 - auroc: 0.76 - ETA: 1:17:14 - loss: 0.3967 - auroc: 0.76 - ETA: 1:15:55 - loss: 0.3969 - auroc: 0.76 - ETA: 1:14:35 - loss: 0.3966 - auroc: 0.76 - ETA: 1:13:14 - loss: 0.3967 - auroc: 0.76 - ETA: 1:11:54 - loss: 0.3966 - auroc: 0.76 - ETA: 1:10:34 - loss: 0.3963 - auroc: 0.76 - ETA: 1:09:10 - loss: 0.3963 - auroc: 0.76 - ETA: 1:07:47 - loss: 0.3963 - auroc: 0.76 - ETA: 1:06:24 - loss: 0.3966 - auroc: 0.76 - ETA: 1:05:02 - loss: 0.3966 - auroc: 0.76 - ETA: 1:03:39 - loss: 0.3964 - auroc: 0.76 - ETA: 1:02:16 - loss: 0.3962 - auroc: 0.76 - ETA: 1:00:53 - loss: 0.3966 - auroc: 0.76 - ETA: 59:30 - loss: 0.3971 - auroc: 0.7642 - ETA: 58:08 - loss: 0.3973 - auroc: 0.76 - ETA: 56:45 - loss: 0.3972 - auroc: 0.76 - ETA: 55:22 - loss: 0.3973 - auroc: 0.76 - ETA: 54:00 - loss: 0.3970 - auroc: 0.76 - ETA: 52:37 - loss: 0.3971 - auroc: 0.76 - ETA: 51:15 - loss: 0.3971 - auroc: 0.76 - ETA: 49:53 - loss: 0.3969 - auroc: 0.76 - ETA: 48:31 - loss: 0.3970 - auroc: 0.76 - ETA: 47:09 - loss: 0.3972 - auroc: 0.76 - ETA: 45:47 - loss: 0.3970 - auroc: 0.76 - ETA: 44:25 - loss: 0.3970 - auroc: 0.76 - ETA: 43:03 - loss: 0.3971 - auroc: 0.76 - ETA: 41:42 - loss: 0.3969 - auroc: 0.76 - ETA: 40:20 - loss: 0.3970 - auroc: 0.76 - ETA: 38:58 - loss: 0.3968 - auroc: 0.76 - ETA: 37:36 - loss: 0.3969 - auroc: 0.76 - ETA: 36:14 - loss: 0.3970 - auroc: 0.76 - ETA: 34:51 - loss: 0.3967 - auroc: 0.76 - ETA: 33:29 - loss: 0.3965 - auroc: 0.76 - ETA: 32:06 - loss: 0.3968 - auroc: 0.76 - ETA: 30:44 - loss: 0.3966 - auroc: 0.76 - ETA: 29:21 - loss: 0.3966 - auroc: 0.76 - ETA: 27:58 - loss: 0.3966 - auroc: 0.76 - ETA: 26:36 - loss: 0.3966 - auroc: 0.76 - ETA: 25:14 - loss: 0.3966 - auroc: 0.76 - ETA: 23:51 - loss: 0.3966 - auroc: 0.76 - ETA: 22:28 - loss: 0.3967 - auroc: 0.76 - ETA: 21:06 - loss: 0.3967 - auroc: 0.76 - ETA: 19:43 - loss: 0.3968 - auroc: 0.76 - ETA: 18:21 - loss: 0.3970 - auroc: 0.76 - ETA: 16:58 - loss: 0.3969 - auroc: 0.76 - ETA: 15:36 - loss: 0.3971 - auroc: 0.76 - ETA: 14:13 - loss: 0.3970 - auroc: 0.76 - ETA: 12:51 - loss: 0.3971 - auroc: 0.76 - ETA: 11:28 - loss: 0.3969 - auroc: 0.76 - ETA: 10:06 - loss: 0.3967 - auroc: 0.76 - ETA: 8:43 - loss: 0.3967 - auroc: 0.7623 - ETA: 7:21 - loss: 0.3967 - auroc: 0.762 - ETA: 5:59 - loss: 0.3968 - auroc: 0.762 - ETA: 4:36 - loss: 0.3969 - auroc: 0.761 - ETA: 3:14 - loss: 0.3971 - auroc: 0.761 - ETA: 1:52 - loss: 0.3972 - auroc: 0.761 - ETA: 29s - loss: 0.3975 - auroc: 0.761 - 13088s 171ms/step - loss: 0.3975 - auroc: 0.7613 - val_loss: 0.4072 - val_auroc: 0.7584\n",
      "\n",
      "Epoch 00013: val_loss did not improve from 0.40700\n",
      "\n",
      "Epoch 00013: ReduceLROnPlateau reducing learning rate to 0.00020000000949949026.\n",
      "Epoch 14/20\n",
      "76473/76473 [==============================] - ETA: 3:27:43 - loss: 0.4407 - auroc: 0.72 - ETA: 3:24:20 - loss: 0.4075 - auroc: 0.76 - ETA: 3:21:32 - loss: 0.3949 - auroc: 0.76 - ETA: 3:19:09 - loss: 0.3933 - auroc: 0.76 - ETA: 3:17:15 - loss: 0.3920 - auroc: 0.76 - ETA: 3:15:36 - loss: 0.4020 - auroc: 0.76 - ETA: 3:13:53 - loss: 0.4028 - auroc: 0.76 - ETA: 3:12:29 - loss: 0.3977 - auroc: 0.76 - ETA: 3:11:07 - loss: 0.4009 - auroc: 0.76 - ETA: 3:09:31 - loss: 0.3982 - auroc: 0.77 - ETA: 3:08:13 - loss: 0.3961 - auroc: 0.77 - ETA: 3:06:52 - loss: 0.3935 - auroc: 0.77 - ETA: 3:05:27 - loss: 0.3941 - auroc: 0.77 - ETA: 3:04:05 - loss: 0.3902 - auroc: 0.77 - ETA: 3:02:39 - loss: 0.3893 - auroc: 0.77 - ETA: 3:01:14 - loss: 0.3885 - auroc: 0.77 - ETA: 2:59:54 - loss: 0.3858 - auroc: 0.77 - ETA: 2:58:36 - loss: 0.3853 - auroc: 0.77 - ETA: 2:57:17 - loss: 0.3845 - auroc: 0.77 - ETA: 2:55:55 - loss: 0.3863 - auroc: 0.77 - ETA: 2:54:35 - loss: 0.3867 - auroc: 0.76 - ETA: 2:53:16 - loss: 0.3852 - auroc: 0.76 - ETA: 2:51:57 - loss: 0.3851 - auroc: 0.76 - ETA: 2:50:38 - loss: 0.3858 - auroc: 0.76 - ETA: 2:49:20 - loss: 0.3845 - auroc: 0.76 - ETA: 2:47:59 - loss: 0.3856 - auroc: 0.76 - ETA: 2:46:39 - loss: 0.3848 - auroc: 0.76 - ETA: 2:45:18 - loss: 0.3863 - auroc: 0.76 - ETA: 2:44:04 - loss: 0.3863 - auroc: 0.76 - ETA: 2:42:41 - loss: 0.3843 - auroc: 0.76 - ETA: 2:41:22 - loss: 0.3859 - auroc: 0.76 - ETA: 2:40:02 - loss: 0.3856 - auroc: 0.76 - ETA: 2:38:42 - loss: 0.3847 - auroc: 0.76 - ETA: 2:37:17 - loss: 0.3841 - auroc: 0.76 - ETA: 2:35:55 - loss: 0.3844 - auroc: 0.76 - ETA: 2:34:34 - loss: 0.3844 - auroc: 0.76 - ETA: 2:33:15 - loss: 0.3839 - auroc: 0.76 - ETA: 2:31:58 - loss: 0.3833 - auroc: 0.76 - ETA: 2:30:37 - loss: 0.3841 - auroc: 0.76 - ETA: 2:29:21 - loss: 0.3857 - auroc: 0.76 - ETA: 2:28:02 - loss: 0.3865 - auroc: 0.76 - ETA: 2:26:43 - loss: 0.3861 - auroc: 0.76 - ETA: 2:25:23 - loss: 0.3865 - auroc: 0.76 - ETA: 2:24:03 - loss: 0.3860 - auroc: 0.76 - ETA: 2:22:44 - loss: 0.3865 - auroc: 0.76 - ETA: 2:21:28 - loss: 0.3859 - auroc: 0.76 - ETA: 2:20:10 - loss: 0.3858 - auroc: 0.76 - ETA: 2:18:55 - loss: 0.3852 - auroc: 0.76 - ETA: 2:17:40 - loss: 0.3869 - auroc: 0.76 - ETA: 2:16:26 - loss: 0.3857 - auroc: 0.76 - ETA: 2:15:08 - loss: 0.3847 - auroc: 0.76 - ETA: 2:13:48 - loss: 0.3843 - auroc: 0.76 - ETA: 2:12:28 - loss: 0.3841 - auroc: 0.76 - ETA: 2:11:06 - loss: 0.3847 - auroc: 0.76 - ETA: 2:09:46 - loss: 0.3850 - auroc: 0.76 - ETA: 2:08:23 - loss: 0.3842 - auroc: 0.76 - ETA: 2:07:00 - loss: 0.3841 - auroc: 0.76 - ETA: 2:05:38 - loss: 0.3837 - auroc: 0.77 - ETA: 2:04:15 - loss: 0.3839 - auroc: 0.77 - ETA: 2:02:50 - loss: 0.3831 - auroc: 0.77 - ETA: 2:01:27 - loss: 0.3832 - auroc: 0.77 - ETA: 2:00:04 - loss: 0.3830 - auroc: 0.77 - ETA: 1:58:40 - loss: 0.3828 - auroc: 0.77 - ETA: 1:57:16 - loss: 0.3828 - auroc: 0.77 - ETA: 1:55:53 - loss: 0.3826 - auroc: 0.77 - ETA: 1:54:30 - loss: 0.3821 - auroc: 0.77 - ETA: 1:53:06 - loss: 0.3822 - auroc: 0.77 - ETA: 1:51:42 - loss: 0.3817 - auroc: 0.77 - ETA: 1:50:19 - loss: 0.3816 - auroc: 0.77 - ETA: 1:48:55 - loss: 0.3817 - auroc: 0.77 - ETA: 1:47:31 - loss: 0.3818 - auroc: 0.77 - ETA: 1:46:08 - loss: 0.3819 - auroc: 0.77 - ETA: 1:44:45 - loss: 0.3820 - auroc: 0.77 - ETA: 1:43:22 - loss: 0.3819 - auroc: 0.77 - ETA: 1:41:59 - loss: 0.3819 - auroc: 0.77 - ETA: 1:40:35 - loss: 0.3819 - auroc: 0.77 - ETA: 1:39:11 - loss: 0.3816 - auroc: 0.77 - ETA: 1:37:48 - loss: 0.3818 - auroc: 0.77 - ETA: 1:36:24 - loss: 0.3815 - auroc: 0.77 - ETA: 1:35:01 - loss: 0.3813 - auroc: 0.77 - ETA: 1:33:38 - loss: 0.3808 - auroc: 0.77 - ETA: 1:32:16 - loss: 0.3808 - auroc: 0.77 - ETA: 1:30:53 - loss: 0.3809 - auroc: 0.77 - ETA: 1:29:31 - loss: 0.3805 - auroc: 0.77 - ETA: 1:28:08 - loss: 0.3809 - auroc: 0.77 - ETA: 1:26:45 - loss: 0.3812 - auroc: 0.77 - ETA: 1:25:24 - loss: 0.3814 - auroc: 0.77 - ETA: 1:24:05 - loss: 0.3810 - auroc: 0.77 - ETA: 1:22:46 - loss: 0.3817 - auroc: 0.77 - ETA: 1:21:26 - loss: 0.3812 - auroc: 0.77 - ETA: 1:20:05 - loss: 0.3813 - auroc: 0.77 - ETA: 1:18:46 - loss: 0.3806 - auroc: 0.77 - ETA: 1:17:25 - loss: 0.3807 - auroc: 0.77 - ETA: 1:16:05 - loss: 0.3808 - auroc: 0.77 - ETA: 1:14:45 - loss: 0.3808 - auroc: 0.77 - ETA: 1:13:22 - loss: 0.3807 - auroc: 0.77 - ETA: 1:11:58 - loss: 0.3806 - auroc: 0.77 - ETA: 1:10:35 - loss: 0.3807 - auroc: 0.77 - ETA: 1:09:12 - loss: 0.3807 - auroc: 0.77 - ETA: 1:07:49 - loss: 0.3809 - auroc: 0.77 - ETA: 1:06:26 - loss: 0.3808 - auroc: 0.77 - ETA: 1:05:03 - loss: 0.3803 - auroc: 0.77 - ETA: 1:03:40 - loss: 0.3803 - auroc: 0.77 - ETA: 1:02:18 - loss: 0.3802 - auroc: 0.77 - ETA: 1:00:55 - loss: 0.3797 - auroc: 0.77 - ETA: 59:32 - loss: 0.3795 - auroc: 0.7740 - ETA: 58:09 - loss: 0.3797 - auroc: 0.77 - ETA: 56:46 - loss: 0.3800 - auroc: 0.77 - ETA: 55:23 - loss: 0.3799 - auroc: 0.77 - ETA: 54:01 - loss: 0.3799 - auroc: 0.77 - ETA: 52:38 - loss: 0.3798 - auroc: 0.77 - ETA: 51:15 - loss: 0.3796 - auroc: 0.77 - ETA: 49:52 - loss: 0.3799 - auroc: 0.77 - ETA: 48:30 - loss: 0.3798 - auroc: 0.77 - ETA: 47:07 - loss: 0.3796 - auroc: 0.77 - ETA: 45:45 - loss: 0.3793 - auroc: 0.77 - ETA: 44:22 - loss: 0.3792 - auroc: 0.77 - ETA: 43:00 - loss: 0.3793 - auroc: 0.77 - ETA: 41:37 - loss: 0.3790 - auroc: 0.77 - ETA: 40:15 - loss: 0.3792 - auroc: 0.77 - ETA: 38:53 - loss: 0.3790 - auroc: 0.77 - ETA: 37:30 - loss: 0.3791 - auroc: 0.77 - ETA: 36:08 - loss: 0.3791 - auroc: 0.77 - ETA: 34:45 - loss: 0.3797 - auroc: 0.77 - ETA: 33:23 - loss: 0.3794 - auroc: 0.77 - ETA: 32:01 - loss: 0.3795 - auroc: 0.77 - ETA: 30:38 - loss: 0.3795 - auroc: 0.77 - ETA: 29:16 - loss: 0.3797 - auroc: 0.77 - ETA: 27:54 - loss: 0.3798 - auroc: 0.77 - ETA: 26:31 - loss: 0.3799 - auroc: 0.77 - ETA: 25:09 - loss: 0.3800 - auroc: 0.77 - ETA: 23:47 - loss: 0.3796 - auroc: 0.77 - ETA: 22:24 - loss: 0.3797 - auroc: 0.77 - ETA: 21:02 - loss: 0.3797 - auroc: 0.77 - ETA: 19:40 - loss: 0.3795 - auroc: 0.77 - ETA: 18:18 - loss: 0.3796 - auroc: 0.77 - ETA: 16:55 - loss: 0.3793 - auroc: 0.77 - ETA: 15:33 - loss: 0.3793 - auroc: 0.77 - ETA: 14:11 - loss: 0.3791 - auroc: 0.77 - ETA: 12:49 - loss: 0.3789 - auroc: 0.77 - ETA: 11:27 - loss: 0.3791 - auroc: 0.77 - ETA: 10:05 - loss: 0.3791 - auroc: 0.77 - ETA: 8:42 - loss: 0.3788 - auroc: 0.7748 - ETA: 7:20 - loss: 0.3785 - auroc: 0.775 - ETA: 5:58 - loss: 0.3780 - auroc: 0.775 - ETA: 4:36 - loss: 0.3779 - auroc: 0.775 - ETA: 3:14 - loss: 0.3778 - auroc: 0.775 - ETA: 1:51 - loss: 0.3779 - auroc: 0.775 - ETA: 29s - loss: 0.3780 - auroc: 0.775 - 13070s 171ms/step - loss: 0.3781 - auroc: 0.7750 - val_loss: 0.3912 - val_auroc: 0.7614\n",
      "\n",
      "Epoch 00014: val_loss improved from 0.40700 to 0.39119, saving model to model_1.h5\n",
      "Epoch 15/20\n"
     ]
    },
    {
     "name": "stdout",
     "output_type": "stream",
     "text": [
      "76473/76473 [==============================] - ETA: 3:25:26 - loss: 0.3864 - auroc: 0.74 - ETA: 3:22:48 - loss: 0.3795 - auroc: 0.77 - ETA: 3:20:10 - loss: 0.3691 - auroc: 0.77 - ETA: 3:18:38 - loss: 0.3677 - auroc: 0.78 - ETA: 3:16:45 - loss: 0.3754 - auroc: 0.78 - ETA: 3:15:46 - loss: 0.3807 - auroc: 0.77 - ETA: 3:14:13 - loss: 0.3740 - auroc: 0.77 - ETA: 3:12:54 - loss: 0.3719 - auroc: 0.77 - ETA: 3:11:34 - loss: 0.3665 - auroc: 0.77 - ETA: 3:10:06 - loss: 0.3677 - auroc: 0.77 - ETA: 3:08:39 - loss: 0.3692 - auroc: 0.77 - ETA: 3:07:17 - loss: 0.3745 - auroc: 0.77 - ETA: 3:06:01 - loss: 0.3735 - auroc: 0.78 - ETA: 3:04:42 - loss: 0.3744 - auroc: 0.78 - ETA: 3:03:28 - loss: 0.3723 - auroc: 0.78 - ETA: 3:02:13 - loss: 0.3722 - auroc: 0.78 - ETA: 3:00:54 - loss: 0.3699 - auroc: 0.77 - ETA: 2:59:37 - loss: 0.3685 - auroc: 0.78 - ETA: 2:58:20 - loss: 0.3686 - auroc: 0.77 - ETA: 2:56:59 - loss: 0.3705 - auroc: 0.77 - ETA: 2:55:44 - loss: 0.3718 - auroc: 0.77 - ETA: 2:54:24 - loss: 0.3710 - auroc: 0.77 - ETA: 2:53:02 - loss: 0.3738 - auroc: 0.77 - ETA: 2:51:50 - loss: 0.3742 - auroc: 0.77 - ETA: 2:50:29 - loss: 0.3748 - auroc: 0.77 - ETA: 2:49:11 - loss: 0.3755 - auroc: 0.77 - ETA: 2:47:49 - loss: 0.3743 - auroc: 0.77 - ETA: 2:46:33 - loss: 0.3726 - auroc: 0.77 - ETA: 2:45:10 - loss: 0.3730 - auroc: 0.77 - ETA: 2:43:49 - loss: 0.3728 - auroc: 0.77 - ETA: 2:42:30 - loss: 0.3717 - auroc: 0.77 - ETA: 2:41:07 - loss: 0.3710 - auroc: 0.77 - ETA: 2:39:45 - loss: 0.3712 - auroc: 0.77 - ETA: 2:38:26 - loss: 0.3702 - auroc: 0.77 - ETA: 2:37:06 - loss: 0.3702 - auroc: 0.77 - ETA: 2:35:45 - loss: 0.3707 - auroc: 0.77 - ETA: 2:34:25 - loss: 0.3713 - auroc: 0.77 - ETA: 2:33:05 - loss: 0.3712 - auroc: 0.77 - ETA: 2:31:46 - loss: 0.3727 - auroc: 0.77 - ETA: 2:30:29 - loss: 0.3728 - auroc: 0.77 - ETA: 2:29:09 - loss: 0.3728 - auroc: 0.78 - ETA: 2:27:51 - loss: 0.3726 - auroc: 0.78 - ETA: 2:26:35 - loss: 0.3721 - auroc: 0.78 - ETA: 2:25:17 - loss: 0.3718 - auroc: 0.78 - ETA: 2:24:02 - loss: 0.3708 - auroc: 0.78 - ETA: 2:22:47 - loss: 0.3706 - auroc: 0.78 - ETA: 2:21:30 - loss: 0.3709 - auroc: 0.78 - ETA: 2:20:12 - loss: 0.3708 - auroc: 0.78 - ETA: 2:18:52 - loss: 0.3700 - auroc: 0.78 - ETA: 2:17:30 - loss: 0.3697 - auroc: 0.78 - ETA: 2:16:08 - loss: 0.3706 - auroc: 0.78 - ETA: 2:14:47 - loss: 0.3713 - auroc: 0.78 - ETA: 2:13:24 - loss: 0.3704 - auroc: 0.78 - ETA: 2:12:01 - loss: 0.3692 - auroc: 0.78 - ETA: 2:10:38 - loss: 0.3699 - auroc: 0.78 - ETA: 2:09:14 - loss: 0.3698 - auroc: 0.78 - ETA: 2:07:50 - loss: 0.3701 - auroc: 0.78 - ETA: 2:06:26 - loss: 0.3701 - auroc: 0.78 - ETA: 2:05:00 - loss: 0.3695 - auroc: 0.78 - ETA: 2:03:35 - loss: 0.3701 - auroc: 0.78 - ETA: 2:02:11 - loss: 0.3692 - auroc: 0.78 - ETA: 2:00:48 - loss: 0.3691 - auroc: 0.78 - ETA: 1:59:23 - loss: 0.3691 - auroc: 0.78 - ETA: 1:57:57 - loss: 0.3691 - auroc: 0.78 - ETA: 1:56:33 - loss: 0.3696 - auroc: 0.78 - ETA: 1:55:08 - loss: 0.3702 - auroc: 0.78 - ETA: 1:53:44 - loss: 0.3699 - auroc: 0.78 - ETA: 1:52:20 - loss: 0.3696 - auroc: 0.78 - ETA: 1:50:56 - loss: 0.3697 - auroc: 0.78 - ETA: 1:49:32 - loss: 0.3701 - auroc: 0.78 - ETA: 1:48:08 - loss: 0.3692 - auroc: 0.78 - ETA: 1:46:44 - loss: 0.3701 - auroc: 0.78 - ETA: 1:45:20 - loss: 0.3702 - auroc: 0.78 - ETA: 1:43:56 - loss: 0.3707 - auroc: 0.78 - ETA: 1:42:32 - loss: 0.3704 - auroc: 0.78 - ETA: 1:41:08 - loss: 0.3701 - auroc: 0.78 - ETA: 1:39:45 - loss: 0.3702 - auroc: 0.78 - ETA: 1:38:21 - loss: 0.3703 - auroc: 0.78 - ETA: 1:36:57 - loss: 0.3706 - auroc: 0.78 - ETA: 1:35:32 - loss: 0.3708 - auroc: 0.78 - ETA: 1:34:09 - loss: 0.3709 - auroc: 0.78 - ETA: 1:32:45 - loss: 0.3716 - auroc: 0.78 - ETA: 1:31:21 - loss: 0.3713 - auroc: 0.78 - ETA: 1:29:58 - loss: 0.3713 - auroc: 0.78 - ETA: 1:28:36 - loss: 0.3713 - auroc: 0.78 - ETA: 1:27:16 - loss: 0.3713 - auroc: 0.78 - ETA: 1:25:57 - loss: 0.3716 - auroc: 0.78 - ETA: 1:24:37 - loss: 0.3713 - auroc: 0.78 - ETA: 1:23:16 - loss: 0.3714 - auroc: 0.78 - ETA: 1:21:55 - loss: 0.3718 - auroc: 0.78 - ETA: 1:20:34 - loss: 0.3722 - auroc: 0.78 - ETA: 1:19:14 - loss: 0.3721 - auroc: 0.78 - ETA: 1:17:53 - loss: 0.3725 - auroc: 0.78 - ETA: 1:16:30 - loss: 0.3720 - auroc: 0.78 - ETA: 1:15:06 - loss: 0.3720 - auroc: 0.78 - ETA: 1:13:43 - loss: 0.3720 - auroc: 0.78 - ETA: 1:12:19 - loss: 0.3720 - auroc: 0.78 - ETA: 1:10:56 - loss: 0.3724 - auroc: 0.78 - ETA: 1:09:32 - loss: 0.3725 - auroc: 0.78 - ETA: 1:08:09 - loss: 0.3726 - auroc: 0.78 - ETA: 1:06:46 - loss: 0.3723 - auroc: 0.78 - ETA: 1:05:22 - loss: 0.3717 - auroc: 0.78 - ETA: 1:03:59 - loss: 0.3717 - auroc: 0.78 - ETA: 1:02:36 - loss: 0.3714 - auroc: 0.78 - ETA: 1:01:13 - loss: 0.3716 - auroc: 0.78 - ETA: 59:50 - loss: 0.3719 - auroc: 0.7812 - ETA: 58:26 - loss: 0.3720 - auroc: 0.78 - ETA: 57:03 - loss: 0.3720 - auroc: 0.78 - ETA: 55:40 - loss: 0.3720 - auroc: 0.78 - ETA: 54:16 - loss: 0.3720 - auroc: 0.78 - ETA: 52:53 - loss: 0.3718 - auroc: 0.78 - ETA: 51:30 - loss: 0.3712 - auroc: 0.78 - ETA: 50:07 - loss: 0.3715 - auroc: 0.78 - ETA: 48:44 - loss: 0.3712 - auroc: 0.78 - ETA: 47:21 - loss: 0.3710 - auroc: 0.78 - ETA: 45:58 - loss: 0.3715 - auroc: 0.78 - ETA: 44:35 - loss: 0.3714 - auroc: 0.78 - ETA: 43:12 - loss: 0.3714 - auroc: 0.78 - ETA: 41:49 - loss: 0.3710 - auroc: 0.78 - ETA: 40:26 - loss: 0.3710 - auroc: 0.78 - ETA: 39:04 - loss: 0.3709 - auroc: 0.78 - ETA: 37:41 - loss: 0.3707 - auroc: 0.78 - ETA: 36:18 - loss: 0.3709 - auroc: 0.78 - ETA: 34:55 - loss: 0.3711 - auroc: 0.78 - ETA: 33:32 - loss: 0.3711 - auroc: 0.78 - ETA: 32:10 - loss: 0.3712 - auroc: 0.78 - ETA: 30:47 - loss: 0.3713 - auroc: 0.78 - ETA: 29:24 - loss: 0.3711 - auroc: 0.78 - ETA: 28:02 - loss: 0.3713 - auroc: 0.78 - ETA: 26:39 - loss: 0.3714 - auroc: 0.78 - ETA: 25:16 - loss: 0.3715 - auroc: 0.78 - ETA: 23:54 - loss: 0.3713 - auroc: 0.78 - ETA: 22:31 - loss: 0.3716 - auroc: 0.78 - ETA: 21:08 - loss: 0.3713 - auroc: 0.78 - ETA: 19:46 - loss: 0.3714 - auroc: 0.78 - ETA: 18:23 - loss: 0.3710 - auroc: 0.78 - ETA: 17:00 - loss: 0.3711 - auroc: 0.78 - ETA: 15:38 - loss: 0.3708 - auroc: 0.78 - ETA: 14:15 - loss: 0.3711 - auroc: 0.78 - ETA: 12:53 - loss: 0.3711 - auroc: 0.78 - ETA: 11:30 - loss: 0.3709 - auroc: 0.78 - ETA: 10:07 - loss: 0.3708 - auroc: 0.78 - ETA: 8:45 - loss: 0.3710 - auroc: 0.7813 - ETA: 7:22 - loss: 0.3707 - auroc: 0.781 - ETA: 6:00 - loss: 0.3704 - auroc: 0.781 - ETA: 4:37 - loss: 0.3705 - auroc: 0.781 - ETA: 3:14 - loss: 0.3706 - auroc: 0.782 - ETA: 1:52 - loss: 0.3705 - auroc: 0.782 - ETA: 29s - loss: 0.3707 - auroc: 0.782 - 13124s 172ms/step - loss: 0.3707 - auroc: 0.7818 - val_loss: 0.3920 - val_auroc: 0.7622\n",
      "\n",
      "Epoch 00015: val_loss did not improve from 0.39119\n",
      "\n",
      "Epoch 00015: ReduceLROnPlateau reducing learning rate to 4.0000001899898055e-05.\n",
      "Epoch 16/20\n",
      "76473/76473 [==============================] - ETA: 3:23:18 - loss: 0.3693 - auroc: 0.76 - ETA: 3:21:28 - loss: 0.3435 - auroc: 0.78 - ETA: 3:19:16 - loss: 0.3472 - auroc: 0.79 - ETA: 3:17:51 - loss: 0.3498 - auroc: 0.77 - ETA: 3:16:32 - loss: 0.3622 - auroc: 0.76 - ETA: 3:15:08 - loss: 0.3603 - auroc: 0.77 - ETA: 3:13:44 - loss: 0.3587 - auroc: 0.77 - ETA: 3:12:28 - loss: 0.3551 - auroc: 0.77 - ETA: 3:11:00 - loss: 0.3513 - auroc: 0.78 - ETA: 3:09:27 - loss: 0.3538 - auroc: 0.78 - ETA: 3:07:54 - loss: 0.3579 - auroc: 0.77 - ETA: 3:06:32 - loss: 0.3591 - auroc: 0.77 - ETA: 3:05:11 - loss: 0.3623 - auroc: 0.77 - ETA: 3:03:51 - loss: 0.3593 - auroc: 0.78 - ETA: 3:02:25 - loss: 0.3597 - auroc: 0.78 - ETA: 3:01:04 - loss: 0.3603 - auroc: 0.78 - ETA: 2:59:42 - loss: 0.3608 - auroc: 0.78 - ETA: 2:58:20 - loss: 0.3597 - auroc: 0.78 - ETA: 2:57:05 - loss: 0.3598 - auroc: 0.78 - ETA: 2:55:47 - loss: 0.3584 - auroc: 0.78 - ETA: 2:54:29 - loss: 0.3589 - auroc: 0.78 - ETA: 2:53:14 - loss: 0.3591 - auroc: 0.78 - ETA: 2:51:50 - loss: 0.3608 - auroc: 0.78 - ETA: 2:50:32 - loss: 0.3625 - auroc: 0.78 - ETA: 2:49:12 - loss: 0.3639 - auroc: 0.78 - ETA: 2:47:53 - loss: 0.3636 - auroc: 0.78 - ETA: 2:46:34 - loss: 0.3636 - auroc: 0.78 - ETA: 2:45:16 - loss: 0.3640 - auroc: 0.78 - ETA: 2:43:56 - loss: 0.3620 - auroc: 0.78 - ETA: 2:42:39 - loss: 0.3613 - auroc: 0.78 - ETA: 2:41:21 - loss: 0.3593 - auroc: 0.78 - ETA: 2:40:04 - loss: 0.3598 - auroc: 0.78 - ETA: 2:38:43 - loss: 0.3599 - auroc: 0.78 - ETA: 2:37:23 - loss: 0.3601 - auroc: 0.78 - ETA: 2:36:04 - loss: 0.3603 - auroc: 0.78 - ETA: 2:34:46 - loss: 0.3601 - auroc: 0.78 - ETA: 2:33:29 - loss: 0.3590 - auroc: 0.78 - ETA: 2:32:10 - loss: 0.3593 - auroc: 0.78 - ETA: 2:30:51 - loss: 0.3589 - auroc: 0.79 - ETA: 2:29:31 - loss: 0.3582 - auroc: 0.79 - ETA: 2:28:12 - loss: 0.3578 - auroc: 0.79 - ETA: 2:26:55 - loss: 0.3578 - auroc: 0.79 - ETA: 2:25:36 - loss: 0.3563 - auroc: 0.79 - ETA: 2:24:17 - loss: 0.3568 - auroc: 0.79 - ETA: 2:22:56 - loss: 0.3565 - auroc: 0.79 - ETA: 2:21:39 - loss: 0.3567 - auroc: 0.79 - ETA: 2:20:20 - loss: 0.3576 - auroc: 0.79 - ETA: 2:19:01 - loss: 0.3581 - auroc: 0.79 - ETA: 2:17:41 - loss: 0.3592 - auroc: 0.79 - ETA: 2:16:21 - loss: 0.3586 - auroc: 0.79 - ETA: 2:15:03 - loss: 0.3586 - auroc: 0.79 - ETA: 2:13:45 - loss: 0.3581 - auroc: 0.79 - ETA: 2:12:24 - loss: 0.3578 - auroc: 0.79 - ETA: 2:11:06 - loss: 0.3576 - auroc: 0.79 - ETA: 2:09:48 - loss: 0.3579 - auroc: 0.79 - ETA: 2:08:27 - loss: 0.3584 - auroc: 0.79 - ETA: 2:07:08 - loss: 0.3583 - auroc: 0.79 - ETA: 2:05:47 - loss: 0.3579 - auroc: 0.79 - ETA: 2:04:26 - loss: 0.3588 - auroc: 0.79 - ETA: 2:03:09 - loss: 0.3586 - auroc: 0.79 - ETA: 2:01:52 - loss: 0.3579 - auroc: 0.79 - ETA: 2:00:33 - loss: 0.3578 - auroc: 0.79 - ETA: 1:59:15 - loss: 0.3587 - auroc: 0.79 - ETA: 1:57:54 - loss: 0.3587 - auroc: 0.79 - ETA: 1:56:34 - loss: 0.3591 - auroc: 0.79 - ETA: 1:55:13 - loss: 0.3593 - auroc: 0.79 - ETA: 1:53:51 - loss: 0.3594 - auroc: 0.79 - ETA: 1:52:28 - loss: 0.3598 - auroc: 0.79 - ETA: 1:51:06 - loss: 0.3598 - auroc: 0.79 - ETA: 1:49:43 - loss: 0.3604 - auroc: 0.79 - ETA: 1:48:20 - loss: 0.3607 - auroc: 0.79 - ETA: 1:46:56 - loss: 0.3609 - auroc: 0.79 - ETA: 1:45:32 - loss: 0.3605 - auroc: 0.79 - ETA: 1:44:08 - loss: 0.3603 - auroc: 0.79 - ETA: 1:42:43 - loss: 0.3599 - auroc: 0.79 - ETA: 1:41:19 - loss: 0.3600 - auroc: 0.79 - ETA: 1:39:56 - loss: 0.3605 - auroc: 0.79 - ETA: 1:38:33 - loss: 0.3607 - auroc: 0.79 - ETA: 1:37:09 - loss: 0.3605 - auroc: 0.79 - ETA: 1:35:46 - loss: 0.3600 - auroc: 0.79 - ETA: 1:34:22 - loss: 0.3607 - auroc: 0.79 - ETA: 1:32:58 - loss: 0.3600 - auroc: 0.79 - ETA: 1:31:37 - loss: 0.3598 - auroc: 0.79 - ETA: 1:30:16 - loss: 0.3597 - auroc: 0.79 - ETA: 1:28:56 - loss: 0.3594 - auroc: 0.79 - ETA: 1:27:35 - loss: 0.3596 - auroc: 0.79 - ETA: 1:26:15 - loss: 0.3600 - auroc: 0.79 - ETA: 1:24:54 - loss: 0.3599 - auroc: 0.79 - ETA: 1:23:33 - loss: 0.3594 - auroc: 0.79 - ETA: 1:22:13 - loss: 0.3599 - auroc: 0.79 - ETA: 1:20:52 - loss: 0.3605 - auroc: 0.79 - ETA: 1:19:28 - loss: 0.3605 - auroc: 0.79 - ETA: 1:18:03 - loss: 0.3605 - auroc: 0.79 - ETA: 1:16:40 - loss: 0.3611 - auroc: 0.79 - ETA: 1:15:16 - loss: 0.3608 - auroc: 0.79 - ETA: 1:13:52 - loss: 0.3607 - auroc: 0.79 - ETA: 1:12:29 - loss: 0.3606 - auroc: 0.79 - ETA: 1:11:05 - loss: 0.3613 - auroc: 0.79 - ETA: 1:09:41 - loss: 0.3612 - auroc: 0.79 - ETA: 1:08:18 - loss: 0.3615 - auroc: 0.79 - ETA: 1:06:54 - loss: 0.3615 - auroc: 0.79 - ETA: 1:05:30 - loss: 0.3614 - auroc: 0.79 - ETA: 1:04:07 - loss: 0.3620 - auroc: 0.79 - ETA: 1:02:43 - loss: 0.3620 - auroc: 0.79 - ETA: 1:01:19 - loss: 0.3622 - auroc: 0.79 - ETA: 59:56 - loss: 0.3623 - auroc: 0.7921 - ETA: 58:33 - loss: 0.3624 - auroc: 0.79 - ETA: 57:09 - loss: 0.3625 - auroc: 0.79 - ETA: 55:46 - loss: 0.3625 - auroc: 0.79 - ETA: 54:23 - loss: 0.3625 - auroc: 0.79 - ETA: 52:59 - loss: 0.3626 - auroc: 0.79 - ETA: 51:36 - loss: 0.3625 - auroc: 0.79 - ETA: 50:13 - loss: 0.3627 - auroc: 0.79 - ETA: 48:50 - loss: 0.3630 - auroc: 0.79 - ETA: 47:26 - loss: 0.3633 - auroc: 0.79 - ETA: 46:03 - loss: 0.3633 - auroc: 0.79 - ETA: 44:40 - loss: 0.3631 - auroc: 0.79 - ETA: 43:17 - loss: 0.3627 - auroc: 0.79 - ETA: 41:54 - loss: 0.3630 - auroc: 0.79 - ETA: 40:31 - loss: 0.3630 - auroc: 0.79 - ETA: 39:09 - loss: 0.3627 - auroc: 0.79 - ETA: 37:46 - loss: 0.3631 - auroc: 0.79 - ETA: 36:23 - loss: 0.3634 - auroc: 0.79 - ETA: 35:00 - loss: 0.3632 - auroc: 0.79 - ETA: 33:37 - loss: 0.3628 - auroc: 0.79 - ETA: 32:15 - loss: 0.3628 - auroc: 0.79 - ETA: 30:52 - loss: 0.3629 - auroc: 0.79 - ETA: 29:29 - loss: 0.3628 - auroc: 0.79 - ETA: 28:06 - loss: 0.3629 - auroc: 0.79 - ETA: 26:44 - loss: 0.3627 - auroc: 0.79 - ETA: 25:21 - loss: 0.3627 - auroc: 0.79 - ETA: 23:59 - loss: 0.3630 - auroc: 0.79 - ETA: 22:36 - loss: 0.3631 - auroc: 0.79 - ETA: 21:13 - loss: 0.3630 - auroc: 0.79 - ETA: 19:51 - loss: 0.3628 - auroc: 0.79 - ETA: 18:28 - loss: 0.3630 - auroc: 0.79 - ETA: 17:05 - loss: 0.3633 - auroc: 0.79 - ETA: 15:42 - loss: 0.3632 - auroc: 0.79 - ETA: 14:19 - loss: 0.3632 - auroc: 0.79 - ETA: 12:56 - loss: 0.3631 - auroc: 0.79 - ETA: 11:33 - loss: 0.3630 - auroc: 0.79 - ETA: 10:10 - loss: 0.3633 - auroc: 0.79 - ETA: 8:47 - loss: 0.3631 - auroc: 0.7907 - ETA: 7:24 - loss: 0.3629 - auroc: 0.791 - ETA: 6:01 - loss: 0.3629 - auroc: 0.791 - ETA: 4:38 - loss: 0.3630 - auroc: 0.791 - ETA: 3:15 - loss: 0.3632 - auroc: 0.790 - ETA: 1:52 - loss: 0.3630 - auroc: 0.790 - ETA: 29s - loss: 0.3628 - auroc: 0.790 - 13179s 172ms/step - loss: 0.3629 - auroc: 0.7907 - val_loss: 0.3898 - val_auroc: 0.7628\n",
      "\n",
      "Epoch 00016: val_loss improved from 0.39119 to 0.38979, saving model to model_1.h5\n",
      "Epoch 17/20\n"
     ]
    },
    {
     "name": "stdout",
     "output_type": "stream",
     "text": [
      "76473/76473 [==============================] - ETA: 3:27:54 - loss: 0.3423 - auroc: 0.78 - ETA: 3:23:45 - loss: 0.3360 - auroc: 0.79 - ETA: 3:21:12 - loss: 0.3351 - auroc: 0.80 - ETA: 3:19:26 - loss: 0.3386 - auroc: 0.80 - ETA: 3:18:02 - loss: 0.3461 - auroc: 0.80 - ETA: 3:16:34 - loss: 0.3463 - auroc: 0.80 - ETA: 3:15:09 - loss: 0.3449 - auroc: 0.80 - ETA: 3:13:31 - loss: 0.3470 - auroc: 0.80 - ETA: 3:12:00 - loss: 0.3498 - auroc: 0.79 - ETA: 3:10:38 - loss: 0.3470 - auroc: 0.80 - ETA: 3:09:06 - loss: 0.3494 - auroc: 0.79 - ETA: 3:07:43 - loss: 0.3481 - auroc: 0.79 - ETA: 3:06:15 - loss: 0.3496 - auroc: 0.79 - ETA: 3:04:44 - loss: 0.3508 - auroc: 0.79 - ETA: 3:03:21 - loss: 0.3506 - auroc: 0.80 - ETA: 3:01:58 - loss: 0.3545 - auroc: 0.80 - ETA: 3:00:38 - loss: 0.3537 - auroc: 0.80 - ETA: 2:59:13 - loss: 0.3547 - auroc: 0.80 - ETA: 2:57:52 - loss: 0.3562 - auroc: 0.80 - ETA: 2:56:30 - loss: 0.3580 - auroc: 0.80 - ETA: 2:55:08 - loss: 0.3569 - auroc: 0.80 - ETA: 2:53:46 - loss: 0.3583 - auroc: 0.80 - ETA: 2:52:25 - loss: 0.3587 - auroc: 0.80 - ETA: 2:51:06 - loss: 0.3586 - auroc: 0.80 - ETA: 2:49:46 - loss: 0.3571 - auroc: 0.80 - ETA: 2:48:28 - loss: 0.3581 - auroc: 0.79 - ETA: 2:47:12 - loss: 0.3595 - auroc: 0.79 - ETA: 2:45:58 - loss: 0.3614 - auroc: 0.79 - ETA: 2:44:42 - loss: 0.3613 - auroc: 0.79 - ETA: 2:43:28 - loss: 0.3603 - auroc: 0.79 - ETA: 2:42:15 - loss: 0.3613 - auroc: 0.79 - ETA: 2:41:02 - loss: 0.3631 - auroc: 0.79 - ETA: 2:39:51 - loss: 0.3640 - auroc: 0.79 - ETA: 2:38:39 - loss: 0.3645 - auroc: 0.79 - ETA: 2:37:25 - loss: 0.3637 - auroc: 0.79 - ETA: 2:36:10 - loss: 0.3635 - auroc: 0.79 - ETA: 2:34:56 - loss: 0.3626 - auroc: 0.79 - ETA: 2:33:37 - loss: 0.3635 - auroc: 0.79 - ETA: 2:32:18 - loss: 0.3631 - auroc: 0.79 - ETA: 2:30:57 - loss: 0.3625 - auroc: 0.79 - ETA: 2:29:33 - loss: 0.3615 - auroc: 0.79 - ETA: 2:28:10 - loss: 0.3608 - auroc: 0.79 - ETA: 2:26:48 - loss: 0.3598 - auroc: 0.79 - ETA: 2:25:23 - loss: 0.3603 - auroc: 0.79 - ETA: 2:23:59 - loss: 0.3600 - auroc: 0.80 - ETA: 2:22:35 - loss: 0.3599 - auroc: 0.79 - ETA: 2:21:13 - loss: 0.3603 - auroc: 0.79 - ETA: 2:19:50 - loss: 0.3598 - auroc: 0.79 - ETA: 2:18:26 - loss: 0.3600 - auroc: 0.79 - ETA: 2:17:04 - loss: 0.3590 - auroc: 0.79 - ETA: 2:15:40 - loss: 0.3593 - auroc: 0.79 - ETA: 2:14:15 - loss: 0.3598 - auroc: 0.79 - ETA: 2:12:51 - loss: 0.3603 - auroc: 0.79 - ETA: 2:11:27 - loss: 0.3609 - auroc: 0.79 - ETA: 2:10:02 - loss: 0.3608 - auroc: 0.79 - ETA: 2:08:37 - loss: 0.3608 - auroc: 0.79 - ETA: 2:07:12 - loss: 0.3613 - auroc: 0.79 - ETA: 2:05:48 - loss: 0.3610 - auroc: 0.79 - ETA: 2:04:24 - loss: 0.3603 - auroc: 0.79 - ETA: 2:03:00 - loss: 0.3604 - auroc: 0.79 - ETA: 2:01:36 - loss: 0.3603 - auroc: 0.79 - ETA: 2:00:11 - loss: 0.3602 - auroc: 0.79 - ETA: 1:58:48 - loss: 0.3606 - auroc: 0.79 - ETA: 1:57:25 - loss: 0.3603 - auroc: 0.79 - ETA: 1:56:02 - loss: 0.3593 - auroc: 0.79 - ETA: 1:54:38 - loss: 0.3592 - auroc: 0.79 - ETA: 1:53:15 - loss: 0.3593 - auroc: 0.79 - ETA: 1:51:51 - loss: 0.3595 - auroc: 0.79 - ETA: 1:50:28 - loss: 0.3591 - auroc: 0.79 - ETA: 1:49:05 - loss: 0.3584 - auroc: 0.79 - ETA: 1:47:41 - loss: 0.3583 - auroc: 0.79 - ETA: 1:46:18 - loss: 0.3577 - auroc: 0.79 - ETA: 1:44:55 - loss: 0.3576 - auroc: 0.79 - ETA: 1:43:32 - loss: 0.3573 - auroc: 0.79 - ETA: 1:42:11 - loss: 0.3571 - auroc: 0.79 - ETA: 1:40:49 - loss: 0.3573 - auroc: 0.79 - ETA: 1:39:27 - loss: 0.3578 - auroc: 0.79 - ETA: 1:38:05 - loss: 0.3579 - auroc: 0.79 - ETA: 1:36:43 - loss: 0.3582 - auroc: 0.79 - ETA: 1:35:22 - loss: 0.3578 - auroc: 0.79 - ETA: 1:34:03 - loss: 0.3583 - auroc: 0.79 - ETA: 1:32:43 - loss: 0.3589 - auroc: 0.79 - ETA: 1:31:23 - loss: 0.3591 - auroc: 0.79 - ETA: 1:30:04 - loss: 0.3590 - auroc: 0.79 - ETA: 1:28:43 - loss: 0.3587 - auroc: 0.79 - ETA: 1:27:23 - loss: 0.3587 - auroc: 0.79 - ETA: 1:26:03 - loss: 0.3589 - auroc: 0.79 - ETA: 1:24:43 - loss: 0.3589 - auroc: 0.79 - ETA: 1:23:19 - loss: 0.3589 - auroc: 0.79 - ETA: 1:21:56 - loss: 0.3596 - auroc: 0.79 - ETA: 1:20:32 - loss: 0.3599 - auroc: 0.79 - ETA: 1:19:08 - loss: 0.3598 - auroc: 0.79 - ETA: 1:17:45 - loss: 0.3603 - auroc: 0.79 - ETA: 1:16:21 - loss: 0.3603 - auroc: 0.79 - ETA: 1:14:58 - loss: 0.3600 - auroc: 0.79 - ETA: 1:13:35 - loss: 0.3605 - auroc: 0.79 - ETA: 1:12:12 - loss: 0.3601 - auroc: 0.79 - ETA: 1:10:48 - loss: 0.3604 - auroc: 0.79 - ETA: 1:09:25 - loss: 0.3605 - auroc: 0.79 - ETA: 1:08:02 - loss: 0.3606 - auroc: 0.79 - ETA: 1:06:39 - loss: 0.3607 - auroc: 0.79 - ETA: 1:05:16 - loss: 0.3610 - auroc: 0.79 - ETA: 1:03:53 - loss: 0.3607 - auroc: 0.79 - ETA: 1:02:30 - loss: 0.3606 - auroc: 0.79 - ETA: 1:01:07 - loss: 0.3611 - auroc: 0.79 - ETA: 59:44 - loss: 0.3611 - auroc: 0.7921 - ETA: 58:21 - loss: 0.3611 - auroc: 0.79 - ETA: 56:58 - loss: 0.3609 - auroc: 0.79 - ETA: 55:35 - loss: 0.3609 - auroc: 0.79 - ETA: 54:12 - loss: 0.3607 - auroc: 0.79 - ETA: 52:49 - loss: 0.3603 - auroc: 0.79 - ETA: 51:27 - loss: 0.3603 - auroc: 0.79 - ETA: 50:04 - loss: 0.3599 - auroc: 0.79 - ETA: 48:42 - loss: 0.3599 - auroc: 0.79 - ETA: 47:19 - loss: 0.3600 - auroc: 0.79 - ETA: 45:56 - loss: 0.3602 - auroc: 0.79 - ETA: 44:34 - loss: 0.3601 - auroc: 0.79 - ETA: 43:11 - loss: 0.3601 - auroc: 0.79 - ETA: 41:49 - loss: 0.3600 - auroc: 0.79 - ETA: 40:27 - loss: 0.3600 - auroc: 0.79 - ETA: 39:05 - loss: 0.3600 - auroc: 0.79 - ETA: 37:43 - loss: 0.3601 - auroc: 0.79 - ETA: 36:21 - loss: 0.3605 - auroc: 0.79 - ETA: 34:59 - loss: 0.3606 - auroc: 0.79 - ETA: 33:36 - loss: 0.3607 - auroc: 0.79 - ETA: 32:14 - loss: 0.3604 - auroc: 0.79 - ETA: 30:51 - loss: 0.3602 - auroc: 0.79 - ETA: 29:29 - loss: 0.3599 - auroc: 0.79 - ETA: 28:06 - loss: 0.3598 - auroc: 0.79 - ETA: 26:43 - loss: 0.3595 - auroc: 0.79 - ETA: 25:20 - loss: 0.3596 - auroc: 0.79 - ETA: 23:57 - loss: 0.3599 - auroc: 0.79 - ETA: 22:34 - loss: 0.3601 - auroc: 0.79 - ETA: 21:11 - loss: 0.3600 - auroc: 0.79 - ETA: 19:49 - loss: 0.3601 - auroc: 0.79 - ETA: 18:26 - loss: 0.3602 - auroc: 0.79 - ETA: 17:03 - loss: 0.3603 - auroc: 0.79 - ETA: 15:40 - loss: 0.3601 - auroc: 0.79 - ETA: 14:17 - loss: 0.3601 - auroc: 0.79 - ETA: 12:54 - loss: 0.3600 - auroc: 0.79 - ETA: 11:32 - loss: 0.3601 - auroc: 0.79 - ETA: 10:09 - loss: 0.3601 - auroc: 0.79 - ETA: 8:46 - loss: 0.3599 - auroc: 0.7929 - ETA: 7:23 - loss: 0.3599 - auroc: 0.793 - ETA: 6:00 - loss: 0.3598 - auroc: 0.793 - ETA: 4:38 - loss: 0.3597 - auroc: 0.793 - ETA: 3:15 - loss: 0.3597 - auroc: 0.793 - ETA: 1:52 - loss: 0.3598 - auroc: 0.793 - ETA: 29s - loss: 0.3596 - auroc: 0.793 - 13146s 172ms/step - loss: 0.3596 - auroc: 0.7935 - val_loss: 0.3907 - val_auroc: 0.7627\n",
      "\n",
      "Epoch 00017: val_loss did not improve from 0.38979\n",
      "\n",
      "Epoch 00017: ReduceLROnPlateau reducing learning rate to 8.000000525498762e-06.\n",
      "Epoch 18/20\n",
      "76473/76473 [==============================] - ETA: 3:25:47 - loss: 0.3473 - auroc: 0.82 - ETA: 3:23:12 - loss: 0.3447 - auroc: 0.78 - ETA: 3:21:01 - loss: 0.3552 - auroc: 0.79 - ETA: 3:18:51 - loss: 0.3549 - auroc: 0.78 - ETA: 3:17:10 - loss: 0.3539 - auroc: 0.79 - ETA: 3:16:02 - loss: 0.3561 - auroc: 0.79 - ETA: 3:14:43 - loss: 0.3618 - auroc: 0.79 - ETA: 3:12:57 - loss: 0.3600 - auroc: 0.79 - ETA: 3:11:32 - loss: 0.3583 - auroc: 0.79 - ETA: 3:10:21 - loss: 0.3579 - auroc: 0.79 - ETA: 3:08:57 - loss: 0.3545 - auroc: 0.80 - ETA: 3:07:31 - loss: 0.3524 - auroc: 0.80 - ETA: 3:06:16 - loss: 0.3505 - auroc: 0.80 - ETA: 3:04:55 - loss: 0.3522 - auroc: 0.80 - ETA: 3:03:30 - loss: 0.3509 - auroc: 0.80 - ETA: 3:02:13 - loss: 0.3487 - auroc: 0.80 - ETA: 3:00:47 - loss: 0.3500 - auroc: 0.80 - ETA: 2:59:29 - loss: 0.3521 - auroc: 0.80 - ETA: 2:58:09 - loss: 0.3521 - auroc: 0.80 - ETA: 2:56:49 - loss: 0.3513 - auroc: 0.80 - ETA: 2:55:31 - loss: 0.3514 - auroc: 0.80 - ETA: 2:54:09 - loss: 0.3520 - auroc: 0.80 - ETA: 2:52:54 - loss: 0.3503 - auroc: 0.80 - ETA: 2:51:32 - loss: 0.3520 - auroc: 0.80 - ETA: 2:50:15 - loss: 0.3505 - auroc: 0.80 - ETA: 2:48:51 - loss: 0.3506 - auroc: 0.80 - ETA: 2:47:29 - loss: 0.3488 - auroc: 0.80 - ETA: 2:46:08 - loss: 0.3495 - auroc: 0.80 - ETA: 2:44:55 - loss: 0.3497 - auroc: 0.80 - ETA: 2:43:33 - loss: 0.3486 - auroc: 0.80 - ETA: 2:42:14 - loss: 0.3504 - auroc: 0.80 - ETA: 2:40:56 - loss: 0.3504 - auroc: 0.80 - ETA: 2:39:41 - loss: 0.3507 - auroc: 0.80 - ETA: 2:38:24 - loss: 0.3524 - auroc: 0.80 - ETA: 2:37:10 - loss: 0.3519 - auroc: 0.80 - ETA: 2:35:57 - loss: 0.3527 - auroc: 0.80 - ETA: 2:34:45 - loss: 0.3525 - auroc: 0.80 - ETA: 2:33:28 - loss: 0.3528 - auroc: 0.80 - ETA: 2:32:12 - loss: 0.3517 - auroc: 0.80 - ETA: 2:30:51 - loss: 0.3534 - auroc: 0.80 - ETA: 2:29:31 - loss: 0.3534 - auroc: 0.80 - ETA: 2:28:08 - loss: 0.3528 - auroc: 0.80 - ETA: 2:26:46 - loss: 0.3530 - auroc: 0.80 - ETA: 2:25:23 - loss: 0.3526 - auroc: 0.80 - ETA: 2:23:57 - loss: 0.3540 - auroc: 0.80 - ETA: 2:22:32 - loss: 0.3554 - auroc: 0.80 - ETA: 2:21:09 - loss: 0.3552 - auroc: 0.80 - ETA: 2:19:45 - loss: 0.3551 - auroc: 0.80 - ETA: 2:18:21 - loss: 0.3547 - auroc: 0.80 - ETA: 2:16:57 - loss: 0.3539 - auroc: 0.80 - ETA: 2:15:33 - loss: 0.3545 - auroc: 0.80 - ETA: 2:14:10 - loss: 0.3550 - auroc: 0.80 - ETA: 2:12:47 - loss: 0.3550 - auroc: 0.79 - ETA: 2:11:21 - loss: 0.3559 - auroc: 0.79 - ETA: 2:09:57 - loss: 0.3561 - auroc: 0.79 - ETA: 2:08:33 - loss: 0.3552 - auroc: 0.80 - ETA: 2:07:10 - loss: 0.3546 - auroc: 0.80 - ETA: 2:05:47 - loss: 0.3546 - auroc: 0.80 - ETA: 2:04:22 - loss: 0.3551 - auroc: 0.79 - ETA: 2:02:58 - loss: 0.3557 - auroc: 0.79 - ETA: 2:01:33 - loss: 0.3563 - auroc: 0.79 - ETA: 2:00:09 - loss: 0.3559 - auroc: 0.79 - ETA: 1:58:45 - loss: 0.3556 - auroc: 0.79 - ETA: 1:57:21 - loss: 0.3554 - auroc: 0.79 - ETA: 1:55:58 - loss: 0.3549 - auroc: 0.79 - ETA: 1:54:35 - loss: 0.3546 - auroc: 0.79 - ETA: 1:53:12 - loss: 0.3549 - auroc: 0.79 - ETA: 1:51:49 - loss: 0.3559 - auroc: 0.79 - ETA: 1:50:27 - loss: 0.3552 - auroc: 0.79 - ETA: 1:49:04 - loss: 0.3546 - auroc: 0.80 - ETA: 1:47:41 - loss: 0.3541 - auroc: 0.80 - ETA: 1:46:18 - loss: 0.3532 - auroc: 0.80 - ETA: 1:44:56 - loss: 0.3529 - auroc: 0.80 - ETA: 1:43:33 - loss: 0.3529 - auroc: 0.80 - ETA: 1:42:10 - loss: 0.3532 - auroc: 0.80 - ETA: 1:40:46 - loss: 0.3530 - auroc: 0.80 - ETA: 1:39:25 - loss: 0.3536 - auroc: 0.80 - ETA: 1:38:06 - loss: 0.3539 - auroc: 0.80 - ETA: 1:36:48 - loss: 0.3536 - auroc: 0.80 - ETA: 1:35:28 - loss: 0.3535 - auroc: 0.80 - ETA: 1:34:09 - loss: 0.3533 - auroc: 0.80 - ETA: 1:32:50 - loss: 0.3531 - auroc: 0.80 - ETA: 1:31:30 - loss: 0.3535 - auroc: 0.80 - ETA: 1:30:10 - loss: 0.3537 - auroc: 0.80 - ETA: 1:28:50 - loss: 0.3539 - auroc: 0.80 - ETA: 1:27:26 - loss: 0.3543 - auroc: 0.80 - ETA: 1:26:02 - loss: 0.3539 - auroc: 0.80 - ETA: 1:24:39 - loss: 0.3545 - auroc: 0.80 - ETA: 1:23:15 - loss: 0.3548 - auroc: 0.80 - ETA: 1:21:52 - loss: 0.3548 - auroc: 0.80 - ETA: 1:20:28 - loss: 0.3547 - auroc: 0.80 - ETA: 1:19:05 - loss: 0.3547 - auroc: 0.80 - ETA: 1:17:41 - loss: 0.3552 - auroc: 0.79 - ETA: 1:16:18 - loss: 0.3553 - auroc: 0.79 - ETA: 1:14:55 - loss: 0.3556 - auroc: 0.79 - ETA: 1:13:32 - loss: 0.3556 - auroc: 0.80 - ETA: 1:12:08 - loss: 0.3554 - auroc: 0.79 - ETA: 1:10:45 - loss: 0.3558 - auroc: 0.79 - ETA: 1:09:22 - loss: 0.3555 - auroc: 0.80 - ETA: 1:07:58 - loss: 0.3553 - auroc: 0.80 - ETA: 1:06:35 - loss: 0.3550 - auroc: 0.80 - ETA: 1:05:12 - loss: 0.3550 - auroc: 0.80 - ETA: 1:03:49 - loss: 0.3551 - auroc: 0.80 - ETA: 1:02:26 - loss: 0.3550 - auroc: 0.80 - ETA: 1:01:03 - loss: 0.3546 - auroc: 0.80 - ETA: 59:41 - loss: 0.3539 - auroc: 0.8012 - ETA: 58:18 - loss: 0.3543 - auroc: 0.80 - ETA: 56:55 - loss: 0.3545 - auroc: 0.80 - ETA: 55:32 - loss: 0.3545 - auroc: 0.80 - ETA: 54:10 - loss: 0.3551 - auroc: 0.80 - ETA: 52:48 - loss: 0.3550 - auroc: 0.80 - ETA: 51:26 - loss: 0.3547 - auroc: 0.80 - ETA: 50:03 - loss: 0.3547 - auroc: 0.80 - ETA: 48:41 - loss: 0.3544 - auroc: 0.80 - ETA: 47:19 - loss: 0.3547 - auroc: 0.80 - ETA: 45:58 - loss: 0.3553 - auroc: 0.80 - ETA: 44:36 - loss: 0.3554 - auroc: 0.80 - ETA: 43:14 - loss: 0.3554 - auroc: 0.79 - ETA: 41:52 - loss: 0.3560 - auroc: 0.79 - ETA: 40:29 - loss: 0.3562 - auroc: 0.79 - ETA: 39:07 - loss: 0.3557 - auroc: 0.79 - ETA: 37:44 - loss: 0.3559 - auroc: 0.79 - ETA: 36:21 - loss: 0.3558 - auroc: 0.79 - ETA: 34:59 - loss: 0.3557 - auroc: 0.79 - ETA: 33:36 - loss: 0.3557 - auroc: 0.79 - ETA: 32:13 - loss: 0.3559 - auroc: 0.79 - ETA: 30:50 - loss: 0.3559 - auroc: 0.79 - ETA: 29:27 - loss: 0.3559 - auroc: 0.79 - ETA: 28:04 - loss: 0.3559 - auroc: 0.79 - ETA: 26:42 - loss: 0.3561 - auroc: 0.79 - ETA: 25:19 - loss: 0.3558 - auroc: 0.79 - ETA: 23:56 - loss: 0.3556 - auroc: 0.79 - ETA: 22:33 - loss: 0.3559 - auroc: 0.79 - ETA: 21:10 - loss: 0.3557 - auroc: 0.79 - ETA: 19:47 - loss: 0.3558 - auroc: 0.79 - ETA: 18:25 - loss: 0.3554 - auroc: 0.80 - ETA: 17:02 - loss: 0.3555 - auroc: 0.79 - ETA: 15:39 - loss: 0.3552 - auroc: 0.80 - ETA: 14:16 - loss: 0.3554 - auroc: 0.79 - ETA: 12:53 - loss: 0.3556 - auroc: 0.79 - ETA: 11:31 - loss: 0.3556 - auroc: 0.79 - ETA: 10:08 - loss: 0.3556 - auroc: 0.79 - ETA: 8:45 - loss: 0.3557 - auroc: 0.7994 - ETA: 7:23 - loss: 0.3556 - auroc: 0.799 - ETA: 6:00 - loss: 0.3557 - auroc: 0.799 - ETA: 4:37 - loss: 0.3556 - auroc: 0.799 - ETA: 3:15 - loss: 0.3555 - auroc: 0.799 - ETA: 1:52 - loss: 0.3553 - auroc: 0.799 - ETA: 29s - loss: 0.3552 - auroc: 0.799 - 13136s 172ms/step - loss: 0.3553 - auroc: 0.7996 - val_loss: 0.3916 - val_auroc: 0.7623\n",
      "\n",
      "Epoch 00018: val_loss did not improve from 0.38979\n",
      "Restoring model weights from the end of the best epoch\n",
      "\n",
      "Epoch 00018: ReduceLROnPlateau reducing learning rate to 1.6000001778593287e-06.\n",
      "Epoch 00018: early stopping\n"
     ]
    }
   ],
   "source": [
    "history = first_model.fit(tr_data,y_en_tr,batch_size=512,verbose=1,\n",
    "                        epochs=20,validation_data=(test_data,y_en_test),callbacks=callbacks_1)"
   ]
  },
  {
   "cell_type": "code",
   "execution_count": 0,
   "metadata": {
    "colab": {},
    "colab_type": "code",
    "id": "kKIgz0fJuX1c"
   },
   "outputs": [],
   "source": [
    "model.evaluate(test_data,y_en_test,verbose=1)"
   ]
  },
  {
   "cell_type": "code",
   "execution_count": 0,
   "metadata": {
    "colab": {
     "base_uri": "https://localhost:8080/",
     "height": 35
    },
    "colab_type": "code",
    "id": "gHIB0lS8sdzm",
    "outputId": "7815ef94-ce28-4d8f-cc03-996229f5f0fe"
   },
   "outputs": [
    {
     "name": "stdout",
     "output_type": "stream",
     "text": [
      "1.13.1\n"
     ]
    }
   ],
   "source": [
    "print(tf.__version__)"
   ]
  },
  {
   "cell_type": "code",
   "execution_count": 0,
   "metadata": {
    "colab": {
     "base_uri": "https://localhost:8080/",
     "height": 35
    },
    "colab_type": "code",
    "id": "wHCFrAKaxVC4",
    "outputId": "90ee3635-1c54-454f-8575-f8d24f8fa282"
   },
   "outputs": [
    {
     "name": "stdout",
     "output_type": "stream",
     "text": [
      "1.13.1\n"
     ]
    }
   ],
   "source": [
    "print(tf.__version__)"
   ]
  }
 ],
 "metadata": {
  "accelerator": "GPU",
  "colab": {
   "collapsed_sections": [],
   "name": "assignment_25_model_2.ipynb",
   "provenance": [],
   "toc_visible": true,
   "version": "0.3.2"
  },
  "kernelspec": {
   "display_name": "Python 3",
   "language": "python",
   "name": "python3"
  },
  "language_info": {
   "codemirror_mode": {
    "name": "ipython",
    "version": 3
   },
   "file_extension": ".py",
   "mimetype": "text/x-python",
   "name": "python",
   "nbconvert_exporter": "python",
   "pygments_lexer": "ipython3",
   "version": "3.6.5"
  }
 },
 "nbformat": 4,
 "nbformat_minor": 1
}
