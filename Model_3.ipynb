{
 "cells": [
  {
   "cell_type": "code",
   "execution_count": 2,
   "metadata": {
    "colab": {
     "base_uri": "https://localhost:8080/",
     "height": 122
    },
    "colab_type": "code",
    "id": "LXZOiY3Pr08-",
    "outputId": "b77330ea-cbe0-46c0-f1e9-243e652b03b6"
   },
   "outputs": [
    {
     "name": "stdout",
     "output_type": "stream",
     "text": [
      "Go to this URL in a browser: https://accounts.google.com/o/oauth2/auth?client_id=947318989803-6bn6qk8qdgf4n4g3pfee6491hc0brc4i.apps.googleusercontent.com&redirect_uri=urn%3Aietf%3Awg%3Aoauth%3A2.0%3Aoob&scope=email%20https%3A%2F%2Fwww.googleapis.com%2Fauth%2Fdocs.test%20https%3A%2F%2Fwww.googleapis.com%2Fauth%2Fdrive%20https%3A%2F%2Fwww.googleapis.com%2Fauth%2Fdrive.photos.readonly%20https%3A%2F%2Fwww.googleapis.com%2Fauth%2Fpeopleapi.readonly&response_type=code\n",
      "\n",
      "Enter your authorization code:\n",
      "··········\n",
      "Mounted at /content/drive\n"
     ]
    }
   ],
   "source": [
    "from google.colab import drive\n",
    "drive.mount('/content/drive')"
   ]
  },
  {
   "cell_type": "code",
   "execution_count": 3,
   "metadata": {
    "colab": {
     "base_uri": "https://localhost:8080/",
     "height": 34
    },
    "colab_type": "code",
    "id": "zaI3REURqPmS",
    "outputId": "2cc81605-aca4-40af-986a-48d2dddf3913"
   },
   "outputs": [
    {
     "name": "stdout",
     "output_type": "stream",
     "text": [
      "1.14.0\n"
     ]
    }
   ],
   "source": [
    "#!pip install tensorflow==1.13.1\n",
    "import tensorflow as tf\n",
    "print(tf.__version__)"
   ]
  },
  {
   "cell_type": "markdown",
   "metadata": {
    "colab_type": "text",
    "id": "MaJUx2lT21fz"
   },
   "source": [
    "# DonorsChoose"
   ]
  },
  {
   "cell_type": "markdown",
   "metadata": {
    "colab_type": "text",
    "id": "1HbyhBwB21f0"
   },
   "source": [
    "<p>\n",
    "DonorsChoose.org receives hundreds of thousands of project proposals each year for classroom projects in need of funding. Right now, a large number of volunteers is needed to manually screen each submission before it's approved to be posted on the DonorsChoose.org website.\n",
    "</p>\n",
    "<p>\n",
    "    Next year, DonorsChoose.org expects to receive close to 500,000 project proposals. As a result, there are three main problems they need to solve:\n",
    "<ul>\n",
    "<li>\n",
    "    How to scale current manual processes and resources to screen 500,000 projects so that they can be posted as quickly and as efficiently as possible</li>\n",
    "    <li>How to increase the consistency of project vetting across different volunteers to improve the experience for teachers</li>\n",
    "    <li>How to focus volunteer time on the applications that need the most assistance</li>\n",
    "    </ul>\n",
    "</p>    \n",
    "<p>\n",
    "The goal of the competition is to predict whether or not a DonorsChoose.org project proposal submitted by a teacher will be approved, using the text of project descriptions as well as additional metadata about the project, teacher, and school. DonorsChoose.org can then use this information to identify projects most likely to need further review before approval.\n",
    "</p>"
   ]
  },
  {
   "cell_type": "markdown",
   "metadata": {
    "colab_type": "text",
    "id": "qsahS_ef21f0"
   },
   "source": [
    "## About the DonorsChoose Data Set\n",
    "\n",
    "The `train.csv` data set provided by DonorsChoose contains the following features:\n",
    "\n",
    "Feature | Description \n",
    "----------|---------------\n",
    "**`project_id`** | A unique identifier for the proposed project. **Example:** `p036502`   \n",
    "**`project_title`**    | Title of the project. **Examples:**<br><ul><li><code>Art Will Make You Happy!</code></li><li><code>First Grade Fun</code></li></ul> \n",
    "**`project_grade_category`** | Grade level of students for which the project is targeted. One of the following enumerated values: <br/><ul><li><code>Grades PreK-2</code></li><li><code>Grades 3-5</code></li><li><code>Grades 6-8</code></li><li><code>Grades 9-12</code></li></ul>  \n",
    " **`project_subject_categories`** | One or more (comma-separated) subject categories for the project from the following enumerated list of values:  <br/><ul><li><code>Applied Learning</code></li><li><code>Care &amp; Hunger</code></li><li><code>Health &amp; Sports</code></li><li><code>History &amp; Civics</code></li><li><code>Literacy &amp; Language</code></li><li><code>Math &amp; Science</code></li><li><code>Music &amp; The Arts</code></li><li><code>Special Needs</code></li><li><code>Warmth</code></li></ul><br/> **Examples:** <br/><ul><li><code>Music &amp; The Arts</code></li><li><code>Literacy &amp; Language, Math &amp; Science</code></li>  \n",
    "  **`school_state`** | State where school is located ([Two-letter U.S. postal code](https://en.wikipedia.org/wiki/List_of_U.S._state_abbreviations#Postal_codes)). **Example:** `WY`\n",
    "**`project_subject_subcategories`** | One or more (comma-separated) subject subcategories for the project. **Examples:** <br/><ul><li><code>Literacy</code></li><li><code>Literature &amp; Writing, Social Sciences</code></li></ul> \n",
    "**`project_resource_summary`** | An explanation of the resources needed for the project. **Example:** <br/><ul><li><code>My students need hands on literacy materials to manage sensory needs!</code</li></ul> \n",
    "**`project_essay_1`**    | First application essay<sup>*</sup>  \n",
    "**`project_essay_2`**    | Second application essay<sup>*</sup> \n",
    "**`project_essay_3`**    | Third application essay<sup>*</sup> \n",
    "**`project_essay_4`**    | Fourth application essay<sup>*</sup> \n",
    "**`project_submitted_datetime`** | Datetime when project application was submitted. **Example:** `2016-04-28 12:43:56.245`   \n",
    "**`teacher_id`** | A unique identifier for the teacher of the proposed project. **Example:** `bdf8baa8fedef6bfeec7ae4ff1c15c56`  \n",
    "**`teacher_prefix`** | Teacher's title. One of the following enumerated values: <br/><ul><li><code>nan</code></li><li><code>Dr.</code></li><li><code>Mr.</code></li><li><code>Mrs.</code></li><li><code>Ms.</code></li><li><code>Teacher.</code></li></ul>  \n",
    "**`teacher_number_of_previously_posted_projects`** | Number of project applications previously submitted by the same teacher. **Example:** `2` \n",
    "\n",
    "<sup>*</sup> See the section <b>Notes on the Essay Data</b> for more details about these features.\n",
    "\n",
    "Additionally, the `resources.csv` data set provides more data about the resources required for each project. Each line in this file represents a resource required by a project:\n",
    "\n",
    "Feature | Description \n",
    "----------|---------------\n",
    "**`id`** | A `project_id` value from the `train.csv` file.  **Example:** `p036502`   \n",
    "**`description`** | Desciption of the resource. **Example:** `Tenor Saxophone Reeds, Box of 25`   \n",
    "**`quantity`** | Quantity of the resource required. **Example:** `3`   \n",
    "**`price`** | Price of the resource required. **Example:** `9.95`   \n",
    "\n",
    "**Note:** Many projects require multiple resources. The `id` value corresponds to a `project_id` in train.csv, so you use it as a key to retrieve all resources needed for a project:\n",
    "\n",
    "The data set contains the following label (the value you will attempt to predict):\n",
    "\n",
    "Label | Description\n",
    "----------|---------------\n",
    "`project_is_approved` | A binary flag indicating whether DonorsChoose approved the project. A value of `0` indicates the project was not approved, and a value of `1` indicates the project was approved."
   ]
  },
  {
   "cell_type": "markdown",
   "metadata": {
    "colab_type": "text",
    "id": "N9Fw9MDQ21f1"
   },
   "source": [
    "### Notes on the Essay Data\n",
    "\n",
    "<ul>\n",
    "Prior to May 17, 2016, the prompts for the essays were as follows:\n",
    "<li>__project_essay_1:__ \"Introduce us to your classroom\"</li>\n",
    "<li>__project_essay_2:__ \"Tell us more about your students\"</li>\n",
    "<li>__project_essay_3:__ \"Describe how your students will use the materials you're requesting\"</li>\n",
    "<li>__project_essay_3:__ \"Close by sharing why your project will make a difference\"</li>\n",
    "</ul>\n",
    "\n",
    "\n",
    "<ul>\n",
    "Starting on May 17, 2016, the number of essays was reduced from 4 to 2, and the prompts for the first 2 essays were changed to the following:<br>\n",
    "<li>__project_essay_1:__ \"Describe your students: What makes your students special? Specific details about their background, your neighborhood, and your school are all helpful.\"</li>\n",
    "<li>__project_essay_2:__ \"About your project: How will these materials make a difference in your students' learning and improve their school lives?\"</li>\n",
    "<br>For all projects with project_submitted_datetime of 2016-05-17 and later, the values of project_essay_3 and project_essay_4 will be NaN.\n",
    "</ul>\n"
   ]
  },
  {
   "cell_type": "code",
   "execution_count": 0,
   "metadata": {
    "colab": {},
    "colab_type": "code",
    "id": "77RqRP8i21f2"
   },
   "outputs": [],
   "source": [
    "%matplotlib inline\n",
    "import warnings\n",
    "warnings.filterwarnings(\"ignore\")\n",
    "\n",
    "import pandas as pd\n",
    "import numpy as np\n",
    "from sklearn.feature_extraction.text import TfidfVectorizer\n",
    "from sklearn.feature_extraction.text import CountVectorizer\n",
    "\n",
    "\n",
    "import re\n",
    "# Tutorial about Python regular expressions: https://pymotw.com/2/re/\n",
    "\n",
    "from nltk.corpus import stopwords\n",
    "import pickle\n",
    "\n",
    "from tqdm import tqdm\n",
    "import os"
   ]
  },
  {
   "cell_type": "markdown",
   "metadata": {
    "colab_type": "text",
    "id": "ciCiVQT621f4"
   },
   "source": [
    "## 1. Reading Data"
   ]
  },
  {
   "cell_type": "code",
   "execution_count": 0,
   "metadata": {
    "colab": {},
    "colab_type": "code",
    "id": "4wwUYBch21f5"
   },
   "outputs": [],
   "source": [
    "project_data = pd.read_csv(r'drive/My Drive/Donors for AFR Classroom/train_data.csv')\n",
    "resource_data = pd.read_csv(r'drive/My Drive/Donors for AFR Classroom/resources.csv')"
   ]
  },
  {
   "cell_type": "code",
   "execution_count": 8,
   "metadata": {
    "colab": {
     "base_uri": "https://localhost:8080/",
     "height": 153
    },
    "colab_type": "code",
    "id": "MI8xXlkt21f7",
    "outputId": "7c9ee64e-82d5-4914-bbc5-d0b0e631fc1b"
   },
   "outputs": [
    {
     "name": "stdout",
     "output_type": "stream",
     "text": [
      "Number of data points in train data (109248, 17)\n",
      "--------------------------------------------------\n",
      "The attributes of data : ['Unnamed: 0' 'id' 'teacher_id' 'teacher_prefix' 'school_state'\n",
      " 'project_submitted_datetime' 'project_grade_category'\n",
      " 'project_subject_categories' 'project_subject_subcategories'\n",
      " 'project_title' 'project_essay_1' 'project_essay_2' 'project_essay_3'\n",
      " 'project_essay_4' 'project_resource_summary'\n",
      " 'teacher_number_of_previously_posted_projects' 'project_is_approved']\n"
     ]
    }
   ],
   "source": [
    "print(\"Number of data points in train data\", project_data.shape)\n",
    "print('-'*50)\n",
    "print(\"The attributes of data :\", project_data.columns.values)"
   ]
  },
  {
   "cell_type": "code",
   "execution_count": 9,
   "metadata": {
    "colab": {
     "base_uri": "https://localhost:8080/",
     "height": 145
    },
    "colab_type": "code",
    "id": "Palu7CqD21f-",
    "outputId": "244bd0e8-b4d0-4db7-ee2f-89e9d80b6d95"
   },
   "outputs": [
    {
     "name": "stdout",
     "output_type": "stream",
     "text": [
      "Number of data points in train data (1541272, 4)\n",
      "['id' 'description' 'quantity' 'price']\n"
     ]
    },
    {
     "data": {
      "text/html": [
       "<div>\n",
       "<style scoped>\n",
       "    .dataframe tbody tr th:only-of-type {\n",
       "        vertical-align: middle;\n",
       "    }\n",
       "\n",
       "    .dataframe tbody tr th {\n",
       "        vertical-align: top;\n",
       "    }\n",
       "\n",
       "    .dataframe thead th {\n",
       "        text-align: right;\n",
       "    }\n",
       "</style>\n",
       "<table border=\"1\" class=\"dataframe\">\n",
       "  <thead>\n",
       "    <tr style=\"text-align: right;\">\n",
       "      <th></th>\n",
       "      <th>id</th>\n",
       "      <th>description</th>\n",
       "      <th>quantity</th>\n",
       "      <th>price</th>\n",
       "    </tr>\n",
       "  </thead>\n",
       "  <tbody>\n",
       "    <tr>\n",
       "      <th>0</th>\n",
       "      <td>p233245</td>\n",
       "      <td>LC652 - Lakeshore Double-Space Mobile Drying Rack</td>\n",
       "      <td>1</td>\n",
       "      <td>149.00</td>\n",
       "    </tr>\n",
       "    <tr>\n",
       "      <th>1</th>\n",
       "      <td>p069063</td>\n",
       "      <td>Bouncy Bands for Desks (Blue support pipes)</td>\n",
       "      <td>3</td>\n",
       "      <td>14.95</td>\n",
       "    </tr>\n",
       "  </tbody>\n",
       "</table>\n",
       "</div>"
      ],
      "text/plain": [
       "        id                                        description  quantity   price\n",
       "0  p233245  LC652 - Lakeshore Double-Space Mobile Drying Rack         1  149.00\n",
       "1  p069063        Bouncy Bands for Desks (Blue support pipes)         3   14.95"
      ]
     },
     "execution_count": 9,
     "metadata": {
      "tags": []
     },
     "output_type": "execute_result"
    }
   ],
   "source": [
    "print(\"Number of data points in train data\", resource_data.shape)\n",
    "print(resource_data.columns.values)\n",
    "resource_data.head(2)"
   ]
  },
  {
   "cell_type": "markdown",
   "metadata": {
    "colab_type": "text",
    "id": "6Y2aX1l421gA"
   },
   "source": [
    "# 2. Preprocessing Categorical Features: project_grade_category"
   ]
  },
  {
   "cell_type": "code",
   "execution_count": 10,
   "metadata": {
    "colab": {
     "base_uri": "https://localhost:8080/",
     "height": 102
    },
    "colab_type": "code",
    "id": "ZXi5yCPE21gB",
    "outputId": "17364e7f-9399-4a81-b339-1a7ea9c84ddc"
   },
   "outputs": [
    {
     "data": {
      "text/plain": [
       "Grades PreK-2    44225\n",
       "Grades 3-5       37137\n",
       "Grades 6-8       16923\n",
       "Grades 9-12      10963\n",
       "Name: project_grade_category, dtype: int64"
      ]
     },
     "execution_count": 10,
     "metadata": {
      "tags": []
     },
     "output_type": "execute_result"
    }
   ],
   "source": [
    "project_data['project_grade_category'].value_counts()"
   ]
  },
  {
   "cell_type": "markdown",
   "metadata": {
    "colab_type": "text",
    "id": "8ynrGK2y21gD"
   },
   "source": [
    "we need to remove the spaces, replace the '-' with '_' and convert all the letters to small"
   ]
  },
  {
   "cell_type": "code",
   "execution_count": 11,
   "metadata": {
    "colab": {
     "base_uri": "https://localhost:8080/",
     "height": 102
    },
    "colab_type": "code",
    "id": "AY0vc1WD21gD",
    "outputId": "449cb086-0151-4c04-c2ce-e7f6732760b8"
   },
   "outputs": [
    {
     "data": {
      "text/plain": [
       "grades_prek_2    44225\n",
       "grades_3_5       37137\n",
       "grades_6_8       16923\n",
       "grades_9_12      10963\n",
       "Name: project_grade_category, dtype: int64"
      ]
     },
     "execution_count": 11,
     "metadata": {
      "tags": []
     },
     "output_type": "execute_result"
    }
   ],
   "source": [
    "# https://stackoverflow.com/questions/36383821/pandas-dataframe-apply-function-to-column-strings-based-on-other-column-value\n",
    "project_data['project_grade_category'] = project_data['project_grade_category'].str.replace(' ','_')\n",
    "project_data['project_grade_category'] = project_data['project_grade_category'].str.replace('-','_')\n",
    "project_data['project_grade_category'] = project_data['project_grade_category'].str.lower()\n",
    "project_data['project_grade_category'].value_counts()"
   ]
  },
  {
   "cell_type": "markdown",
   "metadata": {
    "colab_type": "text",
    "id": "wTxgAfZF21gF"
   },
   "source": [
    "# 3. Preprocessing Categorical Features: project_subject_categories"
   ]
  },
  {
   "cell_type": "code",
   "execution_count": 12,
   "metadata": {
    "colab": {
     "base_uri": "https://localhost:8080/",
     "height": 901
    },
    "colab_type": "code",
    "id": "opsdWlFY21gG",
    "outputId": "bd446a7b-67d8-4f24-8319-7e4e530a18f7",
    "scrolled": true
   },
   "outputs": [
    {
     "data": {
      "text/plain": [
       "Literacy & Language                           23655\n",
       "Math & Science                                17072\n",
       "Literacy & Language, Math & Science           14636\n",
       "Health & Sports                               10177\n",
       "Music & The Arts                               5180\n",
       "Special Needs                                  4226\n",
       "Literacy & Language, Special Needs             3961\n",
       "Applied Learning                               3771\n",
       "Math & Science, Literacy & Language            2289\n",
       "Applied Learning, Literacy & Language          2191\n",
       "History & Civics                               1851\n",
       "Math & Science, Special Needs                  1840\n",
       "Literacy & Language, Music & The Arts          1757\n",
       "Math & Science, Music & The Arts               1642\n",
       "Applied Learning, Special Needs                1467\n",
       "History & Civics, Literacy & Language          1421\n",
       "Health & Sports, Special Needs                 1391\n",
       "Warmth, Care & Hunger                          1309\n",
       "Math & Science, Applied Learning               1220\n",
       "Applied Learning, Math & Science               1052\n",
       "Literacy & Language, History & Civics           809\n",
       "Health & Sports, Literacy & Language            803\n",
       "Applied Learning, Music & The Arts              758\n",
       "Math & Science, History & Civics                652\n",
       "Literacy & Language, Applied Learning           636\n",
       "Applied Learning, Health & Sports               608\n",
       "Math & Science, Health & Sports                 414\n",
       "History & Civics, Math & Science                322\n",
       "History & Civics, Music & The Arts              312\n",
       "Special Needs, Music & The Arts                 302\n",
       "Health & Sports, Math & Science                 271\n",
       "History & Civics, Special Needs                 252\n",
       "Health & Sports, Applied Learning               192\n",
       "Applied Learning, History & Civics              178\n",
       "Health & Sports, Music & The Arts               155\n",
       "Music & The Arts, Special Needs                 138\n",
       "Literacy & Language, Health & Sports             72\n",
       "Health & Sports, History & Civics                43\n",
       "Special Needs, Health & Sports                   42\n",
       "History & Civics, Applied Learning               42\n",
       "Special Needs, Warmth, Care & Hunger             23\n",
       "Health & Sports, Warmth, Care & Hunger           23\n",
       "Music & The Arts, Health & Sports                19\n",
       "Music & The Arts, History & Civics               18\n",
       "History & Civics, Health & Sports                13\n",
       "Math & Science, Warmth, Care & Hunger            11\n",
       "Music & The Arts, Applied Learning               10\n",
       "Applied Learning, Warmth, Care & Hunger          10\n",
       "Literacy & Language, Warmth, Care & Hunger        9\n",
       "Music & The Arts, Warmth, Care & Hunger           2\n",
       "History & Civics, Warmth, Care & Hunger           1\n",
       "Name: project_subject_categories, dtype: int64"
      ]
     },
     "execution_count": 12,
     "metadata": {
      "tags": []
     },
     "output_type": "execute_result"
    }
   ],
   "source": [
    "project_data['project_subject_categories'].value_counts()"
   ]
  },
  {
   "cell_type": "markdown",
   "metadata": {
    "colab_type": "text",
    "id": "W7HO0BiG21gI"
   },
   "source": [
    ">remove spaces, 'the' <br>\n",
    "replace '&' with '\\_', and ',' with '_'"
   ]
  },
  {
   "cell_type": "code",
   "execution_count": 13,
   "metadata": {
    "colab": {
     "base_uri": "https://localhost:8080/",
     "height": 901
    },
    "colab_type": "code",
    "id": "e-NwO5qc21gJ",
    "outputId": "8766bbfc-ac0f-4cfb-9c17-e946a4ad70fa",
    "scrolled": true
   },
   "outputs": [
    {
     "data": {
      "text/plain": [
       "literacy_language                       23655\n",
       "math_science                            17072\n",
       "literacy_language_math_science          14636\n",
       "health_sports                           10177\n",
       "music_arts                               5180\n",
       "specialneeds                             4226\n",
       "literacy_language_specialneeds           3961\n",
       "appliedlearning                          3771\n",
       "math_science_literacy_language           2289\n",
       "appliedlearning_literacy_language        2191\n",
       "history_civics                           1851\n",
       "math_science_specialneeds                1840\n",
       "literacy_language_music_arts             1757\n",
       "math_science_music_arts                  1642\n",
       "appliedlearning_specialneeds             1467\n",
       "history_civics_literacy_language         1421\n",
       "health_sports_specialneeds               1391\n",
       "warmth_care_hunger                       1309\n",
       "math_science_appliedlearning             1220\n",
       "appliedlearning_math_science             1052\n",
       "literacy_language_history_civics          809\n",
       "health_sports_literacy_language           803\n",
       "appliedlearning_music_arts                758\n",
       "math_science_history_civics               652\n",
       "literacy_language_appliedlearning         636\n",
       "appliedlearning_health_sports             608\n",
       "math_science_health_sports                414\n",
       "history_civics_math_science               322\n",
       "history_civics_music_arts                 312\n",
       "specialneeds_music_arts                   302\n",
       "health_sports_math_science                271\n",
       "history_civics_specialneeds               252\n",
       "health_sports_appliedlearning             192\n",
       "appliedlearning_history_civics            178\n",
       "health_sports_music_arts                  155\n",
       "music_arts_specialneeds                   138\n",
       "literacy_language_health_sports            72\n",
       "health_sports_history_civics               43\n",
       "specialneeds_health_sports                 42\n",
       "history_civics_appliedlearning             42\n",
       "specialneeds_warmth_care_hunger            23\n",
       "health_sports_warmth_care_hunger           23\n",
       "music_arts_health_sports                   19\n",
       "music_arts_history_civics                  18\n",
       "history_civics_health_sports               13\n",
       "math_science_warmth_care_hunger            11\n",
       "music_arts_appliedlearning                 10\n",
       "appliedlearning_warmth_care_hunger         10\n",
       "literacy_language_warmth_care_hunger        9\n",
       "music_arts_warmth_care_hunger               2\n",
       "history_civics_warmth_care_hunger           1\n",
       "Name: project_subject_categories, dtype: int64"
      ]
     },
     "execution_count": 13,
     "metadata": {
      "tags": []
     },
     "output_type": "execute_result"
    }
   ],
   "source": [
    "project_data['project_subject_categories'] = project_data['project_subject_categories'].str.replace(' The ','')\n",
    "project_data['project_subject_categories'] = project_data['project_subject_categories'].str.replace(' ','')\n",
    "project_data['project_subject_categories'] = project_data['project_subject_categories'].str.replace('&','_')\n",
    "project_data['project_subject_categories'] = project_data['project_subject_categories'].str.replace(',','_')\n",
    "project_data['project_subject_categories'] = project_data['project_subject_categories'].str.lower()\n",
    "project_data['project_subject_categories'].value_counts()"
   ]
  },
  {
   "cell_type": "markdown",
   "metadata": {
    "colab_type": "text",
    "id": "Mz-dKU5Y21gL"
   },
   "source": [
    "# 4. Preprocessing Categorical Features: teacher_prefix"
   ]
  },
  {
   "cell_type": "code",
   "execution_count": 14,
   "metadata": {
    "colab": {
     "base_uri": "https://localhost:8080/",
     "height": 119
    },
    "colab_type": "code",
    "id": "SB2OOR1G21gL",
    "outputId": "06e88cfc-8cb1-4d0a-c113-6c0cb686ea72"
   },
   "outputs": [
    {
     "data": {
      "text/plain": [
       "Mrs.       57269\n",
       "Ms.        38955\n",
       "Mr.        10648\n",
       "Teacher     2360\n",
       "Dr.           13\n",
       "Name: teacher_prefix, dtype: int64"
      ]
     },
     "execution_count": 14,
     "metadata": {
      "tags": []
     },
     "output_type": "execute_result"
    }
   ],
   "source": [
    "project_data['teacher_prefix'].value_counts()"
   ]
  },
  {
   "cell_type": "code",
   "execution_count": 15,
   "metadata": {
    "colab": {
     "base_uri": "https://localhost:8080/",
     "height": 51
    },
    "colab_type": "code",
    "id": "2acACx4A21gN",
    "outputId": "58f52560-f0fd-4a87-e5dc-25dcfc8c00c0"
   },
   "outputs": [
    {
     "name": "stdout",
     "output_type": "stream",
     "text": [
      "True\n",
      "number of nan values 3\n"
     ]
    }
   ],
   "source": [
    "# check if we have any nan values are there\n",
    "print(project_data['teacher_prefix'].isnull().values.any())\n",
    "print(\"number of nan values\",project_data['teacher_prefix'].isnull().values.sum())"
   ]
  },
  {
   "cell_type": "markdown",
   "metadata": {
    "colab_type": "text",
    "id": "FXCc_EvS21gQ"
   },
   "source": [
    ">numebr of missing values are very less in number, we can replace it with Mrs. as most of the projects are submitted by Mrs."
   ]
  },
  {
   "cell_type": "code",
   "execution_count": 0,
   "metadata": {
    "colab": {},
    "colab_type": "code",
    "id": "p5jMV1fe21gQ"
   },
   "outputs": [],
   "source": [
    "project_data['teacher_prefix']=project_data['teacher_prefix'].fillna('Mrs.')"
   ]
  },
  {
   "cell_type": "code",
   "execution_count": 17,
   "metadata": {
    "colab": {
     "base_uri": "https://localhost:8080/",
     "height": 119
    },
    "colab_type": "code",
    "id": "Fv91l-3E21gT",
    "outputId": "52237a13-f632-44f6-e8a0-23e0ba8c211a"
   },
   "outputs": [
    {
     "data": {
      "text/plain": [
       "Mrs.       57272\n",
       "Ms.        38955\n",
       "Mr.        10648\n",
       "Teacher     2360\n",
       "Dr.           13\n",
       "Name: teacher_prefix, dtype: int64"
      ]
     },
     "execution_count": 17,
     "metadata": {
      "tags": []
     },
     "output_type": "execute_result"
    }
   ],
   "source": [
    "project_data['teacher_prefix'].value_counts()"
   ]
  },
  {
   "cell_type": "markdown",
   "metadata": {
    "colab_type": "text",
    "id": "yD4IMBJh21gV"
   },
   "source": [
    ">Remove '.' <br>\n",
    ">convert all the chars to small"
   ]
  },
  {
   "cell_type": "code",
   "execution_count": 18,
   "metadata": {
    "colab": {
     "base_uri": "https://localhost:8080/",
     "height": 119
    },
    "colab_type": "code",
    "id": "zd1_-x5V21gW",
    "outputId": "a538d006-7b63-4870-b677-49f1dd191510"
   },
   "outputs": [
    {
     "data": {
      "text/plain": [
       "mrs        57272\n",
       "ms         38955\n",
       "mr         10648\n",
       "teacher     2360\n",
       "dr            13\n",
       "Name: teacher_prefix, dtype: int64"
      ]
     },
     "execution_count": 18,
     "metadata": {
      "tags": []
     },
     "output_type": "execute_result"
    }
   ],
   "source": [
    "project_data['teacher_prefix'] = project_data['teacher_prefix'].str.replace('.','')\n",
    "project_data['teacher_prefix'] = project_data['teacher_prefix'].str.lower()\n",
    "project_data['teacher_prefix'].value_counts()"
   ]
  },
  {
   "cell_type": "markdown",
   "metadata": {
    "colab_type": "text",
    "id": "MvC3NkC521gY"
   },
   "source": [
    "# 5. Preprocessing Categorical Features: project_subject_subcategories"
   ]
  },
  {
   "cell_type": "code",
   "execution_count": 19,
   "metadata": {
    "colab": {
     "base_uri": "https://localhost:8080/",
     "height": 1000
    },
    "colab_type": "code",
    "id": "1y1De58n21gZ",
    "outputId": "667bc967-209a-4b8f-f526-c0d40b46a38c",
    "scrolled": true
   },
   "outputs": [
    {
     "data": {
      "text/plain": [
       "Literacy                                        9486\n",
       "Literacy, Mathematics                           8325\n",
       "Literature & Writing, Mathematics               5923\n",
       "Literacy, Literature & Writing                  5571\n",
       "Mathematics                                     5379\n",
       "Literature & Writing                            4501\n",
       "Special Needs                                   4226\n",
       "Health & Wellness                               3583\n",
       "Applied Sciences, Mathematics                   3399\n",
       "Applied Sciences                                2492\n",
       "Literacy, Special Needs                         2440\n",
       "Gym & Fitness, Health & Wellness                2264\n",
       "ESL, Literacy                                   2234\n",
       "Visual Arts                                     2217\n",
       "Music                                           1472\n",
       "Warmth, Care & Hunger                           1309\n",
       "Literature & Writing, Special Needs             1306\n",
       "Gym & Fitness                                   1195\n",
       "Health & Wellness, Special Needs                1189\n",
       "Mathematics, Special Needs                      1187\n",
       "Environmental Science                           1079\n",
       "Team Sports                                     1061\n",
       "Applied Sciences, Environmental Science          984\n",
       "Environmental Science, Health & Life Science     964\n",
       "Music, Performing Arts                           948\n",
       "Early Development                                905\n",
       "Environmental Science, Mathematics               838\n",
       "Other                                            831\n",
       "Health & Life Science                            827\n",
       "Health & Wellness, Nutrition Education           797\n",
       "                                                ... \n",
       "Foreign Languages, Gym & Fitness                   2\n",
       "Civics & Government, Team Sports                   2\n",
       "Extracurricular, Foreign Languages                 2\n",
       "Financial Literacy, Parent Involvement             2\n",
       "Character Education, Economics                     2\n",
       "Applied Sciences, Warmth, Care & Hunger            2\n",
       "Community Service, Gym & Fitness                   1\n",
       "Civics & Government, Parent Involvement            1\n",
       "ESL, Team Sports                                   1\n",
       "Financial Literacy, Foreign Languages              1\n",
       "Economics, Other                                   1\n",
       "College & Career Prep, Warmth, Care & Hunger       1\n",
       "Gym & Fitness, Parent Involvement                  1\n",
       "Gym & Fitness, Social Sciences                     1\n",
       "Parent Involvement, Warmth, Care & Hunger          1\n",
       "Economics, Music                                   1\n",
       "History & Geography, Warmth, Care & Hunger         1\n",
       "Community Service, Music                           1\n",
       "Extracurricular, Financial Literacy                1\n",
       "Economics, Nutrition Education                     1\n",
       "Community Service, Financial Literacy              1\n",
       "ESL, Economics                                     1\n",
       "Economics, Foreign Languages                       1\n",
       "Literature & Writing, Nutrition Education          1\n",
       "Civics & Government, Nutrition Education           1\n",
       "Other, Warmth, Care & Hunger                       1\n",
       "Financial Literacy, Performing Arts                1\n",
       "Civics & Government, Foreign Languages             1\n",
       "Parent Involvement, Team Sports                    1\n",
       "Gym & Fitness, Warmth, Care & Hunger               1\n",
       "Name: project_subject_subcategories, Length: 401, dtype: int64"
      ]
     },
     "execution_count": 19,
     "metadata": {
      "tags": []
     },
     "output_type": "execute_result"
    }
   ],
   "source": [
    "project_data['project_subject_subcategories'].value_counts()"
   ]
  },
  {
   "cell_type": "markdown",
   "metadata": {
    "colab_type": "text",
    "id": "5jVEK1MI21gb"
   },
   "source": [
    "> same process we did in project_subject_categories"
   ]
  },
  {
   "cell_type": "code",
   "execution_count": 20,
   "metadata": {
    "colab": {
     "base_uri": "https://localhost:8080/",
     "height": 1000
    },
    "colab_type": "code",
    "id": "vCs3haFR21gc",
    "outputId": "7312dd31-5712-4e42-ac66-385f1854c984",
    "scrolled": true
   },
   "outputs": [
    {
     "data": {
      "text/plain": [
       "literacy                                   9486\n",
       "literacy_mathematics                       8325\n",
       "literature_writing_mathematics             5923\n",
       "literacy_literature_writing                5571\n",
       "mathematics                                5379\n",
       "literature_writing                         4501\n",
       "specialneeds                               4226\n",
       "health_wellness                            3583\n",
       "appliedsciences_mathematics                3399\n",
       "appliedsciences                            2492\n",
       "literacy_specialneeds                      2440\n",
       "gym_fitness_health_wellness                2264\n",
       "esl_literacy                               2234\n",
       "visualarts                                 2217\n",
       "music                                      1472\n",
       "warmth_care_hunger                         1309\n",
       "literature_writing_specialneeds            1306\n",
       "gym_fitness                                1195\n",
       "health_wellness_specialneeds               1189\n",
       "mathematics_specialneeds                   1187\n",
       "environmentalscience                       1079\n",
       "teamsports                                 1061\n",
       "appliedsciences_environmentalscience        984\n",
       "environmentalscience_health_lifescience     964\n",
       "music_performingarts                        948\n",
       "earlydevelopment                            905\n",
       "environmentalscience_mathematics            838\n",
       "other                                       831\n",
       "health_lifescience                          827\n",
       "health_wellness_nutritioneducation          797\n",
       "                                           ... \n",
       "nutritioneducation_socialsciences             2\n",
       "socialsciences_teamsports                     2\n",
       "charactereducation_nutritioneducation         2\n",
       "economics_literature_writing                  2\n",
       "civics_government_teamsports                  2\n",
       "appliedsciences_warmth_care_hunger            2\n",
       "other_warmth_care_hunger                      1\n",
       "communityservice_gym_fitness                  1\n",
       "gym_fitness_warmth_care_hunger                1\n",
       "communityservice_financialliteracy            1\n",
       "economics_foreignlanguages                    1\n",
       "gym_fitness_parentinvolvement                 1\n",
       "civics_government_foreignlanguages            1\n",
       "extracurricular_financialliteracy             1\n",
       "financialliteracy_foreignlanguages            1\n",
       "gym_fitness_socialsciences                    1\n",
       "esl_teamsports                                1\n",
       "esl_economics                                 1\n",
       "economics_nutritioneducation                  1\n",
       "economics_other                               1\n",
       "history_geography_warmth_care_hunger          1\n",
       "civics_government_parentinvolvement           1\n",
       "civics_government_nutritioneducation          1\n",
       "financialliteracy_performingarts              1\n",
       "parentinvolvement_teamsports                  1\n",
       "parentinvolvement_warmth_care_hunger          1\n",
       "communityservice_music                        1\n",
       "literature_writing_nutritioneducation         1\n",
       "economics_music                               1\n",
       "college_careerprep_warmth_care_hunger         1\n",
       "Name: project_subject_subcategories, Length: 401, dtype: int64"
      ]
     },
     "execution_count": 20,
     "metadata": {
      "tags": []
     },
     "output_type": "execute_result"
    }
   ],
   "source": [
    "project_data['project_subject_subcategories'] = project_data['project_subject_subcategories'].str.replace(' The ','')\n",
    "project_data['project_subject_subcategories'] = project_data['project_subject_subcategories'].str.replace(' ','')\n",
    "project_data['project_subject_subcategories'] = project_data['project_subject_subcategories'].str.replace('&','_')\n",
    "project_data['project_subject_subcategories'] = project_data['project_subject_subcategories'].str.replace(',','_')\n",
    "project_data['project_subject_subcategories'] = project_data['project_subject_subcategories'].str.lower()\n",
    "project_data['project_subject_subcategories'].value_counts()"
   ]
  },
  {
   "cell_type": "markdown",
   "metadata": {
    "colab_type": "text",
    "id": "JDuzsKG221ge"
   },
   "source": [
    "# 6. Preprocessing Categorical Features: school_state"
   ]
  },
  {
   "cell_type": "code",
   "execution_count": 21,
   "metadata": {
    "colab": {
     "base_uri": "https://localhost:8080/",
     "height": 901
    },
    "colab_type": "code",
    "id": "hYGykWHO21gf",
    "outputId": "ed7486eb-b41a-468c-e409-0c1dafc8ed7c",
    "scrolled": true
   },
   "outputs": [
    {
     "data": {
      "text/plain": [
       "CA    15388\n",
       "TX     7396\n",
       "NY     7318\n",
       "FL     6185\n",
       "NC     5091\n",
       "IL     4350\n",
       "GA     3963\n",
       "SC     3936\n",
       "MI     3161\n",
       "PA     3109\n",
       "IN     2620\n",
       "MO     2576\n",
       "OH     2467\n",
       "LA     2394\n",
       "MA     2389\n",
       "WA     2334\n",
       "OK     2276\n",
       "NJ     2237\n",
       "AZ     2147\n",
       "VA     2045\n",
       "WI     1827\n",
       "AL     1762\n",
       "UT     1731\n",
       "TN     1688\n",
       "CT     1663\n",
       "MD     1514\n",
       "NV     1367\n",
       "MS     1323\n",
       "KY     1304\n",
       "OR     1242\n",
       "MN     1208\n",
       "CO     1111\n",
       "AR     1049\n",
       "ID      693\n",
       "IA      666\n",
       "KS      634\n",
       "NM      557\n",
       "DC      516\n",
       "HI      507\n",
       "ME      505\n",
       "WV      503\n",
       "NH      348\n",
       "AK      345\n",
       "DE      343\n",
       "NE      309\n",
       "SD      300\n",
       "RI      285\n",
       "MT      245\n",
       "ND      143\n",
       "WY       98\n",
       "VT       80\n",
       "Name: school_state, dtype: int64"
      ]
     },
     "execution_count": 21,
     "metadata": {
      "tags": []
     },
     "output_type": "execute_result"
    }
   ],
   "source": [
    "project_data['school_state'].value_counts()"
   ]
  },
  {
   "cell_type": "markdown",
   "metadata": {
    "colab_type": "text",
    "id": "dtoqJiVA21gj"
   },
   "source": [
    ">convert all of them into small letters"
   ]
  },
  {
   "cell_type": "code",
   "execution_count": 22,
   "metadata": {
    "colab": {
     "base_uri": "https://localhost:8080/",
     "height": 901
    },
    "colab_type": "code",
    "id": "veEQhiTQ21gl",
    "outputId": "03da6acc-3db1-4f21-fcd4-ca1d8c976af2",
    "scrolled": true
   },
   "outputs": [
    {
     "data": {
      "text/plain": [
       "ca    15388\n",
       "tx     7396\n",
       "ny     7318\n",
       "fl     6185\n",
       "nc     5091\n",
       "il     4350\n",
       "ga     3963\n",
       "sc     3936\n",
       "mi     3161\n",
       "pa     3109\n",
       "in     2620\n",
       "mo     2576\n",
       "oh     2467\n",
       "la     2394\n",
       "ma     2389\n",
       "wa     2334\n",
       "ok     2276\n",
       "nj     2237\n",
       "az     2147\n",
       "va     2045\n",
       "wi     1827\n",
       "al     1762\n",
       "ut     1731\n",
       "tn     1688\n",
       "ct     1663\n",
       "md     1514\n",
       "nv     1367\n",
       "ms     1323\n",
       "ky     1304\n",
       "or     1242\n",
       "mn     1208\n",
       "co     1111\n",
       "ar     1049\n",
       "id      693\n",
       "ia      666\n",
       "ks      634\n",
       "nm      557\n",
       "dc      516\n",
       "hi      507\n",
       "me      505\n",
       "wv      503\n",
       "nh      348\n",
       "ak      345\n",
       "de      343\n",
       "ne      309\n",
       "sd      300\n",
       "ri      285\n",
       "mt      245\n",
       "nd      143\n",
       "wy       98\n",
       "vt       80\n",
       "Name: school_state, dtype: int64"
      ]
     },
     "execution_count": 22,
     "metadata": {
      "tags": []
     },
     "output_type": "execute_result"
    }
   ],
   "source": [
    "project_data['school_state'] = project_data['school_state'].str.lower()\n",
    "project_data['school_state'].value_counts()"
   ]
  },
  {
   "cell_type": "code",
   "execution_count": 23,
   "metadata": {
    "colab": {
     "base_uri": "https://localhost:8080/",
     "height": 136
    },
    "colab_type": "code",
    "id": "XGTt9O6H21go",
    "outputId": "a173f0b1-6b6a-4b9b-fc44-0280d16b98a1"
   },
   "outputs": [
    {
     "data": {
      "text/plain": [
       "array(['Unnamed: 0', 'id', 'teacher_id', 'teacher_prefix', 'school_state',\n",
       "       'project_submitted_datetime', 'project_grade_category',\n",
       "       'project_subject_categories', 'project_subject_subcategories',\n",
       "       'project_title', 'project_essay_1', 'project_essay_2',\n",
       "       'project_essay_3', 'project_essay_4', 'project_resource_summary',\n",
       "       'teacher_number_of_previously_posted_projects',\n",
       "       'project_is_approved'], dtype=object)"
      ]
     },
     "execution_count": 23,
     "metadata": {
      "tags": []
     },
     "output_type": "execute_result"
    }
   ],
   "source": [
    "project_data.columns.values"
   ]
  },
  {
   "cell_type": "markdown",
   "metadata": {
    "colab_type": "text",
    "id": "Rt2gSxdg21gq"
   },
   "source": [
    "# 7. Preprocessing Categorical Features: project_title"
   ]
  },
  {
   "cell_type": "code",
   "execution_count": 0,
   "metadata": {
    "colab": {},
    "colab_type": "code",
    "id": "PX5-Hz2R21gq"
   },
   "outputs": [],
   "source": [
    "# https://stackoverflow.com/a/47091490/4084039\n",
    "import re\n",
    "\n",
    "def decontracted(phrase):\n",
    "    # specific\n",
    "    phrase = re.sub(r\"won't\", \"will not\", phrase)\n",
    "    phrase = re.sub(r\"can\\'t\", \"can not\", phrase)\n",
    "\n",
    "    # general\n",
    "    phrase = re.sub(r\"n\\'t\", \" not\", phrase)\n",
    "    phrase = re.sub(r\"\\'re\", \" are\", phrase)\n",
    "    phrase = re.sub(r\"\\'s\", \" is\", phrase)\n",
    "    phrase = re.sub(r\"\\'d\", \" would\", phrase)\n",
    "    phrase = re.sub(r\"\\'ll\", \" will\", phrase)\n",
    "    phrase = re.sub(r\"\\'t\", \" not\", phrase)\n",
    "    phrase = re.sub(r\"\\'ve\", \" have\", phrase)\n",
    "    phrase = re.sub(r\"\\'m\", \" am\", phrase)\n",
    "    return phrase"
   ]
  },
  {
   "cell_type": "code",
   "execution_count": 0,
   "metadata": {
    "colab": {},
    "colab_type": "code",
    "id": "xiD-MTge21gu"
   },
   "outputs": [],
   "source": [
    "# https://gist.github.com/sebleier/554280\n",
    "# we are removing the words from the stop words list: 'no', 'nor', 'not'\n",
    "stopwords= ['i', 'me', 'my', 'myself', 'we', 'our', 'ours', 'ourselves', 'you', \"you're\", \"you've\",\\\n",
    "            \"you'll\", \"you'd\", 'your', 'yours', 'yourself', 'yourselves', 'he', 'him', 'his', 'himself', \\\n",
    "            'she', \"she's\", 'her', 'hers', 'herself', 'it', \"it's\", 'its', 'itself', 'they', 'them', 'their',\\\n",
    "            'theirs', 'themselves', 'what', 'which', 'who', 'whom', 'this', 'that', \"that'll\", 'these', 'those', \\\n",
    "            'am', 'is', 'are', 'was', 'were', 'be', 'been', 'being', 'have', 'has', 'had', 'having', 'do', 'does', \\\n",
    "            'did', 'doing', 'a', 'an', 'the', 'and', 'but', 'if', 'or', 'because', 'as', 'until', 'while', 'of', \\\n",
    "            'at', 'by', 'for', 'with', 'about', 'against', 'between', 'into', 'through', 'during', 'before', 'after',\\\n",
    "            'above', 'below', 'to', 'from', 'up', 'down', 'in', 'out', 'on', 'off', 'over', 'under', 'again', 'further',\\\n",
    "            'then', 'once', 'here', 'there', 'when', 'where', 'why', 'how', 'all', 'any', 'both', 'each', 'few', 'more',\\\n",
    "            'most', 'other', 'some', 'such', 'only', 'own', 'same', 'so', 'than', 'too', 'very', \\\n",
    "            's', 't', 'can', 'will', 'just', 'don', \"don't\", 'should', \"should've\", 'now', 'd', 'll', 'm', 'o', 're', \\\n",
    "            've', 'y', 'ain', 'aren', \"aren't\", 'couldn', \"couldn't\", 'didn', \"didn't\", 'doesn', \"doesn't\", 'hadn',\\\n",
    "            \"hadn't\", 'hasn', \"hasn't\", 'haven', \"haven't\", 'isn', \"isn't\", 'ma', 'mightn', \"mightn't\", 'mustn',\\\n",
    "            \"mustn't\", 'needn', \"needn't\", 'shan', \"shan't\", 'shouldn', \"shouldn't\", 'wasn', \"wasn't\", 'weren', \"weren't\", \\\n",
    "            'won', \"won't\", 'wouldn', \"wouldn't\"]"
   ]
  },
  {
   "cell_type": "code",
   "execution_count": 26,
   "metadata": {
    "colab": {
     "base_uri": "https://localhost:8080/",
     "height": 119
    },
    "colab_type": "code",
    "id": "JalGqQ9W21gw",
    "outputId": "3fe7260a-b41a-4af1-96ae-06e30af0defe"
   },
   "outputs": [
    {
     "data": {
      "text/plain": [
       "0     Educational Support for English Learners at Home\n",
       "1                Wanted: Projector for Hungry Learners\n",
       "2    Soccer Equipment for AWESOME Middle School Stu...\n",
       "3                               Techie Kindergarteners\n",
       "4                               Interactive Math Tools\n",
       "Name: project_title, dtype: object"
      ]
     },
     "execution_count": 26,
     "metadata": {
      "tags": []
     },
     "output_type": "execute_result"
    }
   ],
   "source": [
    "project_data['project_title'].head(5)"
   ]
  },
  {
   "cell_type": "code",
   "execution_count": 27,
   "metadata": {
    "colab": {
     "base_uri": "https://localhost:8080/",
     "height": 85
    },
    "colab_type": "code",
    "id": "cHPdLVO921gy",
    "outputId": "53a077c3-ddd2-41f7-d7d5-2ca3dcce6369"
   },
   "outputs": [
    {
     "name": "stdout",
     "output_type": "stream",
     "text": [
      "printing some random reviews\n",
      "9 Just For the Love of Reading--\\r\\nPure Pleasure\n",
      "34 \\\"Have A Ball!!!\\\"\n",
      "147 Who needs a Chromebook?\\r\\nWE DO!!\n"
     ]
    }
   ],
   "source": [
    "print(\"printing some random reviews\")\n",
    "print(9, project_data['project_title'].values[9])\n",
    "print(34, project_data['project_title'].values[34])\n",
    "print(147, project_data['project_title'].values[147])"
   ]
  },
  {
   "cell_type": "code",
   "execution_count": 0,
   "metadata": {
    "colab": {},
    "colab_type": "code",
    "id": "uoObjVaG21g0"
   },
   "outputs": [],
   "source": [
    "# Combining all the above stundents \n",
    "from tqdm import tqdm\n",
    "def preprocess_text(text_data):\n",
    "    preprocessed_text = []\n",
    "    # tqdm is for printing the status bar\n",
    "    for sentance in tqdm(text_data):\n",
    "        sent = decontracted(sentance)\n",
    "        sent = sent.replace('\\\\r', ' ')\n",
    "        sent = sent.replace('\\\\n', ' ')\n",
    "        sent = sent.replace('\\\\\"', ' ')\n",
    "        sent = re.sub('[^A-Za-z0-9]+', ' ', sent)\n",
    "        # https://gist.github.com/sebleier/554280\n",
    "        sent = ' '.join(e for e in sent.split() if e.lower() not in stopwords)\n",
    "        preprocessed_text.append(sent.lower().strip())\n",
    "    return preprocessed_text"
   ]
  },
  {
   "cell_type": "code",
   "execution_count": 29,
   "metadata": {
    "colab": {
     "base_uri": "https://localhost:8080/",
     "height": 34
    },
    "colab_type": "code",
    "id": "BY15z0IF21g2",
    "outputId": "6f958c6e-0afa-48df-9b38-1dbd0912720e"
   },
   "outputs": [
    {
     "name": "stderr",
     "output_type": "stream",
     "text": [
      "100%|██████████| 109248/109248 [00:02<00:00, 39423.61it/s]\n"
     ]
    }
   ],
   "source": [
    "preprocessed_titles = preprocess_text(project_data['project_title'].values)"
   ]
  },
  {
   "cell_type": "code",
   "execution_count": 0,
   "metadata": {
    "colab": {},
    "colab_type": "code",
    "id": "qQ0eT9lI7e0G"
   },
   "outputs": [],
   "source": []
  },
  {
   "cell_type": "code",
   "execution_count": 30,
   "metadata": {
    "colab": {
     "base_uri": "https://localhost:8080/",
     "height": 85
    },
    "colab_type": "code",
    "id": "eInXi_D321g3",
    "outputId": "79753d45-b248-4ef2-ac7f-1c1adc2b6e6c"
   },
   "outputs": [
    {
     "name": "stdout",
     "output_type": "stream",
     "text": [
      "printing some random reviews\n",
      "9 love reading pure pleasure\n",
      "34 ball\n",
      "147 needs chromebook\n"
     ]
    }
   ],
   "source": [
    "print(\"printing some random reviews\")\n",
    "print(9, preprocessed_titles[9])\n",
    "print(34, preprocessed_titles[34])\n",
    "print(147, preprocessed_titles[147])"
   ]
  },
  {
   "cell_type": "markdown",
   "metadata": {
    "colab_type": "text",
    "id": "f51ivfDI21g5"
   },
   "source": [
    "# 8. Preprocessing Categorical Features: essay"
   ]
  },
  {
   "cell_type": "code",
   "execution_count": 0,
   "metadata": {
    "colab": {},
    "colab_type": "code",
    "id": "ISk8aINj21g6"
   },
   "outputs": [],
   "source": [
    "# merge two column text dataframe: \n",
    "project_data[\"essay\"] = project_data[\"project_essay_1\"].map(str) +\\\n",
    "                        project_data[\"project_essay_2\"].map(str) + \\\n",
    "                        project_data[\"project_essay_3\"].map(str) + \\\n",
    "                        project_data[\"project_essay_4\"].map(str)"
   ]
  },
  {
   "cell_type": "code",
   "execution_count": 0,
   "metadata": {
    "colab": {},
    "colab_type": "code",
    "id": "sLvMiV2X7IsD"
   },
   "outputs": [],
   "source": [
    "project_data=project_data.drop([\"project_essay_1\",\"project_essay_2\",\"project_essay_3\",\"project_essay_4\"],axis=1)"
   ]
  },
  {
   "cell_type": "code",
   "execution_count": 0,
   "metadata": {
    "colab": {},
    "colab_type": "code",
    "id": "rSE0eJIo7hOC"
   },
   "outputs": [],
   "source": [
    "# We clean the essay text data\n",
    "# For this task, we have defined some helper functions\n",
    "# The same function and code snippet will be used to clean project title\n",
    "# https://stackoverflow.com/a/47091490/4084039\n",
    "\n",
    "def decontracted(phrase):\n",
    "    # specific\n",
    "    phrase = re.sub(r\"won't\", \"will not\", phrase)\n",
    "    phrase = re.sub(r\"can\\'t\", \"can not\", phrase)\n",
    "\n",
    "    # general\n",
    "    phrase = re.sub(r\"n\\'t\", \" not\", phrase)\n",
    "    phrase = re.sub(r\"\\'re\", \" are\", phrase)\n",
    "    phrase = re.sub(r\"\\'s\", \" is\", phrase)\n",
    "    phrase = re.sub(r\"\\'d\", \" would\", phrase)\n",
    "    phrase = re.sub(r\"\\'ll\", \" will\", phrase)\n",
    "    phrase = re.sub(r\"\\'t\", \" not\", phrase)\n",
    "    phrase = re.sub(r\"\\'ve\", \" have\", phrase)\n",
    "    phrase = re.sub(r\"\\'m\", \" am\", phrase)\n",
    "    return phrase\n",
    "\n",
    "# https://gist.github.com/sebleier/554280\n",
    "\n",
    "stopwords= ['i', 'me', 'my', 'myself', 'we', 'our', 'ours', 'ourselves', 'you', \"you're\", \"you've\",\\\n",
    "            \"you'll\", \"you'd\", 'your', 'yours', 'yourself', 'yourselves', 'he', 'him', 'his', 'himself', \\\n",
    "            'she', \"she's\", 'her', 'hers', 'herself', 'it', \"it's\", 'its', 'itself', 'they', 'them', 'their',\\\n",
    "            'theirs', 'themselves', 'what', 'which', 'who', 'whom', 'this', 'that', \"that'll\", 'these', 'those', \\\n",
    "            'am', 'is', 'are', 'was', 'were', 'be', 'been', 'being', 'have', 'has', 'had', 'having', 'do', 'does', \\\n",
    "            'did', 'doing', 'a', 'an', 'the', 'and', 'but', 'if', 'or', 'because', 'as', 'until', 'while', 'of', \\\n",
    "            'at', 'by', 'for', 'with', 'about', 'against', 'between', 'into', 'through', 'during', 'before', 'after',\\\n",
    "            'above', 'below', 'to', 'from', 'up', 'down', 'in', 'out', 'on', 'off', 'over', 'under', 'again', 'further',\\\n",
    "            'then', 'once', 'here', 'there', 'when', 'where', 'why', 'how', 'all', 'any', 'both', 'each', 'few', 'more',\\\n",
    "            'most', 'other', 'some', 'such', 'only', 'own', 'same', 'so', 'than', 'too', 'very', \\\n",
    "            's', 't', 'can', 'will', 'just', 'don', \"don't\", 'should', \"should've\", 'now', 'd', 'll', 'm', 'o', 're', \\\n",
    "            've', 'y', 'ain', 'aren', \"aren't\", 'couldn', \"couldn't\", 'didn', \"didn't\", 'doesn', \"doesn't\", 'hadn',\\\n",
    "            \"hadn't\", 'hasn', \"hasn't\", 'haven', \"haven't\", 'isn', \"isn't\", 'ma', 'mightn', \"mightn't\", 'mustn',\\\n",
    "            \"mustn't\", 'needn', \"needn't\", 'shan', \"shan't\", 'shouldn', \"shouldn't\", 'wasn', \"wasn't\", 'weren', \"weren't\", \\\n",
    "            'won', \"won't\", 'wouldn', \"wouldn't\"]"
   ]
  },
  {
   "cell_type": "code",
   "execution_count": 34,
   "metadata": {
    "colab": {
     "base_uri": "https://localhost:8080/",
     "height": 139
    },
    "colab_type": "code",
    "id": "o-B6F61921g8",
    "outputId": "07dfaaef-485e-4cb4-be82-df99bcd82417",
    "scrolled": true
   },
   "outputs": [
    {
     "name": "stdout",
     "output_type": "stream",
     "text": [
      "printing some random essay\n",
      "9 Over 95% of my students are on free or reduced lunch.  I have a few who are homeless, but despite that, they come to school with an eagerness to learn.  My students are inquisitive eager learners who  embrace the challenge of not having great books and other resources  every day.  Many of them are not afforded the opportunity to engage with these big colorful pages of a book on a regular basis at home and they don't travel to the public library.  \\r\\nIt is my duty as a teacher to do all I can to provide each student an opportunity to succeed in every aspect of life. \\r\\nReading is Fundamental! My students will read these books over and over again while boosting their comprehension skills. These books will be used for read alouds, partner reading and for Independent reading. \\r\\nThey will engage in reading to build their \\\"Love for Reading\\\" by reading for pure enjoyment. They will be introduced to some new authors as well as some old favorites. I want my students to be ready for the 21st Century and know the pleasure of holding a good hard back book in hand. There's nothing like a good book to read!  \\r\\nMy students will soar in Reading, and more because of your consideration and generous funding contribution. This will help build stamina and prepare for 3rd grade. Thank you so much for reading our proposal!nannan\n",
      "--------------------------------------------------\n",
      "34 My students mainly come from extremely low-income families, and the majority of them come from homes where both parents work full time. Most of my students are at school from 7:30 am to 6:00 pm (2:30 to 6:00 pm in the after-school program), and they all receive free and reduced meals for breakfast and lunch. \\r\\n\\r\\n\\r\\nI want my students to feel  as comfortable in my classroom as they do at home. Many of my students take on multiple roles both at home as well as in school. They are sometimes the caretakers of younger siblings, cooks, babysitters, academics, friends, and most of all, they are developing who they are going to become as adults.  I consider it an essential part of my job to model helping others gain knowledge in a positive manner. As a result, I have a community of students who love helping each other in and outside of the classroom. They consistently look for opportunities to support each other's learning in a kind and helpful way.I am excited to be experimenting with alternative seating in my classroom this school year. Studies have shown that giving students the option of where they sit in a classroom increases focus as well as motivation.  \\r\\n\\r\\nBy allowing students choice in the classroom, they are able to explore and create in a welcoming environment. Alternative classroom seating has been experimented with more frequently in recent years. I believe (along with many others), that every child learns differently. This does not only apply to how multiplication is memorized, or a paper is written, but applies to the space in which they are asked to work. I have had students in the past ask \\\"Can I work in the library? Can I work on the carpet?\\\" My answer was always, \\\"As long as you're learning, you can work wherever you want!\\\" \\r\\n\\r\\nWith the yoga balls and the lap-desks, I will be able to increase the options for seating in my classroom and expand its imaginable space.nannan\n",
      "--------------------------------------------------\n",
      "147 My students are eager to learn and make their mark on the world.\\r\\n\\r\\nThey come from a Title 1 school and need extra love.\\r\\n\\r\\nMy fourth grade students are in a high poverty area and still come to school every day to get their education. I am trying to make it fun and educational for them so they can get the most out of their schooling. I created a caring environment for the students to bloom! They deserve the best.\\r\\nThank you!\\r\\nI am requesting 1 Chromebook to access online interventions, differentiate instruction, and get extra practice. The Chromebook will be used to supplement ELA and math instruction. Students will play ELA and math games that are engaging and fun, as well as participate in assignments online. This in turn will help my students improve their skills. Having a Chromebook in the classroom would not only allow students to use the programs at their own pace, but would ensure more students are getting adequate time to use the programs. The online programs have been especially beneficial to my students with special needs. They are able to work at their level as well as be challenged with some different materials. This is making these students more confident in their abilities.\\r\\n\\r\\nThe Chromebook would allow my students to have daily access to computers and increase their computing skills.\\r\\nThis will change their lives for the better as they become more successful in school. Having access to technology in the classroom would help bridge the achievement gap.nannan\n"
     ]
    }
   ],
   "source": [
    "print(\"printing some random essay\")\n",
    "print(9, project_data['essay'].values[9])\n",
    "print('-'*50)\n",
    "print(34, project_data['essay'].values[34])\n",
    "print('-'*50)\n",
    "print(147, project_data['essay'].values[147])"
   ]
  },
  {
   "cell_type": "code",
   "execution_count": 35,
   "metadata": {
    "colab": {
     "base_uri": "https://localhost:8080/",
     "height": 34
    },
    "colab_type": "code",
    "id": "iJsXxmiL21g-",
    "outputId": "84eb8cff-a961-4e3c-e1cb-2f6ff7a79676"
   },
   "outputs": [
    {
     "name": "stderr",
     "output_type": "stream",
     "text": [
      "100%|██████████| 109248/109248 [01:03<00:00, 1712.55it/s]\n"
     ]
    }
   ],
   "source": [
    "preprocessed_essays = preprocess_text(project_data['essay'])"
   ]
  },
  {
   "cell_type": "code",
   "execution_count": 0,
   "metadata": {
    "colab": {},
    "colab_type": "code",
    "id": "MKyvzcDqAhJj"
   },
   "outputs": [],
   "source": [
    "project_data['clean_text']=preprocessed_essays"
   ]
  },
  {
   "cell_type": "code",
   "execution_count": 37,
   "metadata": {
    "colab": {
     "base_uri": "https://localhost:8080/",
     "height": 54
    },
    "colab_type": "code",
    "id": "87t5OwhO_8in",
    "outputId": "be34f55a-932d-4dbd-eb83-93a188652f23"
   },
   "outputs": [
    {
     "data": {
      "text/plain": [
       "'students english learners working english second third languages melting pot refugees immigrants native born americans bringing gift language school 24 languages represented english learner program students every level mastery also 40 countries represented families within school student brings wealth knowledge experiences us open eyes new cultures beliefs respect limits language limits world ludwig wittgenstein english learner strong support system home begs resources many times parents learning read speak english along side children sometimes creates barriers parents able help child learn phonetics letter recognition reading skills providing dvd players students able continue mastery english language even no one home able assist families students within level 1 proficiency status offered part program educational videos specially chosen english learner teacher sent home regularly watch videos help child develop early reading skills parents not access dvd player opportunity check dvd player use year plan use videos educational dvd years come el students nannan'"
      ]
     },
     "execution_count": 37,
     "metadata": {
      "tags": []
     },
     "output_type": "execute_result"
    }
   ],
   "source": [
    "preprocessed_essays[0]"
   ]
  },
  {
   "cell_type": "code",
   "execution_count": 38,
   "metadata": {
    "colab": {
     "base_uri": "https://localhost:8080/",
     "height": 119
    },
    "colab_type": "code",
    "id": "o_lcBLG-21g_",
    "outputId": "3bd3c40d-6a88-4bdd-dd0f-b170d4a89190"
   },
   "outputs": [
    {
     "data": {
      "text/plain": [
       "array(['Unnamed: 0', 'id', 'teacher_id', 'teacher_prefix', 'school_state',\n",
       "       'project_submitted_datetime', 'project_grade_category',\n",
       "       'project_subject_categories', 'project_subject_subcategories',\n",
       "       'project_title', 'project_resource_summary',\n",
       "       'teacher_number_of_previously_posted_projects',\n",
       "       'project_is_approved', 'essay', 'clean_text'], dtype=object)"
      ]
     },
     "execution_count": 38,
     "metadata": {
      "tags": []
     },
     "output_type": "execute_result"
    }
   ],
   "source": [
    "project_data.columns.values"
   ]
  },
  {
   "cell_type": "code",
   "execution_count": 39,
   "metadata": {
    "colab": {
     "base_uri": "https://localhost:8080/",
     "height": 139
    },
    "colab_type": "code",
    "id": "WUV8g31d21hB",
    "outputId": "060fd4fc-9174-4f17-932e-31a2d1066912",
    "scrolled": true
   },
   "outputs": [
    {
     "name": "stdout",
     "output_type": "stream",
     "text": [
      "printing some random essay\n",
      "9 95 students free reduced lunch homeless despite come school eagerness learn students inquisitive eager learners embrace challenge not great books resources every day many not afforded opportunity engage big colorful pages book regular basis home not travel public library duty teacher provide student opportunity succeed every aspect life reading fundamental students read books boosting comprehension skills books used read alouds partner reading independent reading engage reading build love reading reading pure enjoyment introduced new authors well old favorites want students ready 21st century know pleasure holding good hard back book hand nothing like good book read students soar reading consideration generous funding contribution help build stamina prepare 3rd grade thank much reading proposal nannan\n",
      "--------------------------------------------------\n",
      "34 students mainly come extremely low income families majority come homes parents work full time students school 7 30 6 00 pm 2 30 6 00 pm school program receive free reduced meals breakfast lunch want students feel comfortable classroom home many students take multiple roles home well school sometimes caretakers younger siblings cooks babysitters academics friends developing going become adults consider essential part job model helping others gain knowledge positive manner result community students love helping outside classroom consistently look opportunities support learning kind helpful way excited experimenting alternative seating classroom school year studies shown giving students option sit classroom increases focus well motivation allowing students choice classroom able explore create welcoming environment alternative classroom seating experimented frequently recent years believe along many others every child learns differently not apply multiplication memorized paper written applies space asked work students past ask work library work carpet answer always long learning work wherever want yoga balls lap desks able increase options seating classroom expand imaginable space nannan\n",
      "--------------------------------------------------\n",
      "147 students eager learn make mark world come title 1 school need extra love fourth grade students high poverty area still come school every day get education trying make fun educational get schooling created caring environment students bloom deserve best thank requesting 1 chromebook access online interventions differentiate instruction get extra practice chromebook used supplement ela math instruction students play ela math games engaging fun well participate assignments online turn help students improve skills chromebook classroom would not allow students use programs pace would ensure students getting adequate time use programs online programs especially beneficial students special needs able work level well challenged different materials making students confident abilities chromebook would allow students daily access computers increase computing skills change lives better become successful school access technology classroom would help bridge achievement gap nannan\n"
     ]
    }
   ],
   "source": [
    "print(\"printing some random essay\")\n",
    "print(9, preprocessed_essays[9])\n",
    "print('-'*50)\n",
    "print(34, preprocessed_essays[34])\n",
    "print('-'*50)\n",
    "print(147, preprocessed_essays[147])"
   ]
  },
  {
   "cell_type": "markdown",
   "metadata": {
    "colab_type": "text",
    "id": "sOavptNg21hC"
   },
   "source": [
    "# 8. Preprocessing Numerical Values: price"
   ]
  },
  {
   "cell_type": "code",
   "execution_count": 40,
   "metadata": {
    "colab": {
     "base_uri": "https://localhost:8080/",
     "height": 111
    },
    "colab_type": "code",
    "id": "xAAPvyUl21hC",
    "outputId": "8700f4e5-b6e1-4cc2-bfe5-74969292b9bd"
   },
   "outputs": [
    {
     "data": {
      "text/html": [
       "<div>\n",
       "<style scoped>\n",
       "    .dataframe tbody tr th:only-of-type {\n",
       "        vertical-align: middle;\n",
       "    }\n",
       "\n",
       "    .dataframe tbody tr th {\n",
       "        vertical-align: top;\n",
       "    }\n",
       "\n",
       "    .dataframe thead th {\n",
       "        text-align: right;\n",
       "    }\n",
       "</style>\n",
       "<table border=\"1\" class=\"dataframe\">\n",
       "  <thead>\n",
       "    <tr style=\"text-align: right;\">\n",
       "      <th></th>\n",
       "      <th>id</th>\n",
       "      <th>price</th>\n",
       "      <th>quantity</th>\n",
       "    </tr>\n",
       "  </thead>\n",
       "  <tbody>\n",
       "    <tr>\n",
       "      <th>0</th>\n",
       "      <td>p000001</td>\n",
       "      <td>459.56</td>\n",
       "      <td>7</td>\n",
       "    </tr>\n",
       "    <tr>\n",
       "      <th>1</th>\n",
       "      <td>p000002</td>\n",
       "      <td>515.89</td>\n",
       "      <td>21</td>\n",
       "    </tr>\n",
       "  </tbody>\n",
       "</table>\n",
       "</div>"
      ],
      "text/plain": [
       "        id   price  quantity\n",
       "0  p000001  459.56         7\n",
       "1  p000002  515.89        21"
      ]
     },
     "execution_count": 40,
     "metadata": {
      "tags": []
     },
     "output_type": "execute_result"
    }
   ],
   "source": [
    "# https://stackoverflow.com/questions/22407798/how-to-reset-a-dataframes-indexes-for-all-groups-in-one-step\n",
    "price_data = resource_data.groupby('id').agg({'price':'sum', 'quantity':'sum'}).reset_index()\n",
    "price_data.head(2)"
   ]
  },
  {
   "cell_type": "code",
   "execution_count": 41,
   "metadata": {
    "colab": {
     "base_uri": "https://localhost:8080/",
     "height": 119
    },
    "colab_type": "code",
    "id": "F4eIOVaZ21hF",
    "outputId": "55886d05-889e-4722-80f9-e775cecfeea5"
   },
   "outputs": [
    {
     "data": {
      "text/plain": [
       "array(['Unnamed: 0', 'id', 'teacher_id', 'teacher_prefix', 'school_state',\n",
       "       'project_submitted_datetime', 'project_grade_category',\n",
       "       'project_subject_categories', 'project_subject_subcategories',\n",
       "       'project_title', 'project_resource_summary',\n",
       "       'teacher_number_of_previously_posted_projects',\n",
       "       'project_is_approved', 'essay', 'clean_text'], dtype=object)"
      ]
     },
     "execution_count": 41,
     "metadata": {
      "tags": []
     },
     "output_type": "execute_result"
    }
   ],
   "source": [
    "project_data.columns.values"
   ]
  },
  {
   "cell_type": "code",
   "execution_count": 0,
   "metadata": {
    "colab": {},
    "colab_type": "code",
    "id": "0DZSeX-221hH"
   },
   "outputs": [],
   "source": [
    "# join two dataframes in python: \n",
    "project_data = pd.merge(project_data, price_data, on='id', how='left')"
   ]
  },
  {
   "cell_type": "code",
   "execution_count": 43,
   "metadata": {
    "colab": {
     "base_uri": "https://localhost:8080/",
     "height": 136
    },
    "colab_type": "code",
    "id": "qMI42IOo21hJ",
    "outputId": "91bf2b55-f416-41ff-c401-9b98e2268e2f"
   },
   "outputs": [
    {
     "data": {
      "text/plain": [
       "array(['Unnamed: 0', 'id', 'teacher_id', 'teacher_prefix', 'school_state',\n",
       "       'project_submitted_datetime', 'project_grade_category',\n",
       "       'project_subject_categories', 'project_subject_subcategories',\n",
       "       'project_title', 'project_resource_summary',\n",
       "       'teacher_number_of_previously_posted_projects',\n",
       "       'project_is_approved', 'essay', 'clean_text', 'price', 'quantity'],\n",
       "      dtype=object)"
      ]
     },
     "execution_count": 43,
     "metadata": {
      "tags": []
     },
     "output_type": "execute_result"
    }
   ],
   "source": [
    "project_data.columns.values"
   ]
  },
  {
   "cell_type": "code",
   "execution_count": 44,
   "metadata": {
    "colab": {
     "base_uri": "https://localhost:8080/",
     "height": 119
    },
    "colab_type": "code",
    "id": "ubShD-7d21hM",
    "outputId": "f60fa6b8-4b97-4398-ef60-29dc3a348005"
   },
   "outputs": [
    {
     "data": {
      "text/plain": [
       "0    154.60\n",
       "1    299.00\n",
       "2    516.85\n",
       "3    232.90\n",
       "4     67.98\n",
       "Name: price, dtype: float64"
      ]
     },
     "execution_count": 44,
     "metadata": {
      "tags": []
     },
     "output_type": "execute_result"
    }
   ],
   "source": [
    "project_data['price'].head()"
   ]
  },
  {
   "cell_type": "markdown",
   "metadata": {
    "colab_type": "text",
    "id": "mcayRiuU21hO"
   },
   "source": [
    "## 8.1 applying StandardScaler"
   ]
  },
  {
   "cell_type": "code",
   "execution_count": 0,
   "metadata": {
    "colab": {},
    "colab_type": "code",
    "id": "JbfC2TCB21hP"
   },
   "outputs": [],
   "source": [
    "from sklearn.preprocessing import StandardScaler\n",
    "scaler = StandardScaler()\n",
    "scaler.fit(project_data['price'].values.reshape(-1, 1))\n",
    "project_data['std_price']=scaler.transform(project_data['price'].values.reshape(-1, 1) )"
   ]
  },
  {
   "cell_type": "code",
   "execution_count": 46,
   "metadata": {
    "colab": {
     "base_uri": "https://localhost:8080/",
     "height": 119
    },
    "colab_type": "code",
    "id": "woRFoIP921hR",
    "outputId": "06b8e936-0afa-4ebb-aa55-9ba764835f66",
    "scrolled": true
   },
   "outputs": [
    {
     "data": {
      "text/plain": [
       "0   -0.390533\n",
       "1    0.002396\n",
       "2    0.595191\n",
       "3   -0.177469\n",
       "4   -0.626236\n",
       "Name: std_price, dtype: float64"
      ]
     },
     "execution_count": 46,
     "metadata": {
      "tags": []
     },
     "output_type": "execute_result"
    }
   ],
   "source": [
    "project_data['std_price'].head()"
   ]
  },
  {
   "cell_type": "markdown",
   "metadata": {
    "colab_type": "text",
    "id": "Xfw2eF-l21hV"
   },
   "source": [
    "## 8.2 applying MinMaxScaler"
   ]
  },
  {
   "cell_type": "code",
   "execution_count": 0,
   "metadata": {
    "colab": {},
    "colab_type": "code",
    "id": "GHNRLP6S21hV"
   },
   "outputs": [],
   "source": [
    "from sklearn.preprocessing import MinMaxScaler\n",
    "\n",
    "scaler = MinMaxScaler()\n",
    "scaler.fit(project_data['price'].values.reshape(-1, 1))\n",
    "project_data['nrm_price']=scaler.transform(project_data['price'].values.reshape(-1, 1))"
   ]
  },
  {
   "cell_type": "code",
   "execution_count": 48,
   "metadata": {
    "colab": {
     "base_uri": "https://localhost:8080/",
     "height": 119
    },
    "colab_type": "code",
    "id": "IKSl8wsp21hX",
    "outputId": "63e3698b-8d0a-4476-9230-cb22c3e94f5b"
   },
   "outputs": [
    {
     "data": {
      "text/plain": [
       "0    0.015397\n",
       "1    0.029839\n",
       "2    0.051628\n",
       "3    0.023228\n",
       "4    0.006733\n",
       "Name: nrm_price, dtype: float64"
      ]
     },
     "execution_count": 48,
     "metadata": {
      "tags": []
     },
     "output_type": "execute_result"
    }
   ],
   "source": [
    "project_data['nrm_price'].head()"
   ]
  },
  {
   "cell_type": "code",
   "execution_count": 0,
   "metadata": {
    "colab": {},
    "colab_type": "code",
    "id": "e7vONrtJ21hY"
   },
   "outputs": [],
   "source": [
    "#Reference:https://stackoverflow.com/questions/19859282/check-if-a-string-contains-a-number\n",
    "def hasNumbers(inputString):\n",
    "    return any(char.isdigit() for char in inputString)"
   ]
  },
  {
   "cell_type": "code",
   "execution_count": 0,
   "metadata": {
    "colab": {},
    "colab_type": "code",
    "id": "5bvqf2wO21hZ"
   },
   "outputs": [],
   "source": [
    "project_data['presence_numbers']=project_data['project_resource_summary'].apply(hasNumbers)"
   ]
  },
  {
   "cell_type": "code",
   "execution_count": 51,
   "metadata": {
    "colab": {
     "base_uri": "https://localhost:8080/",
     "height": 34
    },
    "colab_type": "code",
    "id": "QetHvX1b21hc",
    "outputId": "a7422b17-2263-488f-9874-016dbe1af714"
   },
   "outputs": [
    {
     "data": {
      "text/plain": [
       "(109248, 20)"
      ]
     },
     "execution_count": 51,
     "metadata": {
      "tags": []
     },
     "output_type": "execute_result"
    }
   ],
   "source": [
    "project_data.shape"
   ]
  },
  {
   "cell_type": "markdown",
   "metadata": {
    "colab_type": "text",
    "id": "iPZsZXx221he"
   },
   "source": [
    "<h1>Let's build LSTM models</h1>"
   ]
  },
  {
   "cell_type": "code",
   "execution_count": 0,
   "metadata": {
    "colab": {},
    "colab_type": "code",
    "id": "TQHz-UK721he"
   },
   "outputs": [],
   "source": [
    "from sklearn.model_selection import train_test_split"
   ]
  },
  {
   "cell_type": "code",
   "execution_count": 53,
   "metadata": {
    "colab": {
     "base_uri": "https://localhost:8080/",
     "height": 153
    },
    "colab_type": "code",
    "id": "kKxXHntn21hg",
    "outputId": "73c12388-e192-491c-cf9e-2172c931b78b"
   },
   "outputs": [
    {
     "data": {
      "text/plain": [
       "Index(['Unnamed: 0', 'id', 'teacher_id', 'teacher_prefix', 'school_state',\n",
       "       'project_submitted_datetime', 'project_grade_category',\n",
       "       'project_subject_categories', 'project_subject_subcategories',\n",
       "       'project_title', 'project_resource_summary',\n",
       "       'teacher_number_of_previously_posted_projects', 'project_is_approved',\n",
       "       'essay', 'clean_text', 'price', 'quantity', 'std_price', 'nrm_price',\n",
       "       'presence_numbers'],\n",
       "      dtype='object')"
      ]
     },
     "execution_count": 53,
     "metadata": {
      "tags": []
     },
     "output_type": "execute_result"
    }
   ],
   "source": [
    "project_data.columns"
   ]
  },
  {
   "cell_type": "code",
   "execution_count": 54,
   "metadata": {
    "colab": {
     "base_uri": "https://localhost:8080/",
     "height": 119
    },
    "colab_type": "code",
    "id": "aIt3BNbx21hh",
    "outputId": "21f9fd6e-f003-46f3-961e-322ef53e72ae"
   },
   "outputs": [
    {
     "data": {
      "text/plain": [
       "0    p253737\n",
       "1    p258326\n",
       "2    p182444\n",
       "3    p246581\n",
       "4    p104768\n",
       "Name: id, dtype: object"
      ]
     },
     "execution_count": 54,
     "metadata": {
      "tags": []
     },
     "output_type": "execute_result"
    }
   ],
   "source": [
    "project_data['id'].head(5)"
   ]
  },
  {
   "cell_type": "code",
   "execution_count": 0,
   "metadata": {
    "colab": {},
    "colab_type": "code",
    "id": "Q6JnJhEN21hi"
   },
   "outputs": [],
   "source": []
  },
  {
   "cell_type": "code",
   "execution_count": 55,
   "metadata": {
    "colab": {
     "base_uri": "https://localhost:8080/",
     "height": 34
    },
    "colab_type": "code",
    "id": "njaV_lQVXgk_",
    "outputId": "39728fc5-52d4-479e-b1b7-d0fc22aefae2"
   },
   "outputs": [
    {
     "name": "stderr",
     "output_type": "stream",
     "text": [
      "100%|██████████| 109248/109248 [00:01<00:00, 75454.96it/s]\n"
     ]
    }
   ],
   "source": [
    "numerical=[]\n",
    "for i in tqdm(project_data['project_resource_summary']):\n",
    "  sent=decontracted(i)\n",
    "  sent=' '.join(a for a in sent.split() if a.isdigit())\n",
    "  k=len(sent)\n",
    "  numerical.append(k)\n",
    "  \n",
    "project_data[\"numerical\"]=numerical"
   ]
  },
  {
   "cell_type": "code",
   "execution_count": 0,
   "metadata": {
    "colab": {},
    "colab_type": "code",
    "id": "WO27pMpj21hl"
   },
   "outputs": [],
   "source": [
    "project_data_x=project_data[['teacher_id', 'teacher_prefix', 'school_state',\n",
    "       'project_submitted_datetime', 'project_grade_category',\n",
    "       'project_subject_categories', 'project_subject_subcategories',\n",
    "       'project_title','clean_text', 'project_resource_summary',\n",
    "       'teacher_number_of_previously_posted_projects', \n",
    "       'essay', 'price', 'quantity', 'std_price', 'nrm_price','numerical',\n",
    "       'presence_numbers']]"
   ]
  },
  {
   "cell_type": "code",
   "execution_count": 0,
   "metadata": {
    "colab": {},
    "colab_type": "code",
    "id": "qTB0njGu21hm"
   },
   "outputs": [],
   "source": [
    "project_data_y=project_data['project_is_approved']"
   ]
  },
  {
   "cell_type": "code",
   "execution_count": 0,
   "metadata": {
    "colab": {},
    "colab_type": "code",
    "id": "gEHZOSGv21hn"
   },
   "outputs": [],
   "source": [
    "X_train, X_test, y_train, y_test = train_test_split(project_data_x,project_data_y , test_size=0.30, random_state=42)"
   ]
  },
  {
   "cell_type": "code",
   "execution_count": 0,
   "metadata": {
    "colab": {},
    "colab_type": "code",
    "id": "kLJJUzXU21hq"
   },
   "outputs": [],
   "source": [
    "X_tr, X_cv, y_tr, y_cv = train_test_split(X_train,y_train , test_size=0.33, random_state=42)"
   ]
  },
  {
   "cell_type": "code",
   "execution_count": 60,
   "metadata": {
    "colab": {
     "base_uri": "https://localhost:8080/",
     "height": 34
    },
    "colab_type": "code",
    "id": "qYLLT2ck21ht",
    "outputId": "4b36fcbe-9239-4033-8971-909457b42900"
   },
   "outputs": [
    {
     "data": {
      "text/plain": [
       "(109248, 18)"
      ]
     },
     "execution_count": 60,
     "metadata": {
      "tags": []
     },
     "output_type": "execute_result"
    }
   ],
   "source": [
    "project_data_x.shape"
   ]
  },
  {
   "cell_type": "markdown",
   "metadata": {
    "colab_type": "text",
    "id": "sNSQ08QH21hu"
   },
   "source": [
    "<h1>Model 3</h1>"
   ]
  },
  {
   "cell_type": "code",
   "execution_count": 0,
   "metadata": {
    "colab": {},
    "colab_type": "code",
    "id": "tNDst55a21hu"
   },
   "outputs": [],
   "source": [
    "#from keras.models import Sequential\n",
    "#model = Sequential()"
   ]
  },
  {
   "cell_type": "code",
   "execution_count": 0,
   "metadata": {
    "colab": {},
    "colab_type": "code",
    "id": "-ZtL-tte21hw"
   },
   "outputs": [],
   "source": [
    "#Loading in the glove vectors\n",
    "pickle_in = open(\"drive/My Drive/Donors for AFR Classroom/glove_vectors\",\"rb\")\n",
    "glove_words = pickle.load(pickle_in)"
   ]
  },
  {
   "cell_type": "code",
   "execution_count": 0,
   "metadata": {
    "colab": {},
    "colab_type": "code",
    "id": "xqq2yz9w21hy"
   },
   "outputs": [],
   "source": [
    "MAX_SEQUENCE_LENGTH = 100\n",
    "MAX_VOCAB_SIZE = 1000000\n",
    "EMBEDDING_DIM = 300"
   ]
  },
  {
   "cell_type": "code",
   "execution_count": 66,
   "metadata": {
    "colab": {
     "base_uri": "https://localhost:8080/",
     "height": 34
    },
    "colab_type": "code",
    "id": "fGaLdZki6weS",
    "outputId": "71fd5381-c5bf-4f67-a570-dbc052792832"
   },
   "outputs": [
    {
     "name": "stderr",
     "output_type": "stream",
     "text": [
      "Using TensorFlow backend.\n"
     ]
    }
   ],
   "source": [
    "from keras.layers import Input, Embedding, LSTM, Dropout, BatchNormalization, Dense, concatenate, Flatten, Conv1D, MaxPool1D, LeakyReLU, ELU, SpatialDropout1D, MaxPooling1D, GlobalAveragePooling1D, GlobalMaxPooling1D\n",
    "from keras.preprocessing.text import Tokenizer, one_hot\n",
    "from keras.preprocessing.sequence import pad_sequences\n",
    "from keras.models import Model, load_model\n",
    "from keras import regularizers\n",
    "from keras.optimizers import *\n",
    "from keras.callbacks import ModelCheckpoint, EarlyStopping, TensorBoard, ReduceLROnPlateau"
   ]
  },
  {
   "cell_type": "code",
   "execution_count": 67,
   "metadata": {
    "colab": {
     "base_uri": "https://localhost:8080/",
     "height": 119
    },
    "colab_type": "code",
    "id": "m_IEb--395kE",
    "outputId": "a4958015-05b7-41ca-d242-5758a248ec5e"
   },
   "outputs": [
    {
     "data": {
      "text/plain": [
       "53407    teaching fantastic profession enjoy immensely ...\n",
       "43623    kids hardworking diligent bright eyed curious ...\n",
       "78035    remember like school remember supplies require...\n",
       "33209    teacher low income high poverty school distric...\n",
       "68081    kindergarten classroom key word always pushing...\n",
       "Name: clean_text, dtype: object"
      ]
     },
     "execution_count": 67,
     "metadata": {
      "tags": []
     },
     "output_type": "execute_result"
    }
   ],
   "source": [
    "X_tr[\"clean_text\"].head(5)"
   ]
  },
  {
   "cell_type": "code",
   "execution_count": 0,
   "metadata": {
    "colab": {},
    "colab_type": "code",
    "id": "LoUzmg5uacU1"
   },
   "outputs": [],
   "source": [
    "tf_idf=TfidfVectorizer()\n",
    "feature=tf_idf.fit_transform(X_tr['clean_text'])\n",
    "\n",
    "feature_table=dict(zip(tf_idf.get_feature_names(),list(tf_idf.idf_)))"
   ]
  },
  {
   "cell_type": "code",
   "execution_count": 0,
   "metadata": {
    "colab": {},
    "colab_type": "code",
    "id": "euOeFntsafmQ"
   },
   "outputs": [],
   "source": [
    "df=pd.DataFrame(list(feature_table.items()),columns=['word','idf_values'])"
   ]
  },
  {
   "cell_type": "code",
   "execution_count": 70,
   "metadata": {
    "colab": {
     "base_uri": "https://localhost:8080/",
     "height": 170
    },
    "colab_type": "code",
    "id": "VSavtrC-ah88",
    "outputId": "3f024c8c-d782-433c-83fb-04d5cffc9867"
   },
   "outputs": [
    {
     "data": {
      "text/plain": [
       "count    48760.000000\n",
       "mean        10.215254\n",
       "std          1.795569\n",
       "min          1.007376\n",
       "25%          9.536656\n",
       "50%         11.146094\n",
       "75%         11.551559\n",
       "max         11.551559\n",
       "Name: idf_values, dtype: float64"
      ]
     },
     "execution_count": 70,
     "metadata": {
      "tags": []
     },
     "output_type": "execute_result"
    }
   ],
   "source": [
    "df['idf_values'].describe()"
   ]
  },
  {
   "cell_type": "code",
   "execution_count": 0,
   "metadata": {
    "colab": {},
    "colab_type": "code",
    "id": "TelAuE0pallI"
   },
   "outputs": [],
   "source": [
    "#We will consider words between 25th and 75 th percentile only"
   ]
  },
  {
   "cell_type": "code",
   "execution_count": 0,
   "metadata": {
    "colab": {},
    "colab_type": "code",
    "id": "Jo4wXgkCamTK"
   },
   "outputs": [],
   "source": [
    "tf_idf_25_75=df[(df['idf_values']<=10) & (df['idf_values']>=2)]"
   ]
  },
  {
   "cell_type": "code",
   "execution_count": 73,
   "metadata": {
    "colab": {
     "base_uri": "https://localhost:8080/",
     "height": 34
    },
    "colab_type": "code",
    "id": "00LjNZO-aoY5",
    "outputId": "c251f4c2-e4bc-4169-8fd2-9dfc2ac5711c"
   },
   "outputs": [
    {
     "data": {
      "text/plain": [
       "(36675, 2)"
      ]
     },
     "execution_count": 73,
     "metadata": {
      "tags": []
     },
     "output_type": "execute_result"
    }
   ],
   "source": [
    "tf_idf_25_75.shape"
   ]
  },
  {
   "cell_type": "code",
   "execution_count": 0,
   "metadata": {
    "colab": {},
    "colab_type": "code",
    "id": "UGFMXmwNaqqb"
   },
   "outputs": [],
   "source": [
    "#Let's now use these words alone"
   ]
  },
  {
   "cell_type": "code",
   "execution_count": 0,
   "metadata": {
    "colab": {},
    "colab_type": "code",
    "id": "AWav5rNL21hz"
   },
   "outputs": [],
   "source": [
    "# convert the sentences (strings) into integers\n",
    "tokenizer = Tokenizer(num_words=MAX_VOCAB_SIZE)\n",
    "tokenizer.fit_on_texts(tf_idf_25_75['word'].tolist())\n",
    "sequences_tr = tokenizer.texts_to_sequences(X_tr[\"clean_text\"])\n",
    "sequences_cv = tokenizer.texts_to_sequences(X_cv[\"clean_text\"])\n",
    "sequences_test = tokenizer.texts_to_sequences(X_test[\"clean_text\"])"
   ]
  },
  {
   "cell_type": "code",
   "execution_count": 76,
   "metadata": {
    "colab": {
     "base_uri": "https://localhost:8080/",
     "height": 34
    },
    "colab_type": "code",
    "id": "Hd7oPelG21h1",
    "outputId": "07bcd836-3e97-471e-f7de-ef8916fbeeda"
   },
   "outputs": [
    {
     "name": "stdout",
     "output_type": "stream",
     "text": [
      "Found 36675 unique tokens\n"
     ]
    }
   ],
   "source": [
    "word2idx=tokenizer.word_index\n",
    "print(\"Found\",len(word2idx),\"unique tokens\")"
   ]
  },
  {
   "cell_type": "code",
   "execution_count": 77,
   "metadata": {
    "colab": {
     "base_uri": "https://localhost:8080/",
     "height": 34
    },
    "colab_type": "code",
    "id": "DZ4cN6LXpNXQ",
    "outputId": "6e0da0ca-c491-459b-f45a-9bdcbb662db5"
   },
   "outputs": [
    {
     "data": {
      "text/plain": [
       "3"
      ]
     },
     "execution_count": 77,
     "metadata": {
      "tags": []
     },
     "output_type": "execute_result"
    }
   ],
   "source": [
    "len(sequences_tr[1])"
   ]
  },
  {
   "cell_type": "code",
   "execution_count": 78,
   "metadata": {
    "colab": {
     "base_uri": "https://localhost:8080/",
     "height": 34
    },
    "colab_type": "code",
    "id": "CGuPQR-Z21h0",
    "outputId": "380d686d-a053-4da3-9420-bf679e22165e"
   },
   "outputs": [
    {
     "data": {
      "text/plain": [
       "0"
      ]
     },
     "execution_count": 78,
     "metadata": {
      "tags": []
     },
     "output_type": "execute_result"
    }
   ],
   "source": [
    "len(sequences_tr[700])"
   ]
  },
  {
   "cell_type": "markdown",
   "metadata": {
    "colab_type": "text",
    "id": "npSw9dJ_Ccvm"
   },
   "source": [
    "<h3>Let's pad the sequences to make the length of each vector the same</h3>"
   ]
  },
  {
   "cell_type": "code",
   "execution_count": 0,
   "metadata": {
    "colab": {},
    "colab_type": "code",
    "id": "xgWlhI7raaW-"
   },
   "outputs": [],
   "source": []
  },
  {
   "cell_type": "code",
   "execution_count": 0,
   "metadata": {
    "colab": {},
    "colab_type": "code",
    "id": "fKq1SrrH21h3"
   },
   "outputs": [],
   "source": [
    "tr_en=pad_sequences(sequences_tr,maxlen=MAX_SEQUENCE_LENGTH,padding='post', truncating='post')"
   ]
  },
  {
   "cell_type": "code",
   "execution_count": null,
   "metadata": {},
   "outputs": [],
   "source": [
    "cv_en=pad_sequences(sequences_cv,maxlen=MAX_SEQUENCE_LENGTH,padding='post', truncating='post')"
   ]
  },
  {
   "cell_type": "code",
   "execution_count": 80,
   "metadata": {
    "colab": {
     "base_uri": "https://localhost:8080/",
     "height": 34
    },
    "colab_type": "code",
    "id": "WmtV1AaWC6xu",
    "outputId": "6b071f31-3b2b-45f6-9c30-f69adbf467c2"
   },
   "outputs": [
    {
     "data": {
      "text/plain": [
       "(76473, 100)"
      ]
     },
     "execution_count": 80,
     "metadata": {
      "tags": []
     },
     "output_type": "execute_result"
    }
   ],
   "source": [
    "train_en.shape"
   ]
  },
  {
   "cell_type": "code",
   "execution_count": 0,
   "metadata": {
    "colab": {},
    "colab_type": "code",
    "id": "L7OY3DZhDDym"
   },
   "outputs": [],
   "source": [
    "test_en=pad_sequences(sequences_test,maxlen=MAX_SEQUENCE_LENGTH,padding='post', truncating='post')"
   ]
  },
  {
   "cell_type": "code",
   "execution_count": 82,
   "metadata": {
    "colab": {
     "base_uri": "https://localhost:8080/",
     "height": 34
    },
    "colab_type": "code",
    "id": "h6YpOVkfDN0v",
    "outputId": "38fd31cc-08a6-4dcd-f41d-6939281f1243"
   },
   "outputs": [
    {
     "data": {
      "text/plain": [
       "(32775, 100)"
      ]
     },
     "execution_count": 82,
     "metadata": {
      "tags": []
     },
     "output_type": "execute_result"
    }
   ],
   "source": [
    "test_en.shape"
   ]
  },
  {
   "cell_type": "code",
   "execution_count": 0,
   "metadata": {
    "colab": {},
    "colab_type": "code",
    "id": "RdY54MFdDPrO"
   },
   "outputs": [],
   "source": [
    "words_n=min(MAX_VOCAB_SIZE, len(word2idx) + 1)\n",
    "matrix_en=np.zeros((words_n,300))"
   ]
  },
  {
   "cell_type": "code",
   "execution_count": 0,
   "metadata": {
    "colab": {},
    "colab_type": "code",
    "id": "ikR2E8XeD5Wm"
   },
   "outputs": [],
   "source": [
    "for w,i in word2idx.items():\n",
    "  if i< MAX_VOCAB_SIZE:\n",
    "    vector_e=glove_words.get(w)\n",
    "    if vector_e is not None:\n",
    "          matrix_en[i]=vector_e"
   ]
  },
  {
   "cell_type": "code",
   "execution_count": 85,
   "metadata": {
    "colab": {
     "base_uri": "https://localhost:8080/",
     "height": 34
    },
    "colab_type": "code",
    "id": "q0wRo-ooF7Q1",
    "outputId": "8e20044b-e69d-4543-8d6e-b245d5d6c82a"
   },
   "outputs": [
    {
     "name": "stdout",
     "output_type": "stream",
     "text": [
      "36676\n"
     ]
    }
   ],
   "source": [
    "print(words_n)"
   ]
  },
  {
   "cell_type": "code",
   "execution_count": 86,
   "metadata": {
    "colab": {
     "base_uri": "https://localhost:8080/",
     "height": 34
    },
    "colab_type": "code",
    "id": "afLM6DrwH6xd",
    "outputId": "8b6fd54f-e378-4f1d-bf6e-c3791b924c7f"
   },
   "outputs": [
    {
     "name": "stdout",
     "output_type": "stream",
     "text": [
      "(36676, 300)\n"
     ]
    }
   ],
   "source": [
    "print(matrix_en.shape)"
   ]
  },
  {
   "cell_type": "code",
   "execution_count": 87,
   "metadata": {
    "colab": {
     "base_uri": "https://localhost:8080/",
     "height": 258
    },
    "colab_type": "code",
    "id": "p7ynaCYxIHeV",
    "outputId": "3cba84b3-dcfb-4134-9d79-d5053d3fc58e"
   },
   "outputs": [
    {
     "name": "stdout",
     "output_type": "stream",
     "text": [
      "WARNING:tensorflow:From /usr/local/lib/python3.6/dist-packages/keras/backend/tensorflow_backend.py:66: The name tf.get_default_graph is deprecated. Please use tf.compat.v1.get_default_graph instead.\n",
      "\n",
      "WARNING:tensorflow:From /usr/local/lib/python3.6/dist-packages/keras/backend/tensorflow_backend.py:541: The name tf.placeholder is deprecated. Please use tf.compat.v1.placeholder instead.\n",
      "\n",
      "WARNING:tensorflow:From /usr/local/lib/python3.6/dist-packages/keras/backend/tensorflow_backend.py:4432: The name tf.random_uniform is deprecated. Please use tf.random.uniform instead.\n",
      "\n",
      "WARNING:tensorflow:From /usr/local/lib/python3.6/dist-packages/keras/backend/tensorflow_backend.py:190: The name tf.get_default_session is deprecated. Please use tf.compat.v1.get_default_session instead.\n",
      "\n",
      "WARNING:tensorflow:From /usr/local/lib/python3.6/dist-packages/keras/backend/tensorflow_backend.py:197: The name tf.ConfigProto is deprecated. Please use tf.compat.v1.ConfigProto instead.\n",
      "\n",
      "WARNING:tensorflow:From /usr/local/lib/python3.6/dist-packages/keras/backend/tensorflow_backend.py:3733: calling dropout (from tensorflow.python.ops.nn_ops) with keep_prob is deprecated and will be removed in a future version.\n",
      "Instructions for updating:\n",
      "Please use `rate` instead of `keep_prob`. Rate should be set to `rate = 1 - keep_prob`.\n"
     ]
    }
   ],
   "source": [
    "embed_layer=Embedding(words_n,300,weights=[matrix_en],input_length=MAX_SEQUENCE_LENGTH,trainable=False)\n",
    "input_text=Input(shape=(MAX_SEQUENCE_LENGTH,),name=\"input_text\")\n",
    "x=embed_layer(input_text)\n",
    "x=LSTM(256,recurrent_dropout=0.5,kernel_regularizer=regularizers.l2(0.001),return_sequences=True)(x)\n",
    "flatten_1=Flatten()(x)"
   ]
  },
  {
   "cell_type": "code",
   "execution_count": 0,
   "metadata": {
    "colab": {},
    "colab_type": "code",
    "id": "R5lnyPoC-di_"
   },
   "outputs": [],
   "source": [
    "le = CountVectorizer(binary=True)\n",
    "encoded_teacher_tr=le.fit_transform(X_tr[\"teacher_prefix\"])\n",
    "encoded_teacher_cv=le.fit_transform(X_cv[\"teacher_prefix\"])\n",
    "encoded_teacher_test=le.transform(X_test[\"teacher_prefix\"])"
   ]
  },
  {
   "cell_type": "code",
   "execution_count": 89,
   "metadata": {
    "colab": {
     "base_uri": "https://localhost:8080/",
     "height": 34
    },
    "colab_type": "code",
    "id": "mt1KC7QwLCc6",
    "outputId": "90a8ac58-c461-4ede-d1bd-2a0c4cae54c9"
   },
   "outputs": [
    {
     "data": {
      "text/plain": [
       "(76473, 5)"
      ]
     },
     "execution_count": 89,
     "metadata": {
      "tags": []
     },
     "output_type": "execute_result"
    }
   ],
   "source": [
    "encoded_teacher_train.shape"
   ]
  },
  {
   "cell_type": "code",
   "execution_count": 0,
   "metadata": {
    "colab": {},
    "colab_type": "code",
    "id": "dH6yhT7d-fdV"
   },
   "outputs": [],
   "source": [
    "le = CountVectorizer(binary=True)\n",
    "encoded_school_tr=le.fit_transform(X_tr[\"school_state\"])\n",
    "encoded_school_cv=le.transform(X_cv[\"school_state\"])\n",
    "encoded_school_test=le.transform(X_test[\"school_state\"])"
   ]
  },
  {
   "cell_type": "code",
   "execution_count": 0,
   "metadata": {
    "colab": {},
    "colab_type": "code",
    "id": "NrStfklk-l6f"
   },
   "outputs": [],
   "source": [
    "le = CountVectorizer(binary=True)\n",
    "encoded_grade_tr=le.fit_transform(X_tr[\"project_grade_category\"])\n",
    "encoded_grade_cv=le.transform(X_cv[\"project_grade_category\"])\n",
    "encoded_grade_test=le.transform(X_test[\"project_grade_category\"])"
   ]
  },
  {
   "cell_type": "code",
   "execution_count": 92,
   "metadata": {
    "colab": {
     "base_uri": "https://localhost:8080/",
     "height": 34
    },
    "colab_type": "code",
    "id": "OCGgPxJ7n2UZ",
    "outputId": "cdfe55c9-8b02-40e7-c015-2cdd62bc0194"
   },
   "outputs": [
    {
     "data": {
      "text/plain": [
       "(76473, 4)"
      ]
     },
     "execution_count": 92,
     "metadata": {
      "tags": []
     },
     "output_type": "execute_result"
    }
   ],
   "source": [
    "encoded_grade_tr.shape"
   ]
  },
  {
   "cell_type": "code",
   "execution_count": 0,
   "metadata": {
    "colab": {},
    "colab_type": "code",
    "id": "HD9pQuzIThET"
   },
   "outputs": [],
   "source": [
    "le = CountVectorizer(binary=True)\n",
    "le.fit(X_tr[\"project_subject_categories\"])\n",
    "encoded_category_tr=le.transform(X_tr[\"project_subject_categories\"])\n",
    "encoded_category_cv=le.transform(X_cv[\"project_subject_categories\"])\n",
    "encoded_category_test=le.transform(X_test[\"project_subject_categories\"])"
   ]
  },
  {
   "cell_type": "code",
   "execution_count": 94,
   "metadata": {
    "colab": {
     "base_uri": "https://localhost:8080/",
     "height": 51
    },
    "colab_type": "code",
    "id": "e6yy8VsMqIxb",
    "outputId": "5929f38a-ae1a-4eae-8436-c175e7a8d763"
   },
   "outputs": [
    {
     "data": {
      "text/plain": [
       "<1x51 sparse matrix of type '<class 'numpy.int64'>'\n",
       "\twith 1 stored elements in Compressed Sparse Row format>"
      ]
     },
     "execution_count": 94,
     "metadata": {
      "tags": []
     },
     "output_type": "execute_result"
    }
   ],
   "source": [
    "encoded_category_train[1]"
   ]
  },
  {
   "cell_type": "code",
   "execution_count": 0,
   "metadata": {
    "colab": {},
    "colab_type": "code",
    "id": "CFJ6avDCVBUL"
   },
   "outputs": [],
   "source": [
    "le = CountVectorizer(binary=True)\n",
    "le.fit(X_tr[\"project_subject_subcategories\"])\n",
    "encoded_subcategory_tr=le.transform(X_tr[\"project_subject_subcategories\"])\n",
    "encoded_subcategory_cv=le.transform(X_cv[\"project_subject_subcategories\"])\n",
    "encoded_subcategory_test=le.transform(X_test[\"project_subject_subcategories\"])"
   ]
  },
  {
   "cell_type": "code",
   "execution_count": 0,
   "metadata": {
    "colab": {},
    "colab_type": "code",
    "id": "rFRpakC3VNRa"
   },
   "outputs": [],
   "source": [
    "tr_data_1=X_tr['numerical'].values.reshape(-1, 1)\n",
    "tr_data_2=X_tr['price'].values.reshape(-1, 1)\n",
    "tr_data_3=X_tr['quantity'].values.reshape(-1, 1)\n",
    "tr_data_4=X_tr['teacher_number_of_previously_posted_projects'].values.reshape(-1, 1)\n",
    "\n",
    "cv_data_1=X_cv['numerical'].values.reshape(-1, 1)\n",
    "cv_data_2=X_cv['price'].values.reshape(-1, 1)\n",
    "cv_data_3=X_cv['quantity'].values.reshape(-1, 1)\n",
    "cv_data_4=X_cv['teacher_number_of_previously_posted_projects'].values.reshape(-1, 1)\n",
    "\n",
    "\n",
    "concatenate_tr=np.concatenate((tr_data_1,tr_data_2,tr_data_3,tr_data_4),axis=1)\n",
    "concatenate_cv=np.concatenate((cv_data_1,cv_data_2,cv_data_3,cv_data_4),axis=1)\n",
    "concatenate_test=np.concatenate((test_data_1,test_data_2,test_data_3,test_data_4),axis=1)"
   ]
  },
  {
   "cell_type": "code",
   "execution_count": 0,
   "metadata": {
    "colab": {},
    "colab_type": "code",
    "id": "LApfYIEdYaLJ"
   },
   "outputs": [],
   "source": [
    "from sklearn.preprocessing import StandardScaler\n",
    "normalize=StandardScaler()\n",
    "normalize_tr=normalize.fit_transform(concatenate_tr)\n",
    "normalize_cv=normalize.fit_transform(concatenate_cv)\n",
    "normalize_test=normalize.transform(concatenate_test)"
   ]
  },
  {
   "cell_type": "code",
   "execution_count": 98,
   "metadata": {
    "colab": {
     "base_uri": "https://localhost:8080/",
     "height": 34
    },
    "colab_type": "code",
    "id": "5PNojIwuQKu2",
    "outputId": "494368e6-aeea-4a57-9ff8-19a9bcf2ee4f"
   },
   "outputs": [
    {
     "data": {
      "text/plain": [
       "(76473,)"
      ]
     },
     "execution_count": 98,
     "metadata": {
      "tags": []
     },
     "output_type": "execute_result"
    }
   ],
   "source": [
    "normalize_tr[:,0].shape"
   ]
  },
  {
   "cell_type": "code",
   "execution_count": 0,
   "metadata": {
    "colab": {},
    "colab_type": "code",
    "id": "fRflXDP2M6cj"
   },
   "outputs": [],
   "source": [
    "normalize_train_1=normalize_train[:,0][:,np.newaxis]"
   ]
  },
  {
   "cell_type": "code",
   "execution_count": 0,
   "metadata": {
    "colab": {},
    "colab_type": "code",
    "id": "XfNovueZQSB_"
   },
   "outputs": [],
   "source": [
    "normalize_train_2=normalize_train[:,1][:,np.newaxis]\n",
    "normalize_train_3=normalize_train[:,2][:,np.newaxis]\n",
    "normalize_train_4=normalize_train[:,3][:,np.newaxis]"
   ]
  },
  {
   "cell_type": "code",
   "execution_count": 0,
   "metadata": {
    "colab": {},
    "colab_type": "code",
    "id": "BFIuwR7wQfNg"
   },
   "outputs": [],
   "source": [
    "normalize_test_1=normalize_test[:,0][:,np.newaxis]\n",
    "normalize_test_2=normalize_test[:,1][:,np.newaxis]\n",
    "normalize_test_3=normalize_test[:,2][:,np.newaxis]\n",
    "normalize_test_4=normalize_test[:,3][:,np.newaxis]"
   ]
  },
  {
   "cell_type": "code",
   "execution_count": 102,
   "metadata": {
    "colab": {
     "base_uri": "https://localhost:8080/",
     "height": 34
    },
    "colab_type": "code",
    "id": "2dcuszTMMmkg",
    "outputId": "07683020-2922-4ed4-a9b2-4bcf5e0f3b41"
   },
   "outputs": [
    {
     "data": {
      "text/plain": [
       "(76473, 1)"
      ]
     },
     "execution_count": 102,
     "metadata": {
      "tags": []
     },
     "output_type": "execute_result"
    }
   ],
   "source": [
    "normalize_train_1.shape"
   ]
  },
  {
   "cell_type": "code",
   "execution_count": 0,
   "metadata": {
    "colab": {},
    "colab_type": "code",
    "id": "ygJv2_rf_Xag"
   },
   "outputs": [],
   "source": [
    "from scipy.sparse import hstack\n",
    "non_text_tr_data=hstack([encoded_teacher_tr,encoded_school_tr,encoded_grade_tr,encoded_category_tr,encoded_subcategory_tr,normalize_tr]).todense()\n",
    "non_text_cv_data=hstack([encoded_teacher_cv,encoded_school_cv,encoded_grade_cv,encoded_category_cv,encoded_subcategory_cv,normalize_cv]).todense()\n",
    "non_text_test_data=hstack([encoded_teacher_test,encoded_school_test,encoded_grade_test,encoded_category_test,encoded_subcategory_test,normalize_test]).todense()"
   ]
  },
  {
   "cell_type": "code",
   "execution_count": 104,
   "metadata": {
    "colab": {
     "base_uri": "https://localhost:8080/",
     "height": 34
    },
    "colab_type": "code",
    "id": "O_aJOmbXTMwU",
    "outputId": "e7060646-b923-443f-b9df-8338643e1b52"
   },
   "outputs": [
    {
     "data": {
      "text/plain": [
       "(32775, 505)"
      ]
     },
     "execution_count": 104,
     "metadata": {
      "tags": []
     },
     "output_type": "execute_result"
    }
   ],
   "source": [
    "non_text_test_data.shape"
   ]
  },
  {
   "cell_type": "code",
   "execution_count": 0,
   "metadata": {
    "colab": {},
    "colab_type": "code",
    "id": "nWhepOJ2IwVa"
   },
   "outputs": [],
   "source": [
    "non_text_tr_data = np.expand_dims(non_text_tr_data,2)\n",
    "non_text_cv_data = np.expand_dims(non_text_cv_data,2)\n",
    "non_text_test_data = np.expand_dims(non_text_test_data,2)"
   ]
  },
  {
   "cell_type": "code",
   "execution_count": 106,
   "metadata": {
    "colab": {
     "base_uri": "https://localhost:8080/",
     "height": 51
    },
    "colab_type": "code",
    "id": "WgLU6KQGnJnS",
    "outputId": "c5388485-99c4-4112-e224-d8123db2de93"
   },
   "outputs": [
    {
     "name": "stdout",
     "output_type": "stream",
     "text": [
      "(76473, 505, 1)\n",
      "(32775, 505, 1)\n"
     ]
    }
   ],
   "source": [
    "print(non_text_tr_data.shape)\n",
    "print(non_text_cv_data.shape)\n",
    "print(non_text_test_data.shape)"
   ]
  },
  {
   "cell_type": "code",
   "execution_count": 0,
   "metadata": {
    "colab": {},
    "colab_type": "code",
    "id": "4aFC-REWHC45"
   },
   "outputs": [],
   "source": [
    "tr_data_final=[tr_en,non_text_tr_data]\n",
    "cv_data_final=[cv_en,non_text_cv_data]\n",
    "test_data_final=[test_en,non_text_test_data]"
   ]
  },
  {
   "cell_type": "markdown",
   "metadata": {
    "colab_type": "text",
    "id": "5o9bmPsZy2tk"
   },
   "source": [
    "MODEL-3"
   ]
  },
  {
   "cell_type": "code",
   "execution_count": 0,
   "metadata": {
    "colab": {},
    "colab_type": "code",
    "id": "9eGByaMAy4W_"
   },
   "outputs": [],
   "source": [
    "input_convolution=Input(shape=(505,1),name='final')\n",
    "x1=Conv1D(filters=128,kernel_size=3,activation='relu',kernel_initializer='he_normal')(input_convolution)\n",
    "x2=Conv1D(filters=128,kernel_size=3,activation='relu',kernel_initializer='he_normal')(x1)\n",
    "x3=Flatten()(x2)"
   ]
  },
  {
   "cell_type": "code",
   "execution_count": 109,
   "metadata": {
    "colab": {
     "base_uri": "https://localhost:8080/",
     "height": 34
    },
    "colab_type": "code",
    "id": "SNARdOyRz4Ha",
    "outputId": "b9028321-69f5-41ae-fa45-e4e647eb96ce"
   },
   "outputs": [
    {
     "name": "stdout",
     "output_type": "stream",
     "text": [
      "Model-3\n"
     ]
    }
   ],
   "source": [
    "print('Model-3')\n",
    "x_con=concatenate([flatten_1,x3])\n",
    "x=Dense(128,activation=\"relu\",kernel_initializer=\"he_normal\",kernel_regularizer=regularizers.l2(0.001))(x_con)\n",
    "x=Dropout(0.5)(x)\n",
    "x=Dense(64,activation=\"relu\",kernel_initializer=\"he_normal\",kernel_regularizer=regularizers.l2(0.001))(x)\n",
    "x=Dropout(0.3)(x)\n",
    "x=Dense(32,activation=\"relu\",kernel_initializer=\"he_normal\",kernel_regularizer=regularizers.l2(0.001))(x)\n",
    "output = Dense(2, activation='softmax', name='output')(x)\n",
    "final_model = Model(inputs=[input_text,input_convolution],outputs=[output])"
   ]
  },
  {
   "cell_type": "code",
   "execution_count": 110,
   "metadata": {
    "colab": {
     "base_uri": "https://localhost:8080/",
     "height": 607
    },
    "colab_type": "code",
    "id": "WwpkM5d11vww",
    "outputId": "99613c44-7c30-4137-92f7-20473be4d2c0"
   },
   "outputs": [
    {
     "data": {
      "image/png": "[encoded data removed]",
      "text/plain": [
       "<IPython.core.display.Image object>"
      ]
     },
     "execution_count": 110,
     "metadata": {
      "image/png": {
       "height": 590,
       "width": 453
      },
      "tags": []
     },
     "output_type": "execute_result"
    }
   ],
   "source": [
    "# Reference: https://github.com/mmortazavi/EntityEmbedding-Working_Example/blob/master/EntityEmbedding.ipynb\n",
    "from keras.utils import plot_model\n",
    "import pydot_ng as pydot\n",
    "plot_model(final_model, show_shapes=True, show_layer_names=True, to_file='model_3.png')\n",
    "from IPython.display import Image\n",
    "Image(retina=True, filename='model_3.png')"
   ]
  },
  {
   "cell_type": "code",
   "execution_count": 0,
   "metadata": {
    "colab": {
     "base_uri": "https://localhost:8080/",
     "height": 34
    },
    "colab_type": "code",
    "id": "OA_B4g40y916",
    "outputId": "7d714958-d7e6-4cf3-80d3-d6d64a338a38"
   },
   "outputs": [
    {
     "data": {
      "text/plain": [
       "(76473, 5)"
      ]
     },
     "execution_count": 108,
     "metadata": {
      "tags": []
     },
     "output_type": "execute_result"
    }
   ],
   "source": [
    "encoded_tr_train.shape"
   ]
  },
  {
   "cell_type": "code",
   "execution_count": 0,
   "metadata": {
    "colab": {
     "base_uri": "https://localhost:8080/",
     "height": 51
    },
    "colab_type": "code",
    "id": "F0afikMizNxc",
    "outputId": "90512784-4c9d-4e89-daf4-8a474831aaac"
   },
   "outputs": [
    {
     "data": {
      "text/plain": [
       "<10x5 sparse matrix of type '<class 'numpy.int64'>'\n",
       "\twith 10 stored elements in Compressed Sparse Row format>"
      ]
     },
     "execution_count": 109,
     "metadata": {
      "tags": []
     },
     "output_type": "execute_result"
    }
   ],
   "source": [
    "encoded_tr_train[:10]"
   ]
  },
  {
   "cell_type": "code",
   "execution_count": 0,
   "metadata": {
    "colab": {
     "base_uri": "https://localhost:8080/",
     "height": 34
    },
    "colab_type": "code",
    "id": "2WVobSuGz1Yx",
    "outputId": "0869f7f6-77a8-4c7f-dfb7-2783a7ef9eb0"
   },
   "outputs": [
    {
     "data": {
      "text/plain": [
       "(76473, 51)"
      ]
     },
     "execution_count": 110,
     "metadata": {
      "tags": []
     },
     "output_type": "execute_result"
    }
   ],
   "source": [
    "encoded_school_tr.shape"
   ]
  },
  {
   "cell_type": "code",
   "execution_count": 0,
   "metadata": {
    "colab": {
     "base_uri": "https://localhost:8080/",
     "height": 170
    },
    "colab_type": "code",
    "id": "xhOjd4a3z-2A",
    "outputId": "cf301792-9637-45bd-8b88-b7b70bbdc699"
   },
   "outputs": [
    {
     "name": "stdout",
     "output_type": "stream",
     "text": [
      "(76473, 5)\n",
      "(76473, 51)\n",
      "(76473, 4)\n",
      "(76473, 51)\n",
      "(76473, 390)\n",
      "(76473, 1)\n",
      "(76473, 1)\n",
      "(76473, 1)\n",
      "(76473, 1)\n"
     ]
    }
   ],
   "source": [
    "for i in [encoded_teacher_tr,encoded_school_tr,encoded_grade_tr,encoded_category_tr,encoded_subcategory_tr,normalize_train_1,normalize_train_2,normalize_train_3,normalize_train_4]:\n",
    "  \n",
    "  print(i.shape)"
   ]
  },
  {
   "cell_type": "code",
   "execution_count": 0,
   "metadata": {
    "colab": {
     "base_uri": "https://localhost:8080/",
     "height": 51
    },
    "colab_type": "code",
    "id": "EHhdxGgbqWw2",
    "outputId": "8499ba0b-723b-4386-aea9-2cb3c64e3d12"
   },
   "outputs": [
    {
     "data": {
      "text/plain": [
       "<1x51 sparse matrix of type '<class 'numpy.int64'>'\n",
       "\twith 1 stored elements in Compressed Sparse Row format>"
      ]
     },
     "execution_count": 112,
     "metadata": {
      "tags": []
     },
     "output_type": "execute_result"
    }
   ],
   "source": [
    "encoded_school_train[1]"
   ]
  },
  {
   "cell_type": "code",
   "execution_count": 0,
   "metadata": {
    "colab": {},
    "colab_type": "code",
    "id": "fHQNN85swAHu"
   },
   "outputs": [],
   "source": [
    "from keras.utils import np_utils\n",
    "y_en_tr=np_utils.to_categorical(y_tr,2)\n",
    "y_en_cv=np_utils.to_categorical(y_cv,2)\n",
    "y_en_test=np_utils.to_categorical(y_test,2)"
   ]
  },
  {
   "cell_type": "code",
   "execution_count": 0,
   "metadata": {
    "colab": {
     "base_uri": "https://localhost:8080/",
     "height": 34
    },
    "colab_type": "code",
    "id": "WmNfOUMdx-0d",
    "outputId": "2ff4f289-8634-4f44-d2ff-fb89b33e7d64"
   },
   "outputs": [
    {
     "data": {
      "text/plain": [
       "array([0., 1.], dtype=float32)"
      ]
     },
     "execution_count": 114,
     "metadata": {
      "tags": []
     },
     "output_type": "execute_result"
    }
   ],
   "source": [
    "np.unique(y_en_test[:][0])"
   ]
  },
  {
   "cell_type": "code",
   "execution_count": 0,
   "metadata": {
    "colab": {},
    "colab_type": "code",
    "id": "8st4MCqkEoLv"
   },
   "outputs": [],
   "source": []
  },
  {
   "cell_type": "code",
   "execution_count": 0,
   "metadata": {
    "colab": {},
    "colab_type": "code",
    "id": "W7iTXCVGwZYc"
   },
   "outputs": [],
   "source": [
    "checkpoint_1 = ModelCheckpoint(\"model_3.h5\",\n",
    "                             monitor=\"val_loss\",\n",
    "                             mode=\"min\",\n",
    "                             save_best_only = True,\n",
    "                             verbose=1)\n",
    "\n",
    "earlystop_1 = EarlyStopping(monitor = 'val_loss', \n",
    "                            mode=\"min\",\n",
    "                            min_delta = 0, \n",
    "                            patience = 2,\n",
    "                            verbose = 1,\n",
    "                            restore_best_weights = True)\n",
    "\n",
    "reduce_lr_1 = ReduceLROnPlateau(monitor = 'val_loss', factor = 0.2, patience = 1, verbose = 1, min_delta = 0.0001)\n",
    "\n",
    "tensorboard_1 = TensorBoard(log_dir='graph_1', histogram_freq=0, batch_size=512, write_graph=True, write_grads=False, write_images=False, embeddings_freq=0, embeddings_layer_names=None, embeddings_metadata=None, embeddings_data=None, update_freq='epoch')\n",
    "\n",
    "callbacks_1 = [checkpoint_1,earlystop_1,tensorboard_1,reduce_lr_1]"
   ]
  },
  {
   "cell_type": "code",
   "execution_count": 0,
   "metadata": {
    "colab": {},
    "colab_type": "code",
    "id": "e8PnGVFowrRx"
   },
   "outputs": [],
   "source": [
    "adam = Adam(lr=0.001, beta_1=0.9, beta_2=0.999, epsilon=None, decay=0.0, amsgrad=False)"
   ]
  },
  {
   "cell_type": "code",
   "execution_count": 0,
   "metadata": {
    "colab": {},
    "colab_type": "code",
    "id": "LUBlqj9wxNIv"
   },
   "outputs": [],
   "source": [
    "from sklearn.metrics import roc_auc_score\n",
    "\n",
    "def auc1(y_true, y_pred):\n",
    "    if len(np.unique(y_true[:,1])) == 1:\n",
    "        return 0.5\n",
    "    else:\n",
    "        return roc_auc_score(y_true, y_pred)\n",
    "\n",
    "def auroc(y_true, y_pred):\n",
    "    return tf.py_func(auc1, (y_true, y_pred), tf.double)"
   ]
  },
  {
   "cell_type": "code",
   "execution_count": 0,
   "metadata": {
    "colab": {
     "base_uri": "https://localhost:8080/",
     "height": 170
    },
    "colab_type": "code",
    "id": "exNQRe9kw_63",
    "outputId": "d49cb7c7-ad96-4d7b-a04f-205cd73c2a6e"
   },
   "outputs": [
    {
     "name": "stdout",
     "output_type": "stream",
     "text": [
      "WARNING:tensorflow:From <ipython-input-117-a7e6cba44e56>:10: py_func (from tensorflow.python.ops.script_ops) is deprecated and will be removed in a future version.\n",
      "Instructions for updating:\n",
      "tf.py_func is deprecated in TF V2. Instead, use\n",
      "    tf.py_function, which takes a python function which manipulates tf eager\n",
      "    tensors instead of numpy arrays. It's easy to convert a tf eager tensor to\n",
      "    an ndarray (just call tensor.numpy()) but having access to eager tensors\n",
      "    means `tf.py_function`s can use accelerators such as GPUs as well as\n",
      "    being differentiable using a gradient tape.\n",
      "    \n"
     ]
    }
   ],
   "source": [
    "final_model.compile(optimizer=adam, loss='categorical_crossentropy', metrics=[auroc])"
   ]
  },
  {
   "cell_type": "code",
   "execution_count": 0,
   "metadata": {
    "colab": {
     "base_uri": "https://localhost:8080/",
     "height": 34
    },
    "colab_type": "code",
    "id": "nJaCnO0u9g9i",
    "outputId": "a2e96022-0747-493d-9821-cfdd07c882eb"
   },
   "outputs": [
    {
     "data": {
      "text/plain": [
       "numpy.ndarray"
      ]
     },
     "execution_count": 119,
     "metadata": {
      "tags": []
     },
     "output_type": "execute_result"
    }
   ],
   "source": [
    "type(y_en_train[1])"
   ]
  },
  {
   "cell_type": "code",
   "execution_count": 0,
   "metadata": {
    "colab": {
     "base_uri": "https://localhost:8080/",
     "height": 34
    },
    "colab_type": "code",
    "id": "x0_5GGfAsfg3",
    "outputId": "f5fd3b7d-787d-4d57-a972-04a63043fe2a"
   },
   "outputs": [
    {
     "data": {
      "text/plain": [
       "numpy.ndarray"
      ]
     },
     "execution_count": 120,
     "metadata": {
      "tags": []
     },
     "output_type": "execute_result"
    }
   ],
   "source": [
    "type(y_en_train)"
   ]
  },
  {
   "cell_type": "code",
   "execution_count": 0,
   "metadata": {
    "colab": {
     "base_uri": "https://localhost:8080/",
     "height": 1000
    },
    "colab_type": "code",
    "id": "dCaVKlaPxCl_",
    "outputId": "eb4be582-1f99-4d4a-f096-5db62d3192af"
   },
   "outputs": [
    {
     "name": "stdout",
     "output_type": "stream",
     "text": [
      "WARNING:tensorflow:From C:\\Users\\CVML\\Anaconda3\\lib\\site-packages\\tensorflow\\python\\ops\\math_ops.py:3066: to_int32 (from tensorflow.python.ops.math_ops) is deprecated and will be removed in a future version.\n",
      "Instructions for updating:\n",
      "Use tf.cast instead.\n",
      "Train on 76473 samples, validate on 32775 samples\n",
      "Epoch 1/20\n",
      "76473/76473 [==============================] - ETA: 12:21 - loss: 1.6531 - auroc: 0.55 - ETA: 9:40 - loss: 1.4841 - auroc: 0.5248 - ETA: 8:46 - loss: 1.4132 - auroc: 0.554 - ETA: 8:16 - loss: 1.3734 - auroc: 0.543 - ETA: 8:00 - loss: 1.3469 - auroc: 0.542 - ETA: 7:46 - loss: 1.3289 - auroc: 0.528 - ETA: 7:33 - loss: 1.3051 - auroc: 0.529 - ETA: 7:23 - loss: 1.2822 - auroc: 0.527 - ETA: 7:15 - loss: 1.2578 - auroc: 0.535 - ETA: 7:08 - loss: 1.2369 - auroc: 0.544 - ETA: 7:02 - loss: 1.2190 - auroc: 0.546 - ETA: 6:56 - loss: 1.2023 - auroc: 0.546 - ETA: 6:51 - loss: 1.1883 - auroc: 0.549 - ETA: 6:46 - loss: 1.1757 - auroc: 0.549 - ETA: 6:41 - loss: 1.1658 - auroc: 0.546 - ETA: 6:37 - loss: 1.1543 - auroc: 0.548 - ETA: 6:32 - loss: 1.1439 - auroc: 0.547 - ETA: 6:27 - loss: 1.1324 - auroc: 0.546 - ETA: 6:22 - loss: 1.1211 - auroc: 0.546 - ETA: 6:17 - loss: 1.1106 - auroc: 0.546 - ETA: 6:13 - loss: 1.1025 - auroc: 0.548 - ETA: 6:08 - loss: 1.0936 - auroc: 0.548 - ETA: 6:04 - loss: 1.0845 - auroc: 0.549 - ETA: 5:59 - loss: 1.0743 - auroc: 0.551 - ETA: 5:55 - loss: 1.0638 - auroc: 0.550 - ETA: 5:52 - loss: 1.0552 - auroc: 0.552 - ETA: 5:48 - loss: 1.0475 - auroc: 0.553 - ETA: 5:44 - loss: 1.0399 - auroc: 0.553 - ETA: 5:41 - loss: 1.0319 - auroc: 0.553 - ETA: 5:37 - loss: 1.0251 - auroc: 0.555 - ETA: 5:34 - loss: 1.0176 - auroc: 0.556 - ETA: 5:30 - loss: 1.0098 - auroc: 0.557 - ETA: 5:26 - loss: 1.0026 - auroc: 0.558 - ETA: 5:24 - loss: 0.9937 - auroc: 0.560 - ETA: 5:21 - loss: 0.9881 - auroc: 0.560 - ETA: 5:17 - loss: 0.9821 - auroc: 0.562 - ETA: 5:14 - loss: 0.9756 - auroc: 0.563 - ETA: 5:11 - loss: 0.9692 - auroc: 0.563 - ETA: 5:08 - loss: 0.9614 - auroc: 0.565 - ETA: 5:05 - loss: 0.9541 - auroc: 0.566 - ETA: 5:02 - loss: 0.9470 - auroc: 0.566 - ETA: 5:00 - loss: 0.9410 - auroc: 0.567 - ETA: 4:57 - loss: 0.9361 - auroc: 0.567 - ETA: 4:54 - loss: 0.9306 - auroc: 0.567 - ETA: 4:51 - loss: 0.9254 - auroc: 0.568 - ETA: 4:48 - loss: 0.9190 - auroc: 0.570 - ETA: 4:45 - loss: 0.9133 - auroc: 0.571 - ETA: 4:42 - loss: 0.9080 - auroc: 0.572 - ETA: 4:39 - loss: 0.9024 - auroc: 0.573 - ETA: 4:36 - loss: 0.8977 - auroc: 0.573 - ETA: 4:33 - loss: 0.8931 - auroc: 0.572 - ETA: 4:30 - loss: 0.8889 - auroc: 0.573 - ETA: 4:26 - loss: 0.8847 - auroc: 0.575 - ETA: 4:23 - loss: 0.8799 - auroc: 0.577 - ETA: 4:20 - loss: 0.8748 - auroc: 0.579 - ETA: 4:17 - loss: 0.8706 - auroc: 0.578 - ETA: 4:14 - loss: 0.8664 - auroc: 0.579 - ETA: 4:11 - loss: 0.8622 - auroc: 0.579 - ETA: 4:08 - loss: 0.8579 - auroc: 0.579 - ETA: 4:05 - loss: 0.8541 - auroc: 0.581 - ETA: 4:02 - loss: 0.8506 - auroc: 0.580 - ETA: 4:00 - loss: 0.8472 - auroc: 0.582 - ETA: 3:57 - loss: 0.8438 - auroc: 0.582 - ETA: 3:54 - loss: 0.8404 - auroc: 0.583 - ETA: 3:51 - loss: 0.8373 - auroc: 0.583 - ETA: 3:48 - loss: 0.8332 - auroc: 0.584 - ETA: 3:45 - loss: 0.8296 - auroc: 0.584 - ETA: 3:42 - loss: 0.8261 - auroc: 0.585 - ETA: 3:39 - loss: 0.8227 - auroc: 0.586 - ETA: 3:37 - loss: 0.8191 - auroc: 0.587 - ETA: 3:34 - loss: 0.8159 - auroc: 0.588 - ETA: 3:31 - loss: 0.8131 - auroc: 0.588 - ETA: 3:28 - loss: 0.8105 - auroc: 0.588 - ETA: 3:25 - loss: 0.8071 - auroc: 0.589 - ETA: 3:22 - loss: 0.8040 - auroc: 0.590 - ETA: 3:19 - loss: 0.8009 - auroc: 0.590 - ETA: 3:16 - loss: 0.7976 - auroc: 0.591 - ETA: 3:13 - loss: 0.7950 - auroc: 0.591 - ETA: 3:11 - loss: 0.7933 - auroc: 0.591 - ETA: 3:07 - loss: 0.7905 - auroc: 0.592 - ETA: 3:05 - loss: 0.7882 - auroc: 0.592 - ETA: 3:02 - loss: 0.7855 - auroc: 0.592 - ETA: 2:59 - loss: 0.7828 - auroc: 0.592 - ETA: 2:56 - loss: 0.7796 - auroc: 0.593 - ETA: 2:53 - loss: 0.7766 - auroc: 0.593 - ETA: 2:50 - loss: 0.7747 - auroc: 0.594 - ETA: 2:47 - loss: 0.7724 - auroc: 0.594 - ETA: 2:44 - loss: 0.7698 - auroc: 0.595 - ETA: 2:41 - loss: 0.7676 - auroc: 0.596 - ETA: 2:39 - loss: 0.7647 - auroc: 0.596 - ETA: 2:36 - loss: 0.7623 - auroc: 0.597 - ETA: 2:33 - loss: 0.7602 - auroc: 0.597 - ETA: 2:30 - loss: 0.7582 - auroc: 0.597 - ETA: 2:27 - loss: 0.7564 - auroc: 0.598 - ETA: 2:25 - loss: 0.7547 - auroc: 0.598 - ETA: 2:22 - loss: 0.7526 - auroc: 0.599 - ETA: 2:19 - loss: 0.7509 - auroc: 0.599 - ETA: 2:16 - loss: 0.7487 - auroc: 0.600 - ETA: 2:14 - loss: 0.7466 - auroc: 0.600 - ETA: 2:11 - loss: 0.7451 - auroc: 0.601 - ETA: 2:08 - loss: 0.7428 - auroc: 0.601 - ETA: 2:05 - loss: 0.7409 - auroc: 0.601 - ETA: 2:03 - loss: 0.7391 - auroc: 0.601 - ETA: 2:00 - loss: 0.7376 - auroc: 0.602 - ETA: 1:57 - loss: 0.7355 - auroc: 0.603 - ETA: 1:55 - loss: 0.7334 - auroc: 0.604 - ETA: 1:52 - loss: 0.7315 - auroc: 0.603 - ETA: 1:49 - loss: 0.7296 - auroc: 0.604 - ETA: 1:47 - loss: 0.7280 - auroc: 0.604 - ETA: 1:44 - loss: 0.7267 - auroc: 0.604 - ETA: 1:41 - loss: 0.7247 - auroc: 0.604 - ETA: 1:39 - loss: 0.7227 - auroc: 0.604 - ETA: 1:36 - loss: 0.7208 - auroc: 0.604 - ETA: 1:33 - loss: 0.7192 - auroc: 0.605 - ETA: 1:31 - loss: 0.7178 - auroc: 0.605 - ETA: 1:28 - loss: 0.7160 - auroc: 0.605 - ETA: 1:25 - loss: 0.7147 - auroc: 0.605 - ETA: 1:22 - loss: 0.7131 - auroc: 0.605 - ETA: 1:20 - loss: 0.7113 - auroc: 0.605 - ETA: 1:17 - loss: 0.7102 - auroc: 0.606 - ETA: 1:15 - loss: 0.7084 - auroc: 0.606 - ETA: 1:12 - loss: 0.7070 - auroc: 0.606 - ETA: 1:09 - loss: 0.7057 - auroc: 0.607 - ETA: 1:07 - loss: 0.7044 - auroc: 0.607 - ETA: 1:04 - loss: 0.7029 - auroc: 0.607 - ETA: 1:01 - loss: 0.7012 - auroc: 0.608 - ETA: 59s - loss: 0.6998 - auroc: 0.608 - ETA: 56s - loss: 0.6983 - auroc: 0.60 - ETA: 53s - loss: 0.6971 - auroc: 0.60 - ETA: 51s - loss: 0.6953 - auroc: 0.60 - ETA: 48s - loss: 0.6940 - auroc: 0.60 - ETA: 45s - loss: 0.6923 - auroc: 0.60 - ETA: 43s - loss: 0.6910 - auroc: 0.60 - ETA: 40s - loss: 0.6896 - auroc: 0.60 - ETA: 37s - loss: 0.6887 - auroc: 0.60 - ETA: 35s - loss: 0.6874 - auroc: 0.60 - ETA: 32s - loss: 0.6860 - auroc: 0.61 - ETA: 30s - loss: 0.6847 - auroc: 0.61 - ETA: 27s - loss: 0.6833 - auroc: 0.61 - ETA: 24s - loss: 0.6823 - auroc: 0.61 - ETA: 22s - loss: 0.6815 - auroc: 0.61 - ETA: 19s - loss: 0.6804 - auroc: 0.61 - ETA: 16s - loss: 0.6793 - auroc: 0.61 - ETA: 14s - loss: 0.6783 - auroc: 0.61 - ETA: 11s - loss: 0.6773 - auroc: 0.61 - ETA: 8s - loss: 0.6761 - auroc: 0.6128 - ETA: 6s - loss: 0.6749 - auroc: 0.613 - ETA: 3s - loss: 0.6737 - auroc: 0.613 - ETA: 0s - loss: 0.6724 - auroc: 0.613 - 453s 6ms/step - loss: 0.6719 - auroc: 0.6138 - val_loss: 0.5081 - val_auroc: 0.6789\n",
      "\n",
      "Epoch 00001: val_loss improved from inf to 0.50806, saving model to model_3.h5\n",
      "Epoch 2/20\n",
      "76473/76473 [==============================] - ETA: 6:38 - loss: 0.5071 - auroc: 0.660 - ETA: 6:40 - loss: 0.5265 - auroc: 0.633 - ETA: 6:37 - loss: 0.5131 - auroc: 0.633 - ETA: 6:40 - loss: 0.5197 - auroc: 0.637 - ETA: 6:40 - loss: 0.5143 - auroc: 0.651 - ETA: 6:40 - loss: 0.5149 - auroc: 0.649 - ETA: 6:39 - loss: 0.5206 - auroc: 0.648 - ETA: 6:37 - loss: 0.5213 - auroc: 0.646 - ETA: 6:34 - loss: 0.5189 - auroc: 0.650 - ETA: 6:30 - loss: 0.5151 - auroc: 0.650 - ETA: 6:26 - loss: 0.5123 - auroc: 0.656 - ETA: 6:23 - loss: 0.5147 - auroc: 0.654 - ETA: 6:19 - loss: 0.5133 - auroc: 0.647 - ETA: 6:14 - loss: 0.5121 - auroc: 0.643 - ETA: 6:08 - loss: 0.5104 - auroc: 0.637 - ETA: 6:04 - loss: 0.5106 - auroc: 0.635 - ETA: 6:00 - loss: 0.5105 - auroc: 0.632 - ETA: 5:56 - loss: 0.5079 - auroc: 0.635 - ETA: 5:51 - loss: 0.5072 - auroc: 0.637 - ETA: 5:47 - loss: 0.5062 - auroc: 0.636 - ETA: 5:44 - loss: 0.5062 - auroc: 0.640 - ETA: 5:40 - loss: 0.5057 - auroc: 0.641 - ETA: 5:37 - loss: 0.5061 - auroc: 0.641 - ETA: 5:33 - loss: 0.5042 - auroc: 0.641 - ETA: 5:30 - loss: 0.5037 - auroc: 0.642 - ETA: 5:27 - loss: 0.5040 - auroc: 0.642 - ETA: 5:24 - loss: 0.5036 - auroc: 0.640 - ETA: 5:21 - loss: 0.5044 - auroc: 0.640 - ETA: 5:19 - loss: 0.5046 - auroc: 0.641 - ETA: 5:16 - loss: 0.5039 - auroc: 0.640 - ETA: 5:14 - loss: 0.5054 - auroc: 0.641 - ETA: 5:11 - loss: 0.5061 - auroc: 0.640 - ETA: 5:09 - loss: 0.5055 - auroc: 0.640 - ETA: 5:06 - loss: 0.5049 - auroc: 0.640 - ETA: 5:04 - loss: 0.5042 - auroc: 0.641 - ETA: 5:01 - loss: 0.5040 - auroc: 0.642 - ETA: 4:59 - loss: 0.5041 - auroc: 0.640 - ETA: 4:56 - loss: 0.5046 - auroc: 0.637 - ETA: 4:53 - loss: 0.5031 - auroc: 0.638 - ETA: 4:51 - loss: 0.5024 - auroc: 0.639 - ETA: 4:48 - loss: 0.5031 - auroc: 0.640 - ETA: 4:46 - loss: 0.5020 - auroc: 0.640 - ETA: 4:43 - loss: 0.5007 - auroc: 0.640 - ETA: 4:41 - loss: 0.5012 - auroc: 0.642 - ETA: 4:38 - loss: 0.5008 - auroc: 0.642 - ETA: 4:35 - loss: 0.5009 - auroc: 0.643 - ETA: 4:33 - loss: 0.4999 - auroc: 0.643 - ETA: 4:30 - loss: 0.5002 - auroc: 0.643 - ETA: 4:27 - loss: 0.5006 - auroc: 0.642 - ETA: 4:25 - loss: 0.5010 - auroc: 0.643 - ETA: 4:22 - loss: 0.5007 - auroc: 0.643 - ETA: 4:20 - loss: 0.5004 - auroc: 0.643 - ETA: 4:17 - loss: 0.5001 - auroc: 0.643 - ETA: 4:15 - loss: 0.4999 - auroc: 0.643 - ETA: 4:12 - loss: 0.4988 - auroc: 0.644 - ETA: 4:10 - loss: 0.4984 - auroc: 0.644 - ETA: 4:07 - loss: 0.4987 - auroc: 0.644 - ETA: 4:04 - loss: 0.4982 - auroc: 0.644 - ETA: 4:02 - loss: 0.4977 - auroc: 0.644 - ETA: 3:59 - loss: 0.4979 - auroc: 0.644 - ETA: 3:56 - loss: 0.4971 - auroc: 0.644 - ETA: 3:54 - loss: 0.4967 - auroc: 0.644 - ETA: 3:51 - loss: 0.4961 - auroc: 0.645 - ETA: 3:48 - loss: 0.4964 - auroc: 0.644 - ETA: 3:45 - loss: 0.4958 - auroc: 0.645 - ETA: 3:42 - loss: 0.4961 - auroc: 0.644 - ETA: 3:39 - loss: 0.4964 - auroc: 0.645 - ETA: 3:36 - loss: 0.4961 - auroc: 0.645 - ETA: 3:34 - loss: 0.4958 - auroc: 0.646 - ETA: 3:31 - loss: 0.4954 - auroc: 0.646 - ETA: 3:28 - loss: 0.4955 - auroc: 0.646 - ETA: 3:25 - loss: 0.4951 - auroc: 0.646 - ETA: 3:22 - loss: 0.4945 - auroc: 0.646 - ETA: 3:20 - loss: 0.4945 - auroc: 0.646 - ETA: 3:17 - loss: 0.4946 - auroc: 0.646 - ETA: 3:14 - loss: 0.4944 - auroc: 0.647 - ETA: 3:11 - loss: 0.4942 - auroc: 0.647 - ETA: 3:09 - loss: 0.4939 - auroc: 0.646 - ETA: 3:06 - loss: 0.4940 - auroc: 0.646 - ETA: 3:03 - loss: 0.4938 - auroc: 0.646 - ETA: 3:01 - loss: 0.4932 - auroc: 0.647 - ETA: 2:58 - loss: 0.4934 - auroc: 0.647 - ETA: 2:55 - loss: 0.4929 - auroc: 0.647 - ETA: 2:53 - loss: 0.4926 - auroc: 0.647 - ETA: 2:50 - loss: 0.4925 - auroc: 0.647 - ETA: 2:48 - loss: 0.4915 - auroc: 0.648 - ETA: 2:45 - loss: 0.4916 - auroc: 0.648 - ETA: 2:42 - loss: 0.4915 - auroc: 0.648 - ETA: 2:40 - loss: 0.4911 - auroc: 0.648 - ETA: 2:37 - loss: 0.4906 - auroc: 0.648 - ETA: 2:35 - loss: 0.4899 - auroc: 0.648 - ETA: 2:32 - loss: 0.4902 - auroc: 0.648 - ETA: 2:29 - loss: 0.4900 - auroc: 0.648 - ETA: 2:27 - loss: 0.4895 - auroc: 0.650 - ETA: 2:24 - loss: 0.4890 - auroc: 0.649 - ETA: 2:22 - loss: 0.4890 - auroc: 0.648 - ETA: 2:19 - loss: 0.4890 - auroc: 0.649 - ETA: 2:16 - loss: 0.4885 - auroc: 0.649 - ETA: 2:14 - loss: 0.4882 - auroc: 0.649 - ETA: 2:11 - loss: 0.4879 - auroc: 0.649 - ETA: 2:08 - loss: 0.4876 - auroc: 0.649 - ETA: 2:06 - loss: 0.4874 - auroc: 0.648 - ETA: 2:03 - loss: 0.4876 - auroc: 0.648 - ETA: 2:01 - loss: 0.4876 - auroc: 0.648 - ETA: 1:58 - loss: 0.4872 - auroc: 0.648 - ETA: 1:55 - loss: 0.4870 - auroc: 0.648 - ETA: 1:53 - loss: 0.4870 - auroc: 0.648 - ETA: 1:50 - loss: 0.4865 - auroc: 0.649 - ETA: 1:47 - loss: 0.4860 - auroc: 0.649 - ETA: 1:45 - loss: 0.4854 - auroc: 0.650 - ETA: 1:42 - loss: 0.4852 - auroc: 0.650 - ETA: 1:39 - loss: 0.4850 - auroc: 0.650 - ETA: 1:37 - loss: 0.4842 - auroc: 0.651 - ETA: 1:34 - loss: 0.4842 - auroc: 0.651 - ETA: 1:31 - loss: 0.4837 - auroc: 0.651 - ETA: 1:29 - loss: 0.4839 - auroc: 0.651 - ETA: 1:26 - loss: 0.4840 - auroc: 0.651 - ETA: 1:23 - loss: 0.4836 - auroc: 0.652 - ETA: 1:20 - loss: 0.4835 - auroc: 0.652 - ETA: 1:18 - loss: 0.4835 - auroc: 0.651 - ETA: 1:15 - loss: 0.4834 - auroc: 0.651 - ETA: 1:12 - loss: 0.4828 - auroc: 0.652 - ETA: 1:10 - loss: 0.4823 - auroc: 0.652 - ETA: 1:07 - loss: 0.4821 - auroc: 0.652 - ETA: 1:04 - loss: 0.4817 - auroc: 0.652 - ETA: 1:02 - loss: 0.4814 - auroc: 0.652 - ETA: 59s - loss: 0.4807 - auroc: 0.652 - ETA: 56s - loss: 0.4806 - auroc: 0.65 - ETA: 54s - loss: 0.4805 - auroc: 0.65 - ETA: 51s - loss: 0.4807 - auroc: 0.65 - ETA: 48s - loss: 0.4808 - auroc: 0.65 - ETA: 46s - loss: 0.4806 - auroc: 0.65 - ETA: 43s - loss: 0.4804 - auroc: 0.65 - ETA: 40s - loss: 0.4803 - auroc: 0.65 - ETA: 38s - loss: 0.4802 - auroc: 0.65 - ETA: 35s - loss: 0.4798 - auroc: 0.65 - ETA: 32s - loss: 0.4796 - auroc: 0.65 - ETA: 30s - loss: 0.4797 - auroc: 0.65 - ETA: 27s - loss: 0.4798 - auroc: 0.65 - ETA: 24s - loss: 0.4796 - auroc: 0.65 - ETA: 22s - loss: 0.4795 - auroc: 0.65 - ETA: 19s - loss: 0.4793 - auroc: 0.65 - ETA: 16s - loss: 0.4792 - auroc: 0.65 - ETA: 14s - loss: 0.4792 - auroc: 0.65 - ETA: 11s - loss: 0.4794 - auroc: 0.65 - ETA: 8s - loss: 0.4793 - auroc: 0.6523 - ETA: 6s - loss: 0.4790 - auroc: 0.652 - ETA: 3s - loss: 0.4789 - auroc: 0.652 - ETA: 0s - loss: 0.4789 - auroc: 0.652 - 458s 6ms/step - loss: 0.4788 - auroc: 0.6526 - val_loss: 0.4595 - val_auroc: 0.6811\n",
      "\n",
      "Epoch 00002: val_loss improved from 0.50806 to 0.45952, saving model to model_3.h5\n",
      "Epoch 3/20\n"
     ]
    },
    {
     "name": "stdout",
     "output_type": "stream",
     "text": [
      "76473/76473 [==============================] - ETA: 6:30 - loss: 0.4483 - auroc: 0.714 - ETA: 6:27 - loss: 0.4579 - auroc: 0.713 - ETA: 6:25 - loss: 0.4622 - auroc: 0.689 - ETA: 6:22 - loss: 0.4634 - auroc: 0.679 - ETA: 6:20 - loss: 0.4645 - auroc: 0.675 - ETA: 6:17 - loss: 0.4617 - auroc: 0.684 - ETA: 6:15 - loss: 0.4615 - auroc: 0.682 - ETA: 6:12 - loss: 0.4594 - auroc: 0.678 - ETA: 6:09 - loss: 0.4580 - auroc: 0.674 - ETA: 6:06 - loss: 0.4565 - auroc: 0.671 - ETA: 6:04 - loss: 0.4564 - auroc: 0.667 - ETA: 6:02 - loss: 0.4563 - auroc: 0.669 - ETA: 6:00 - loss: 0.4565 - auroc: 0.668 - ETA: 5:57 - loss: 0.4570 - auroc: 0.670 - ETA: 5:55 - loss: 0.4588 - auroc: 0.666 - ETA: 5:53 - loss: 0.4572 - auroc: 0.666 - ETA: 5:50 - loss: 0.4580 - auroc: 0.664 - ETA: 5:48 - loss: 0.4595 - auroc: 0.663 - ETA: 5:45 - loss: 0.4608 - auroc: 0.662 - ETA: 5:43 - loss: 0.4587 - auroc: 0.662 - ETA: 5:41 - loss: 0.4597 - auroc: 0.660 - ETA: 5:38 - loss: 0.4589 - auroc: 0.661 - ETA: 5:36 - loss: 0.4585 - auroc: 0.661 - ETA: 5:33 - loss: 0.4581 - auroc: 0.662 - ETA: 5:30 - loss: 0.4589 - auroc: 0.660 - ETA: 5:28 - loss: 0.4587 - auroc: 0.660 - ETA: 5:25 - loss: 0.4578 - auroc: 0.659 - ETA: 5:23 - loss: 0.4592 - auroc: 0.659 - ETA: 5:20 - loss: 0.4586 - auroc: 0.660 - ETA: 5:17 - loss: 0.4588 - auroc: 0.660 - ETA: 5:15 - loss: 0.4589 - auroc: 0.660 - ETA: 5:11 - loss: 0.4581 - auroc: 0.658 - ETA: 5:08 - loss: 0.4563 - auroc: 0.659 - ETA: 5:05 - loss: 0.4571 - auroc: 0.658 - ETA: 5:02 - loss: 0.4562 - auroc: 0.658 - ETA: 4:59 - loss: 0.4565 - auroc: 0.658 - ETA: 4:56 - loss: 0.4569 - auroc: 0.658 - ETA: 4:52 - loss: 0.4567 - auroc: 0.658 - ETA: 4:49 - loss: 0.4572 - auroc: 0.657 - ETA: 4:46 - loss: 0.4563 - auroc: 0.658 - ETA: 4:44 - loss: 0.4574 - auroc: 0.658 - ETA: 4:40 - loss: 0.4572 - auroc: 0.658 - ETA: 4:37 - loss: 0.4584 - auroc: 0.658 - ETA: 4:34 - loss: 0.4574 - auroc: 0.660 - ETA: 4:31 - loss: 0.4569 - auroc: 0.659 - ETA: 4:28 - loss: 0.4562 - auroc: 0.659 - ETA: 4:26 - loss: 0.4562 - auroc: 0.659 - ETA: 4:23 - loss: 0.4570 - auroc: 0.659 - ETA: 4:21 - loss: 0.4554 - auroc: 0.659 - ETA: 4:18 - loss: 0.4551 - auroc: 0.658 - ETA: 4:16 - loss: 0.4550 - auroc: 0.656 - ETA: 4:13 - loss: 0.4546 - auroc: 0.657 - ETA: 4:10 - loss: 0.4539 - auroc: 0.656 - ETA: 4:08 - loss: 0.4538 - auroc: 0.656 - ETA: 4:05 - loss: 0.4527 - auroc: 0.658 - ETA: 4:03 - loss: 0.4524 - auroc: 0.657 - ETA: 4:00 - loss: 0.4521 - auroc: 0.657 - ETA: 3:58 - loss: 0.4523 - auroc: 0.658 - ETA: 3:55 - loss: 0.4509 - auroc: 0.657 - ETA: 3:53 - loss: 0.4504 - auroc: 0.657 - ETA: 3:50 - loss: 0.4494 - auroc: 0.657 - ETA: 3:48 - loss: 0.4490 - auroc: 0.658 - ETA: 3:45 - loss: 0.4494 - auroc: 0.657 - ETA: 3:43 - loss: 0.4502 - auroc: 0.658 - ETA: 3:40 - loss: 0.4499 - auroc: 0.658 - ETA: 3:38 - loss: 0.4495 - auroc: 0.658 - ETA: 3:35 - loss: 0.4493 - auroc: 0.659 - ETA: 3:33 - loss: 0.4493 - auroc: 0.659 - ETA: 3:30 - loss: 0.4486 - auroc: 0.659 - ETA: 3:28 - loss: 0.4487 - auroc: 0.659 - ETA: 3:25 - loss: 0.4483 - auroc: 0.659 - ETA: 3:23 - loss: 0.4479 - auroc: 0.658 - ETA: 3:20 - loss: 0.4478 - auroc: 0.659 - ETA: 3:17 - loss: 0.4479 - auroc: 0.658 - ETA: 3:15 - loss: 0.4482 - auroc: 0.658 - ETA: 3:12 - loss: 0.4483 - auroc: 0.659 - ETA: 3:10 - loss: 0.4486 - auroc: 0.659 - ETA: 3:07 - loss: 0.4487 - auroc: 0.659 - ETA: 3:04 - loss: 0.4494 - auroc: 0.659 - ETA: 3:02 - loss: 0.4489 - auroc: 0.660 - ETA: 2:59 - loss: 0.4486 - auroc: 0.660 - ETA: 2:57 - loss: 0.4479 - auroc: 0.660 - ETA: 2:54 - loss: 0.4475 - auroc: 0.660 - ETA: 2:51 - loss: 0.4470 - auroc: 0.660 - ETA: 2:48 - loss: 0.4471 - auroc: 0.660 - ETA: 2:46 - loss: 0.4469 - auroc: 0.660 - ETA: 2:43 - loss: 0.4466 - auroc: 0.659 - ETA: 2:40 - loss: 0.4463 - auroc: 0.660 - ETA: 2:37 - loss: 0.4461 - auroc: 0.660 - ETA: 2:35 - loss: 0.4461 - auroc: 0.660 - ETA: 2:32 - loss: 0.4460 - auroc: 0.660 - ETA: 2:29 - loss: 0.4462 - auroc: 0.660 - ETA: 2:27 - loss: 0.4468 - auroc: 0.660 - ETA: 2:24 - loss: 0.4466 - auroc: 0.660 - ETA: 2:21 - loss: 0.4462 - auroc: 0.660 - ETA: 2:19 - loss: 0.4461 - auroc: 0.659 - ETA: 2:16 - loss: 0.4463 - auroc: 0.659 - ETA: 2:13 - loss: 0.4462 - auroc: 0.659 - ETA: 2:11 - loss: 0.4461 - auroc: 0.658 - ETA: 2:08 - loss: 0.4461 - auroc: 0.658 - ETA: 2:06 - loss: 0.4461 - auroc: 0.658 - ETA: 2:03 - loss: 0.4461 - auroc: 0.658 - ETA: 2:00 - loss: 0.4461 - auroc: 0.657 - ETA: 1:58 - loss: 0.4463 - auroc: 0.657 - ETA: 1:55 - loss: 0.4462 - auroc: 0.658 - ETA: 1:53 - loss: 0.4464 - auroc: 0.657 - ETA: 1:50 - loss: 0.4463 - auroc: 0.657 - ETA: 1:47 - loss: 0.4466 - auroc: 0.657 - ETA: 1:45 - loss: 0.4466 - auroc: 0.656 - ETA: 1:42 - loss: 0.4465 - auroc: 0.657 - ETA: 1:40 - loss: 0.4464 - auroc: 0.657 - ETA: 1:37 - loss: 0.4465 - auroc: 0.657 - ETA: 1:35 - loss: 0.4466 - auroc: 0.657 - ETA: 1:32 - loss: 0.4467 - auroc: 0.657 - ETA: 1:29 - loss: 0.4463 - auroc: 0.657 - ETA: 1:27 - loss: 0.4464 - auroc: 0.657 - ETA: 1:24 - loss: 0.4460 - auroc: 0.658 - ETA: 1:22 - loss: 0.4461 - auroc: 0.657 - ETA: 1:19 - loss: 0.4462 - auroc: 0.657 - ETA: 1:16 - loss: 0.4458 - auroc: 0.657 - ETA: 1:14 - loss: 0.4457 - auroc: 0.658 - ETA: 1:11 - loss: 0.4454 - auroc: 0.658 - ETA: 1:09 - loss: 0.4455 - auroc: 0.658 - ETA: 1:06 - loss: 0.4453 - auroc: 0.658 - ETA: 1:03 - loss: 0.4455 - auroc: 0.658 - ETA: 1:01 - loss: 0.4457 - auroc: 0.658 - ETA: 58s - loss: 0.4458 - auroc: 0.657 - ETA: 55s - loss: 0.4456 - auroc: 0.65 - ETA: 53s - loss: 0.4454 - auroc: 0.65 - ETA: 50s - loss: 0.4455 - auroc: 0.65 - ETA: 48s - loss: 0.4456 - auroc: 0.65 - ETA: 45s - loss: 0.4454 - auroc: 0.65 - ETA: 42s - loss: 0.4452 - auroc: 0.65 - ETA: 40s - loss: 0.4452 - auroc: 0.65 - ETA: 37s - loss: 0.4451 - auroc: 0.65 - ETA: 34s - loss: 0.4452 - auroc: 0.65 - ETA: 32s - loss: 0.4456 - auroc: 0.65 - ETA: 29s - loss: 0.4456 - auroc: 0.65 - ETA: 27s - loss: 0.4454 - auroc: 0.65 - ETA: 24s - loss: 0.4457 - auroc: 0.65 - ETA: 21s - loss: 0.4455 - auroc: 0.65 - ETA: 19s - loss: 0.4456 - auroc: 0.65 - ETA: 16s - loss: 0.4454 - auroc: 0.65 - ETA: 13s - loss: 0.4451 - auroc: 0.65 - ETA: 11s - loss: 0.4449 - auroc: 0.65 - ETA: 8s - loss: 0.4449 - auroc: 0.6592 - ETA: 6s - loss: 0.4448 - auroc: 0.659 - ETA: 3s - loss: 0.4447 - auroc: 0.659 - ETA: 0s - loss: 0.4446 - auroc: 0.659 - 449s 6ms/step - loss: 0.4447 - auroc: 0.6589 - val_loss: 0.4357 - val_auroc: 0.6837\n",
      "\n",
      "Epoch 00003: val_loss improved from 0.45952 to 0.43574, saving model to model_3.h5\n",
      "Epoch 4/20\n",
      "76473/76473 [==============================] - ETA: 6:29 - loss: 0.4465 - auroc: 0.651 - ETA: 6:16 - loss: 0.4339 - auroc: 0.644 - ETA: 6:10 - loss: 0.4317 - auroc: 0.638 - ETA: 6:05 - loss: 0.4461 - auroc: 0.645 - ETA: 6:01 - loss: 0.4394 - auroc: 0.647 - ETA: 5:57 - loss: 0.4415 - auroc: 0.645 - ETA: 5:54 - loss: 0.4428 - auroc: 0.641 - ETA: 5:51 - loss: 0.4481 - auroc: 0.648 - ETA: 5:48 - loss: 0.4416 - auroc: 0.655 - ETA: 5:45 - loss: 0.4370 - auroc: 0.657 - ETA: 5:42 - loss: 0.4377 - auroc: 0.665 - ETA: 5:39 - loss: 0.4373 - auroc: 0.669 - ETA: 5:37 - loss: 0.4410 - auroc: 0.663 - ETA: 5:35 - loss: 0.4390 - auroc: 0.662 - ETA: 5:32 - loss: 0.4389 - auroc: 0.663 - ETA: 5:31 - loss: 0.4343 - auroc: 0.665 - ETA: 5:29 - loss: 0.4329 - auroc: 0.666 - ETA: 5:28 - loss: 0.4327 - auroc: 0.664 - ETA: 5:27 - loss: 0.4311 - auroc: 0.663 - ETA: 5:25 - loss: 0.4311 - auroc: 0.661 - ETA: 5:24 - loss: 0.4305 - auroc: 0.661 - ETA: 5:22 - loss: 0.4309 - auroc: 0.661 - ETA: 5:20 - loss: 0.4317 - auroc: 0.660 - ETA: 5:18 - loss: 0.4322 - auroc: 0.660 - ETA: 5:16 - loss: 0.4292 - auroc: 0.662 - ETA: 5:14 - loss: 0.4304 - auroc: 0.662 - ETA: 5:13 - loss: 0.4304 - auroc: 0.665 - ETA: 5:10 - loss: 0.4303 - auroc: 0.663 - ETA: 5:08 - loss: 0.4308 - auroc: 0.662 - ETA: 5:06 - loss: 0.4319 - auroc: 0.661 - ETA: 5:04 - loss: 0.4317 - auroc: 0.662 - ETA: 5:02 - loss: 0.4324 - auroc: 0.663 - ETA: 4:59 - loss: 0.4322 - auroc: 0.663 - ETA: 4:57 - loss: 0.4331 - auroc: 0.664 - ETA: 4:55 - loss: 0.4321 - auroc: 0.665 - ETA: 4:53 - loss: 0.4321 - auroc: 0.666 - ETA: 4:50 - loss: 0.4325 - auroc: 0.667 - ETA: 4:48 - loss: 0.4322 - auroc: 0.667 - ETA: 4:46 - loss: 0.4321 - auroc: 0.668 - ETA: 4:43 - loss: 0.4325 - auroc: 0.667 - ETA: 4:41 - loss: 0.4328 - auroc: 0.666 - ETA: 4:39 - loss: 0.4320 - auroc: 0.667 - ETA: 4:36 - loss: 0.4318 - auroc: 0.667 - ETA: 4:34 - loss: 0.4327 - auroc: 0.666 - ETA: 4:31 - loss: 0.4325 - auroc: 0.666 - ETA: 4:29 - loss: 0.4316 - auroc: 0.666 - ETA: 4:26 - loss: 0.4319 - auroc: 0.667 - ETA: 4:24 - loss: 0.4308 - auroc: 0.667 - ETA: 4:21 - loss: 0.4304 - auroc: 0.667 - ETA: 4:18 - loss: 0.4305 - auroc: 0.667 - ETA: 4:15 - loss: 0.4298 - auroc: 0.667 - ETA: 4:12 - loss: 0.4289 - auroc: 0.668 - ETA: 4:10 - loss: 0.4286 - auroc: 0.669 - ETA: 4:07 - loss: 0.4289 - auroc: 0.668 - ETA: 4:04 - loss: 0.4286 - auroc: 0.668 - ETA: 4:01 - loss: 0.4284 - auroc: 0.668 - ETA: 3:58 - loss: 0.4282 - auroc: 0.667 - ETA: 3:56 - loss: 0.4272 - auroc: 0.668 - ETA: 3:53 - loss: 0.4262 - auroc: 0.668 - ETA: 3:50 - loss: 0.4260 - auroc: 0.668 - ETA: 3:47 - loss: 0.4261 - auroc: 0.669 - ETA: 3:45 - loss: 0.4260 - auroc: 0.668 - ETA: 3:42 - loss: 0.4264 - auroc: 0.668 - ETA: 3:39 - loss: 0.4266 - auroc: 0.668 - ETA: 3:37 - loss: 0.4265 - auroc: 0.668 - ETA: 3:34 - loss: 0.4272 - auroc: 0.667 - ETA: 3:32 - loss: 0.4279 - auroc: 0.667 - ETA: 3:29 - loss: 0.4278 - auroc: 0.668 - ETA: 3:27 - loss: 0.4274 - auroc: 0.668 - ETA: 3:24 - loss: 0.4278 - auroc: 0.667 - ETA: 3:22 - loss: 0.4271 - auroc: 0.668 - ETA: 3:19 - loss: 0.4272 - auroc: 0.667 - ETA: 3:17 - loss: 0.4266 - auroc: 0.667 - ETA: 3:14 - loss: 0.4272 - auroc: 0.667 - ETA: 3:12 - loss: 0.4271 - auroc: 0.667 - ETA: 3:09 - loss: 0.4276 - auroc: 0.667 - ETA: 3:07 - loss: 0.4284 - auroc: 0.667 - ETA: 3:04 - loss: 0.4284 - auroc: 0.666 - ETA: 3:02 - loss: 0.4285 - auroc: 0.666 - ETA: 2:59 - loss: 0.4283 - auroc: 0.666 - ETA: 2:57 - loss: 0.4280 - auroc: 0.666 - ETA: 2:54 - loss: 0.4284 - auroc: 0.666 - ETA: 2:52 - loss: 0.4283 - auroc: 0.667 - ETA: 2:49 - loss: 0.4282 - auroc: 0.666 - ETA: 2:47 - loss: 0.4289 - auroc: 0.666 - ETA: 2:44 - loss: 0.4292 - auroc: 0.666 - ETA: 2:42 - loss: 0.4298 - auroc: 0.665 - ETA: 2:39 - loss: 0.4299 - auroc: 0.664 - ETA: 2:37 - loss: 0.4301 - auroc: 0.665 - ETA: 2:34 - loss: 0.4295 - auroc: 0.665 - ETA: 2:31 - loss: 0.4295 - auroc: 0.665 - ETA: 2:29 - loss: 0.4295 - auroc: 0.665 - ETA: 2:26 - loss: 0.4292 - auroc: 0.665 - ETA: 2:24 - loss: 0.4290 - auroc: 0.666 - ETA: 2:21 - loss: 0.4291 - auroc: 0.665 - ETA: 2:18 - loss: 0.4295 - auroc: 0.665 - ETA: 2:16 - loss: 0.4297 - auroc: 0.665 - ETA: 2:13 - loss: 0.4296 - auroc: 0.665 - ETA: 2:11 - loss: 0.4291 - auroc: 0.665 - ETA: 2:08 - loss: 0.4289 - auroc: 0.666 - ETA: 2:05 - loss: 0.4288 - auroc: 0.666 - ETA: 2:03 - loss: 0.4288 - auroc: 0.666 - ETA: 2:00 - loss: 0.4293 - auroc: 0.666 - ETA: 1:57 - loss: 0.4291 - auroc: 0.666 - ETA: 1:55 - loss: 0.4293 - auroc: 0.665 - ETA: 1:52 - loss: 0.4294 - auroc: 0.666 - ETA: 1:49 - loss: 0.4291 - auroc: 0.665 - ETA: 1:47 - loss: 0.4291 - auroc: 0.666 - ETA: 1:44 - loss: 0.4294 - auroc: 0.665 - ETA: 1:42 - loss: 0.4295 - auroc: 0.665 - ETA: 1:39 - loss: 0.4293 - auroc: 0.665 - ETA: 1:36 - loss: 0.4291 - auroc: 0.665 - ETA: 1:34 - loss: 0.4288 - auroc: 0.666 - ETA: 1:31 - loss: 0.4289 - auroc: 0.666 - ETA: 1:28 - loss: 0.4293 - auroc: 0.666 - ETA: 1:26 - loss: 0.4294 - auroc: 0.666 - ETA: 1:23 - loss: 0.4294 - auroc: 0.666 - ETA: 1:21 - loss: 0.4293 - auroc: 0.666 - ETA: 1:18 - loss: 0.4290 - auroc: 0.666 - ETA: 1:16 - loss: 0.4289 - auroc: 0.666 - ETA: 1:13 - loss: 0.4292 - auroc: 0.665 - ETA: 1:10 - loss: 0.4293 - auroc: 0.665 - ETA: 1:08 - loss: 0.4292 - auroc: 0.665 - ETA: 1:05 - loss: 0.4292 - auroc: 0.665 - ETA: 1:03 - loss: 0.4293 - auroc: 0.665 - ETA: 1:00 - loss: 0.4290 - auroc: 0.665 - ETA: 58s - loss: 0.4291 - auroc: 0.666 - ETA: 55s - loss: 0.4292 - auroc: 0.66 - ETA: 52s - loss: 0.4289 - auroc: 0.66 - ETA: 50s - loss: 0.4287 - auroc: 0.66 - ETA: 47s - loss: 0.4287 - auroc: 0.66 - ETA: 45s - loss: 0.4282 - auroc: 0.66 - ETA: 42s - loss: 0.4284 - auroc: 0.66 - ETA: 39s - loss: 0.4286 - auroc: 0.66 - ETA: 37s - loss: 0.4286 - auroc: 0.66 - ETA: 34s - loss: 0.4286 - auroc: 0.66 - ETA: 32s - loss: 0.4289 - auroc: 0.66 - ETA: 29s - loss: 0.4287 - auroc: 0.66 - ETA: 26s - loss: 0.4288 - auroc: 0.66 - ETA: 24s - loss: 0.4290 - auroc: 0.66 - ETA: 21s - loss: 0.4287 - auroc: 0.66 - ETA: 19s - loss: 0.4290 - auroc: 0.66 - ETA: 16s - loss: 0.4293 - auroc: 0.66 - ETA: 13s - loss: 0.4291 - auroc: 0.66 - ETA: 11s - loss: 0.4291 - auroc: 0.66 - ETA: 8s - loss: 0.4289 - auroc: 0.6657 - ETA: 6s - loss: 0.4288 - auroc: 0.665 - ETA: 3s - loss: 0.4287 - auroc: 0.665 - ETA: 0s - loss: 0.4287 - auroc: 0.664 - 450s 6ms/step - loss: 0.4288 - auroc: 0.6645 - val_loss: 0.4260 - val_auroc: 0.6805\n",
      "\n",
      "Epoch 00004: val_loss improved from 0.43574 to 0.42599, saving model to model_3.h5\n",
      "Epoch 5/20\n"
     ]
    },
    {
     "name": "stdout",
     "output_type": "stream",
     "text": [
      "76473/76473 [==============================] - ETA: 7:03 - loss: 0.4270 - auroc: 0.699 - ETA: 6:48 - loss: 0.3896 - auroc: 0.664 - ETA: 6:42 - loss: 0.4197 - auroc: 0.652 - ETA: 6:37 - loss: 0.4174 - auroc: 0.643 - ETA: 6:33 - loss: 0.4162 - auroc: 0.651 - ETA: 6:28 - loss: 0.4214 - auroc: 0.648 - ETA: 6:25 - loss: 0.4229 - auroc: 0.651 - ETA: 6:21 - loss: 0.4268 - auroc: 0.650 - ETA: 6:17 - loss: 0.4235 - auroc: 0.658 - ETA: 6:15 - loss: 0.4279 - auroc: 0.660 - ETA: 6:12 - loss: 0.4200 - auroc: 0.664 - ETA: 6:08 - loss: 0.4149 - auroc: 0.665 - ETA: 6:05 - loss: 0.4143 - auroc: 0.664 - ETA: 6:02 - loss: 0.4151 - auroc: 0.658 - ETA: 5:59 - loss: 0.4163 - auroc: 0.657 - ETA: 5:56 - loss: 0.4196 - auroc: 0.654 - ETA: 5:52 - loss: 0.4191 - auroc: 0.656 - ETA: 5:48 - loss: 0.4196 - auroc: 0.659 - ETA: 5:44 - loss: 0.4213 - auroc: 0.659 - ETA: 5:40 - loss: 0.4189 - auroc: 0.662 - ETA: 5:37 - loss: 0.4205 - auroc: 0.661 - ETA: 5:33 - loss: 0.4198 - auroc: 0.663 - ETA: 5:30 - loss: 0.4201 - auroc: 0.663 - ETA: 5:27 - loss: 0.4218 - auroc: 0.661 - ETA: 5:23 - loss: 0.4206 - auroc: 0.663 - ETA: 5:20 - loss: 0.4205 - auroc: 0.664 - ETA: 5:17 - loss: 0.4222 - auroc: 0.664 - ETA: 5:14 - loss: 0.4229 - auroc: 0.665 - ETA: 5:11 - loss: 0.4219 - auroc: 0.667 - ETA: 5:09 - loss: 0.4205 - auroc: 0.669 - ETA: 5:07 - loss: 0.4202 - auroc: 0.669 - ETA: 5:04 - loss: 0.4204 - auroc: 0.670 - ETA: 5:02 - loss: 0.4206 - auroc: 0.671 - ETA: 4:59 - loss: 0.4217 - auroc: 0.670 - ETA: 4:57 - loss: 0.4214 - auroc: 0.671 - ETA: 4:55 - loss: 0.4218 - auroc: 0.670 - ETA: 4:52 - loss: 0.4216 - auroc: 0.670 - ETA: 4:50 - loss: 0.4206 - auroc: 0.670 - ETA: 4:47 - loss: 0.4204 - auroc: 0.669 - ETA: 4:45 - loss: 0.4197 - auroc: 0.669 - ETA: 4:43 - loss: 0.4207 - auroc: 0.669 - ETA: 4:40 - loss: 0.4209 - auroc: 0.669 - ETA: 4:38 - loss: 0.4216 - auroc: 0.668 - ETA: 4:35 - loss: 0.4215 - auroc: 0.668 - ETA: 4:33 - loss: 0.4220 - auroc: 0.667 - ETA: 4:30 - loss: 0.4233 - auroc: 0.667 - ETA: 4:28 - loss: 0.4235 - auroc: 0.667 - ETA: 4:25 - loss: 0.4233 - auroc: 0.667 - ETA: 4:23 - loss: 0.4233 - auroc: 0.666 - ETA: 4:20 - loss: 0.4227 - auroc: 0.666 - ETA: 4:17 - loss: 0.4229 - auroc: 0.667 - ETA: 4:15 - loss: 0.4226 - auroc: 0.667 - ETA: 4:12 - loss: 0.4224 - auroc: 0.667 - ETA: 4:10 - loss: 0.4229 - auroc: 0.665 - ETA: 4:07 - loss: 0.4230 - auroc: 0.666 - ETA: 4:05 - loss: 0.4237 - auroc: 0.665 - ETA: 4:02 - loss: 0.4240 - auroc: 0.664 - ETA: 4:00 - loss: 0.4244 - auroc: 0.664 - ETA: 3:57 - loss: 0.4235 - auroc: 0.665 - ETA: 3:54 - loss: 0.4241 - auroc: 0.665 - ETA: 3:52 - loss: 0.4248 - auroc: 0.663 - ETA: 3:49 - loss: 0.4245 - auroc: 0.662 - ETA: 3:47 - loss: 0.4246 - auroc: 0.663 - ETA: 3:44 - loss: 0.4248 - auroc: 0.663 - ETA: 3:41 - loss: 0.4252 - auroc: 0.663 - ETA: 3:39 - loss: 0.4256 - auroc: 0.663 - ETA: 3:36 - loss: 0.4249 - auroc: 0.664 - ETA: 3:33 - loss: 0.4244 - auroc: 0.664 - ETA: 3:30 - loss: 0.4246 - auroc: 0.663 - ETA: 3:28 - loss: 0.4240 - auroc: 0.665 - ETA: 3:25 - loss: 0.4235 - auroc: 0.665 - ETA: 3:22 - loss: 0.4231 - auroc: 0.665 - ETA: 3:19 - loss: 0.4224 - auroc: 0.666 - ETA: 3:17 - loss: 0.4224 - auroc: 0.666 - ETA: 3:14 - loss: 0.4226 - auroc: 0.666 - ETA: 3:11 - loss: 0.4225 - auroc: 0.666 - ETA: 3:08 - loss: 0.4225 - auroc: 0.666 - ETA: 3:06 - loss: 0.4226 - auroc: 0.665 - ETA: 3:03 - loss: 0.4225 - auroc: 0.665 - ETA: 3:01 - loss: 0.4224 - auroc: 0.665 - ETA: 2:58 - loss: 0.4224 - auroc: 0.666 - ETA: 2:55 - loss: 0.4225 - auroc: 0.666 - ETA: 2:53 - loss: 0.4226 - auroc: 0.666 - ETA: 2:50 - loss: 0.4226 - auroc: 0.666 - ETA: 2:48 - loss: 0.4227 - auroc: 0.666 - ETA: 2:45 - loss: 0.4229 - auroc: 0.666 - ETA: 2:43 - loss: 0.4226 - auroc: 0.666 - ETA: 2:40 - loss: 0.4223 - auroc: 0.667 - ETA: 2:37 - loss: 0.4222 - auroc: 0.667 - ETA: 2:35 - loss: 0.4221 - auroc: 0.667 - ETA: 2:32 - loss: 0.4221 - auroc: 0.667 - ETA: 2:30 - loss: 0.4219 - auroc: 0.667 - ETA: 2:27 - loss: 0.4220 - auroc: 0.668 - ETA: 2:25 - loss: 0.4218 - auroc: 0.668 - ETA: 2:22 - loss: 0.4219 - auroc: 0.668 - ETA: 2:19 - loss: 0.4216 - auroc: 0.667 - ETA: 2:17 - loss: 0.4214 - auroc: 0.668 - ETA: 2:14 - loss: 0.4212 - auroc: 0.668 - ETA: 2:12 - loss: 0.4215 - auroc: 0.667 - ETA: 2:09 - loss: 0.4215 - auroc: 0.667 - ETA: 2:06 - loss: 0.4222 - auroc: 0.666 - ETA: 2:04 - loss: 0.4223 - auroc: 0.666 - ETA: 2:01 - loss: 0.4224 - auroc: 0.665 - ETA: 1:59 - loss: 0.4228 - auroc: 0.666 - ETA: 1:56 - loss: 0.4227 - auroc: 0.666 - ETA: 1:53 - loss: 0.4223 - auroc: 0.666 - ETA: 1:51 - loss: 0.4226 - auroc: 0.666 - ETA: 1:48 - loss: 0.4229 - auroc: 0.666 - ETA: 1:45 - loss: 0.4229 - auroc: 0.665 - ETA: 1:43 - loss: 0.4229 - auroc: 0.665 - ETA: 1:40 - loss: 0.4233 - auroc: 0.664 - ETA: 1:38 - loss: 0.4234 - auroc: 0.664 - ETA: 1:35 - loss: 0.4236 - auroc: 0.665 - ETA: 1:32 - loss: 0.4236 - auroc: 0.665 - ETA: 1:30 - loss: 0.4233 - auroc: 0.665 - ETA: 1:27 - loss: 0.4232 - auroc: 0.665 - ETA: 1:24 - loss: 0.4229 - auroc: 0.665 - ETA: 1:22 - loss: 0.4230 - auroc: 0.665 - ETA: 1:19 - loss: 0.4230 - auroc: 0.666 - ETA: 1:16 - loss: 0.4224 - auroc: 0.666 - ETA: 1:14 - loss: 0.4222 - auroc: 0.666 - ETA: 1:11 - loss: 0.4221 - auroc: 0.666 - ETA: 1:08 - loss: 0.4217 - auroc: 0.666 - ETA: 1:06 - loss: 0.4216 - auroc: 0.666 - ETA: 1:03 - loss: 0.4217 - auroc: 0.666 - ETA: 1:00 - loss: 0.4219 - auroc: 0.666 - ETA: 58s - loss: 0.4218 - auroc: 0.666 - ETA: 55s - loss: 0.4219 - auroc: 0.66 - ETA: 53s - loss: 0.4220 - auroc: 0.66 - ETA: 50s - loss: 0.4218 - auroc: 0.66 - ETA: 47s - loss: 0.4218 - auroc: 0.66 - ETA: 45s - loss: 0.4216 - auroc: 0.66 - ETA: 42s - loss: 0.4217 - auroc: 0.66 - ETA: 40s - loss: 0.4216 - auroc: 0.66 - ETA: 37s - loss: 0.4212 - auroc: 0.66 - ETA: 34s - loss: 0.4212 - auroc: 0.66 - ETA: 32s - loss: 0.4212 - auroc: 0.66 - ETA: 29s - loss: 0.4209 - auroc: 0.66 - ETA: 27s - loss: 0.4213 - auroc: 0.66 - ETA: 24s - loss: 0.4213 - auroc: 0.66 - ETA: 21s - loss: 0.4216 - auroc: 0.66 - ETA: 19s - loss: 0.4211 - auroc: 0.66 - ETA: 16s - loss: 0.4207 - auroc: 0.66 - ETA: 14s - loss: 0.4206 - auroc: 0.66 - ETA: 11s - loss: 0.4206 - auroc: 0.66 - ETA: 8s - loss: 0.4207 - auroc: 0.6671 - ETA: 6s - loss: 0.4208 - auroc: 0.667 - ETA: 3s - loss: 0.4207 - auroc: 0.666 - ETA: 0s - loss: 0.4205 - auroc: 0.667 - 451s 6ms/step - loss: 0.4207 - auroc: 0.6670 - val_loss: 0.4194 - val_auroc: 0.6821\n",
      "\n",
      "Epoch 00005: val_loss improved from 0.42599 to 0.41944, saving model to model_3.h5\n",
      "Epoch 6/20\n",
      "76473/76473 [==============================] - ETA: 7:00 - loss: 0.4432 - auroc: 0.667 - ETA: 6:47 - loss: 0.4256 - auroc: 0.677 - ETA: 6:39 - loss: 0.4266 - auroc: 0.668 - ETA: 6:35 - loss: 0.4298 - auroc: 0.658 - ETA: 6:31 - loss: 0.4271 - auroc: 0.664 - ETA: 6:28 - loss: 0.4288 - auroc: 0.657 - ETA: 6:25 - loss: 0.4238 - auroc: 0.659 - ETA: 6:22 - loss: 0.4232 - auroc: 0.664 - ETA: 6:18 - loss: 0.4203 - auroc: 0.669 - ETA: 6:15 - loss: 0.4174 - auroc: 0.668 - ETA: 6:12 - loss: 0.4155 - auroc: 0.668 - ETA: 6:10 - loss: 0.4122 - auroc: 0.666 - ETA: 6:07 - loss: 0.4137 - auroc: 0.669 - ETA: 6:03 - loss: 0.4141 - auroc: 0.670 - ETA: 6:01 - loss: 0.4154 - auroc: 0.672 - ETA: 5:58 - loss: 0.4145 - auroc: 0.672 - ETA: 5:55 - loss: 0.4166 - auroc: 0.672 - ETA: 5:52 - loss: 0.4173 - auroc: 0.670 - ETA: 5:49 - loss: 0.4147 - auroc: 0.669 - ETA: 5:46 - loss: 0.4150 - auroc: 0.667 - ETA: 5:43 - loss: 0.4125 - auroc: 0.668 - ETA: 5:40 - loss: 0.4130 - auroc: 0.667 - ETA: 5:38 - loss: 0.4135 - auroc: 0.667 - ETA: 5:35 - loss: 0.4125 - auroc: 0.668 - ETA: 5:32 - loss: 0.4128 - auroc: 0.669 - ETA: 5:29 - loss: 0.4127 - auroc: 0.669 - ETA: 5:26 - loss: 0.4141 - auroc: 0.667 - ETA: 5:24 - loss: 0.4153 - auroc: 0.666 - ETA: 5:21 - loss: 0.4165 - auroc: 0.665 - ETA: 5:18 - loss: 0.4158 - auroc: 0.668 - ETA: 5:15 - loss: 0.4163 - auroc: 0.667 - ETA: 5:12 - loss: 0.4164 - auroc: 0.666 - ETA: 5:09 - loss: 0.4169 - auroc: 0.665 - ETA: 5:05 - loss: 0.4166 - auroc: 0.666 - ETA: 5:02 - loss: 0.4152 - auroc: 0.667 - ETA: 4:59 - loss: 0.4143 - auroc: 0.667 - ETA: 4:56 - loss: 0.4152 - auroc: 0.667 - ETA: 4:53 - loss: 0.4159 - auroc: 0.667 - ETA: 4:50 - loss: 0.4146 - auroc: 0.666 - ETA: 4:47 - loss: 0.4147 - auroc: 0.665 - ETA: 4:44 - loss: 0.4150 - auroc: 0.666 - ETA: 4:41 - loss: 0.4156 - auroc: 0.666 - ETA: 4:38 - loss: 0.4153 - auroc: 0.667 - ETA: 4:35 - loss: 0.4163 - auroc: 0.666 - ETA: 4:33 - loss: 0.4165 - auroc: 0.666 - ETA: 4:30 - loss: 0.4163 - auroc: 0.666 - ETA: 4:28 - loss: 0.4173 - auroc: 0.666 - ETA: 4:25 - loss: 0.4179 - auroc: 0.666 - ETA: 4:23 - loss: 0.4194 - auroc: 0.666 - ETA: 4:20 - loss: 0.4191 - auroc: 0.667 - ETA: 4:18 - loss: 0.4186 - auroc: 0.668 - ETA: 4:15 - loss: 0.4189 - auroc: 0.668 - ETA: 4:12 - loss: 0.4189 - auroc: 0.668 - ETA: 4:10 - loss: 0.4179 - auroc: 0.668 - ETA: 4:07 - loss: 0.4177 - auroc: 0.669 - ETA: 4:05 - loss: 0.4180 - auroc: 0.669 - ETA: 4:02 - loss: 0.4186 - auroc: 0.667 - ETA: 4:00 - loss: 0.4178 - auroc: 0.668 - ETA: 3:57 - loss: 0.4183 - auroc: 0.668 - ETA: 3:54 - loss: 0.4186 - auroc: 0.667 - ETA: 3:52 - loss: 0.4193 - auroc: 0.667 - ETA: 3:49 - loss: 0.4199 - auroc: 0.667 - ETA: 3:47 - loss: 0.4199 - auroc: 0.667 - ETA: 3:44 - loss: 0.4191 - auroc: 0.667 - ETA: 3:42 - loss: 0.4196 - auroc: 0.667 - ETA: 3:39 - loss: 0.4192 - auroc: 0.668 - ETA: 3:36 - loss: 0.4193 - auroc: 0.668 - ETA: 3:34 - loss: 0.4195 - auroc: 0.668 - ETA: 3:31 - loss: 0.4198 - auroc: 0.667 - ETA: 3:29 - loss: 0.4202 - auroc: 0.666 - ETA: 3:26 - loss: 0.4199 - auroc: 0.666 - ETA: 3:23 - loss: 0.4200 - auroc: 0.665 - ETA: 3:21 - loss: 0.4200 - auroc: 0.666 - ETA: 3:18 - loss: 0.4206 - auroc: 0.665 - ETA: 3:16 - loss: 0.4204 - auroc: 0.665 - ETA: 3:13 - loss: 0.4203 - auroc: 0.666 - ETA: 3:10 - loss: 0.4208 - auroc: 0.665 - ETA: 3:08 - loss: 0.4205 - auroc: 0.665 - ETA: 3:05 - loss: 0.4209 - auroc: 0.665 - ETA: 3:02 - loss: 0.4205 - auroc: 0.666 - ETA: 2:59 - loss: 0.4208 - auroc: 0.665 - ETA: 2:56 - loss: 0.4209 - auroc: 0.665 - ETA: 2:54 - loss: 0.4210 - auroc: 0.665 - ETA: 2:51 - loss: 0.4206 - auroc: 0.666 - ETA: 2:48 - loss: 0.4210 - auroc: 0.666 - ETA: 2:46 - loss: 0.4205 - auroc: 0.666 - ETA: 2:43 - loss: 0.4205 - auroc: 0.666 - ETA: 2:40 - loss: 0.4202 - auroc: 0.667 - ETA: 2:37 - loss: 0.4204 - auroc: 0.666 - ETA: 2:35 - loss: 0.4205 - auroc: 0.666 - ETA: 2:32 - loss: 0.4209 - auroc: 0.666 - ETA: 2:29 - loss: 0.4206 - auroc: 0.666 - ETA: 2:27 - loss: 0.4206 - auroc: 0.666 - ETA: 2:24 - loss: 0.4203 - auroc: 0.666 - ETA: 2:22 - loss: 0.4204 - auroc: 0.666 - ETA: 2:19 - loss: 0.4200 - auroc: 0.666 - ETA: 2:16 - loss: 0.4195 - auroc: 0.666 - ETA: 2:14 - loss: 0.4191 - auroc: 0.666 - ETA: 2:11 - loss: 0.4188 - auroc: 0.667 - ETA: 2:09 - loss: 0.4189 - auroc: 0.667 - ETA: 2:06 - loss: 0.4194 - auroc: 0.666 - ETA: 2:04 - loss: 0.4194 - auroc: 0.666 - ETA: 2:01 - loss: 0.4191 - auroc: 0.666 - ETA: 1:58 - loss: 0.4191 - auroc: 0.665 - ETA: 1:56 - loss: 0.4193 - auroc: 0.665 - ETA: 1:53 - loss: 0.4188 - auroc: 0.665 - ETA: 1:50 - loss: 0.4188 - auroc: 0.664 - ETA: 1:48 - loss: 0.4187 - auroc: 0.664 - ETA: 1:45 - loss: 0.4187 - auroc: 0.664 - ETA: 1:43 - loss: 0.4185 - auroc: 0.664 - ETA: 1:40 - loss: 0.4185 - auroc: 0.664 - ETA: 1:37 - loss: 0.4184 - auroc: 0.664 - ETA: 1:35 - loss: 0.4180 - auroc: 0.665 - ETA: 1:32 - loss: 0.4177 - auroc: 0.666 - ETA: 1:30 - loss: 0.4174 - auroc: 0.666 - ETA: 1:27 - loss: 0.4175 - auroc: 0.666 - ETA: 1:24 - loss: 0.4181 - auroc: 0.665 - ETA: 1:22 - loss: 0.4181 - auroc: 0.665 - ETA: 1:19 - loss: 0.4180 - auroc: 0.665 - ETA: 1:17 - loss: 0.4183 - auroc: 0.665 - ETA: 1:14 - loss: 0.4181 - auroc: 0.665 - ETA: 1:11 - loss: 0.4175 - auroc: 0.665 - ETA: 1:09 - loss: 0.4179 - auroc: 0.665 - ETA: 1:06 - loss: 0.4180 - auroc: 0.666 - ETA: 1:04 - loss: 0.4178 - auroc: 0.666 - ETA: 1:01 - loss: 0.4182 - auroc: 0.666 - ETA: 58s - loss: 0.4186 - auroc: 0.665 - ETA: 56s - loss: 0.4186 - auroc: 0.66 - ETA: 53s - loss: 0.4188 - auroc: 0.66 - ETA: 50s - loss: 0.4188 - auroc: 0.66 - ETA: 48s - loss: 0.4190 - auroc: 0.66 - ETA: 45s - loss: 0.4189 - auroc: 0.66 - ETA: 42s - loss: 0.4190 - auroc: 0.66 - ETA: 40s - loss: 0.4191 - auroc: 0.66 - ETA: 37s - loss: 0.4194 - auroc: 0.66 - ETA: 34s - loss: 0.4192 - auroc: 0.66 - ETA: 32s - loss: 0.4192 - auroc: 0.66 - ETA: 29s - loss: 0.4191 - auroc: 0.66 - ETA: 27s - loss: 0.4191 - auroc: 0.66 - ETA: 24s - loss: 0.4192 - auroc: 0.66 - ETA: 21s - loss: 0.4187 - auroc: 0.66 - ETA: 19s - loss: 0.4186 - auroc: 0.66 - ETA: 16s - loss: 0.4183 - auroc: 0.66 - ETA: 14s - loss: 0.4183 - auroc: 0.66 - ETA: 11s - loss: 0.4181 - auroc: 0.66 - ETA: 8s - loss: 0.4178 - auroc: 0.6661 - ETA: 6s - loss: 0.4178 - auroc: 0.665 - ETA: 3s - loss: 0.4175 - auroc: 0.665 - ETA: 0s - loss: 0.4174 - auroc: 0.665 - 451s 6ms/step - loss: 0.4171 - auroc: 0.6662 - val_loss: 0.4187 - val_auroc: 0.6828\n",
      "\n",
      "Epoch 00006: val_loss improved from 0.41944 to 0.41874, saving model to model_3.h5\n",
      "Epoch 7/20\n"
     ]
    },
    {
     "name": "stdout",
     "output_type": "stream",
     "text": [
      "76473/76473 [==============================] - ETA: 6:32 - loss: 0.4043 - auroc: 0.662 - ETA: 6:19 - loss: 0.4196 - auroc: 0.690 - ETA: 6:12 - loss: 0.4230 - auroc: 0.682 - ETA: 6:07 - loss: 0.4180 - auroc: 0.677 - ETA: 6:03 - loss: 0.4140 - auroc: 0.677 - ETA: 6:00 - loss: 0.4075 - auroc: 0.679 - ETA: 5:56 - loss: 0.4097 - auroc: 0.676 - ETA: 5:53 - loss: 0.4095 - auroc: 0.678 - ETA: 5:53 - loss: 0.4073 - auroc: 0.679 - ETA: 5:53 - loss: 0.4048 - auroc: 0.680 - ETA: 5:52 - loss: 0.4078 - auroc: 0.677 - ETA: 5:51 - loss: 0.4069 - auroc: 0.678 - ETA: 5:49 - loss: 0.4052 - auroc: 0.677 - ETA: 5:48 - loss: 0.4009 - auroc: 0.676 - ETA: 5:46 - loss: 0.4004 - auroc: 0.679 - ETA: 5:44 - loss: 0.4015 - auroc: 0.685 - ETA: 5:42 - loss: 0.4059 - auroc: 0.681 - ETA: 5:40 - loss: 0.4066 - auroc: 0.680 - ETA: 5:38 - loss: 0.4073 - auroc: 0.680 - ETA: 5:36 - loss: 0.4061 - auroc: 0.681 - ETA: 5:34 - loss: 0.4058 - auroc: 0.682 - ETA: 5:31 - loss: 0.4065 - auroc: 0.682 - ETA: 5:29 - loss: 0.4096 - auroc: 0.682 - ETA: 5:27 - loss: 0.4097 - auroc: 0.679 - ETA: 5:24 - loss: 0.4103 - auroc: 0.680 - ETA: 5:22 - loss: 0.4115 - auroc: 0.680 - ETA: 5:19 - loss: 0.4102 - auroc: 0.681 - ETA: 5:17 - loss: 0.4106 - auroc: 0.681 - ETA: 5:14 - loss: 0.4111 - auroc: 0.681 - ETA: 5:12 - loss: 0.4118 - auroc: 0.681 - ETA: 5:10 - loss: 0.4104 - auroc: 0.681 - ETA: 5:07 - loss: 0.4097 - auroc: 0.681 - ETA: 5:04 - loss: 0.4095 - auroc: 0.680 - ETA: 5:02 - loss: 0.4101 - auroc: 0.680 - ETA: 4:59 - loss: 0.4122 - auroc: 0.678 - ETA: 4:57 - loss: 0.4119 - auroc: 0.678 - ETA: 4:54 - loss: 0.4116 - auroc: 0.680 - ETA: 4:52 - loss: 0.4126 - auroc: 0.679 - ETA: 4:49 - loss: 0.4124 - auroc: 0.679 - ETA: 4:47 - loss: 0.4122 - auroc: 0.679 - ETA: 4:44 - loss: 0.4127 - auroc: 0.679 - ETA: 4:42 - loss: 0.4130 - auroc: 0.679 - ETA: 4:39 - loss: 0.4126 - auroc: 0.680 - ETA: 4:36 - loss: 0.4118 - auroc: 0.678 - ETA: 4:33 - loss: 0.4129 - auroc: 0.678 - ETA: 4:30 - loss: 0.4133 - auroc: 0.677 - ETA: 4:27 - loss: 0.4137 - auroc: 0.677 - ETA: 4:24 - loss: 0.4146 - auroc: 0.676 - ETA: 4:21 - loss: 0.4148 - auroc: 0.676 - ETA: 4:18 - loss: 0.4143 - auroc: 0.675 - ETA: 4:16 - loss: 0.4141 - auroc: 0.675 - ETA: 4:13 - loss: 0.4139 - auroc: 0.675 - ETA: 4:10 - loss: 0.4142 - auroc: 0.674 - ETA: 4:07 - loss: 0.4142 - auroc: 0.673 - ETA: 4:04 - loss: 0.4133 - auroc: 0.674 - ETA: 4:02 - loss: 0.4131 - auroc: 0.674 - ETA: 3:59 - loss: 0.4129 - auroc: 0.674 - ETA: 3:57 - loss: 0.4122 - auroc: 0.673 - ETA: 3:54 - loss: 0.4117 - auroc: 0.673 - ETA: 3:52 - loss: 0.4126 - auroc: 0.673 - ETA: 3:49 - loss: 0.4134 - auroc: 0.674 - ETA: 3:47 - loss: 0.4136 - auroc: 0.674 - ETA: 3:44 - loss: 0.4145 - auroc: 0.674 - ETA: 3:42 - loss: 0.4143 - auroc: 0.674 - ETA: 3:39 - loss: 0.4146 - auroc: 0.674 - ETA: 3:37 - loss: 0.4142 - auroc: 0.674 - ETA: 3:34 - loss: 0.4143 - auroc: 0.673 - ETA: 3:31 - loss: 0.4142 - auroc: 0.673 - ETA: 3:29 - loss: 0.4146 - auroc: 0.672 - ETA: 3:26 - loss: 0.4149 - auroc: 0.672 - ETA: 3:24 - loss: 0.4150 - auroc: 0.672 - ETA: 3:21 - loss: 0.4146 - auroc: 0.672 - ETA: 3:19 - loss: 0.4150 - auroc: 0.672 - ETA: 3:16 - loss: 0.4149 - auroc: 0.672 - ETA: 3:13 - loss: 0.4146 - auroc: 0.671 - ETA: 3:11 - loss: 0.4151 - auroc: 0.671 - ETA: 3:08 - loss: 0.4152 - auroc: 0.671 - ETA: 3:06 - loss: 0.4152 - auroc: 0.670 - ETA: 3:03 - loss: 0.4152 - auroc: 0.670 - ETA: 3:01 - loss: 0.4152 - auroc: 0.670 - ETA: 2:58 - loss: 0.4148 - auroc: 0.670 - ETA: 2:55 - loss: 0.4153 - auroc: 0.670 - ETA: 2:53 - loss: 0.4149 - auroc: 0.669 - ETA: 2:50 - loss: 0.4148 - auroc: 0.670 - ETA: 2:48 - loss: 0.4155 - auroc: 0.670 - ETA: 2:45 - loss: 0.4156 - auroc: 0.671 - ETA: 2:43 - loss: 0.4154 - auroc: 0.671 - ETA: 2:40 - loss: 0.4149 - auroc: 0.672 - ETA: 2:37 - loss: 0.4151 - auroc: 0.672 - ETA: 2:35 - loss: 0.4149 - auroc: 0.672 - ETA: 2:32 - loss: 0.4150 - auroc: 0.671 - ETA: 2:30 - loss: 0.4154 - auroc: 0.671 - ETA: 2:27 - loss: 0.4151 - auroc: 0.671 - ETA: 2:24 - loss: 0.4154 - auroc: 0.671 - ETA: 2:21 - loss: 0.4155 - auroc: 0.672 - ETA: 2:19 - loss: 0.4159 - auroc: 0.671 - ETA: 2:16 - loss: 0.4157 - auroc: 0.671 - ETA: 2:13 - loss: 0.4156 - auroc: 0.670 - ETA: 2:11 - loss: 0.4150 - auroc: 0.671 - ETA: 2:08 - loss: 0.4147 - auroc: 0.671 - ETA: 2:05 - loss: 0.4147 - auroc: 0.671 - ETA: 2:03 - loss: 0.4147 - auroc: 0.671 - ETA: 2:00 - loss: 0.4150 - auroc: 0.671 - ETA: 1:58 - loss: 0.4149 - auroc: 0.671 - ETA: 1:55 - loss: 0.4147 - auroc: 0.671 - ETA: 1:52 - loss: 0.4144 - auroc: 0.671 - ETA: 1:50 - loss: 0.4145 - auroc: 0.671 - ETA: 1:47 - loss: 0.4143 - auroc: 0.672 - ETA: 1:45 - loss: 0.4144 - auroc: 0.671 - ETA: 1:42 - loss: 0.4141 - auroc: 0.671 - ETA: 1:39 - loss: 0.4139 - auroc: 0.671 - ETA: 1:37 - loss: 0.4143 - auroc: 0.671 - ETA: 1:34 - loss: 0.4142 - auroc: 0.671 - ETA: 1:32 - loss: 0.4139 - auroc: 0.671 - ETA: 1:29 - loss: 0.4137 - auroc: 0.671 - ETA: 1:26 - loss: 0.4137 - auroc: 0.671 - ETA: 1:24 - loss: 0.4139 - auroc: 0.671 - ETA: 1:21 - loss: 0.4142 - auroc: 0.671 - ETA: 1:19 - loss: 0.4141 - auroc: 0.672 - ETA: 1:16 - loss: 0.4141 - auroc: 0.671 - ETA: 1:13 - loss: 0.4139 - auroc: 0.671 - ETA: 1:11 - loss: 0.4141 - auroc: 0.671 - ETA: 1:08 - loss: 0.4139 - auroc: 0.671 - ETA: 1:06 - loss: 0.4141 - auroc: 0.671 - ETA: 1:03 - loss: 0.4140 - auroc: 0.670 - ETA: 1:00 - loss: 0.4141 - auroc: 0.671 - ETA: 58s - loss: 0.4142 - auroc: 0.671 - ETA: 55s - loss: 0.4142 - auroc: 0.67 - ETA: 53s - loss: 0.4142 - auroc: 0.67 - ETA: 50s - loss: 0.4144 - auroc: 0.67 - ETA: 47s - loss: 0.4144 - auroc: 0.67 - ETA: 45s - loss: 0.4147 - auroc: 0.67 - ETA: 42s - loss: 0.4149 - auroc: 0.67 - ETA: 40s - loss: 0.4149 - auroc: 0.67 - ETA: 37s - loss: 0.4150 - auroc: 0.67 - ETA: 34s - loss: 0.4148 - auroc: 0.67 - ETA: 32s - loss: 0.4147 - auroc: 0.67 - ETA: 29s - loss: 0.4146 - auroc: 0.67 - ETA: 27s - loss: 0.4146 - auroc: 0.67 - ETA: 24s - loss: 0.4146 - auroc: 0.67 - ETA: 21s - loss: 0.4149 - auroc: 0.67 - ETA: 19s - loss: 0.4147 - auroc: 0.67 - ETA: 16s - loss: 0.4150 - auroc: 0.66 - ETA: 13s - loss: 0.4149 - auroc: 0.66 - ETA: 11s - loss: 0.4150 - auroc: 0.66 - ETA: 8s - loss: 0.4150 - auroc: 0.6696 - ETA: 6s - loss: 0.4150 - auroc: 0.669 - ETA: 3s - loss: 0.4154 - auroc: 0.669 - ETA: 0s - loss: 0.4155 - auroc: 0.669 - 449s 6ms/step - loss: 0.4156 - auroc: 0.6690 - val_loss: 0.4178 - val_auroc: 0.6800\n",
      "\n",
      "Epoch 00007: val_loss improved from 0.41874 to 0.41781, saving model to model_3.h5\n",
      "Epoch 8/20\n",
      "76473/76473 [==============================] - ETA: 6:29 - loss: 0.3773 - auroc: 0.719 - ETA: 6:30 - loss: 0.3849 - auroc: 0.698 - ETA: 6:28 - loss: 0.3862 - auroc: 0.689 - ETA: 6:26 - loss: 0.3926 - auroc: 0.687 - ETA: 6:25 - loss: 0.4021 - auroc: 0.681 - ETA: 6:25 - loss: 0.4084 - auroc: 0.673 - ETA: 6:24 - loss: 0.4097 - auroc: 0.669 - ETA: 6:18 - loss: 0.4128 - auroc: 0.667 - ETA: 6:12 - loss: 0.4128 - auroc: 0.665 - ETA: 6:08 - loss: 0.4148 - auroc: 0.662 - ETA: 6:03 - loss: 0.4164 - auroc: 0.661 - ETA: 5:59 - loss: 0.4188 - auroc: 0.655 - ETA: 5:54 - loss: 0.4187 - auroc: 0.655 - ETA: 5:51 - loss: 0.4188 - auroc: 0.657 - ETA: 5:47 - loss: 0.4159 - auroc: 0.660 - ETA: 5:44 - loss: 0.4174 - auroc: 0.660 - ETA: 5:40 - loss: 0.4188 - auroc: 0.662 - ETA: 5:37 - loss: 0.4175 - auroc: 0.662 - ETA: 5:34 - loss: 0.4173 - auroc: 0.663 - ETA: 5:32 - loss: 0.4169 - auroc: 0.664 - ETA: 5:29 - loss: 0.4162 - auroc: 0.665 - ETA: 5:26 - loss: 0.4151 - auroc: 0.666 - ETA: 5:24 - loss: 0.4153 - auroc: 0.665 - ETA: 5:22 - loss: 0.4152 - auroc: 0.664 - ETA: 5:19 - loss: 0.4147 - auroc: 0.665 - ETA: 5:17 - loss: 0.4149 - auroc: 0.665 - ETA: 5:15 - loss: 0.4152 - auroc: 0.665 - ETA: 5:12 - loss: 0.4140 - auroc: 0.667 - ETA: 5:10 - loss: 0.4138 - auroc: 0.667 - ETA: 5:08 - loss: 0.4134 - auroc: 0.668 - ETA: 5:06 - loss: 0.4134 - auroc: 0.667 - ETA: 5:03 - loss: 0.4125 - auroc: 0.666 - ETA: 5:01 - loss: 0.4128 - auroc: 0.665 - ETA: 4:58 - loss: 0.4127 - auroc: 0.666 - ETA: 4:56 - loss: 0.4123 - auroc: 0.665 - ETA: 4:54 - loss: 0.4138 - auroc: 0.665 - ETA: 4:51 - loss: 0.4144 - auroc: 0.665 - ETA: 4:49 - loss: 0.4143 - auroc: 0.665 - ETA: 4:46 - loss: 0.4134 - auroc: 0.664 - ETA: 4:44 - loss: 0.4117 - auroc: 0.666 - ETA: 4:42 - loss: 0.4113 - auroc: 0.665 - ETA: 4:39 - loss: 0.4104 - auroc: 0.665 - ETA: 4:37 - loss: 0.4104 - auroc: 0.665 - ETA: 4:35 - loss: 0.4104 - auroc: 0.665 - ETA: 4:32 - loss: 0.4102 - auroc: 0.665 - ETA: 4:30 - loss: 0.4104 - auroc: 0.666 - ETA: 4:27 - loss: 0.4108 - auroc: 0.666 - ETA: 4:25 - loss: 0.4105 - auroc: 0.667 - ETA: 4:22 - loss: 0.4102 - auroc: 0.666 - ETA: 4:20 - loss: 0.4104 - auroc: 0.666 - ETA: 4:17 - loss: 0.4109 - auroc: 0.667 - ETA: 4:15 - loss: 0.4113 - auroc: 0.667 - ETA: 4:12 - loss: 0.4111 - auroc: 0.668 - ETA: 4:10 - loss: 0.4115 - auroc: 0.668 - ETA: 4:07 - loss: 0.4117 - auroc: 0.667 - ETA: 4:05 - loss: 0.4113 - auroc: 0.667 - ETA: 4:02 - loss: 0.4112 - auroc: 0.667 - ETA: 3:59 - loss: 0.4114 - auroc: 0.667 - ETA: 3:56 - loss: 0.4112 - auroc: 0.667 - ETA: 3:53 - loss: 0.4116 - auroc: 0.667 - ETA: 3:50 - loss: 0.4117 - auroc: 0.667 - ETA: 3:48 - loss: 0.4114 - auroc: 0.668 - ETA: 3:45 - loss: 0.4104 - auroc: 0.669 - ETA: 3:42 - loss: 0.4106 - auroc: 0.668 - ETA: 3:39 - loss: 0.4106 - auroc: 0.668 - ETA: 3:37 - loss: 0.4109 - auroc: 0.668 - ETA: 3:34 - loss: 0.4099 - auroc: 0.668 - ETA: 3:31 - loss: 0.4101 - auroc: 0.669 - ETA: 3:28 - loss: 0.4110 - auroc: 0.670 - ETA: 3:26 - loss: 0.4116 - auroc: 0.670 - ETA: 3:23 - loss: 0.4121 - auroc: 0.669 - ETA: 3:21 - loss: 0.4126 - auroc: 0.669 - ETA: 3:18 - loss: 0.4128 - auroc: 0.669 - ETA: 3:16 - loss: 0.4129 - auroc: 0.669 - ETA: 3:13 - loss: 0.4125 - auroc: 0.669 - ETA: 3:11 - loss: 0.4122 - auroc: 0.670 - ETA: 3:08 - loss: 0.4121 - auroc: 0.669 - ETA: 3:05 - loss: 0.4123 - auroc: 0.669 - ETA: 3:03 - loss: 0.4127 - auroc: 0.669 - ETA: 3:00 - loss: 0.4131 - auroc: 0.669 - ETA: 2:58 - loss: 0.4133 - auroc: 0.669 - ETA: 2:55 - loss: 0.4134 - auroc: 0.669 - ETA: 2:53 - loss: 0.4138 - auroc: 0.669 - ETA: 2:50 - loss: 0.4138 - auroc: 0.669 - ETA: 2:47 - loss: 0.4134 - auroc: 0.670 - ETA: 2:45 - loss: 0.4138 - auroc: 0.669 - ETA: 2:42 - loss: 0.4131 - auroc: 0.669 - ETA: 2:40 - loss: 0.4130 - auroc: 0.669 - ETA: 2:37 - loss: 0.4129 - auroc: 0.669 - ETA: 2:35 - loss: 0.4126 - auroc: 0.669 - ETA: 2:32 - loss: 0.4124 - auroc: 0.669 - ETA: 2:29 - loss: 0.4123 - auroc: 0.669 - ETA: 2:27 - loss: 0.4128 - auroc: 0.669 - ETA: 2:24 - loss: 0.4126 - auroc: 0.669 - ETA: 2:22 - loss: 0.4126 - auroc: 0.668 - ETA: 2:19 - loss: 0.4122 - auroc: 0.669 - ETA: 2:17 - loss: 0.4120 - auroc: 0.669 - ETA: 2:14 - loss: 0.4118 - auroc: 0.670 - ETA: 2:11 - loss: 0.4120 - auroc: 0.670 - ETA: 2:09 - loss: 0.4119 - auroc: 0.670 - ETA: 2:06 - loss: 0.4115 - auroc: 0.670 - ETA: 2:04 - loss: 0.4115 - auroc: 0.670 - ETA: 2:01 - loss: 0.4113 - auroc: 0.670 - ETA: 1:58 - loss: 0.4113 - auroc: 0.670 - ETA: 1:56 - loss: 0.4105 - auroc: 0.670 - ETA: 1:53 - loss: 0.4103 - auroc: 0.670 - ETA: 1:50 - loss: 0.4102 - auroc: 0.670 - ETA: 1:48 - loss: 0.4100 - auroc: 0.670 - ETA: 1:45 - loss: 0.4103 - auroc: 0.670 - ETA: 1:42 - loss: 0.4105 - auroc: 0.670 - ETA: 1:40 - loss: 0.4105 - auroc: 0.670 - ETA: 1:37 - loss: 0.4105 - auroc: 0.669 - ETA: 1:34 - loss: 0.4106 - auroc: 0.669 - ETA: 1:32 - loss: 0.4104 - auroc: 0.670 - ETA: 1:29 - loss: 0.4102 - auroc: 0.670 - ETA: 1:27 - loss: 0.4101 - auroc: 0.670 - ETA: 1:24 - loss: 0.4102 - auroc: 0.670 - ETA: 1:21 - loss: 0.4099 - auroc: 0.671 - ETA: 1:19 - loss: 0.4105 - auroc: 0.671 - ETA: 1:16 - loss: 0.4104 - auroc: 0.671 - ETA: 1:13 - loss: 0.4105 - auroc: 0.671 - ETA: 1:11 - loss: 0.4105 - auroc: 0.671 - ETA: 1:08 - loss: 0.4106 - auroc: 0.671 - ETA: 1:06 - loss: 0.4108 - auroc: 0.671 - ETA: 1:03 - loss: 0.4109 - auroc: 0.671 - ETA: 1:00 - loss: 0.4111 - auroc: 0.671 - ETA: 58s - loss: 0.4110 - auroc: 0.671 - ETA: 55s - loss: 0.4112 - auroc: 0.67 - ETA: 53s - loss: 0.4116 - auroc: 0.67 - ETA: 50s - loss: 0.4114 - auroc: 0.67 - ETA: 47s - loss: 0.4115 - auroc: 0.67 - ETA: 45s - loss: 0.4120 - auroc: 0.67 - ETA: 42s - loss: 0.4120 - auroc: 0.67 - ETA: 40s - loss: 0.4118 - auroc: 0.67 - ETA: 37s - loss: 0.4115 - auroc: 0.67 - ETA: 34s - loss: 0.4114 - auroc: 0.67 - ETA: 32s - loss: 0.4119 - auroc: 0.67 - ETA: 29s - loss: 0.4120 - auroc: 0.67 - ETA: 27s - loss: 0.4119 - auroc: 0.67 - ETA: 24s - loss: 0.4119 - auroc: 0.67 - ETA: 21s - loss: 0.4120 - auroc: 0.67 - ETA: 19s - loss: 0.4122 - auroc: 0.67 - ETA: 16s - loss: 0.4120 - auroc: 0.67 - ETA: 14s - loss: 0.4118 - auroc: 0.67 - ETA: 11s - loss: 0.4119 - auroc: 0.67 - ETA: 8s - loss: 0.4118 - auroc: 0.6713 - ETA: 6s - loss: 0.4120 - auroc: 0.671 - ETA: 3s - loss: 0.4121 - auroc: 0.671 - ETA: 0s - loss: 0.4119 - auroc: 0.671 - 452s 6ms/step - loss: 0.4119 - auroc: 0.6711 - val_loss: 0.4136 - val_auroc: 0.6855\n",
      "\n",
      "Epoch 00008: val_loss improved from 0.41781 to 0.41365, saving model to model_3.h5\n",
      "Epoch 9/20\n"
     ]
    },
    {
     "name": "stdout",
     "output_type": "stream",
     "text": [
      "76473/76473 [==============================] - ETA: 6:32 - loss: 0.4355 - auroc: 0.636 - ETA: 6:33 - loss: 0.3983 - auroc: 0.644 - ETA: 6:30 - loss: 0.4100 - auroc: 0.665 - ETA: 6:28 - loss: 0.4087 - auroc: 0.670 - ETA: 6:25 - loss: 0.4091 - auroc: 0.667 - ETA: 6:23 - loss: 0.4155 - auroc: 0.674 - ETA: 6:21 - loss: 0.4203 - auroc: 0.664 - ETA: 6:18 - loss: 0.4160 - auroc: 0.661 - ETA: 6:15 - loss: 0.4139 - auroc: 0.659 - ETA: 6:13 - loss: 0.4164 - auroc: 0.659 - ETA: 6:10 - loss: 0.4154 - auroc: 0.659 - ETA: 6:07 - loss: 0.4163 - auroc: 0.659 - ETA: 6:04 - loss: 0.4138 - auroc: 0.657 - ETA: 6:02 - loss: 0.4134 - auroc: 0.661 - ETA: 5:59 - loss: 0.4122 - auroc: 0.664 - ETA: 5:56 - loss: 0.4138 - auroc: 0.664 - ETA: 5:54 - loss: 0.4135 - auroc: 0.665 - ETA: 5:51 - loss: 0.4136 - auroc: 0.665 - ETA: 5:48 - loss: 0.4142 - auroc: 0.666 - ETA: 5:44 - loss: 0.4140 - auroc: 0.669 - ETA: 5:40 - loss: 0.4129 - auroc: 0.670 - ETA: 5:36 - loss: 0.4121 - auroc: 0.671 - ETA: 5:33 - loss: 0.4127 - auroc: 0.671 - ETA: 5:29 - loss: 0.4144 - auroc: 0.673 - ETA: 5:26 - loss: 0.4157 - auroc: 0.671 - ETA: 5:22 - loss: 0.4167 - auroc: 0.671 - ETA: 5:19 - loss: 0.4156 - auroc: 0.671 - ETA: 5:16 - loss: 0.4139 - auroc: 0.672 - ETA: 5:12 - loss: 0.4144 - auroc: 0.671 - ETA: 5:09 - loss: 0.4151 - auroc: 0.668 - ETA: 5:06 - loss: 0.4170 - auroc: 0.667 - ETA: 5:03 - loss: 0.4176 - auroc: 0.668 - ETA: 5:00 - loss: 0.4174 - auroc: 0.668 - ETA: 4:57 - loss: 0.4192 - auroc: 0.667 - ETA: 4:54 - loss: 0.4180 - auroc: 0.667 - ETA: 4:52 - loss: 0.4178 - auroc: 0.668 - ETA: 4:49 - loss: 0.4177 - auroc: 0.667 - ETA: 4:47 - loss: 0.4182 - auroc: 0.668 - ETA: 4:44 - loss: 0.4174 - auroc: 0.669 - ETA: 4:42 - loss: 0.4171 - auroc: 0.669 - ETA: 4:39 - loss: 0.4166 - auroc: 0.670 - ETA: 4:37 - loss: 0.4151 - auroc: 0.669 - ETA: 4:34 - loss: 0.4148 - auroc: 0.670 - ETA: 4:32 - loss: 0.4153 - auroc: 0.669 - ETA: 4:29 - loss: 0.4146 - auroc: 0.670 - ETA: 4:27 - loss: 0.4142 - auroc: 0.669 - ETA: 4:25 - loss: 0.4132 - auroc: 0.668 - ETA: 4:22 - loss: 0.4134 - auroc: 0.668 - ETA: 4:20 - loss: 0.4139 - auroc: 0.668 - ETA: 4:17 - loss: 0.4124 - auroc: 0.669 - ETA: 4:15 - loss: 0.4116 - auroc: 0.670 - ETA: 4:12 - loss: 0.4120 - auroc: 0.669 - ETA: 4:10 - loss: 0.4115 - auroc: 0.669 - ETA: 4:07 - loss: 0.4109 - auroc: 0.669 - ETA: 4:05 - loss: 0.4111 - auroc: 0.669 - ETA: 4:02 - loss: 0.4109 - auroc: 0.670 - ETA: 4:00 - loss: 0.4103 - auroc: 0.670 - ETA: 3:57 - loss: 0.4107 - auroc: 0.670 - ETA: 3:55 - loss: 0.4103 - auroc: 0.671 - ETA: 3:52 - loss: 0.4101 - auroc: 0.670 - ETA: 3:50 - loss: 0.4096 - auroc: 0.670 - ETA: 3:47 - loss: 0.4104 - auroc: 0.670 - ETA: 3:45 - loss: 0.4100 - auroc: 0.670 - ETA: 3:42 - loss: 0.4102 - auroc: 0.671 - ETA: 3:39 - loss: 0.4101 - auroc: 0.671 - ETA: 3:37 - loss: 0.4094 - auroc: 0.672 - ETA: 3:34 - loss: 0.4091 - auroc: 0.673 - ETA: 3:31 - loss: 0.4088 - auroc: 0.673 - ETA: 3:28 - loss: 0.4087 - auroc: 0.674 - ETA: 3:26 - loss: 0.4080 - auroc: 0.674 - ETA: 3:23 - loss: 0.4081 - auroc: 0.674 - ETA: 3:20 - loss: 0.4083 - auroc: 0.674 - ETA: 3:17 - loss: 0.4081 - auroc: 0.675 - ETA: 3:14 - loss: 0.4079 - auroc: 0.674 - ETA: 3:12 - loss: 0.4074 - auroc: 0.675 - ETA: 3:09 - loss: 0.4072 - auroc: 0.675 - ETA: 3:06 - loss: 0.4074 - auroc: 0.675 - ETA: 3:03 - loss: 0.4073 - auroc: 0.675 - ETA: 3:01 - loss: 0.4079 - auroc: 0.675 - ETA: 2:58 - loss: 0.4077 - auroc: 0.675 - ETA: 2:55 - loss: 0.4078 - auroc: 0.674 - ETA: 2:52 - loss: 0.4078 - auroc: 0.674 - ETA: 2:50 - loss: 0.4077 - auroc: 0.674 - ETA: 2:47 - loss: 0.4077 - auroc: 0.674 - ETA: 2:45 - loss: 0.4075 - auroc: 0.674 - ETA: 2:42 - loss: 0.4072 - auroc: 0.675 - ETA: 2:40 - loss: 0.4067 - auroc: 0.675 - ETA: 2:37 - loss: 0.4069 - auroc: 0.675 - ETA: 2:34 - loss: 0.4074 - auroc: 0.675 - ETA: 2:32 - loss: 0.4072 - auroc: 0.675 - ETA: 2:29 - loss: 0.4071 - auroc: 0.675 - ETA: 2:27 - loss: 0.4068 - auroc: 0.675 - ETA: 2:24 - loss: 0.4069 - auroc: 0.675 - ETA: 2:22 - loss: 0.4077 - auroc: 0.675 - ETA: 2:19 - loss: 0.4078 - auroc: 0.675 - ETA: 2:16 - loss: 0.4080 - auroc: 0.675 - ETA: 2:14 - loss: 0.4081 - auroc: 0.675 - ETA: 2:11 - loss: 0.4081 - auroc: 0.675 - ETA: 2:09 - loss: 0.4082 - auroc: 0.674 - ETA: 2:06 - loss: 0.4080 - auroc: 0.674 - ETA: 2:04 - loss: 0.4079 - auroc: 0.674 - ETA: 2:01 - loss: 0.4078 - auroc: 0.675 - ETA: 1:59 - loss: 0.4085 - auroc: 0.674 - ETA: 1:56 - loss: 0.4090 - auroc: 0.674 - ETA: 1:53 - loss: 0.4091 - auroc: 0.674 - ETA: 1:51 - loss: 0.4093 - auroc: 0.674 - ETA: 1:48 - loss: 0.4090 - auroc: 0.674 - ETA: 1:46 - loss: 0.4094 - auroc: 0.673 - ETA: 1:43 - loss: 0.4102 - auroc: 0.673 - ETA: 1:41 - loss: 0.4103 - auroc: 0.673 - ETA: 1:38 - loss: 0.4103 - auroc: 0.673 - ETA: 1:35 - loss: 0.4101 - auroc: 0.673 - ETA: 1:33 - loss: 0.4101 - auroc: 0.673 - ETA: 1:30 - loss: 0.4102 - auroc: 0.673 - ETA: 1:28 - loss: 0.4102 - auroc: 0.673 - ETA: 1:25 - loss: 0.4101 - auroc: 0.673 - ETA: 1:22 - loss: 0.4100 - auroc: 0.673 - ETA: 1:20 - loss: 0.4099 - auroc: 0.672 - ETA: 1:17 - loss: 0.4098 - auroc: 0.672 - ETA: 1:15 - loss: 0.4100 - auroc: 0.672 - ETA: 1:12 - loss: 0.4101 - auroc: 0.672 - ETA: 1:09 - loss: 0.4106 - auroc: 0.672 - ETA: 1:07 - loss: 0.4107 - auroc: 0.671 - ETA: 1:04 - loss: 0.4108 - auroc: 0.671 - ETA: 1:02 - loss: 0.4106 - auroc: 0.672 - ETA: 59s - loss: 0.4107 - auroc: 0.671 - ETA: 57s - loss: 0.4108 - auroc: 0.67 - ETA: 54s - loss: 0.4105 - auroc: 0.67 - ETA: 51s - loss: 0.4107 - auroc: 0.67 - ETA: 49s - loss: 0.4111 - auroc: 0.67 - ETA: 46s - loss: 0.4111 - auroc: 0.67 - ETA: 44s - loss: 0.4110 - auroc: 0.67 - ETA: 41s - loss: 0.4110 - auroc: 0.67 - ETA: 39s - loss: 0.4112 - auroc: 0.67 - ETA: 36s - loss: 0.4113 - auroc: 0.67 - ETA: 34s - loss: 0.4116 - auroc: 0.67 - ETA: 31s - loss: 0.4113 - auroc: 0.67 - ETA: 28s - loss: 0.4112 - auroc: 0.67 - ETA: 26s - loss: 0.4110 - auroc: 0.67 - ETA: 23s - loss: 0.4109 - auroc: 0.67 - ETA: 21s - loss: 0.4109 - auroc: 0.67 - ETA: 18s - loss: 0.4111 - auroc: 0.67 - ETA: 16s - loss: 0.4111 - auroc: 0.67 - ETA: 13s - loss: 0.4109 - auroc: 0.67 - ETA: 11s - loss: 0.4108 - auroc: 0.67 - ETA: 8s - loss: 0.4110 - auroc: 0.6713 - ETA: 6s - loss: 0.4112 - auroc: 0.671 - ETA: 3s - loss: 0.4111 - auroc: 0.671 - ETA: 0s - loss: 0.4110 - auroc: 0.671 - 439s 6ms/step - loss: 0.4110 - auroc: 0.6721 - val_loss: 0.4157 - val_auroc: 0.6856\n",
      "\n",
      "Epoch 00009: val_loss did not improve from 0.41365\n",
      "\n",
      "Epoch 00009: ReduceLROnPlateau reducing learning rate to 0.00020000000949949026.\n",
      "Epoch 10/20\n",
      "76473/76473 [==============================] - ETA: 6:13 - loss: 0.3906 - auroc: 0.663 - ETA: 6:13 - loss: 0.4184 - auroc: 0.670 - ETA: 6:11 - loss: 0.3955 - auroc: 0.667 - ETA: 6:08 - loss: 0.4016 - auroc: 0.669 - ETA: 6:06 - loss: 0.4016 - auroc: 0.667 - ETA: 6:04 - loss: 0.3989 - auroc: 0.671 - ETA: 6:02 - loss: 0.3975 - auroc: 0.678 - ETA: 5:59 - loss: 0.3985 - auroc: 0.679 - ETA: 5:58 - loss: 0.4005 - auroc: 0.688 - ETA: 5:55 - loss: 0.4031 - auroc: 0.686 - ETA: 5:52 - loss: 0.4063 - auroc: 0.686 - ETA: 5:50 - loss: 0.4055 - auroc: 0.688 - ETA: 5:48 - loss: 0.4050 - auroc: 0.688 - ETA: 5:45 - loss: 0.4060 - auroc: 0.689 - ETA: 5:43 - loss: 0.4063 - auroc: 0.690 - ETA: 5:40 - loss: 0.4087 - auroc: 0.691 - ETA: 5:38 - loss: 0.4089 - auroc: 0.690 - ETA: 5:35 - loss: 0.4085 - auroc: 0.689 - ETA: 5:33 - loss: 0.4097 - auroc: 0.687 - ETA: 5:30 - loss: 0.4125 - auroc: 0.686 - ETA: 5:28 - loss: 0.4109 - auroc: 0.689 - ETA: 5:25 - loss: 0.4106 - auroc: 0.690 - ETA: 5:23 - loss: 0.4102 - auroc: 0.691 - ETA: 5:20 - loss: 0.4093 - auroc: 0.692 - ETA: 5:18 - loss: 0.4104 - auroc: 0.690 - ETA: 5:15 - loss: 0.4104 - auroc: 0.691 - ETA: 5:13 - loss: 0.4099 - auroc: 0.689 - ETA: 5:10 - loss: 0.4104 - auroc: 0.687 - ETA: 5:08 - loss: 0.4125 - auroc: 0.685 - ETA: 5:04 - loss: 0.4121 - auroc: 0.685 - ETA: 5:01 - loss: 0.4120 - auroc: 0.684 - ETA: 4:58 - loss: 0.4122 - auroc: 0.684 - ETA: 4:55 - loss: 0.4120 - auroc: 0.684 - ETA: 4:52 - loss: 0.4114 - auroc: 0.686 - ETA: 4:49 - loss: 0.4113 - auroc: 0.687 - ETA: 4:46 - loss: 0.4107 - auroc: 0.686 - ETA: 4:43 - loss: 0.4092 - auroc: 0.688 - ETA: 4:40 - loss: 0.4104 - auroc: 0.687 - ETA: 4:37 - loss: 0.4105 - auroc: 0.688 - ETA: 4:34 - loss: 0.4102 - auroc: 0.687 - ETA: 4:31 - loss: 0.4104 - auroc: 0.687 - ETA: 4:29 - loss: 0.4110 - auroc: 0.686 - ETA: 4:26 - loss: 0.4121 - auroc: 0.687 - ETA: 4:23 - loss: 0.4136 - auroc: 0.686 - ETA: 4:21 - loss: 0.4140 - auroc: 0.686 - ETA: 4:18 - loss: 0.4138 - auroc: 0.687 - ETA: 4:16 - loss: 0.4134 - auroc: 0.687 - ETA: 4:14 - loss: 0.4124 - auroc: 0.687 - ETA: 4:11 - loss: 0.4119 - auroc: 0.687 - ETA: 4:09 - loss: 0.4109 - auroc: 0.687 - ETA: 4:06 - loss: 0.4112 - auroc: 0.687 - ETA: 4:04 - loss: 0.4111 - auroc: 0.687 - ETA: 4:01 - loss: 0.4102 - auroc: 0.687 - ETA: 3:59 - loss: 0.4087 - auroc: 0.688 - ETA: 3:57 - loss: 0.4079 - auroc: 0.687 - ETA: 3:54 - loss: 0.4085 - auroc: 0.686 - ETA: 3:52 - loss: 0.4089 - auroc: 0.685 - ETA: 3:49 - loss: 0.4086 - auroc: 0.685 - ETA: 3:47 - loss: 0.4082 - auroc: 0.685 - ETA: 3:45 - loss: 0.4083 - auroc: 0.686 - ETA: 3:42 - loss: 0.4083 - auroc: 0.687 - ETA: 3:40 - loss: 0.4083 - auroc: 0.686 - ETA: 3:37 - loss: 0.4093 - auroc: 0.686 - ETA: 3:35 - loss: 0.4089 - auroc: 0.686 - ETA: 3:32 - loss: 0.4083 - auroc: 0.687 - ETA: 3:30 - loss: 0.4081 - auroc: 0.687 - ETA: 3:27 - loss: 0.4084 - auroc: 0.686 - ETA: 3:25 - loss: 0.4085 - auroc: 0.686 - ETA: 3:22 - loss: 0.4079 - auroc: 0.687 - ETA: 3:20 - loss: 0.4076 - auroc: 0.687 - ETA: 3:17 - loss: 0.4072 - auroc: 0.687 - ETA: 3:15 - loss: 0.4070 - auroc: 0.687 - ETA: 3:12 - loss: 0.4072 - auroc: 0.687 - ETA: 3:10 - loss: 0.4073 - auroc: 0.687 - ETA: 3:07 - loss: 0.4068 - auroc: 0.686 - ETA: 3:05 - loss: 0.4071 - auroc: 0.686 - ETA: 3:02 - loss: 0.4066 - auroc: 0.686 - ETA: 3:00 - loss: 0.4065 - auroc: 0.686 - ETA: 2:57 - loss: 0.4062 - auroc: 0.685 - ETA: 2:54 - loss: 0.4060 - auroc: 0.685 - ETA: 2:52 - loss: 0.4061 - auroc: 0.686 - ETA: 2:49 - loss: 0.4057 - auroc: 0.685 - ETA: 2:46 - loss: 0.4060 - auroc: 0.684 - ETA: 2:44 - loss: 0.4060 - auroc: 0.683 - ETA: 2:41 - loss: 0.4060 - auroc: 0.684 - ETA: 2:39 - loss: 0.4060 - auroc: 0.684 - ETA: 2:36 - loss: 0.4057 - auroc: 0.684 - ETA: 2:33 - loss: 0.4056 - auroc: 0.683 - ETA: 2:31 - loss: 0.4055 - auroc: 0.683 - ETA: 2:28 - loss: 0.4053 - auroc: 0.684 - ETA: 2:26 - loss: 0.4056 - auroc: 0.684 - ETA: 2:23 - loss: 0.4055 - auroc: 0.683 - ETA: 2:21 - loss: 0.4056 - auroc: 0.683 - ETA: 2:18 - loss: 0.4053 - auroc: 0.683 - ETA: 2:16 - loss: 0.4056 - auroc: 0.683 - ETA: 2:13 - loss: 0.4053 - auroc: 0.683 - ETA: 2:11 - loss: 0.4055 - auroc: 0.683 - ETA: 2:08 - loss: 0.4053 - auroc: 0.682 - ETA: 2:06 - loss: 0.4052 - auroc: 0.682 - ETA: 2:03 - loss: 0.4048 - auroc: 0.682 - ETA: 2:01 - loss: 0.4046 - auroc: 0.683 - ETA: 1:59 - loss: 0.4050 - auroc: 0.683 - ETA: 1:56 - loss: 0.4047 - auroc: 0.682 - ETA: 1:54 - loss: 0.4047 - auroc: 0.682 - ETA: 1:51 - loss: 0.4049 - auroc: 0.682 - ETA: 1:49 - loss: 0.4053 - auroc: 0.681 - ETA: 1:46 - loss: 0.4058 - auroc: 0.681 - ETA: 1:44 - loss: 0.4060 - auroc: 0.681 - ETA: 1:41 - loss: 0.4061 - auroc: 0.681 - ETA: 1:39 - loss: 0.4061 - auroc: 0.681 - ETA: 1:36 - loss: 0.4060 - auroc: 0.681 - ETA: 1:34 - loss: 0.4061 - auroc: 0.681 - ETA: 1:31 - loss: 0.4057 - auroc: 0.681 - ETA: 1:29 - loss: 0.4062 - auroc: 0.681 - ETA: 1:26 - loss: 0.4059 - auroc: 0.681 - ETA: 1:24 - loss: 0.4061 - auroc: 0.681 - ETA: 1:21 - loss: 0.4064 - auroc: 0.681 - ETA: 1:19 - loss: 0.4063 - auroc: 0.681 - ETA: 1:16 - loss: 0.4063 - auroc: 0.681 - ETA: 1:14 - loss: 0.4062 - auroc: 0.681 - ETA: 1:11 - loss: 0.4065 - auroc: 0.680 - ETA: 1:08 - loss: 0.4066 - auroc: 0.681 - ETA: 1:06 - loss: 0.4067 - auroc: 0.680 - ETA: 1:03 - loss: 0.4065 - auroc: 0.680 - ETA: 1:01 - loss: 0.4063 - auroc: 0.680 - ETA: 58s - loss: 0.4060 - auroc: 0.680 - ETA: 56s - loss: 0.4058 - auroc: 0.67 - ETA: 53s - loss: 0.4059 - auroc: 0.67 - ETA: 51s - loss: 0.4060 - auroc: 0.67 - ETA: 48s - loss: 0.4058 - auroc: 0.67 - ETA: 46s - loss: 0.4059 - auroc: 0.68 - ETA: 43s - loss: 0.4059 - auroc: 0.68 - ETA: 41s - loss: 0.4059 - auroc: 0.68 - ETA: 38s - loss: 0.4061 - auroc: 0.68 - ETA: 36s - loss: 0.4064 - auroc: 0.67 - ETA: 33s - loss: 0.4066 - auroc: 0.67 - ETA: 30s - loss: 0.4063 - auroc: 0.67 - ETA: 28s - loss: 0.4064 - auroc: 0.67 - ETA: 25s - loss: 0.4063 - auroc: 0.67 - ETA: 23s - loss: 0.4064 - auroc: 0.67 - ETA: 20s - loss: 0.4064 - auroc: 0.67 - ETA: 18s - loss: 0.4064 - auroc: 0.67 - ETA: 15s - loss: 0.4061 - auroc: 0.67 - ETA: 13s - loss: 0.4058 - auroc: 0.67 - ETA: 10s - loss: 0.4057 - auroc: 0.68 - ETA: 8s - loss: 0.4060 - auroc: 0.6798 - ETA: 5s - loss: 0.4061 - auroc: 0.679 - ETA: 3s - loss: 0.4062 - auroc: 0.679 - ETA: 0s - loss: 0.4061 - auroc: 0.680 - 433s 6ms/step - loss: 0.4062 - auroc: 0.6801 - val_loss: 0.4090 - val_auroc: 0.6888\n",
      "\n",
      "Epoch 00010: val_loss improved from 0.41365 to 0.40895, saving model to model_3.h5\n",
      "Epoch 11/20\n"
     ]
    },
    {
     "name": "stdout",
     "output_type": "stream",
     "text": [
      "76473/76473 [==============================] - ETA: 6:11 - loss: 0.4335 - auroc: 0.665 - ETA: 6:12 - loss: 0.4142 - auroc: 0.667 - ETA: 6:11 - loss: 0.4148 - auroc: 0.667 - ETA: 6:09 - loss: 0.4087 - auroc: 0.676 - ETA: 6:07 - loss: 0.4037 - auroc: 0.680 - ETA: 6:04 - loss: 0.4019 - auroc: 0.670 - ETA: 6:02 - loss: 0.4039 - auroc: 0.670 - ETA: 6:00 - loss: 0.4026 - auroc: 0.673 - ETA: 5:57 - loss: 0.3998 - auroc: 0.673 - ETA: 5:54 - loss: 0.4027 - auroc: 0.671 - ETA: 5:52 - loss: 0.4031 - auroc: 0.670 - ETA: 5:49 - loss: 0.4014 - auroc: 0.672 - ETA: 5:47 - loss: 0.4023 - auroc: 0.673 - ETA: 5:44 - loss: 0.3986 - auroc: 0.672 - ETA: 5:42 - loss: 0.4013 - auroc: 0.672 - ETA: 5:39 - loss: 0.4039 - auroc: 0.667 - ETA: 5:37 - loss: 0.4052 - auroc: 0.667 - ETA: 5:34 - loss: 0.4051 - auroc: 0.669 - ETA: 5:33 - loss: 0.4038 - auroc: 0.667 - ETA: 5:30 - loss: 0.4032 - auroc: 0.670 - ETA: 5:27 - loss: 0.4010 - auroc: 0.671 - ETA: 5:25 - loss: 0.3998 - auroc: 0.671 - ETA: 5:22 - loss: 0.4016 - auroc: 0.672 - ETA: 5:20 - loss: 0.4002 - auroc: 0.673 - ETA: 5:17 - loss: 0.4011 - auroc: 0.670 - ETA: 5:15 - loss: 0.4013 - auroc: 0.671 - ETA: 5:12 - loss: 0.4007 - auroc: 0.673 - ETA: 5:10 - loss: 0.4017 - auroc: 0.672 - ETA: 5:07 - loss: 0.4028 - auroc: 0.671 - ETA: 5:05 - loss: 0.4032 - auroc: 0.672 - ETA: 5:02 - loss: 0.4034 - auroc: 0.673 - ETA: 5:00 - loss: 0.4042 - auroc: 0.673 - ETA: 4:57 - loss: 0.4045 - auroc: 0.674 - ETA: 4:54 - loss: 0.4050 - auroc: 0.675 - ETA: 4:51 - loss: 0.4044 - auroc: 0.676 - ETA: 4:48 - loss: 0.4040 - auroc: 0.676 - ETA: 4:45 - loss: 0.4041 - auroc: 0.675 - ETA: 4:42 - loss: 0.4035 - auroc: 0.675 - ETA: 4:39 - loss: 0.4042 - auroc: 0.674 - ETA: 4:36 - loss: 0.4052 - auroc: 0.673 - ETA: 4:33 - loss: 0.4053 - auroc: 0.674 - ETA: 4:30 - loss: 0.4041 - auroc: 0.674 - ETA: 4:27 - loss: 0.4040 - auroc: 0.673 - ETA: 4:25 - loss: 0.4035 - auroc: 0.673 - ETA: 4:22 - loss: 0.4045 - auroc: 0.672 - ETA: 4:19 - loss: 0.4042 - auroc: 0.673 - ETA: 4:16 - loss: 0.4043 - auroc: 0.673 - ETA: 4:13 - loss: 0.4041 - auroc: 0.673 - ETA: 4:11 - loss: 0.4053 - auroc: 0.673 - ETA: 4:09 - loss: 0.4053 - auroc: 0.674 - ETA: 4:06 - loss: 0.4047 - auroc: 0.674 - ETA: 4:04 - loss: 0.4051 - auroc: 0.675 - ETA: 4:01 - loss: 0.4060 - auroc: 0.675 - ETA: 3:59 - loss: 0.4066 - auroc: 0.675 - ETA: 3:56 - loss: 0.4069 - auroc: 0.675 - ETA: 3:54 - loss: 0.4061 - auroc: 0.674 - ETA: 3:52 - loss: 0.4062 - auroc: 0.673 - ETA: 3:49 - loss: 0.4068 - auroc: 0.672 - ETA: 3:47 - loss: 0.4069 - auroc: 0.674 - ETA: 3:44 - loss: 0.4065 - auroc: 0.674 - ETA: 3:42 - loss: 0.4058 - auroc: 0.674 - ETA: 3:39 - loss: 0.4062 - auroc: 0.674 - ETA: 3:37 - loss: 0.4062 - auroc: 0.674 - ETA: 3:34 - loss: 0.4059 - auroc: 0.675 - ETA: 3:32 - loss: 0.4059 - auroc: 0.676 - ETA: 3:30 - loss: 0.4060 - auroc: 0.676 - ETA: 3:27 - loss: 0.4059 - auroc: 0.676 - ETA: 3:25 - loss: 0.4060 - auroc: 0.676 - ETA: 3:22 - loss: 0.4061 - auroc: 0.675 - ETA: 3:20 - loss: 0.4065 - auroc: 0.676 - ETA: 3:17 - loss: 0.4067 - auroc: 0.676 - ETA: 3:15 - loss: 0.4066 - auroc: 0.677 - ETA: 3:12 - loss: 0.4064 - auroc: 0.677 - ETA: 3:10 - loss: 0.4073 - auroc: 0.676 - ETA: 3:07 - loss: 0.4075 - auroc: 0.676 - ETA: 3:05 - loss: 0.4077 - auroc: 0.675 - ETA: 3:02 - loss: 0.4076 - auroc: 0.675 - ETA: 3:00 - loss: 0.4075 - auroc: 0.676 - ETA: 2:57 - loss: 0.4074 - auroc: 0.676 - ETA: 2:55 - loss: 0.4083 - auroc: 0.676 - ETA: 2:52 - loss: 0.4085 - auroc: 0.677 - ETA: 2:50 - loss: 0.4079 - auroc: 0.677 - ETA: 2:47 - loss: 0.4080 - auroc: 0.678 - ETA: 2:44 - loss: 0.4080 - auroc: 0.678 - ETA: 2:42 - loss: 0.4080 - auroc: 0.677 - ETA: 2:39 - loss: 0.4083 - auroc: 0.677 - ETA: 2:36 - loss: 0.4082 - auroc: 0.677 - ETA: 2:34 - loss: 0.4080 - auroc: 0.677 - ETA: 2:31 - loss: 0.4082 - auroc: 0.678 - ETA: 2:29 - loss: 0.4075 - auroc: 0.678 - ETA: 2:26 - loss: 0.4075 - auroc: 0.678 - ETA: 2:23 - loss: 0.4077 - auroc: 0.678 - ETA: 2:21 - loss: 0.4073 - auroc: 0.678 - ETA: 2:18 - loss: 0.4072 - auroc: 0.678 - ETA: 2:16 - loss: 0.4075 - auroc: 0.677 - ETA: 2:13 - loss: 0.4073 - auroc: 0.678 - ETA: 2:11 - loss: 0.4075 - auroc: 0.678 - ETA: 2:08 - loss: 0.4078 - auroc: 0.678 - ETA: 2:06 - loss: 0.4072 - auroc: 0.678 - ETA: 2:03 - loss: 0.4067 - auroc: 0.678 - ETA: 2:01 - loss: 0.4065 - auroc: 0.679 - ETA: 1:59 - loss: 0.4064 - auroc: 0.679 - ETA: 1:56 - loss: 0.4060 - auroc: 0.679 - ETA: 1:54 - loss: 0.4055 - auroc: 0.679 - ETA: 1:51 - loss: 0.4052 - auroc: 0.679 - ETA: 1:49 - loss: 0.4055 - auroc: 0.679 - ETA: 1:46 - loss: 0.4056 - auroc: 0.679 - ETA: 1:44 - loss: 0.4056 - auroc: 0.679 - ETA: 1:41 - loss: 0.4056 - auroc: 0.679 - ETA: 1:39 - loss: 0.4056 - auroc: 0.678 - ETA: 1:36 - loss: 0.4058 - auroc: 0.678 - ETA: 1:34 - loss: 0.4059 - auroc: 0.678 - ETA: 1:31 - loss: 0.4060 - auroc: 0.678 - ETA: 1:29 - loss: 0.4057 - auroc: 0.679 - ETA: 1:26 - loss: 0.4057 - auroc: 0.679 - ETA: 1:24 - loss: 0.4057 - auroc: 0.679 - ETA: 1:21 - loss: 0.4057 - auroc: 0.679 - ETA: 1:19 - loss: 0.4054 - auroc: 0.679 - ETA: 1:16 - loss: 0.4050 - auroc: 0.680 - ETA: 1:14 - loss: 0.4048 - auroc: 0.680 - ETA: 1:11 - loss: 0.4047 - auroc: 0.680 - ETA: 1:08 - loss: 0.4045 - auroc: 0.680 - ETA: 1:06 - loss: 0.4042 - auroc: 0.680 - ETA: 1:03 - loss: 0.4043 - auroc: 0.680 - ETA: 1:01 - loss: 0.4040 - auroc: 0.680 - ETA: 58s - loss: 0.4039 - auroc: 0.680 - ETA: 56s - loss: 0.4039 - auroc: 0.68 - ETA: 53s - loss: 0.4036 - auroc: 0.68 - ETA: 51s - loss: 0.4035 - auroc: 0.68 - ETA: 48s - loss: 0.4036 - auroc: 0.68 - ETA: 46s - loss: 0.4035 - auroc: 0.68 - ETA: 43s - loss: 0.4034 - auroc: 0.68 - ETA: 41s - loss: 0.4037 - auroc: 0.68 - ETA: 38s - loss: 0.4038 - auroc: 0.68 - ETA: 36s - loss: 0.4038 - auroc: 0.68 - ETA: 33s - loss: 0.4041 - auroc: 0.68 - ETA: 31s - loss: 0.4040 - auroc: 0.68 - ETA: 28s - loss: 0.4043 - auroc: 0.68 - ETA: 26s - loss: 0.4041 - auroc: 0.68 - ETA: 23s - loss: 0.4039 - auroc: 0.68 - ETA: 20s - loss: 0.4041 - auroc: 0.68 - ETA: 18s - loss: 0.4039 - auroc: 0.68 - ETA: 15s - loss: 0.4041 - auroc: 0.68 - ETA: 13s - loss: 0.4041 - auroc: 0.68 - ETA: 10s - loss: 0.4040 - auroc: 0.68 - ETA: 8s - loss: 0.4040 - auroc: 0.6819 - ETA: 5s - loss: 0.4042 - auroc: 0.682 - ETA: 3s - loss: 0.4044 - auroc: 0.682 - ETA: 0s - loss: 0.4043 - auroc: 0.681 - 434s 6ms/step - loss: 0.4041 - auroc: 0.6819 - val_loss: 0.4089 - val_auroc: 0.6890\n",
      "\n",
      "Epoch 00011: val_loss improved from 0.40895 to 0.40889, saving model to model_3.h5\n",
      "\n",
      "Epoch 00011: ReduceLROnPlateau reducing learning rate to 4.0000001899898055e-05.\n",
      "Epoch 12/20\n",
      "76473/76473 [==============================] - ETA: 6:17 - loss: 0.4160 - auroc: 0.690 - ETA: 6:02 - loss: 0.4131 - auroc: 0.705 - ETA: 5:56 - loss: 0.4128 - auroc: 0.691 - ETA: 5:52 - loss: 0.4079 - auroc: 0.696 - ETA: 5:49 - loss: 0.4015 - auroc: 0.698 - ETA: 5:49 - loss: 0.3924 - auroc: 0.693 - ETA: 5:49 - loss: 0.3898 - auroc: 0.699 - ETA: 5:49 - loss: 0.3883 - auroc: 0.698 - ETA: 5:47 - loss: 0.3892 - auroc: 0.697 - ETA: 5:46 - loss: 0.3917 - auroc: 0.696 - ETA: 5:44 - loss: 0.3945 - auroc: 0.696 - ETA: 5:42 - loss: 0.3943 - auroc: 0.699 - ETA: 5:40 - loss: 0.3961 - auroc: 0.699 - ETA: 5:38 - loss: 0.3937 - auroc: 0.700 - ETA: 5:37 - loss: 0.3925 - auroc: 0.698 - ETA: 5:34 - loss: 0.3942 - auroc: 0.698 - ETA: 5:33 - loss: 0.3962 - auroc: 0.696 - ETA: 5:30 - loss: 0.3986 - auroc: 0.692 - ETA: 5:28 - loss: 0.3957 - auroc: 0.696 - ETA: 5:26 - loss: 0.3988 - auroc: 0.694 - ETA: 5:24 - loss: 0.3986 - auroc: 0.694 - ETA: 5:21 - loss: 0.3991 - auroc: 0.695 - ETA: 5:19 - loss: 0.4003 - auroc: 0.693 - ETA: 5:17 - loss: 0.4016 - auroc: 0.692 - ETA: 5:14 - loss: 0.4011 - auroc: 0.692 - ETA: 5:12 - loss: 0.4007 - auroc: 0.691 - ETA: 5:10 - loss: 0.4011 - auroc: 0.693 - ETA: 5:08 - loss: 0.4007 - auroc: 0.692 - ETA: 5:05 - loss: 0.3995 - auroc: 0.694 - ETA: 5:03 - loss: 0.3985 - auroc: 0.696 - ETA: 5:01 - loss: 0.4001 - auroc: 0.696 - ETA: 4:58 - loss: 0.4000 - auroc: 0.696 - ETA: 4:56 - loss: 0.3994 - auroc: 0.696 - ETA: 4:53 - loss: 0.4006 - auroc: 0.695 - ETA: 4:51 - loss: 0.4004 - auroc: 0.694 - ETA: 4:48 - loss: 0.4004 - auroc: 0.694 - ETA: 4:46 - loss: 0.4007 - auroc: 0.693 - ETA: 4:43 - loss: 0.4006 - auroc: 0.693 - ETA: 4:40 - loss: 0.3998 - auroc: 0.693 - ETA: 4:37 - loss: 0.3997 - auroc: 0.693 - ETA: 4:34 - loss: 0.4004 - auroc: 0.692 - ETA: 4:31 - loss: 0.4014 - auroc: 0.692 - ETA: 4:28 - loss: 0.4014 - auroc: 0.691 - ETA: 4:25 - loss: 0.4018 - auroc: 0.691 - ETA: 4:22 - loss: 0.4019 - auroc: 0.691 - ETA: 4:19 - loss: 0.4020 - auroc: 0.692 - ETA: 4:17 - loss: 0.4023 - auroc: 0.691 - ETA: 4:14 - loss: 0.4025 - auroc: 0.691 - ETA: 4:11 - loss: 0.4029 - auroc: 0.691 - ETA: 4:08 - loss: 0.4024 - auroc: 0.691 - ETA: 4:06 - loss: 0.4022 - auroc: 0.691 - ETA: 4:03 - loss: 0.4014 - auroc: 0.692 - ETA: 4:01 - loss: 0.4012 - auroc: 0.693 - ETA: 3:58 - loss: 0.4015 - auroc: 0.692 - ETA: 3:56 - loss: 0.4018 - auroc: 0.692 - ETA: 3:53 - loss: 0.4022 - auroc: 0.691 - ETA: 3:51 - loss: 0.4024 - auroc: 0.691 - ETA: 3:48 - loss: 0.4026 - auroc: 0.691 - ETA: 3:46 - loss: 0.4026 - auroc: 0.691 - ETA: 3:44 - loss: 0.4031 - auroc: 0.690 - ETA: 3:41 - loss: 0.4033 - auroc: 0.690 - ETA: 3:39 - loss: 0.4030 - auroc: 0.691 - ETA: 3:36 - loss: 0.4032 - auroc: 0.691 - ETA: 3:34 - loss: 0.4033 - auroc: 0.691 - ETA: 3:31 - loss: 0.4028 - auroc: 0.691 - ETA: 3:29 - loss: 0.4023 - auroc: 0.691 - ETA: 3:26 - loss: 0.4024 - auroc: 0.690 - ETA: 3:24 - loss: 0.4020 - auroc: 0.691 - ETA: 3:22 - loss: 0.4018 - auroc: 0.691 - ETA: 3:19 - loss: 0.4017 - auroc: 0.691 - ETA: 3:17 - loss: 0.4014 - auroc: 0.691 - ETA: 3:14 - loss: 0.4013 - auroc: 0.691 - ETA: 3:12 - loss: 0.4015 - auroc: 0.691 - ETA: 3:09 - loss: 0.4009 - auroc: 0.692 - ETA: 3:07 - loss: 0.4009 - auroc: 0.691 - ETA: 3:04 - loss: 0.4010 - auroc: 0.691 - ETA: 3:02 - loss: 0.4007 - auroc: 0.691 - ETA: 2:59 - loss: 0.4006 - auroc: 0.691 - ETA: 2:57 - loss: 0.4003 - auroc: 0.691 - ETA: 2:54 - loss: 0.4005 - auroc: 0.691 - ETA: 2:52 - loss: 0.4010 - auroc: 0.690 - ETA: 2:49 - loss: 0.4008 - auroc: 0.691 - ETA: 2:47 - loss: 0.4003 - auroc: 0.691 - ETA: 2:44 - loss: 0.4006 - auroc: 0.691 - ETA: 2:42 - loss: 0.4011 - auroc: 0.690 - ETA: 2:39 - loss: 0.4004 - auroc: 0.690 - ETA: 2:37 - loss: 0.4002 - auroc: 0.691 - ETA: 2:34 - loss: 0.4000 - auroc: 0.691 - ETA: 2:31 - loss: 0.4001 - auroc: 0.690 - ETA: 2:29 - loss: 0.4005 - auroc: 0.690 - ETA: 2:26 - loss: 0.4005 - auroc: 0.690 - ETA: 2:24 - loss: 0.4006 - auroc: 0.690 - ETA: 2:21 - loss: 0.4009 - auroc: 0.690 - ETA: 2:18 - loss: 0.4006 - auroc: 0.690 - ETA: 2:16 - loss: 0.4009 - auroc: 0.690 - ETA: 2:13 - loss: 0.4008 - auroc: 0.690 - ETA: 2:11 - loss: 0.4010 - auroc: 0.690 - ETA: 2:08 - loss: 0.4012 - auroc: 0.689 - ETA: 2:06 - loss: 0.4012 - auroc: 0.689 - ETA: 2:03 - loss: 0.4013 - auroc: 0.688 - ETA: 2:01 - loss: 0.4018 - auroc: 0.689 - ETA: 1:58 - loss: 0.4018 - auroc: 0.689 - ETA: 1:56 - loss: 0.4020 - auroc: 0.689 - ETA: 1:53 - loss: 0.4025 - auroc: 0.689 - ETA: 1:51 - loss: 0.4029 - auroc: 0.688 - ETA: 1:48 - loss: 0.4031 - auroc: 0.688 - ETA: 1:46 - loss: 0.4031 - auroc: 0.688 - ETA: 1:43 - loss: 0.4033 - auroc: 0.688 - ETA: 1:41 - loss: 0.4032 - auroc: 0.689 - ETA: 1:38 - loss: 0.4030 - auroc: 0.688 - ETA: 1:36 - loss: 0.4028 - auroc: 0.687 - ETA: 1:33 - loss: 0.4029 - auroc: 0.688 - ETA: 1:31 - loss: 0.4028 - auroc: 0.687 - ETA: 1:28 - loss: 0.4027 - auroc: 0.688 - ETA: 1:26 - loss: 0.4022 - auroc: 0.688 - ETA: 1:23 - loss: 0.4021 - auroc: 0.688 - ETA: 1:21 - loss: 0.4022 - auroc: 0.688 - ETA: 1:18 - loss: 0.4021 - auroc: 0.688 - ETA: 1:16 - loss: 0.4023 - auroc: 0.688 - ETA: 1:13 - loss: 0.4020 - auroc: 0.688 - ETA: 1:11 - loss: 0.4021 - auroc: 0.688 - ETA: 1:08 - loss: 0.4018 - auroc: 0.687 - ETA: 1:06 - loss: 0.4019 - auroc: 0.687 - ETA: 1:03 - loss: 0.4018 - auroc: 0.686 - ETA: 1:01 - loss: 0.4019 - auroc: 0.686 - ETA: 58s - loss: 0.4019 - auroc: 0.686 - ETA: 56s - loss: 0.4021 - auroc: 0.68 - ETA: 53s - loss: 0.4020 - auroc: 0.68 - ETA: 51s - loss: 0.4023 - auroc: 0.68 - ETA: 48s - loss: 0.4023 - auroc: 0.68 - ETA: 46s - loss: 0.4022 - auroc: 0.68 - ETA: 43s - loss: 0.4023 - auroc: 0.68 - ETA: 41s - loss: 0.4023 - auroc: 0.68 - ETA: 38s - loss: 0.4023 - auroc: 0.68 - ETA: 36s - loss: 0.4022 - auroc: 0.68 - ETA: 33s - loss: 0.4021 - auroc: 0.68 - ETA: 31s - loss: 0.4020 - auroc: 0.68 - ETA: 28s - loss: 0.4024 - auroc: 0.68 - ETA: 26s - loss: 0.4025 - auroc: 0.68 - ETA: 23s - loss: 0.4027 - auroc: 0.68 - ETA: 20s - loss: 0.4023 - auroc: 0.68 - ETA: 18s - loss: 0.4024 - auroc: 0.68 - ETA: 15s - loss: 0.4026 - auroc: 0.68 - ETA: 13s - loss: 0.4026 - auroc: 0.68 - ETA: 10s - loss: 0.4025 - auroc: 0.68 - ETA: 8s - loss: 0.4023 - auroc: 0.6876 - ETA: 5s - loss: 0.4023 - auroc: 0.687 - ETA: 3s - loss: 0.4023 - auroc: 0.687 - ETA: 0s - loss: 0.4020 - auroc: 0.687 - 433s 6ms/step - loss: 0.4022 - auroc: 0.6874 - val_loss: 0.4084 - val_auroc: 0.6891\n",
      "\n",
      "Epoch 00012: val_loss improved from 0.40889 to 0.40838, saving model to model_3.h5\n",
      "Epoch 13/20\n"
     ]
    },
    {
     "name": "stdout",
     "output_type": "stream",
     "text": [
      "76473/76473 [==============================] - ETA: 6:12 - loss: 0.4104 - auroc: 0.721 - ETA: 6:00 - loss: 0.4140 - auroc: 0.693 - ETA: 5:55 - loss: 0.4009 - auroc: 0.686 - ETA: 5:52 - loss: 0.3912 - auroc: 0.682 - ETA: 5:49 - loss: 0.3914 - auroc: 0.682 - ETA: 5:45 - loss: 0.3941 - auroc: 0.686 - ETA: 5:43 - loss: 0.3935 - auroc: 0.686 - ETA: 5:42 - loss: 0.3947 - auroc: 0.683 - ETA: 5:39 - loss: 0.3987 - auroc: 0.683 - ETA: 5:36 - loss: 0.4029 - auroc: 0.683 - ETA: 5:33 - loss: 0.4058 - auroc: 0.684 - ETA: 5:33 - loss: 0.4045 - auroc: 0.688 - ETA: 5:32 - loss: 0.4038 - auroc: 0.687 - ETA: 5:30 - loss: 0.4055 - auroc: 0.687 - ETA: 5:29 - loss: 0.4036 - auroc: 0.688 - ETA: 5:28 - loss: 0.4047 - auroc: 0.689 - ETA: 5:26 - loss: 0.4061 - auroc: 0.688 - ETA: 5:24 - loss: 0.4051 - auroc: 0.688 - ETA: 5:23 - loss: 0.4047 - auroc: 0.690 - ETA: 5:21 - loss: 0.4022 - auroc: 0.690 - ETA: 5:19 - loss: 0.4033 - auroc: 0.691 - ETA: 5:16 - loss: 0.4042 - auroc: 0.689 - ETA: 5:14 - loss: 0.4055 - auroc: 0.690 - ETA: 5:12 - loss: 0.4066 - auroc: 0.690 - ETA: 5:10 - loss: 0.4066 - auroc: 0.690 - ETA: 5:08 - loss: 0.4061 - auroc: 0.691 - ETA: 5:05 - loss: 0.4043 - auroc: 0.692 - ETA: 5:03 - loss: 0.4036 - auroc: 0.693 - ETA: 5:01 - loss: 0.4022 - auroc: 0.691 - ETA: 4:59 - loss: 0.4027 - auroc: 0.688 - ETA: 4:57 - loss: 0.4019 - auroc: 0.687 - ETA: 4:54 - loss: 0.4022 - auroc: 0.688 - ETA: 4:53 - loss: 0.4025 - auroc: 0.688 - ETA: 4:50 - loss: 0.4022 - auroc: 0.689 - ETA: 4:48 - loss: 0.4012 - auroc: 0.689 - ETA: 4:47 - loss: 0.4019 - auroc: 0.687 - ETA: 4:45 - loss: 0.4021 - auroc: 0.685 - ETA: 4:43 - loss: 0.4019 - auroc: 0.684 - ETA: 4:41 - loss: 0.4019 - auroc: 0.683 - ETA: 4:38 - loss: 0.4013 - auroc: 0.682 - ETA: 4:36 - loss: 0.4023 - auroc: 0.681 - ETA: 4:34 - loss: 0.4029 - auroc: 0.682 - ETA: 4:31 - loss: 0.4042 - auroc: 0.681 - ETA: 4:29 - loss: 0.4041 - auroc: 0.681 - ETA: 4:27 - loss: 0.4033 - auroc: 0.682 - ETA: 4:24 - loss: 0.4030 - auroc: 0.682 - ETA: 4:21 - loss: 0.4026 - auroc: 0.683 - ETA: 4:19 - loss: 0.4023 - auroc: 0.683 - ETA: 4:16 - loss: 0.4020 - auroc: 0.685 - ETA: 4:14 - loss: 0.4024 - auroc: 0.684 - ETA: 4:11 - loss: 0.4033 - auroc: 0.684 - ETA: 4:08 - loss: 0.4036 - auroc: 0.684 - ETA: 4:06 - loss: 0.4038 - auroc: 0.684 - ETA: 4:03 - loss: 0.4038 - auroc: 0.684 - ETA: 4:00 - loss: 0.4044 - auroc: 0.685 - ETA: 3:57 - loss: 0.4039 - auroc: 0.685 - ETA: 3:55 - loss: 0.4036 - auroc: 0.685 - ETA: 3:52 - loss: 0.4028 - auroc: 0.686 - ETA: 3:50 - loss: 0.4026 - auroc: 0.687 - ETA: 3:47 - loss: 0.4028 - auroc: 0.686 - ETA: 3:45 - loss: 0.4029 - auroc: 0.686 - ETA: 3:42 - loss: 0.4032 - auroc: 0.687 - ETA: 3:40 - loss: 0.4031 - auroc: 0.687 - ETA: 3:37 - loss: 0.4033 - auroc: 0.686 - ETA: 3:35 - loss: 0.4040 - auroc: 0.686 - ETA: 3:32 - loss: 0.4036 - auroc: 0.686 - ETA: 3:30 - loss: 0.4036 - auroc: 0.686 - ETA: 3:27 - loss: 0.4035 - auroc: 0.687 - ETA: 3:25 - loss: 0.4036 - auroc: 0.686 - ETA: 3:22 - loss: 0.4040 - auroc: 0.687 - ETA: 3:20 - loss: 0.4041 - auroc: 0.686 - ETA: 3:18 - loss: 0.4038 - auroc: 0.686 - ETA: 3:15 - loss: 0.4039 - auroc: 0.685 - ETA: 3:13 - loss: 0.4046 - auroc: 0.685 - ETA: 3:11 - loss: 0.4044 - auroc: 0.685 - ETA: 3:08 - loss: 0.4038 - auroc: 0.685 - ETA: 3:06 - loss: 0.4039 - auroc: 0.685 - ETA: 3:03 - loss: 0.4034 - auroc: 0.684 - ETA: 3:01 - loss: 0.4034 - auroc: 0.684 - ETA: 2:59 - loss: 0.4037 - auroc: 0.683 - ETA: 2:56 - loss: 0.4038 - auroc: 0.684 - ETA: 2:54 - loss: 0.4035 - auroc: 0.684 - ETA: 2:52 - loss: 0.4035 - auroc: 0.684 - ETA: 2:49 - loss: 0.4032 - auroc: 0.684 - ETA: 2:47 - loss: 0.4030 - auroc: 0.684 - ETA: 2:44 - loss: 0.4028 - auroc: 0.684 - ETA: 2:42 - loss: 0.4025 - auroc: 0.684 - ETA: 2:39 - loss: 0.4024 - auroc: 0.685 - ETA: 2:37 - loss: 0.4022 - auroc: 0.685 - ETA: 2:34 - loss: 0.4024 - auroc: 0.685 - ETA: 2:31 - loss: 0.4023 - auroc: 0.686 - ETA: 2:29 - loss: 0.4022 - auroc: 0.686 - ETA: 2:26 - loss: 0.4024 - auroc: 0.685 - ETA: 2:23 - loss: 0.4024 - auroc: 0.685 - ETA: 2:21 - loss: 0.4024 - auroc: 0.684 - ETA: 2:18 - loss: 0.4021 - auroc: 0.684 - ETA: 2:16 - loss: 0.4018 - auroc: 0.685 - ETA: 2:13 - loss: 0.4020 - auroc: 0.685 - ETA: 2:10 - loss: 0.4021 - auroc: 0.684 - ETA: 2:08 - loss: 0.4021 - auroc: 0.685 - ETA: 2:05 - loss: 0.4017 - auroc: 0.685 - ETA: 2:03 - loss: 0.4017 - auroc: 0.685 - ETA: 2:00 - loss: 0.4017 - auroc: 0.685 - ETA: 1:58 - loss: 0.4020 - auroc: 0.685 - ETA: 1:55 - loss: 0.4015 - auroc: 0.686 - ETA: 1:53 - loss: 0.4017 - auroc: 0.685 - ETA: 1:50 - loss: 0.4020 - auroc: 0.685 - ETA: 1:48 - loss: 0.4023 - auroc: 0.685 - ETA: 1:45 - loss: 0.4022 - auroc: 0.685 - ETA: 1:43 - loss: 0.4021 - auroc: 0.685 - ETA: 1:40 - loss: 0.4022 - auroc: 0.685 - ETA: 1:38 - loss: 0.4024 - auroc: 0.685 - ETA: 1:35 - loss: 0.4022 - auroc: 0.685 - ETA: 1:33 - loss: 0.4022 - auroc: 0.686 - ETA: 1:30 - loss: 0.4024 - auroc: 0.686 - ETA: 1:27 - loss: 0.4023 - auroc: 0.686 - ETA: 1:25 - loss: 0.4018 - auroc: 0.686 - ETA: 1:22 - loss: 0.4020 - auroc: 0.686 - ETA: 1:20 - loss: 0.4017 - auroc: 0.687 - ETA: 1:17 - loss: 0.4018 - auroc: 0.686 - ETA: 1:15 - loss: 0.4015 - auroc: 0.687 - ETA: 1:12 - loss: 0.4015 - auroc: 0.687 - ETA: 1:09 - loss: 0.4014 - auroc: 0.687 - ETA: 1:07 - loss: 0.4017 - auroc: 0.687 - ETA: 1:04 - loss: 0.4012 - auroc: 0.687 - ETA: 1:01 - loss: 0.4010 - auroc: 0.687 - ETA: 59s - loss: 0.4011 - auroc: 0.687 - ETA: 56s - loss: 0.4009 - auroc: 0.68 - ETA: 54s - loss: 0.4007 - auroc: 0.68 - ETA: 51s - loss: 0.4008 - auroc: 0.68 - ETA: 48s - loss: 0.4008 - auroc: 0.68 - ETA: 46s - loss: 0.4006 - auroc: 0.68 - ETA: 43s - loss: 0.4006 - auroc: 0.68 - ETA: 40s - loss: 0.4007 - auroc: 0.68 - ETA: 38s - loss: 0.4007 - auroc: 0.68 - ETA: 35s - loss: 0.4007 - auroc: 0.68 - ETA: 32s - loss: 0.4008 - auroc: 0.68 - ETA: 30s - loss: 0.4009 - auroc: 0.68 - ETA: 27s - loss: 0.4010 - auroc: 0.68 - ETA: 24s - loss: 0.4009 - auroc: 0.68 - ETA: 22s - loss: 0.4008 - auroc: 0.68 - ETA: 19s - loss: 0.4013 - auroc: 0.68 - ETA: 16s - loss: 0.4010 - auroc: 0.68 - ETA: 14s - loss: 0.4010 - auroc: 0.68 - ETA: 11s - loss: 0.4013 - auroc: 0.68 - ETA: 8s - loss: 0.4017 - auroc: 0.6884 - ETA: 6s - loss: 0.4018 - auroc: 0.688 - ETA: 3s - loss: 0.4019 - auroc: 0.688 - ETA: 0s - loss: 0.4017 - auroc: 0.688 - 464s 6ms/step - loss: 0.4018 - auroc: 0.6880 - val_loss: 0.4081 - val_auroc: 0.6890\n",
      "\n",
      "Epoch 00013: val_loss improved from 0.40838 to 0.40811, saving model to model_3.h5\n",
      "Epoch 14/20\n",
      "76473/76473 [==============================] - ETA: 7:12 - loss: 0.4061 - auroc: 0.681 - ETA: 6:52 - loss: 0.4086 - auroc: 0.664 - ETA: 6:45 - loss: 0.4107 - auroc: 0.662 - ETA: 6:39 - loss: 0.4118 - auroc: 0.673 - ETA: 6:35 - loss: 0.4023 - auroc: 0.679 - ETA: 6:31 - loss: 0.4016 - auroc: 0.685 - ETA: 6:27 - loss: 0.4045 - auroc: 0.683 - ETA: 6:24 - loss: 0.4057 - auroc: 0.682 - ETA: 6:20 - loss: 0.4055 - auroc: 0.686 - ETA: 6:17 - loss: 0.4063 - auroc: 0.691 - ETA: 6:15 - loss: 0.4040 - auroc: 0.695 - ETA: 6:11 - loss: 0.4031 - auroc: 0.693 - ETA: 6:08 - loss: 0.4010 - auroc: 0.693 - ETA: 6:05 - loss: 0.4012 - auroc: 0.693 - ETA: 6:03 - loss: 0.4015 - auroc: 0.693 - ETA: 6:01 - loss: 0.4056 - auroc: 0.688 - ETA: 6:00 - loss: 0.4026 - auroc: 0.689 - ETA: 5:58 - loss: 0.4043 - auroc: 0.689 - ETA: 5:57 - loss: 0.4048 - auroc: 0.688 - ETA: 5:55 - loss: 0.4031 - auroc: 0.689 - ETA: 5:53 - loss: 0.4015 - auroc: 0.688 - ETA: 5:51 - loss: 0.4011 - auroc: 0.689 - ETA: 5:49 - loss: 0.4035 - auroc: 0.687 - ETA: 5:47 - loss: 0.4023 - auroc: 0.687 - ETA: 5:45 - loss: 0.4019 - auroc: 0.686 - ETA: 5:42 - loss: 0.4024 - auroc: 0.686 - ETA: 5:40 - loss: 0.4023 - auroc: 0.688 - ETA: 5:38 - loss: 0.4027 - auroc: 0.687 - ETA: 5:36 - loss: 0.4022 - auroc: 0.689 - ETA: 5:33 - loss: 0.4012 - auroc: 0.690 - ETA: 5:31 - loss: 0.4012 - auroc: 0.690 - ETA: 5:29 - loss: 0.4020 - auroc: 0.689 - ETA: 5:26 - loss: 0.4026 - auroc: 0.688 - ETA: 5:24 - loss: 0.4028 - auroc: 0.688 - ETA: 5:22 - loss: 0.4031 - auroc: 0.689 - ETA: 5:19 - loss: 0.4033 - auroc: 0.690 - ETA: 5:17 - loss: 0.4039 - auroc: 0.690 - ETA: 5:14 - loss: 0.4042 - auroc: 0.688 - ETA: 5:12 - loss: 0.4044 - auroc: 0.689 - ETA: 5:09 - loss: 0.4043 - auroc: 0.689 - ETA: 5:07 - loss: 0.4042 - auroc: 0.688 - ETA: 5:04 - loss: 0.4034 - auroc: 0.688 - ETA: 5:01 - loss: 0.4028 - auroc: 0.687 - ETA: 4:59 - loss: 0.4032 - auroc: 0.686 - ETA: 4:56 - loss: 0.4037 - auroc: 0.686 - ETA: 4:53 - loss: 0.4034 - auroc: 0.687 - ETA: 4:51 - loss: 0.4032 - auroc: 0.686 - ETA: 4:48 - loss: 0.4035 - auroc: 0.685 - ETA: 4:45 - loss: 0.4033 - auroc: 0.684 - ETA: 4:42 - loss: 0.4040 - auroc: 0.684 - ETA: 4:39 - loss: 0.4033 - auroc: 0.684 - ETA: 4:36 - loss: 0.4039 - auroc: 0.683 - ETA: 4:33 - loss: 0.4036 - auroc: 0.682 - ETA: 4:30 - loss: 0.4033 - auroc: 0.683 - ETA: 4:27 - loss: 0.4032 - auroc: 0.683 - ETA: 4:24 - loss: 0.4025 - auroc: 0.684 - ETA: 4:21 - loss: 0.4027 - auroc: 0.684 - ETA: 4:18 - loss: 0.4031 - auroc: 0.684 - ETA: 4:15 - loss: 0.4026 - auroc: 0.685 - ETA: 4:12 - loss: 0.4019 - auroc: 0.686 - ETA: 4:09 - loss: 0.4015 - auroc: 0.685 - ETA: 4:06 - loss: 0.4010 - auroc: 0.685 - ETA: 4:04 - loss: 0.4005 - auroc: 0.686 - ETA: 4:01 - loss: 0.4002 - auroc: 0.686 - ETA: 3:58 - loss: 0.3998 - auroc: 0.686 - ETA: 3:55 - loss: 0.4004 - auroc: 0.686 - ETA: 3:53 - loss: 0.4008 - auroc: 0.686 - ETA: 3:50 - loss: 0.4012 - auroc: 0.685 - ETA: 3:47 - loss: 0.4018 - auroc: 0.685 - ETA: 3:45 - loss: 0.4020 - auroc: 0.685 - ETA: 3:42 - loss: 0.4019 - auroc: 0.685 - ETA: 3:39 - loss: 0.4020 - auroc: 0.685 - ETA: 3:36 - loss: 0.4019 - auroc: 0.685 - ETA: 3:34 - loss: 0.4019 - auroc: 0.685 - ETA: 3:31 - loss: 0.4019 - auroc: 0.685 - ETA: 3:28 - loss: 0.4026 - auroc: 0.684 - ETA: 3:25 - loss: 0.4029 - auroc: 0.685 - ETA: 3:23 - loss: 0.4029 - auroc: 0.685 - ETA: 3:20 - loss: 0.4027 - auroc: 0.685 - ETA: 3:17 - loss: 0.4030 - auroc: 0.685 - ETA: 3:14 - loss: 0.4030 - auroc: 0.686 - ETA: 3:12 - loss: 0.4030 - auroc: 0.685 - ETA: 3:09 - loss: 0.4034 - auroc: 0.686 - ETA: 3:06 - loss: 0.4033 - auroc: 0.686 - ETA: 3:03 - loss: 0.4038 - auroc: 0.686 - ETA: 3:00 - loss: 0.4036 - auroc: 0.686 - ETA: 2:58 - loss: 0.4036 - auroc: 0.686 - ETA: 2:55 - loss: 0.4035 - auroc: 0.686 - ETA: 2:52 - loss: 0.4032 - auroc: 0.686 - ETA: 2:49 - loss: 0.4035 - auroc: 0.686 - ETA: 2:46 - loss: 0.4036 - auroc: 0.686 - ETA: 2:43 - loss: 0.4029 - auroc: 0.686 - ETA: 2:41 - loss: 0.4031 - auroc: 0.686 - ETA: 2:38 - loss: 0.4031 - auroc: 0.687 - ETA: 2:35 - loss: 0.4028 - auroc: 0.688 - ETA: 2:32 - loss: 0.4028 - auroc: 0.688 - ETA: 2:29 - loss: 0.4021 - auroc: 0.688 - ETA: 2:26 - loss: 0.4023 - auroc: 0.688 - ETA: 2:23 - loss: 0.4025 - auroc: 0.688 - ETA: 2:20 - loss: 0.4020 - auroc: 0.689 - ETA: 2:17 - loss: 0.4023 - auroc: 0.688 - ETA: 2:14 - loss: 0.4021 - auroc: 0.688 - ETA: 2:11 - loss: 0.4018 - auroc: 0.688 - ETA: 2:09 - loss: 0.4020 - auroc: 0.689 - ETA: 2:06 - loss: 0.4020 - auroc: 0.689 - ETA: 2:03 - loss: 0.4018 - auroc: 0.689 - ETA: 2:00 - loss: 0.4017 - auroc: 0.688 - ETA: 1:57 - loss: 0.4017 - auroc: 0.689 - ETA: 1:54 - loss: 0.4015 - auroc: 0.688 - ETA: 1:52 - loss: 0.4014 - auroc: 0.689 - ETA: 1:49 - loss: 0.4016 - auroc: 0.689 - ETA: 1:46 - loss: 0.4015 - auroc: 0.689 - ETA: 1:43 - loss: 0.4016 - auroc: 0.689 - ETA: 1:40 - loss: 0.4016 - auroc: 0.689 - ETA: 1:37 - loss: 0.4015 - auroc: 0.690 - ETA: 1:35 - loss: 0.4016 - auroc: 0.690 - ETA: 1:32 - loss: 0.4013 - auroc: 0.690 - ETA: 1:29 - loss: 0.4015 - auroc: 0.691 - ETA: 1:26 - loss: 0.4016 - auroc: 0.690 - ETA: 1:23 - loss: 0.4015 - auroc: 0.690 - ETA: 1:20 - loss: 0.4015 - auroc: 0.690 - ETA: 1:18 - loss: 0.4013 - auroc: 0.690 - ETA: 1:15 - loss: 0.4016 - auroc: 0.690 - ETA: 1:12 - loss: 0.4015 - auroc: 0.690 - ETA: 1:09 - loss: 0.4014 - auroc: 0.690 - ETA: 1:06 - loss: 0.4015 - auroc: 0.690 - ETA: 1:03 - loss: 0.4018 - auroc: 0.689 - ETA: 1:00 - loss: 0.4017 - auroc: 0.689 - ETA: 57s - loss: 0.4016 - auroc: 0.689 - ETA: 55s - loss: 0.4021 - auroc: 0.68 - ETA: 52s - loss: 0.4023 - auroc: 0.68 - ETA: 49s - loss: 0.4024 - auroc: 0.68 - ETA: 46s - loss: 0.4022 - auroc: 0.68 - ETA: 43s - loss: 0.4021 - auroc: 0.68 - ETA: 40s - loss: 0.4021 - auroc: 0.68 - ETA: 37s - loss: 0.4021 - auroc: 0.68 - ETA: 35s - loss: 0.4020 - auroc: 0.68 - ETA: 32s - loss: 0.4017 - auroc: 0.68 - ETA: 29s - loss: 0.4017 - auroc: 0.68 - ETA: 26s - loss: 0.4018 - auroc: 0.68 - ETA: 23s - loss: 0.4022 - auroc: 0.69 - ETA: 20s - loss: 0.4018 - auroc: 0.68 - ETA: 17s - loss: 0.4018 - auroc: 0.68 - ETA: 15s - loss: 0.4016 - auroc: 0.68 - ETA: 12s - loss: 0.4015 - auroc: 0.68 - ETA: 9s - loss: 0.4014 - auroc: 0.6899 - ETA: 6s - loss: 0.4013 - auroc: 0.690 - ETA: 3s - loss: 0.4013 - auroc: 0.690 - ETA: 1s - loss: 0.4013 - auroc: 0.689 - 477s 6ms/step - loss: 0.4013 - auroc: 0.6897 - val_loss: 0.4080 - val_auroc: 0.6891\n",
      "\n",
      "Epoch 00014: val_loss improved from 0.40811 to 0.40799, saving model to model_3.h5\n",
      "Epoch 15/20\n"
     ]
    },
    {
     "name": "stdout",
     "output_type": "stream",
     "text": [
      "76473/76473 [==============================] - ETA: 6:36 - loss: 0.3960 - auroc: 0.674 - ETA: 6:28 - loss: 0.4003 - auroc: 0.682 - ETA: 6:20 - loss: 0.4212 - auroc: 0.687 - ETA: 6:17 - loss: 0.4230 - auroc: 0.681 - ETA: 6:08 - loss: 0.4231 - auroc: 0.682 - ETA: 6:02 - loss: 0.4180 - auroc: 0.686 - ETA: 5:56 - loss: 0.4171 - auroc: 0.692 - ETA: 5:52 - loss: 0.4142 - auroc: 0.690 - ETA: 5:48 - loss: 0.4105 - auroc: 0.693 - ETA: 5:44 - loss: 0.4090 - auroc: 0.695 - ETA: 5:41 - loss: 0.4074 - auroc: 0.687 - ETA: 5:38 - loss: 0.4079 - auroc: 0.687 - ETA: 5:34 - loss: 0.4084 - auroc: 0.688 - ETA: 5:31 - loss: 0.4055 - auroc: 0.687 - ETA: 5:28 - loss: 0.4054 - auroc: 0.687 - ETA: 5:25 - loss: 0.4080 - auroc: 0.686 - ETA: 5:22 - loss: 0.4091 - auroc: 0.686 - ETA: 5:20 - loss: 0.4090 - auroc: 0.685 - ETA: 5:19 - loss: 0.4107 - auroc: 0.686 - ETA: 5:17 - loss: 0.4115 - auroc: 0.686 - ETA: 5:15 - loss: 0.4100 - auroc: 0.684 - ETA: 5:13 - loss: 0.4106 - auroc: 0.686 - ETA: 5:11 - loss: 0.4090 - auroc: 0.685 - ETA: 5:09 - loss: 0.4092 - auroc: 0.683 - ETA: 5:07 - loss: 0.4092 - auroc: 0.683 - ETA: 5:05 - loss: 0.4087 - auroc: 0.683 - ETA: 5:03 - loss: 0.4100 - auroc: 0.682 - ETA: 5:01 - loss: 0.4103 - auroc: 0.683 - ETA: 4:59 - loss: 0.4101 - auroc: 0.682 - ETA: 4:56 - loss: 0.4106 - auroc: 0.680 - ETA: 4:54 - loss: 0.4102 - auroc: 0.682 - ETA: 4:52 - loss: 0.4089 - auroc: 0.682 - ETA: 4:50 - loss: 0.4086 - auroc: 0.683 - ETA: 4:47 - loss: 0.4076 - auroc: 0.685 - ETA: 4:45 - loss: 0.4065 - auroc: 0.685 - ETA: 4:43 - loss: 0.4079 - auroc: 0.684 - ETA: 4:40 - loss: 0.4067 - auroc: 0.685 - ETA: 4:38 - loss: 0.4064 - auroc: 0.684 - ETA: 4:36 - loss: 0.4051 - auroc: 0.685 - ETA: 4:33 - loss: 0.4046 - auroc: 0.687 - ETA: 4:31 - loss: 0.4038 - auroc: 0.689 - ETA: 4:29 - loss: 0.4045 - auroc: 0.690 - ETA: 4:26 - loss: 0.4043 - auroc: 0.689 - ETA: 4:24 - loss: 0.4050 - auroc: 0.688 - ETA: 4:22 - loss: 0.4046 - auroc: 0.688 - ETA: 4:19 - loss: 0.4046 - auroc: 0.688 - ETA: 4:17 - loss: 0.4055 - auroc: 0.688 - ETA: 4:14 - loss: 0.4059 - auroc: 0.688 - ETA: 4:12 - loss: 0.4065 - auroc: 0.686 - ETA: 4:09 - loss: 0.4063 - auroc: 0.686 - ETA: 4:06 - loss: 0.4062 - auroc: 0.685 - ETA: 4:04 - loss: 0.4063 - auroc: 0.685 - ETA: 4:01 - loss: 0.4063 - auroc: 0.686 - ETA: 3:58 - loss: 0.4058 - auroc: 0.686 - ETA: 3:55 - loss: 0.4053 - auroc: 0.685 - ETA: 3:53 - loss: 0.4047 - auroc: 0.686 - ETA: 3:50 - loss: 0.4043 - auroc: 0.686 - ETA: 3:47 - loss: 0.4034 - auroc: 0.688 - ETA: 3:45 - loss: 0.4033 - auroc: 0.689 - ETA: 3:42 - loss: 0.4036 - auroc: 0.689 - ETA: 3:39 - loss: 0.4040 - auroc: 0.689 - ETA: 3:37 - loss: 0.4040 - auroc: 0.688 - ETA: 3:34 - loss: 0.4041 - auroc: 0.688 - ETA: 3:31 - loss: 0.4046 - auroc: 0.688 - ETA: 3:29 - loss: 0.4045 - auroc: 0.688 - ETA: 3:27 - loss: 0.4046 - auroc: 0.688 - ETA: 3:24 - loss: 0.4053 - auroc: 0.687 - ETA: 3:22 - loss: 0.4053 - auroc: 0.687 - ETA: 3:19 - loss: 0.4051 - auroc: 0.686 - ETA: 3:17 - loss: 0.4049 - auroc: 0.686 - ETA: 3:15 - loss: 0.4051 - auroc: 0.687 - ETA: 3:12 - loss: 0.4052 - auroc: 0.687 - ETA: 3:10 - loss: 0.4054 - auroc: 0.687 - ETA: 3:07 - loss: 0.4055 - auroc: 0.687 - ETA: 3:05 - loss: 0.4048 - auroc: 0.688 - ETA: 3:02 - loss: 0.4049 - auroc: 0.687 - ETA: 3:00 - loss: 0.4048 - auroc: 0.687 - ETA: 2:58 - loss: 0.4044 - auroc: 0.687 - ETA: 2:55 - loss: 0.4047 - auroc: 0.687 - ETA: 2:53 - loss: 0.4042 - auroc: 0.687 - ETA: 2:50 - loss: 0.4038 - auroc: 0.687 - ETA: 2:48 - loss: 0.4041 - auroc: 0.686 - ETA: 2:45 - loss: 0.4042 - auroc: 0.686 - ETA: 2:43 - loss: 0.4044 - auroc: 0.686 - ETA: 2:41 - loss: 0.4043 - auroc: 0.686 - ETA: 2:38 - loss: 0.4041 - auroc: 0.686 - ETA: 2:36 - loss: 0.4039 - auroc: 0.686 - ETA: 2:33 - loss: 0.4034 - auroc: 0.686 - ETA: 2:31 - loss: 0.4032 - auroc: 0.686 - ETA: 2:28 - loss: 0.4028 - auroc: 0.686 - ETA: 2:26 - loss: 0.4028 - auroc: 0.686 - ETA: 2:23 - loss: 0.4027 - auroc: 0.686 - ETA: 2:21 - loss: 0.4029 - auroc: 0.686 - ETA: 2:18 - loss: 0.4032 - auroc: 0.686 - ETA: 2:16 - loss: 0.4033 - auroc: 0.686 - ETA: 2:13 - loss: 0.4032 - auroc: 0.686 - ETA: 2:11 - loss: 0.4035 - auroc: 0.686 - ETA: 2:08 - loss: 0.4036 - auroc: 0.686 - ETA: 2:06 - loss: 0.4033 - auroc: 0.686 - ETA: 2:03 - loss: 0.4031 - auroc: 0.686 - ETA: 2:01 - loss: 0.4029 - auroc: 0.686 - ETA: 1:58 - loss: 0.4035 - auroc: 0.686 - ETA: 1:55 - loss: 0.4036 - auroc: 0.686 - ETA: 1:53 - loss: 0.4034 - auroc: 0.686 - ETA: 1:50 - loss: 0.4037 - auroc: 0.687 - ETA: 1:48 - loss: 0.4035 - auroc: 0.687 - ETA: 1:45 - loss: 0.4037 - auroc: 0.687 - ETA: 1:43 - loss: 0.4038 - auroc: 0.686 - ETA: 1:40 - loss: 0.4039 - auroc: 0.686 - ETA: 1:38 - loss: 0.4041 - auroc: 0.686 - ETA: 1:35 - loss: 0.4042 - auroc: 0.687 - ETA: 1:33 - loss: 0.4045 - auroc: 0.686 - ETA: 1:30 - loss: 0.4041 - auroc: 0.686 - ETA: 1:28 - loss: 0.4041 - auroc: 0.687 - ETA: 1:25 - loss: 0.4038 - auroc: 0.687 - ETA: 1:23 - loss: 0.4037 - auroc: 0.686 - ETA: 1:20 - loss: 0.4037 - auroc: 0.686 - ETA: 1:18 - loss: 0.4036 - auroc: 0.686 - ETA: 1:15 - loss: 0.4039 - auroc: 0.687 - ETA: 1:13 - loss: 0.4039 - auroc: 0.687 - ETA: 1:10 - loss: 0.4037 - auroc: 0.687 - ETA: 1:08 - loss: 0.4034 - auroc: 0.687 - ETA: 1:05 - loss: 0.4032 - auroc: 0.688 - ETA: 1:03 - loss: 0.4030 - auroc: 0.687 - ETA: 1:00 - loss: 0.4025 - auroc: 0.687 - ETA: 58s - loss: 0.4027 - auroc: 0.687 - ETA: 55s - loss: 0.4027 - auroc: 0.68 - ETA: 53s - loss: 0.4024 - auroc: 0.68 - ETA: 50s - loss: 0.4019 - auroc: 0.68 - ETA: 48s - loss: 0.4023 - auroc: 0.68 - ETA: 45s - loss: 0.4021 - auroc: 0.68 - ETA: 43s - loss: 0.4019 - auroc: 0.68 - ETA: 40s - loss: 0.4017 - auroc: 0.68 - ETA: 38s - loss: 0.4017 - auroc: 0.68 - ETA: 35s - loss: 0.4017 - auroc: 0.68 - ETA: 33s - loss: 0.4021 - auroc: 0.68 - ETA: 30s - loss: 0.4021 - auroc: 0.68 - ETA: 28s - loss: 0.4024 - auroc: 0.68 - ETA: 25s - loss: 0.4022 - auroc: 0.68 - ETA: 23s - loss: 0.4020 - auroc: 0.68 - ETA: 20s - loss: 0.4018 - auroc: 0.68 - ETA: 18s - loss: 0.4016 - auroc: 0.68 - ETA: 15s - loss: 0.4015 - auroc: 0.68 - ETA: 13s - loss: 0.4015 - auroc: 0.68 - ETA: 10s - loss: 0.4017 - auroc: 0.68 - ETA: 8s - loss: 0.4016 - auroc: 0.6885 - ETA: 5s - loss: 0.4014 - auroc: 0.688 - ETA: 3s - loss: 0.4016 - auroc: 0.688 - ETA: 0s - loss: 0.4017 - auroc: 0.688 - 432s 6ms/step - loss: 0.4016 - auroc: 0.6880 - val_loss: 0.4080 - val_auroc: 0.6893\n",
      "\n",
      "Epoch 00015: val_loss improved from 0.40799 to 0.40797, saving model to model_3.h5\n",
      "\n",
      "Epoch 00015: ReduceLROnPlateau reducing learning rate to 8.000000525498762e-06.\n",
      "Epoch 16/20\n",
      "76473/76473 [==============================] - ETA: 6:39 - loss: 0.4629 - auroc: 0.669 - ETA: 6:27 - loss: 0.4233 - auroc: 0.682 - ETA: 6:20 - loss: 0.4147 - auroc: 0.693 - ETA: 6:17 - loss: 0.4179 - auroc: 0.690 - ETA: 6:13 - loss: 0.4265 - auroc: 0.685 - ETA: 6:09 - loss: 0.4240 - auroc: 0.681 - ETA: 6:06 - loss: 0.4288 - auroc: 0.686 - ETA: 6:03 - loss: 0.4264 - auroc: 0.688 - ETA: 5:58 - loss: 0.4211 - auroc: 0.683 - ETA: 5:53 - loss: 0.4183 - auroc: 0.688 - ETA: 5:48 - loss: 0.4173 - auroc: 0.689 - ETA: 5:45 - loss: 0.4127 - auroc: 0.692 - ETA: 5:41 - loss: 0.4107 - auroc: 0.686 - ETA: 5:38 - loss: 0.4116 - auroc: 0.688 - ETA: 5:35 - loss: 0.4098 - auroc: 0.688 - ETA: 5:32 - loss: 0.4070 - auroc: 0.688 - ETA: 5:29 - loss: 0.4055 - auroc: 0.686 - ETA: 5:26 - loss: 0.4025 - auroc: 0.687 - ETA: 5:23 - loss: 0.4026 - auroc: 0.685 - ETA: 5:20 - loss: 0.4036 - auroc: 0.685 - ETA: 5:18 - loss: 0.4034 - auroc: 0.688 - ETA: 5:16 - loss: 0.4028 - auroc: 0.689 - ETA: 5:13 - loss: 0.4024 - auroc: 0.689 - ETA: 5:11 - loss: 0.4012 - auroc: 0.689 - ETA: 5:09 - loss: 0.3990 - auroc: 0.692 - ETA: 5:07 - loss: 0.4005 - auroc: 0.691 - ETA: 5:05 - loss: 0.4000 - auroc: 0.693 - ETA: 5:02 - loss: 0.4001 - auroc: 0.692 - ETA: 5:00 - loss: 0.4002 - auroc: 0.692 - ETA: 4:58 - loss: 0.4006 - auroc: 0.692 - ETA: 4:56 - loss: 0.4008 - auroc: 0.692 - ETA: 4:53 - loss: 0.4014 - auroc: 0.692 - ETA: 4:51 - loss: 0.4016 - auroc: 0.692 - ETA: 4:49 - loss: 0.4020 - auroc: 0.692 - ETA: 4:46 - loss: 0.4020 - auroc: 0.692 - ETA: 4:44 - loss: 0.4008 - auroc: 0.692 - ETA: 4:42 - loss: 0.3997 - auroc: 0.693 - ETA: 4:39 - loss: 0.4002 - auroc: 0.693 - ETA: 4:37 - loss: 0.3997 - auroc: 0.693 - ETA: 4:35 - loss: 0.3992 - auroc: 0.693 - ETA: 4:33 - loss: 0.3999 - auroc: 0.694 - ETA: 4:30 - loss: 0.3985 - auroc: 0.696 - ETA: 4:28 - loss: 0.3995 - auroc: 0.696 - ETA: 4:25 - loss: 0.3988 - auroc: 0.696 - ETA: 4:23 - loss: 0.3988 - auroc: 0.697 - ETA: 4:20 - loss: 0.3990 - auroc: 0.696 - ETA: 4:18 - loss: 0.3987 - auroc: 0.697 - ETA: 4:16 - loss: 0.3989 - auroc: 0.696 - ETA: 4:13 - loss: 0.3989 - auroc: 0.696 - ETA: 4:11 - loss: 0.3991 - auroc: 0.694 - ETA: 4:08 - loss: 0.3986 - auroc: 0.694 - ETA: 4:06 - loss: 0.3981 - auroc: 0.695 - ETA: 4:03 - loss: 0.3989 - auroc: 0.695 - ETA: 4:00 - loss: 0.3987 - auroc: 0.695 - ETA: 3:58 - loss: 0.3991 - auroc: 0.696 - ETA: 3:55 - loss: 0.3991 - auroc: 0.696 - ETA: 3:52 - loss: 0.3987 - auroc: 0.696 - ETA: 3:49 - loss: 0.3983 - auroc: 0.696 - ETA: 3:47 - loss: 0.3976 - auroc: 0.697 - ETA: 3:44 - loss: 0.3977 - auroc: 0.697 - ETA: 3:41 - loss: 0.3979 - auroc: 0.697 - ETA: 3:39 - loss: 0.3977 - auroc: 0.697 - ETA: 3:36 - loss: 0.3976 - auroc: 0.697 - ETA: 3:33 - loss: 0.3977 - auroc: 0.697 - ETA: 3:31 - loss: 0.3978 - auroc: 0.697 - ETA: 3:28 - loss: 0.3982 - auroc: 0.697 - ETA: 3:25 - loss: 0.3987 - auroc: 0.698 - ETA: 3:23 - loss: 0.3995 - auroc: 0.698 - ETA: 3:20 - loss: 0.3995 - auroc: 0.697 - ETA: 3:18 - loss: 0.3997 - auroc: 0.697 - ETA: 3:15 - loss: 0.3990 - auroc: 0.697 - ETA: 3:13 - loss: 0.3988 - auroc: 0.697 - ETA: 3:10 - loss: 0.3989 - auroc: 0.696 - ETA: 3:08 - loss: 0.3990 - auroc: 0.696 - ETA: 3:05 - loss: 0.3993 - auroc: 0.695 - ETA: 3:03 - loss: 0.3993 - auroc: 0.695 - ETA: 3:01 - loss: 0.3994 - auroc: 0.694 - ETA: 2:58 - loss: 0.3997 - auroc: 0.693 - ETA: 2:56 - loss: 0.3999 - auroc: 0.693 - ETA: 2:53 - loss: 0.3993 - auroc: 0.692 - ETA: 2:51 - loss: 0.3998 - auroc: 0.693 - ETA: 2:48 - loss: 0.3998 - auroc: 0.692 - ETA: 2:46 - loss: 0.4000 - auroc: 0.692 - ETA: 2:43 - loss: 0.4005 - auroc: 0.692 - ETA: 2:41 - loss: 0.4007 - auroc: 0.692 - ETA: 2:38 - loss: 0.4003 - auroc: 0.692 - ETA: 2:36 - loss: 0.4007 - auroc: 0.692 - ETA: 2:34 - loss: 0.4006 - auroc: 0.692 - ETA: 2:31 - loss: 0.4007 - auroc: 0.692 - ETA: 2:29 - loss: 0.4010 - auroc: 0.690 - ETA: 2:26 - loss: 0.4008 - auroc: 0.690 - ETA: 2:24 - loss: 0.4007 - auroc: 0.691 - ETA: 2:21 - loss: 0.4009 - auroc: 0.691 - ETA: 2:19 - loss: 0.4014 - auroc: 0.690 - ETA: 2:16 - loss: 0.4013 - auroc: 0.690 - ETA: 2:14 - loss: 0.4019 - auroc: 0.690 - ETA: 2:11 - loss: 0.4021 - auroc: 0.689 - ETA: 2:09 - loss: 0.4020 - auroc: 0.689 - ETA: 2:06 - loss: 0.4020 - auroc: 0.689 - ETA: 2:04 - loss: 0.4020 - auroc: 0.689 - ETA: 2:01 - loss: 0.4017 - auroc: 0.689 - ETA: 1:59 - loss: 0.4017 - auroc: 0.689 - ETA: 1:56 - loss: 0.4016 - auroc: 0.689 - ETA: 1:53 - loss: 0.4020 - auroc: 0.689 - ETA: 1:51 - loss: 0.4023 - auroc: 0.689 - ETA: 1:48 - loss: 0.4022 - auroc: 0.689 - ETA: 1:46 - loss: 0.4018 - auroc: 0.689 - ETA: 1:43 - loss: 0.4015 - auroc: 0.689 - ETA: 1:41 - loss: 0.4016 - auroc: 0.689 - ETA: 1:38 - loss: 0.4009 - auroc: 0.689 - ETA: 1:36 - loss: 0.4010 - auroc: 0.689 - ETA: 1:33 - loss: 0.4007 - auroc: 0.689 - ETA: 1:30 - loss: 0.4008 - auroc: 0.689 - ETA: 1:28 - loss: 0.4007 - auroc: 0.690 - ETA: 1:26 - loss: 0.4010 - auroc: 0.690 - ETA: 1:23 - loss: 0.4011 - auroc: 0.690 - ETA: 1:21 - loss: 0.4011 - auroc: 0.690 - ETA: 1:18 - loss: 0.4010 - auroc: 0.690 - ETA: 1:16 - loss: 0.4013 - auroc: 0.690 - ETA: 1:13 - loss: 0.4012 - auroc: 0.690 - ETA: 1:11 - loss: 0.4014 - auroc: 0.690 - ETA: 1:08 - loss: 0.4016 - auroc: 0.690 - ETA: 1:06 - loss: 0.4014 - auroc: 0.690 - ETA: 1:03 - loss: 0.4017 - auroc: 0.690 - ETA: 1:01 - loss: 0.4017 - auroc: 0.689 - ETA: 58s - loss: 0.4014 - auroc: 0.690 - ETA: 56s - loss: 0.4009 - auroc: 0.69 - ETA: 53s - loss: 0.4011 - auroc: 0.69 - ETA: 51s - loss: 0.4010 - auroc: 0.69 - ETA: 48s - loss: 0.4012 - auroc: 0.69 - ETA: 46s - loss: 0.4012 - auroc: 0.69 - ETA: 43s - loss: 0.4014 - auroc: 0.69 - ETA: 41s - loss: 0.4016 - auroc: 0.69 - ETA: 38s - loss: 0.4015 - auroc: 0.69 - ETA: 36s - loss: 0.4018 - auroc: 0.68 - ETA: 33s - loss: 0.4018 - auroc: 0.68 - ETA: 31s - loss: 0.4016 - auroc: 0.68 - ETA: 28s - loss: 0.4014 - auroc: 0.68 - ETA: 26s - loss: 0.4013 - auroc: 0.69 - ETA: 23s - loss: 0.4013 - auroc: 0.68 - ETA: 21s - loss: 0.4011 - auroc: 0.68 - ETA: 18s - loss: 0.4009 - auroc: 0.68 - ETA: 15s - loss: 0.4012 - auroc: 0.68 - ETA: 13s - loss: 0.4014 - auroc: 0.68 - ETA: 10s - loss: 0.4014 - auroc: 0.68 - ETA: 8s - loss: 0.4012 - auroc: 0.6899 - ETA: 5s - loss: 0.4010 - auroc: 0.689 - ETA: 3s - loss: 0.4007 - auroc: 0.689 - ETA: 0s - loss: 0.4009 - auroc: 0.689 - 433s 6ms/step - loss: 0.4009 - auroc: 0.6893 - val_loss: 0.4077 - val_auroc: 0.6891\n",
      "\n",
      "Epoch 00016: val_loss improved from 0.40797 to 0.40773, saving model to model_3.h5\n",
      "Epoch 17/20\n"
     ]
    },
    {
     "name": "stdout",
     "output_type": "stream",
     "text": [
      "76473/76473 [==============================] - ETA: 6:40 - loss: 0.3875 - auroc: 0.710 - ETA: 6:28 - loss: 0.3859 - auroc: 0.721 - ETA: 6:21 - loss: 0.3805 - auroc: 0.709 - ETA: 6:16 - loss: 0.3945 - auroc: 0.704 - ETA: 6:13 - loss: 0.3971 - auroc: 0.704 - ETA: 6:10 - loss: 0.3955 - auroc: 0.700 - ETA: 6:07 - loss: 0.3993 - auroc: 0.698 - ETA: 6:03 - loss: 0.3983 - auroc: 0.700 - ETA: 6:00 - loss: 0.4010 - auroc: 0.700 - ETA: 5:58 - loss: 0.4007 - auroc: 0.704 - ETA: 5:55 - loss: 0.3992 - auroc: 0.702 - ETA: 5:52 - loss: 0.4024 - auroc: 0.699 - ETA: 5:48 - loss: 0.3988 - auroc: 0.698 - ETA: 5:44 - loss: 0.3975 - auroc: 0.702 - ETA: 5:39 - loss: 0.4053 - auroc: 0.700 - ETA: 5:36 - loss: 0.4066 - auroc: 0.696 - ETA: 5:32 - loss: 0.4069 - auroc: 0.700 - ETA: 5:29 - loss: 0.4051 - auroc: 0.700 - ETA: 5:26 - loss: 0.4049 - auroc: 0.698 - ETA: 5:22 - loss: 0.4051 - auroc: 0.695 - ETA: 5:19 - loss: 0.4047 - auroc: 0.695 - ETA: 5:16 - loss: 0.4045 - auroc: 0.695 - ETA: 5:13 - loss: 0.4035 - auroc: 0.696 - ETA: 5:10 - loss: 0.4034 - auroc: 0.697 - ETA: 5:07 - loss: 0.4028 - auroc: 0.697 - ETA: 5:05 - loss: 0.4027 - auroc: 0.697 - ETA: 5:03 - loss: 0.4019 - auroc: 0.697 - ETA: 5:00 - loss: 0.4013 - auroc: 0.697 - ETA: 4:58 - loss: 0.4010 - auroc: 0.697 - ETA: 4:56 - loss: 0.4014 - auroc: 0.698 - ETA: 4:54 - loss: 0.4028 - auroc: 0.695 - ETA: 4:51 - loss: 0.4029 - auroc: 0.694 - ETA: 4:49 - loss: 0.4043 - auroc: 0.694 - ETA: 4:47 - loss: 0.4052 - auroc: 0.693 - ETA: 4:45 - loss: 0.4061 - auroc: 0.691 - ETA: 4:42 - loss: 0.4045 - auroc: 0.690 - ETA: 4:40 - loss: 0.4046 - auroc: 0.690 - ETA: 4:38 - loss: 0.4049 - auroc: 0.690 - ETA: 4:35 - loss: 0.4050 - auroc: 0.690 - ETA: 4:33 - loss: 0.4049 - auroc: 0.690 - ETA: 4:30 - loss: 0.4044 - auroc: 0.691 - ETA: 4:28 - loss: 0.4048 - auroc: 0.692 - ETA: 4:26 - loss: 0.4045 - auroc: 0.692 - ETA: 4:23 - loss: 0.4041 - auroc: 0.694 - ETA: 4:21 - loss: 0.4029 - auroc: 0.693 - ETA: 4:19 - loss: 0.4022 - auroc: 0.693 - ETA: 4:16 - loss: 0.4025 - auroc: 0.692 - ETA: 4:14 - loss: 0.4019 - auroc: 0.693 - ETA: 4:11 - loss: 0.4015 - auroc: 0.693 - ETA: 4:09 - loss: 0.4018 - auroc: 0.692 - ETA: 4:07 - loss: 0.4009 - auroc: 0.692 - ETA: 4:04 - loss: 0.4010 - auroc: 0.692 - ETA: 4:02 - loss: 0.4009 - auroc: 0.691 - ETA: 3:59 - loss: 0.4014 - auroc: 0.691 - ETA: 3:57 - loss: 0.4011 - auroc: 0.690 - ETA: 3:54 - loss: 0.4005 - auroc: 0.690 - ETA: 3:52 - loss: 0.4000 - auroc: 0.690 - ETA: 3:50 - loss: 0.4000 - auroc: 0.690 - ETA: 3:47 - loss: 0.3991 - auroc: 0.691 - ETA: 3:44 - loss: 0.3997 - auroc: 0.690 - ETA: 3:42 - loss: 0.3994 - auroc: 0.690 - ETA: 3:39 - loss: 0.3998 - auroc: 0.690 - ETA: 3:36 - loss: 0.4003 - auroc: 0.690 - ETA: 3:34 - loss: 0.4002 - auroc: 0.690 - ETA: 3:31 - loss: 0.4000 - auroc: 0.690 - ETA: 3:28 - loss: 0.3998 - auroc: 0.691 - ETA: 3:26 - loss: 0.3998 - auroc: 0.691 - ETA: 3:23 - loss: 0.4003 - auroc: 0.691 - ETA: 3:20 - loss: 0.3998 - auroc: 0.691 - ETA: 3:18 - loss: 0.4004 - auroc: 0.691 - ETA: 3:15 - loss: 0.4007 - auroc: 0.690 - ETA: 3:12 - loss: 0.4008 - auroc: 0.690 - ETA: 3:10 - loss: 0.4010 - auroc: 0.689 - ETA: 3:08 - loss: 0.4006 - auroc: 0.689 - ETA: 3:05 - loss: 0.4001 - auroc: 0.690 - ETA: 3:03 - loss: 0.4001 - auroc: 0.690 - ETA: 3:00 - loss: 0.4003 - auroc: 0.690 - ETA: 2:58 - loss: 0.4003 - auroc: 0.691 - ETA: 2:55 - loss: 0.4008 - auroc: 0.690 - ETA: 2:53 - loss: 0.4006 - auroc: 0.690 - ETA: 2:50 - loss: 0.4004 - auroc: 0.691 - ETA: 2:48 - loss: 0.4005 - auroc: 0.691 - ETA: 2:46 - loss: 0.4010 - auroc: 0.690 - ETA: 2:43 - loss: 0.4007 - auroc: 0.690 - ETA: 2:41 - loss: 0.4000 - auroc: 0.691 - ETA: 2:38 - loss: 0.3999 - auroc: 0.691 - ETA: 2:36 - loss: 0.4002 - auroc: 0.691 - ETA: 2:33 - loss: 0.4000 - auroc: 0.690 - ETA: 2:31 - loss: 0.3997 - auroc: 0.691 - ETA: 2:28 - loss: 0.4002 - auroc: 0.691 - ETA: 2:26 - loss: 0.4003 - auroc: 0.690 - ETA: 2:23 - loss: 0.4004 - auroc: 0.690 - ETA: 2:21 - loss: 0.4006 - auroc: 0.690 - ETA: 2:18 - loss: 0.4006 - auroc: 0.690 - ETA: 2:16 - loss: 0.4000 - auroc: 0.691 - ETA: 2:13 - loss: 0.3998 - auroc: 0.691 - ETA: 2:11 - loss: 0.3995 - auroc: 0.691 - ETA: 2:08 - loss: 0.3997 - auroc: 0.691 - ETA: 2:06 - loss: 0.3996 - auroc: 0.691 - ETA: 2:03 - loss: 0.3995 - auroc: 0.691 - ETA: 2:01 - loss: 0.3999 - auroc: 0.691 - ETA: 1:58 - loss: 0.3995 - auroc: 0.690 - ETA: 1:56 - loss: 0.3996 - auroc: 0.690 - ETA: 1:53 - loss: 0.3999 - auroc: 0.690 - ETA: 1:51 - loss: 0.4003 - auroc: 0.689 - ETA: 1:48 - loss: 0.4002 - auroc: 0.689 - ETA: 1:46 - loss: 0.4001 - auroc: 0.689 - ETA: 1:43 - loss: 0.4007 - auroc: 0.689 - ETA: 1:41 - loss: 0.4009 - auroc: 0.689 - ETA: 1:38 - loss: 0.4010 - auroc: 0.689 - ETA: 1:36 - loss: 0.4008 - auroc: 0.688 - ETA: 1:33 - loss: 0.4008 - auroc: 0.688 - ETA: 1:30 - loss: 0.4009 - auroc: 0.687 - ETA: 1:28 - loss: 0.4009 - auroc: 0.688 - ETA: 1:25 - loss: 0.4010 - auroc: 0.689 - ETA: 1:23 - loss: 0.4011 - auroc: 0.689 - ETA: 1:20 - loss: 0.4015 - auroc: 0.689 - ETA: 1:18 - loss: 0.4015 - auroc: 0.689 - ETA: 1:15 - loss: 0.4020 - auroc: 0.689 - ETA: 1:13 - loss: 0.4021 - auroc: 0.689 - ETA: 1:10 - loss: 0.4018 - auroc: 0.689 - ETA: 1:08 - loss: 0.4014 - auroc: 0.689 - ETA: 1:05 - loss: 0.4017 - auroc: 0.689 - ETA: 1:03 - loss: 0.4016 - auroc: 0.689 - ETA: 1:00 - loss: 0.4015 - auroc: 0.689 - ETA: 58s - loss: 0.4013 - auroc: 0.689 - ETA: 55s - loss: 0.4016 - auroc: 0.68 - ETA: 53s - loss: 0.4017 - auroc: 0.68 - ETA: 50s - loss: 0.4020 - auroc: 0.68 - ETA: 48s - loss: 0.4018 - auroc: 0.68 - ETA: 45s - loss: 0.4021 - auroc: 0.68 - ETA: 43s - loss: 0.4020 - auroc: 0.68 - ETA: 40s - loss: 0.4020 - auroc: 0.68 - ETA: 38s - loss: 0.4019 - auroc: 0.68 - ETA: 35s - loss: 0.4017 - auroc: 0.68 - ETA: 33s - loss: 0.4017 - auroc: 0.68 - ETA: 30s - loss: 0.4020 - auroc: 0.68 - ETA: 28s - loss: 0.4022 - auroc: 0.68 - ETA: 25s - loss: 0.4019 - auroc: 0.68 - ETA: 23s - loss: 0.4018 - auroc: 0.68 - ETA: 20s - loss: 0.4016 - auroc: 0.68 - ETA: 18s - loss: 0.4013 - auroc: 0.68 - ETA: 15s - loss: 0.4013 - auroc: 0.68 - ETA: 13s - loss: 0.4012 - auroc: 0.68 - ETA: 10s - loss: 0.4014 - auroc: 0.68 - ETA: 8s - loss: 0.4011 - auroc: 0.6891 - ETA: 5s - loss: 0.4009 - auroc: 0.689 - ETA: 3s - loss: 0.4011 - auroc: 0.689 - ETA: 0s - loss: 0.4011 - auroc: 0.688 - 434s 6ms/step - loss: 0.4009 - auroc: 0.6887 - val_loss: 0.4078 - val_auroc: 0.6889\n",
      "\n",
      "Epoch 00017: val_loss did not improve from 0.40773\n",
      "\n",
      "Epoch 00017: ReduceLROnPlateau reducing learning rate to 1.6000001778593287e-06.\n",
      "Epoch 18/20\n",
      "76473/76473 [==============================] - ETA: 6:37 - loss: 0.4186 - auroc: 0.713 - ETA: 6:25 - loss: 0.4351 - auroc: 0.696 - ETA: 6:19 - loss: 0.4314 - auroc: 0.692 - ETA: 6:15 - loss: 0.4284 - auroc: 0.686 - ETA: 6:12 - loss: 0.4320 - auroc: 0.682 - ETA: 6:09 - loss: 0.4209 - auroc: 0.695 - ETA: 6:06 - loss: 0.4207 - auroc: 0.684 - ETA: 6:03 - loss: 0.4161 - auroc: 0.685 - ETA: 6:00 - loss: 0.4100 - auroc: 0.692 - ETA: 5:58 - loss: 0.4101 - auroc: 0.687 - ETA: 5:55 - loss: 0.4051 - auroc: 0.693 - ETA: 5:52 - loss: 0.4050 - auroc: 0.692 - ETA: 5:49 - loss: 0.4023 - auroc: 0.693 - ETA: 5:47 - loss: 0.4046 - auroc: 0.691 - ETA: 5:44 - loss: 0.4021 - auroc: 0.694 - ETA: 5:41 - loss: 0.4014 - auroc: 0.695 - ETA: 5:37 - loss: 0.4037 - auroc: 0.698 - ETA: 5:34 - loss: 0.4046 - auroc: 0.700 - ETA: 5:30 - loss: 0.4058 - auroc: 0.700 - ETA: 5:27 - loss: 0.4063 - auroc: 0.701 - ETA: 5:23 - loss: 0.4062 - auroc: 0.700 - ETA: 5:20 - loss: 0.4060 - auroc: 0.700 - ETA: 5:17 - loss: 0.4048 - auroc: 0.700 - ETA: 5:14 - loss: 0.4036 - auroc: 0.700 - ETA: 5:11 - loss: 0.4013 - auroc: 0.700 - ETA: 5:08 - loss: 0.4006 - auroc: 0.699 - ETA: 5:04 - loss: 0.4008 - auroc: 0.700 - ETA: 5:02 - loss: 0.4012 - auroc: 0.700 - ETA: 4:59 - loss: 0.4021 - auroc: 0.699 - ETA: 4:57 - loss: 0.4031 - auroc: 0.696 - ETA: 4:54 - loss: 0.4011 - auroc: 0.698 - ETA: 4:52 - loss: 0.3995 - auroc: 0.697 - ETA: 4:50 - loss: 0.3994 - auroc: 0.696 - ETA: 4:47 - loss: 0.4009 - auroc: 0.694 - ETA: 4:46 - loss: 0.4007 - auroc: 0.695 - ETA: 4:43 - loss: 0.4018 - auroc: 0.695 - ETA: 4:41 - loss: 0.4019 - auroc: 0.693 - ETA: 4:39 - loss: 0.4022 - auroc: 0.693 - ETA: 4:36 - loss: 0.4028 - auroc: 0.690 - ETA: 4:34 - loss: 0.4029 - auroc: 0.689 - ETA: 4:32 - loss: 0.4027 - auroc: 0.690 - ETA: 4:29 - loss: 0.4022 - auroc: 0.691 - ETA: 4:27 - loss: 0.4017 - auroc: 0.691 - ETA: 4:24 - loss: 0.4017 - auroc: 0.690 - ETA: 4:22 - loss: 0.4011 - auroc: 0.692 - ETA: 4:19 - loss: 0.4014 - auroc: 0.692 - ETA: 4:17 - loss: 0.4017 - auroc: 0.692 - ETA: 4:15 - loss: 0.4012 - auroc: 0.692 - ETA: 4:12 - loss: 0.4010 - auroc: 0.692 - ETA: 4:10 - loss: 0.3997 - auroc: 0.691 - ETA: 4:07 - loss: 0.4006 - auroc: 0.692 - ETA: 4:05 - loss: 0.4006 - auroc: 0.691 - ETA: 4:02 - loss: 0.4000 - auroc: 0.690 - ETA: 4:00 - loss: 0.3997 - auroc: 0.691 - ETA: 3:58 - loss: 0.4002 - auroc: 0.690 - ETA: 3:55 - loss: 0.4009 - auroc: 0.690 - ETA: 3:53 - loss: 0.4016 - auroc: 0.690 - ETA: 3:50 - loss: 0.4011 - auroc: 0.690 - ETA: 3:48 - loss: 0.4013 - auroc: 0.691 - ETA: 3:45 - loss: 0.4019 - auroc: 0.690 - ETA: 3:43 - loss: 0.4018 - auroc: 0.691 - ETA: 3:40 - loss: 0.4019 - auroc: 0.691 - ETA: 3:38 - loss: 0.4019 - auroc: 0.690 - ETA: 3:35 - loss: 0.4019 - auroc: 0.690 - ETA: 3:32 - loss: 0.4017 - auroc: 0.690 - ETA: 3:30 - loss: 0.4017 - auroc: 0.689 - ETA: 3:27 - loss: 0.4026 - auroc: 0.689 - ETA: 3:24 - loss: 0.4019 - auroc: 0.690 - ETA: 3:21 - loss: 0.4018 - auroc: 0.690 - ETA: 3:19 - loss: 0.4016 - auroc: 0.690 - ETA: 3:16 - loss: 0.4019 - auroc: 0.690 - ETA: 3:14 - loss: 0.4027 - auroc: 0.690 - ETA: 3:11 - loss: 0.4030 - auroc: 0.689 - ETA: 3:08 - loss: 0.4030 - auroc: 0.689 - ETA: 3:06 - loss: 0.4024 - auroc: 0.690 - ETA: 3:03 - loss: 0.4019 - auroc: 0.690 - ETA: 3:01 - loss: 0.4025 - auroc: 0.689 - ETA: 2:58 - loss: 0.4021 - auroc: 0.690 - ETA: 2:56 - loss: 0.4017 - auroc: 0.691 - ETA: 2:53 - loss: 0.4012 - auroc: 0.691 - ETA: 2:51 - loss: 0.4011 - auroc: 0.691 - ETA: 2:48 - loss: 0.4012 - auroc: 0.691 - ETA: 2:46 - loss: 0.4012 - auroc: 0.691 - ETA: 2:43 - loss: 0.4009 - auroc: 0.690 - ETA: 2:41 - loss: 0.4006 - auroc: 0.691 - ETA: 2:38 - loss: 0.4008 - auroc: 0.691 - ETA: 2:36 - loss: 0.4007 - auroc: 0.692 - ETA: 2:33 - loss: 0.4005 - auroc: 0.692 - ETA: 2:31 - loss: 0.4003 - auroc: 0.692 - ETA: 2:28 - loss: 0.3999 - auroc: 0.692 - ETA: 2:26 - loss: 0.4000 - auroc: 0.692 - ETA: 2:23 - loss: 0.4004 - auroc: 0.692 - ETA: 2:21 - loss: 0.4006 - auroc: 0.692 - ETA: 2:18 - loss: 0.4003 - auroc: 0.692 - ETA: 2:16 - loss: 0.4002 - auroc: 0.692 - ETA: 2:14 - loss: 0.4002 - auroc: 0.691 - ETA: 2:11 - loss: 0.4000 - auroc: 0.692 - ETA: 2:09 - loss: 0.4000 - auroc: 0.692 - ETA: 2:06 - loss: 0.3999 - auroc: 0.691 - ETA: 2:04 - loss: 0.3998 - auroc: 0.690 - ETA: 2:01 - loss: 0.4000 - auroc: 0.690 - ETA: 1:59 - loss: 0.4000 - auroc: 0.690 - ETA: 1:56 - loss: 0.3996 - auroc: 0.690 - ETA: 1:54 - loss: 0.3993 - auroc: 0.690 - ETA: 1:51 - loss: 0.3988 - auroc: 0.690 - ETA: 1:49 - loss: 0.3986 - auroc: 0.690 - ETA: 1:46 - loss: 0.3986 - auroc: 0.690 - ETA: 1:44 - loss: 0.3991 - auroc: 0.690 - ETA: 1:41 - loss: 0.3992 - auroc: 0.690 - ETA: 1:38 - loss: 0.3996 - auroc: 0.690 - ETA: 1:36 - loss: 0.3999 - auroc: 0.689 - ETA: 1:33 - loss: 0.3999 - auroc: 0.689 - ETA: 1:31 - loss: 0.3998 - auroc: 0.689 - ETA: 1:28 - loss: 0.4003 - auroc: 0.689 - ETA: 1:26 - loss: 0.4006 - auroc: 0.689 - ETA: 1:23 - loss: 0.4007 - auroc: 0.689 - ETA: 1:21 - loss: 0.4006 - auroc: 0.689 - ETA: 1:18 - loss: 0.4006 - auroc: 0.689 - ETA: 1:16 - loss: 0.4004 - auroc: 0.688 - ETA: 1:13 - loss: 0.4003 - auroc: 0.689 - ETA: 1:10 - loss: 0.4002 - auroc: 0.688 - ETA: 1:08 - loss: 0.4002 - auroc: 0.689 - ETA: 1:05 - loss: 0.4002 - auroc: 0.689 - ETA: 1:03 - loss: 0.4003 - auroc: 0.689 - ETA: 1:01 - loss: 0.4003 - auroc: 0.689 - ETA: 58s - loss: 0.4006 - auroc: 0.689 - ETA: 56s - loss: 0.4010 - auroc: 0.68 - ETA: 53s - loss: 0.4008 - auroc: 0.68 - ETA: 51s - loss: 0.4008 - auroc: 0.68 - ETA: 48s - loss: 0.4007 - auroc: 0.68 - ETA: 46s - loss: 0.4005 - auroc: 0.68 - ETA: 43s - loss: 0.4008 - auroc: 0.68 - ETA: 41s - loss: 0.4012 - auroc: 0.68 - ETA: 38s - loss: 0.4012 - auroc: 0.68 - ETA: 36s - loss: 0.4014 - auroc: 0.68 - ETA: 33s - loss: 0.4013 - auroc: 0.68 - ETA: 31s - loss: 0.4015 - auroc: 0.68 - ETA: 28s - loss: 0.4013 - auroc: 0.68 - ETA: 26s - loss: 0.4011 - auroc: 0.68 - ETA: 23s - loss: 0.4012 - auroc: 0.68 - ETA: 20s - loss: 0.4011 - auroc: 0.68 - ETA: 18s - loss: 0.4010 - auroc: 0.68 - ETA: 15s - loss: 0.4012 - auroc: 0.68 - ETA: 13s - loss: 0.4013 - auroc: 0.68 - ETA: 10s - loss: 0.4015 - auroc: 0.68 - ETA: 8s - loss: 0.4012 - auroc: 0.6885 - ETA: 5s - loss: 0.4010 - auroc: 0.689 - ETA: 3s - loss: 0.4012 - auroc: 0.689 - ETA: 0s - loss: 0.4011 - auroc: 0.689 - 434s 6ms/step - loss: 0.4010 - auroc: 0.6887 - val_loss: 0.4078 - val_auroc: 0.6889\n",
      "\n",
      "Epoch 00018: val_loss did not improve from 0.40773\n",
      "Restoring model weights from the end of the best epoch\n",
      "\n",
      "Epoch 00018: ReduceLROnPlateau reducing learning rate to 3.200000264769187e-07.\n",
      "Epoch 00018: early stopping\n"
     ]
    }
   ],
   "source": [
    "history = final_model.fit(tr_data_final,y_en_tr,batch_size=512,verbose=1,\n",
    "                        epochs=20,validation_data=(cv_data_final,y_en_cv),callbacks=callbacks_1)"
   ]
  },
  {
   "cell_type": "code",
   "execution_count": null,
   "metadata": {},
   "outputs": [],
   "source": [
    "model.evaluate(test_data,y_en_test,verbose=1)"
   ]
  },
  {
   "cell_type": "code",
   "execution_count": 0,
   "metadata": {
    "colab": {
     "base_uri": "https://localhost:8080/",
     "height": 34
    },
    "colab_type": "code",
    "id": "gHIB0lS8sdzm",
    "outputId": "d713f3d1-e5de-4029-fabd-38d5b2abdb68"
   },
   "outputs": [
    {
     "name": "stdout",
     "output_type": "stream",
     "text": [
      "1.13.1\n"
     ]
    }
   ],
   "source": [
    "print(tf.__version__)"
   ]
  },
  {
   "cell_type": "code",
   "execution_count": 0,
   "metadata": {
    "colab": {
     "base_uri": "https://localhost:8080/",
     "height": 34
    },
    "colab_type": "code",
    "id": "wHCFrAKaxVC4",
    "outputId": "6a84bf9f-e1a5-45ae-a889-b0aef57a3e50"
   },
   "outputs": [
    {
     "name": "stdout",
     "output_type": "stream",
     "text": [
      "1.13.1\n"
     ]
    }
   ],
   "source": [
    "print(tf.__version__)"
   ]
  },
  {
   "cell_type": "code",
   "execution_count": 2,
   "metadata": {
    "colab": {},
    "colab_type": "code",
    "id": "kKIgz0fJuX1c"
   },
   "outputs": [
    {
     "name": "stdout",
     "output_type": "stream",
     "text": [
      "+--------------+--------+\n",
      "| Architecture | aucroc |\n",
      "+--------------+--------+\n",
      "|      1       | 0.6767 |\n",
      "|      2       | 0.7623 |\n",
      "|      3       | 0.6889 |\n",
      "+--------------+--------+\n"
     ]
    }
   ],
   "source": [
    "from prettytable import PrettyTable\n",
    "t = PrettyTable()\n",
    "t.field_names = [\"Architecture\", \"aucroc\" ]\n",
    "t.add_row([\"1\",0.6767])\n",
    "t.add_row([\"2\",0.7623])\n",
    "t.add_row([\"3\",0.6889])\n",
    "print(t)"
   ]
  },
  {
   "cell_type": "code",
   "execution_count": null,
   "metadata": {},
   "outputs": [],
   "source": []
  }
 ],
 "metadata": {
  "accelerator": "GPU",
  "colab": {
   "collapsed_sections": [],
   "name": "assignment_25_model_3.ipynb",
   "provenance": [],
   "toc_visible": true,
   "version": "0.3.2"
  },
  "kernelspec": {
   "display_name": "Python 3",
   "language": "python",
   "name": "python3"
  },
  "language_info": {
   "codemirror_mode": {
    "name": "ipython",
    "version": 3
   },
   "file_extension": ".py",
   "mimetype": "text/x-python",
   "name": "python",
   "nbconvert_exporter": "python",
   "pygments_lexer": "ipython3",
   "version": "3.6.5"
  }
 },
 "nbformat": 4,
 "nbformat_minor": 1
}
